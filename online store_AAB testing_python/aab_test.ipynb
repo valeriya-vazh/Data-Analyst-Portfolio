{
 "cells": [
  {
   "cell_type": "markdown",
   "metadata": {},
   "source": [
    "---"
   ]
  },
  {
   "cell_type": "markdown",
   "metadata": {},
   "source": [
    "# Integrated Project #2. A/A/B Testing\n",
    "\n",
    "Valeriya Vazhnova"
   ]
  },
  {
   "cell_type": "markdown",
   "metadata": {},
   "source": [
    "## Introduction\n",
    "\n",
    "This project has two main goals:\n",
    "- to explore customer behavior in an online food store;\n",
    "- to assess the results of A/A/B testing.\n",
    "\n",
    "First, we're going to create the event funnel, calculate share of customers that reach the purchase stage and establish sequence of their steps.\n",
    "\n",
    "And second, we are going to test our hypothesis that using new fonts in our app could influence customer behavior and increase sales. Since we have two control groups with the old fonts (246 and 247), we'll be able to make sure that splitting was done correctly and the testing is organized well. "
   ]
  },
  {
   "cell_type": "markdown",
   "metadata": {},
   "source": [
    "## <a id='cont'>Table of Contents</a>\n",
    "\n",
    "[*Importing Libraries*](#libraries)\n",
    "\n",
    "**Step 1.** [Importing the Data](#step1)\n",
    "\n",
    "**Step 2.** [Preparing the Data for Analysis](#step2)\n",
    "\n",
    "- [Renaming the Columns](#step2rename)\n",
    "- [Checking for the Right Data Types](#step2types)\n",
    "- [Adding a Separate Column for Dates](#step2date)\n",
    "- [Exploring the Data](#step2exploring)\n",
    "- [Checking for Duplicates](#step2duplicates)\n",
    "- [Users and Groups Check](#step2users)\n",
    "- [Checking User Activity](#step2activity)\n",
    "\n",
    "[*Conclusions to Step 2*](#step2concl)\n",
    "\n",
    "**Step 3.** [Thoroughly Studying the Data](#step3)\n",
    "- [How Many Events Are in the Logs?](#step3events)\n",
    "- [How Many Users Are in the Logs?](#step3users)\n",
    "- [What's the Average Number of Events per User?](#step3eventsperuser)\n",
    "- [What Period of Time Does the Data Cover?](#step3period)\n",
    "- [How Many Events and Users Were Lost After Excluding the Older Data?](#step3lost)\n",
    "\n",
    "[*Conclusions to Step 3*](#step3concl)\n",
    "\n",
    "**Step 4.** [Studying the Event Funnel](#step4)\n",
    "\n",
    "- [What Events Are in the Logs? What Is their Frequency of Occurrence?](#step4events)\n",
    "- [How Many Users Performed Each of These Actions?](#step4users)\n",
    "- [In What Order Did the Actions Take Place?](#step4order)\n",
    "- [What Is the Share of Users That Proceed from Each Stage to the Next?](#step4share)\n",
    "- [What Share of Users Made the Entire Journey from Their First Event to Payment?](#step4entirejourney)\n",
    "\n",
    "[*Conclusions to Step 4*](#step4concl)\n",
    "\n",
    "**Step 5.** [Studying the Results of the Experiment](#step5)\n",
    "\n",
    "- [How Many Users are There in Each Group?](#step5users)\n",
    "- [Is There a Statistically Significant Difference Between Samples 246 and 247?](#step5aa)\n",
    "- [Is There Statistically Significant Difference Between Control Groups and the Group with Altered Fonts?](#step5ab)\n",
    "- [What Should the Significance Level Be?](#step5alpha)\n",
    "\n",
    "[*Conclusions to Step 5*](#step5concl)\n",
    "\n",
    "[**General Conclusions**](#genconcl)"
   ]
  },
  {
   "cell_type": "markdown",
   "metadata": {},
   "source": [
    "### <a id='libraries'>Importing Libraries</a>\n",
    "\n",
    "These are the libraries we're going to use in our project. Among them are libraries for working with rectangular data (pandas), datetime type of data, performing mathematical calculations (math), applying statistics formulas (stats) and plotting graphs (plotly)."
   ]
  },
  {
   "cell_type": "code",
   "execution_count": 1,
   "metadata": {},
   "outputs": [],
   "source": [
    "# Working with data\n",
    "import pandas as pd\n",
    "import math as mth\n",
    "from datetime import datetime\n",
    "from scipy import stats as st\n",
    "import numpy as np\n",
    "\n",
    "# Plotting graphs\n",
    "\n",
    "import plotly.express as px\n",
    "import plotly.graph_objects as go\n",
    "\n",
    "# Dealing with warnings\n",
    "import sys\n",
    "import warnings\n",
    "if not sys.warnoptions:\n",
    "    warnings.simplefilter('ignore')"
   ]
  },
  {
   "cell_type": "markdown",
   "metadata": {},
   "source": [
    "## <a id='step1'>Step 1. Importing the Data</a>"
   ]
  },
  {
   "cell_type": "code",
   "execution_count": 2,
   "metadata": {},
   "outputs": [
    {
     "data": {
      "text/html": [
       "<div>\n",
       "<style scoped>\n",
       "    .dataframe tbody tr th:only-of-type {\n",
       "        vertical-align: middle;\n",
       "    }\n",
       "\n",
       "    .dataframe tbody tr th {\n",
       "        vertical-align: top;\n",
       "    }\n",
       "\n",
       "    .dataframe thead th {\n",
       "        text-align: right;\n",
       "    }\n",
       "</style>\n",
       "<table border=\"1\" class=\"dataframe\">\n",
       "  <thead>\n",
       "    <tr style=\"text-align: right;\">\n",
       "      <th></th>\n",
       "      <th>EventName</th>\n",
       "      <th>DeviceIDHash</th>\n",
       "      <th>EventTimestamp</th>\n",
       "      <th>ExpId</th>\n",
       "    </tr>\n",
       "  </thead>\n",
       "  <tbody>\n",
       "    <tr>\n",
       "      <th>0</th>\n",
       "      <td>MainScreenAppear</td>\n",
       "      <td>4575588528974610257</td>\n",
       "      <td>1564029816</td>\n",
       "      <td>246</td>\n",
       "    </tr>\n",
       "    <tr>\n",
       "      <th>1</th>\n",
       "      <td>MainScreenAppear</td>\n",
       "      <td>7416695313311560658</td>\n",
       "      <td>1564053102</td>\n",
       "      <td>246</td>\n",
       "    </tr>\n",
       "    <tr>\n",
       "      <th>2</th>\n",
       "      <td>PaymentScreenSuccessful</td>\n",
       "      <td>3518123091307005509</td>\n",
       "      <td>1564054127</td>\n",
       "      <td>248</td>\n",
       "    </tr>\n",
       "    <tr>\n",
       "      <th>3</th>\n",
       "      <td>CartScreenAppear</td>\n",
       "      <td>3518123091307005509</td>\n",
       "      <td>1564054127</td>\n",
       "      <td>248</td>\n",
       "    </tr>\n",
       "    <tr>\n",
       "      <th>4</th>\n",
       "      <td>PaymentScreenSuccessful</td>\n",
       "      <td>6217807653094995999</td>\n",
       "      <td>1564055322</td>\n",
       "      <td>248</td>\n",
       "    </tr>\n",
       "  </tbody>\n",
       "</table>\n",
       "</div>"
      ],
      "text/plain": [
       "                 EventName         DeviceIDHash  EventTimestamp  ExpId\n",
       "0         MainScreenAppear  4575588528974610257      1564029816    246\n",
       "1         MainScreenAppear  7416695313311560658      1564053102    246\n",
       "2  PaymentScreenSuccessful  3518123091307005509      1564054127    248\n",
       "3         CartScreenAppear  3518123091307005509      1564054127    248\n",
       "4  PaymentScreenSuccessful  6217807653094995999      1564055322    248"
      ]
     },
     "execution_count": 2,
     "metadata": {},
     "output_type": "execute_result"
    }
   ],
   "source": [
    "try:\n",
    "    df = pd.read_csv('/Users/lera/Documents/Personal/_Yandex practicum/4_studies/sprint10_integrated project 2/logs_exp_us.csv',\n",
    "                  sep='\\t')\n",
    "except:\n",
    "    df = pd.read_csv('/datasets/logs_exp_us.csv',\n",
    "                  sep='\\t')\n",
    "df.head()"
   ]
  },
  {
   "cell_type": "code",
   "execution_count": 3,
   "metadata": {},
   "outputs": [
    {
     "name": "stdout",
     "output_type": "stream",
     "text": [
      "<class 'pandas.core.frame.DataFrame'>\n",
      "RangeIndex: 244126 entries, 0 to 244125\n",
      "Data columns (total 4 columns):\n",
      " #   Column          Non-Null Count   Dtype \n",
      "---  ------          --------------   ----- \n",
      " 0   EventName       244126 non-null  object\n",
      " 1   DeviceIDHash    244126 non-null  int64 \n",
      " 2   EventTimestamp  244126 non-null  int64 \n",
      " 3   ExpId           244126 non-null  int64 \n",
      "dtypes: int64(3), object(1)\n",
      "memory usage: 7.5+ MB\n"
     ]
    }
   ],
   "source": [
    "df.info()"
   ]
  },
  {
   "cell_type": "markdown",
   "metadata": {},
   "source": [
    "We've imported the data and assessed it visually. During the next step we'll do the data preprocessing and exploratoty data analysis.\n",
    "\n",
    "[Back to Contents](#cont)"
   ]
  },
  {
   "cell_type": "markdown",
   "metadata": {},
   "source": [
    "## <a id='step2'>Step 2. Preparing the Data for Analysis</a>"
   ]
  },
  {
   "cell_type": "markdown",
   "metadata": {},
   "source": [
    "### <a id='step2rename'>Renaming the Columns</a>\n",
    "\n",
    "First, we are going to rename the columns. This action is not really necessary, but makes working with data more convenient. Also, new names are shorter and better reflect the content of the columns."
   ]
  },
  {
   "cell_type": "code",
   "execution_count": 4,
   "metadata": {},
   "outputs": [
    {
     "data": {
      "text/html": [
       "<div>\n",
       "<style scoped>\n",
       "    .dataframe tbody tr th:only-of-type {\n",
       "        vertical-align: middle;\n",
       "    }\n",
       "\n",
       "    .dataframe tbody tr th {\n",
       "        vertical-align: top;\n",
       "    }\n",
       "\n",
       "    .dataframe thead th {\n",
       "        text-align: right;\n",
       "    }\n",
       "</style>\n",
       "<table border=\"1\" class=\"dataframe\">\n",
       "  <thead>\n",
       "    <tr style=\"text-align: right;\">\n",
       "      <th></th>\n",
       "      <th>event_name</th>\n",
       "      <th>user_id</th>\n",
       "      <th>event_ts</th>\n",
       "      <th>group</th>\n",
       "    </tr>\n",
       "  </thead>\n",
       "  <tbody>\n",
       "    <tr>\n",
       "      <th>0</th>\n",
       "      <td>MainScreenAppear</td>\n",
       "      <td>4575588528974610257</td>\n",
       "      <td>1564029816</td>\n",
       "      <td>246</td>\n",
       "    </tr>\n",
       "    <tr>\n",
       "      <th>1</th>\n",
       "      <td>MainScreenAppear</td>\n",
       "      <td>7416695313311560658</td>\n",
       "      <td>1564053102</td>\n",
       "      <td>246</td>\n",
       "    </tr>\n",
       "    <tr>\n",
       "      <th>2</th>\n",
       "      <td>PaymentScreenSuccessful</td>\n",
       "      <td>3518123091307005509</td>\n",
       "      <td>1564054127</td>\n",
       "      <td>248</td>\n",
       "    </tr>\n",
       "    <tr>\n",
       "      <th>3</th>\n",
       "      <td>CartScreenAppear</td>\n",
       "      <td>3518123091307005509</td>\n",
       "      <td>1564054127</td>\n",
       "      <td>248</td>\n",
       "    </tr>\n",
       "    <tr>\n",
       "      <th>4</th>\n",
       "      <td>PaymentScreenSuccessful</td>\n",
       "      <td>6217807653094995999</td>\n",
       "      <td>1564055322</td>\n",
       "      <td>248</td>\n",
       "    </tr>\n",
       "  </tbody>\n",
       "</table>\n",
       "</div>"
      ],
      "text/plain": [
       "                event_name              user_id    event_ts  group\n",
       "0         MainScreenAppear  4575588528974610257  1564029816    246\n",
       "1         MainScreenAppear  7416695313311560658  1564053102    246\n",
       "2  PaymentScreenSuccessful  3518123091307005509  1564054127    248\n",
       "3         CartScreenAppear  3518123091307005509  1564054127    248\n",
       "4  PaymentScreenSuccessful  6217807653094995999  1564055322    248"
      ]
     },
     "execution_count": 4,
     "metadata": {},
     "output_type": "execute_result"
    }
   ],
   "source": [
    "df.columns = ['event_name', 'user_id', 'event_ts', 'group']\n",
    "df.head()"
   ]
  },
  {
   "cell_type": "markdown",
   "metadata": {},
   "source": [
    "[Back to Contents](#cont)"
   ]
  },
  {
   "cell_type": "markdown",
   "metadata": {},
   "source": [
    "### <a id='step2types'>Checking for the Right Data Types</a>"
   ]
  },
  {
   "cell_type": "code",
   "execution_count": 5,
   "metadata": {},
   "outputs": [
    {
     "name": "stdout",
     "output_type": "stream",
     "text": [
      "<class 'pandas.core.frame.DataFrame'>\n",
      "RangeIndex: 244126 entries, 0 to 244125\n",
      "Data columns (total 4 columns):\n",
      " #   Column      Non-Null Count   Dtype \n",
      "---  ------      --------------   ----- \n",
      " 0   event_name  244126 non-null  object\n",
      " 1   user_id     244126 non-null  int64 \n",
      " 2   event_ts    244126 non-null  int64 \n",
      " 3   group       244126 non-null  int64 \n",
      "dtypes: int64(3), object(1)\n",
      "memory usage: 7.5+ MB\n"
     ]
    }
   ],
   "source": [
    "df.info()"
   ]
  },
  {
   "cell_type": "markdown",
   "metadata": {},
   "source": [
    "Technically speaking, event_name is a category, but we can leave it as an object too. What we really need to change is the column event_ts which gives us a timestamp (in seconds) as integer, but in order for us to be able to use it, we need to see the date and time in a readable format."
   ]
  },
  {
   "cell_type": "code",
   "execution_count": 6,
   "metadata": {},
   "outputs": [
    {
     "data": {
      "text/html": [
       "<div>\n",
       "<style scoped>\n",
       "    .dataframe tbody tr th:only-of-type {\n",
       "        vertical-align: middle;\n",
       "    }\n",
       "\n",
       "    .dataframe tbody tr th {\n",
       "        vertical-align: top;\n",
       "    }\n",
       "\n",
       "    .dataframe thead th {\n",
       "        text-align: right;\n",
       "    }\n",
       "</style>\n",
       "<table border=\"1\" class=\"dataframe\">\n",
       "  <thead>\n",
       "    <tr style=\"text-align: right;\">\n",
       "      <th></th>\n",
       "      <th>event_name</th>\n",
       "      <th>user_id</th>\n",
       "      <th>event_ts</th>\n",
       "      <th>group</th>\n",
       "    </tr>\n",
       "  </thead>\n",
       "  <tbody>\n",
       "    <tr>\n",
       "      <th>0</th>\n",
       "      <td>MainScreenAppear</td>\n",
       "      <td>4575588528974610257</td>\n",
       "      <td>2019-07-25 04:43:36</td>\n",
       "      <td>246</td>\n",
       "    </tr>\n",
       "    <tr>\n",
       "      <th>1</th>\n",
       "      <td>MainScreenAppear</td>\n",
       "      <td>7416695313311560658</td>\n",
       "      <td>2019-07-25 11:11:42</td>\n",
       "      <td>246</td>\n",
       "    </tr>\n",
       "    <tr>\n",
       "      <th>2</th>\n",
       "      <td>PaymentScreenSuccessful</td>\n",
       "      <td>3518123091307005509</td>\n",
       "      <td>2019-07-25 11:28:47</td>\n",
       "      <td>248</td>\n",
       "    </tr>\n",
       "    <tr>\n",
       "      <th>3</th>\n",
       "      <td>CartScreenAppear</td>\n",
       "      <td>3518123091307005509</td>\n",
       "      <td>2019-07-25 11:28:47</td>\n",
       "      <td>248</td>\n",
       "    </tr>\n",
       "    <tr>\n",
       "      <th>4</th>\n",
       "      <td>PaymentScreenSuccessful</td>\n",
       "      <td>6217807653094995999</td>\n",
       "      <td>2019-07-25 11:48:42</td>\n",
       "      <td>248</td>\n",
       "    </tr>\n",
       "  </tbody>\n",
       "</table>\n",
       "</div>"
      ],
      "text/plain": [
       "                event_name              user_id            event_ts  group\n",
       "0         MainScreenAppear  4575588528974610257 2019-07-25 04:43:36    246\n",
       "1         MainScreenAppear  7416695313311560658 2019-07-25 11:11:42    246\n",
       "2  PaymentScreenSuccessful  3518123091307005509 2019-07-25 11:28:47    248\n",
       "3         CartScreenAppear  3518123091307005509 2019-07-25 11:28:47    248\n",
       "4  PaymentScreenSuccessful  6217807653094995999 2019-07-25 11:48:42    248"
      ]
     },
     "execution_count": 6,
     "metadata": {},
     "output_type": "execute_result"
    }
   ],
   "source": [
    "df.event_ts = pd.to_datetime(df.event_ts, unit='s')\n",
    "df.head()"
   ]
  },
  {
   "cell_type": "markdown",
   "metadata": {},
   "source": [
    "[Back to Contents](#cont)"
   ]
  },
  {
   "cell_type": "markdown",
   "metadata": {},
   "source": [
    "### <a id='step2date'>Adding a Separate Column for Dates</a>\n",
    "\n",
    "We are also going to add a separate column for dates only."
   ]
  },
  {
   "cell_type": "code",
   "execution_count": 7,
   "metadata": {},
   "outputs": [
    {
     "data": {
      "text/html": [
       "<div>\n",
       "<style scoped>\n",
       "    .dataframe tbody tr th:only-of-type {\n",
       "        vertical-align: middle;\n",
       "    }\n",
       "\n",
       "    .dataframe tbody tr th {\n",
       "        vertical-align: top;\n",
       "    }\n",
       "\n",
       "    .dataframe thead th {\n",
       "        text-align: right;\n",
       "    }\n",
       "</style>\n",
       "<table border=\"1\" class=\"dataframe\">\n",
       "  <thead>\n",
       "    <tr style=\"text-align: right;\">\n",
       "      <th></th>\n",
       "      <th>event_name</th>\n",
       "      <th>user_id</th>\n",
       "      <th>event_ts</th>\n",
       "      <th>group</th>\n",
       "      <th>date</th>\n",
       "    </tr>\n",
       "  </thead>\n",
       "  <tbody>\n",
       "    <tr>\n",
       "      <th>0</th>\n",
       "      <td>MainScreenAppear</td>\n",
       "      <td>4575588528974610257</td>\n",
       "      <td>2019-07-25 04:43:36</td>\n",
       "      <td>246</td>\n",
       "      <td>2019-07-25</td>\n",
       "    </tr>\n",
       "    <tr>\n",
       "      <th>1</th>\n",
       "      <td>MainScreenAppear</td>\n",
       "      <td>7416695313311560658</td>\n",
       "      <td>2019-07-25 11:11:42</td>\n",
       "      <td>246</td>\n",
       "      <td>2019-07-25</td>\n",
       "    </tr>\n",
       "    <tr>\n",
       "      <th>2</th>\n",
       "      <td>PaymentScreenSuccessful</td>\n",
       "      <td>3518123091307005509</td>\n",
       "      <td>2019-07-25 11:28:47</td>\n",
       "      <td>248</td>\n",
       "      <td>2019-07-25</td>\n",
       "    </tr>\n",
       "    <tr>\n",
       "      <th>3</th>\n",
       "      <td>CartScreenAppear</td>\n",
       "      <td>3518123091307005509</td>\n",
       "      <td>2019-07-25 11:28:47</td>\n",
       "      <td>248</td>\n",
       "      <td>2019-07-25</td>\n",
       "    </tr>\n",
       "    <tr>\n",
       "      <th>4</th>\n",
       "      <td>PaymentScreenSuccessful</td>\n",
       "      <td>6217807653094995999</td>\n",
       "      <td>2019-07-25 11:48:42</td>\n",
       "      <td>248</td>\n",
       "      <td>2019-07-25</td>\n",
       "    </tr>\n",
       "  </tbody>\n",
       "</table>\n",
       "</div>"
      ],
      "text/plain": [
       "                event_name              user_id            event_ts  group  \\\n",
       "0         MainScreenAppear  4575588528974610257 2019-07-25 04:43:36    246   \n",
       "1         MainScreenAppear  7416695313311560658 2019-07-25 11:11:42    246   \n",
       "2  PaymentScreenSuccessful  3518123091307005509 2019-07-25 11:28:47    248   \n",
       "3         CartScreenAppear  3518123091307005509 2019-07-25 11:28:47    248   \n",
       "4  PaymentScreenSuccessful  6217807653094995999 2019-07-25 11:48:42    248   \n",
       "\n",
       "        date  \n",
       "0 2019-07-25  \n",
       "1 2019-07-25  \n",
       "2 2019-07-25  \n",
       "3 2019-07-25  \n",
       "4 2019-07-25  "
      ]
     },
     "execution_count": 7,
     "metadata": {},
     "output_type": "execute_result"
    }
   ],
   "source": [
    "df['date'] = df['event_ts'].dt.date\n",
    "df.date = pd.to_datetime(df.date)\n",
    "df.head()"
   ]
  },
  {
   "cell_type": "markdown",
   "metadata": {},
   "source": [
    "[Back to Contents](#cont)"
   ]
  },
  {
   "cell_type": "markdown",
   "metadata": {},
   "source": [
    "### <a id='step2exploring'>Exploring the Data</a>\n",
    "\n",
    "Now we'll take a quick look at the contents of all the columns in order to get a general impression of the data and to spot any anomalies."
   ]
  },
  {
   "cell_type": "code",
   "execution_count": 8,
   "metadata": {},
   "outputs": [
    {
     "data": {
      "text/plain": [
       "MainScreenAppear           119205\n",
       "OffersScreenAppear          46825\n",
       "CartScreenAppear            42731\n",
       "PaymentScreenSuccessful     34313\n",
       "Tutorial                     1052\n",
       "Name: event_name, dtype: int64"
      ]
     },
     "execution_count": 8,
     "metadata": {},
     "output_type": "execute_result"
    }
   ],
   "source": [
    "# Values in event_name\n",
    "\n",
    "df.event_name.value_counts()"
   ]
  },
  {
   "cell_type": "code",
   "execution_count": 9,
   "metadata": {},
   "outputs": [
    {
     "name": "stdout",
     "output_type": "stream",
     "text": [
      "Number of entries: 244126\n"
     ]
    }
   ],
   "source": [
    "print('Number of entries: {}'.format(len(df)))"
   ]
  },
  {
   "cell_type": "code",
   "execution_count": 10,
   "metadata": {},
   "outputs": [
    {
     "name": "stdout",
     "output_type": "stream",
     "text": [
      "Number of unique users: 7551\n"
     ]
    }
   ],
   "source": [
    "print('Number of unique users: {}'.format(df.user_id.nunique()))"
   ]
  },
  {
   "cell_type": "code",
   "execution_count": 11,
   "metadata": {},
   "outputs": [
    {
     "data": {
      "text/plain": [
       "248    85747\n",
       "246    80304\n",
       "247    78075\n",
       "Name: group, dtype: int64"
      ]
     },
     "execution_count": 11,
     "metadata": {},
     "output_type": "execute_result"
    }
   ],
   "source": [
    "# Values in group column\n",
    "\n",
    "df.group.value_counts()"
   ]
  },
  {
   "cell_type": "code",
   "execution_count": 12,
   "metadata": {},
   "outputs": [
    {
     "data": {
      "text/plain": [
       "event_name    0\n",
       "user_id       0\n",
       "event_ts      0\n",
       "group         0\n",
       "date          0\n",
       "dtype: int64"
      ]
     },
     "execution_count": 12,
     "metadata": {},
     "output_type": "execute_result"
    }
   ],
   "source": [
    "# Checking for missing values\n",
    "\n",
    "df.isnull().sum()"
   ]
  },
  {
   "cell_type": "code",
   "execution_count": 13,
   "metadata": {},
   "outputs": [
    {
     "data": {
      "text/html": [
       "<div>\n",
       "<style scoped>\n",
       "    .dataframe tbody tr th:only-of-type {\n",
       "        vertical-align: middle;\n",
       "    }\n",
       "\n",
       "    .dataframe tbody tr th {\n",
       "        vertical-align: top;\n",
       "    }\n",
       "\n",
       "    .dataframe thead th {\n",
       "        text-align: right;\n",
       "    }\n",
       "</style>\n",
       "<table border=\"1\" class=\"dataframe\">\n",
       "  <thead>\n",
       "    <tr style=\"text-align: right;\">\n",
       "      <th></th>\n",
       "      <th>event_name</th>\n",
       "      <th>user_id</th>\n",
       "      <th>event_ts</th>\n",
       "      <th>group</th>\n",
       "      <th>date</th>\n",
       "    </tr>\n",
       "  </thead>\n",
       "  <tbody>\n",
       "    <tr>\n",
       "      <th>count</th>\n",
       "      <td>244126</td>\n",
       "      <td>2.441260e+05</td>\n",
       "      <td>244126</td>\n",
       "      <td>244126.000000</td>\n",
       "      <td>244126</td>\n",
       "    </tr>\n",
       "    <tr>\n",
       "      <th>unique</th>\n",
       "      <td>5</td>\n",
       "      <td>NaN</td>\n",
       "      <td>176654</td>\n",
       "      <td>NaN</td>\n",
       "      <td>14</td>\n",
       "    </tr>\n",
       "    <tr>\n",
       "      <th>top</th>\n",
       "      <td>MainScreenAppear</td>\n",
       "      <td>NaN</td>\n",
       "      <td>2019-08-04 16:23:19</td>\n",
       "      <td>NaN</td>\n",
       "      <td>2019-08-01 00:00:00</td>\n",
       "    </tr>\n",
       "    <tr>\n",
       "      <th>freq</th>\n",
       "      <td>119205</td>\n",
       "      <td>NaN</td>\n",
       "      <td>9</td>\n",
       "      <td>NaN</td>\n",
       "      <td>36229</td>\n",
       "    </tr>\n",
       "    <tr>\n",
       "      <th>first</th>\n",
       "      <td>NaN</td>\n",
       "      <td>NaN</td>\n",
       "      <td>2019-07-25 04:43:36</td>\n",
       "      <td>NaN</td>\n",
       "      <td>2019-07-25 00:00:00</td>\n",
       "    </tr>\n",
       "    <tr>\n",
       "      <th>last</th>\n",
       "      <td>NaN</td>\n",
       "      <td>NaN</td>\n",
       "      <td>2019-08-07 21:15:17</td>\n",
       "      <td>NaN</td>\n",
       "      <td>2019-08-07 00:00:00</td>\n",
       "    </tr>\n",
       "    <tr>\n",
       "      <th>mean</th>\n",
       "      <td>NaN</td>\n",
       "      <td>4.627568e+18</td>\n",
       "      <td>NaN</td>\n",
       "      <td>247.022296</td>\n",
       "      <td>NaN</td>\n",
       "    </tr>\n",
       "    <tr>\n",
       "      <th>std</th>\n",
       "      <td>NaN</td>\n",
       "      <td>2.642425e+18</td>\n",
       "      <td>NaN</td>\n",
       "      <td>0.824434</td>\n",
       "      <td>NaN</td>\n",
       "    </tr>\n",
       "    <tr>\n",
       "      <th>min</th>\n",
       "      <td>NaN</td>\n",
       "      <td>6.888747e+15</td>\n",
       "      <td>NaN</td>\n",
       "      <td>246.000000</td>\n",
       "      <td>NaN</td>\n",
       "    </tr>\n",
       "    <tr>\n",
       "      <th>25%</th>\n",
       "      <td>NaN</td>\n",
       "      <td>2.372212e+18</td>\n",
       "      <td>NaN</td>\n",
       "      <td>246.000000</td>\n",
       "      <td>NaN</td>\n",
       "    </tr>\n",
       "    <tr>\n",
       "      <th>50%</th>\n",
       "      <td>NaN</td>\n",
       "      <td>4.623192e+18</td>\n",
       "      <td>NaN</td>\n",
       "      <td>247.000000</td>\n",
       "      <td>NaN</td>\n",
       "    </tr>\n",
       "    <tr>\n",
       "      <th>75%</th>\n",
       "      <td>NaN</td>\n",
       "      <td>6.932517e+18</td>\n",
       "      <td>NaN</td>\n",
       "      <td>248.000000</td>\n",
       "      <td>NaN</td>\n",
       "    </tr>\n",
       "    <tr>\n",
       "      <th>max</th>\n",
       "      <td>NaN</td>\n",
       "      <td>9.222603e+18</td>\n",
       "      <td>NaN</td>\n",
       "      <td>248.000000</td>\n",
       "      <td>NaN</td>\n",
       "    </tr>\n",
       "  </tbody>\n",
       "</table>\n",
       "</div>"
      ],
      "text/plain": [
       "              event_name       user_id             event_ts          group  \\\n",
       "count             244126  2.441260e+05               244126  244126.000000   \n",
       "unique                 5           NaN               176654            NaN   \n",
       "top     MainScreenAppear           NaN  2019-08-04 16:23:19            NaN   \n",
       "freq              119205           NaN                    9            NaN   \n",
       "first                NaN           NaN  2019-07-25 04:43:36            NaN   \n",
       "last                 NaN           NaN  2019-08-07 21:15:17            NaN   \n",
       "mean                 NaN  4.627568e+18                  NaN     247.022296   \n",
       "std                  NaN  2.642425e+18                  NaN       0.824434   \n",
       "min                  NaN  6.888747e+15                  NaN     246.000000   \n",
       "25%                  NaN  2.372212e+18                  NaN     246.000000   \n",
       "50%                  NaN  4.623192e+18                  NaN     247.000000   \n",
       "75%                  NaN  6.932517e+18                  NaN     248.000000   \n",
       "max                  NaN  9.222603e+18                  NaN     248.000000   \n",
       "\n",
       "                       date  \n",
       "count                244126  \n",
       "unique                   14  \n",
       "top     2019-08-01 00:00:00  \n",
       "freq                  36229  \n",
       "first   2019-07-25 00:00:00  \n",
       "last    2019-08-07 00:00:00  \n",
       "mean                    NaN  \n",
       "std                     NaN  \n",
       "min                     NaN  \n",
       "25%                     NaN  \n",
       "50%                     NaN  \n",
       "75%                     NaN  \n",
       "max                     NaN  "
      ]
     },
     "execution_count": 13,
     "metadata": {},
     "output_type": "execute_result"
    }
   ],
   "source": [
    "df.describe(include='all')"
   ]
  },
  {
   "cell_type": "markdown",
   "metadata": {},
   "source": [
    "We can conclude that our dataset has 244,126 entries and includes information on 7,551 unique users.\n",
    "Only 176,654 timestamps are unique. Some of these might be duplicates, though with such a big number of users it is possible that their actions just coincided in time.\n",
    "\n",
    "In general, is dataset contains information on 15 days (from 25 July to 8 August 2019). We have five different event names and three different groups.\n",
    "\n",
    "So far we haven't found any missing values.\n",
    "\n",
    "[Back to Contents](#cont)"
   ]
  },
  {
   "cell_type": "markdown",
   "metadata": {},
   "source": [
    "### <a id='step2duplicates'>Checking for Duplicates</a>"
   ]
  },
  {
   "cell_type": "code",
   "execution_count": 14,
   "metadata": {},
   "outputs": [
    {
     "data": {
      "text/plain": [
       "413"
      ]
     },
     "execution_count": 14,
     "metadata": {},
     "output_type": "execute_result"
    }
   ],
   "source": [
    "df.duplicated().sum()"
   ]
  },
  {
   "cell_type": "markdown",
   "metadata": {},
   "source": [
    "Unfortunately, we do have duplicates in this dataset, which is not so good for the A/B testing."
   ]
  },
  {
   "cell_type": "code",
   "execution_count": 15,
   "metadata": {},
   "outputs": [
    {
     "data": {
      "text/html": [
       "<div>\n",
       "<style scoped>\n",
       "    .dataframe tbody tr th:only-of-type {\n",
       "        vertical-align: middle;\n",
       "    }\n",
       "\n",
       "    .dataframe tbody tr th {\n",
       "        vertical-align: top;\n",
       "    }\n",
       "\n",
       "    .dataframe thead th {\n",
       "        text-align: right;\n",
       "    }\n",
       "</style>\n",
       "<table border=\"1\" class=\"dataframe\">\n",
       "  <thead>\n",
       "    <tr style=\"text-align: right;\">\n",
       "      <th></th>\n",
       "      <th>event_name</th>\n",
       "      <th>user_id</th>\n",
       "      <th>event_ts</th>\n",
       "      <th>group</th>\n",
       "      <th>date</th>\n",
       "    </tr>\n",
       "  </thead>\n",
       "  <tbody>\n",
       "    <tr>\n",
       "      <th>137444</th>\n",
       "      <td>PaymentScreenSuccessful</td>\n",
       "      <td>1602535389316247105</td>\n",
       "      <td>2019-08-04 18:55:39</td>\n",
       "      <td>248</td>\n",
       "      <td>2019-08-04</td>\n",
       "    </tr>\n",
       "    <tr>\n",
       "      <th>187564</th>\n",
       "      <td>MainScreenAppear</td>\n",
       "      <td>2611142795743063052</td>\n",
       "      <td>2019-08-06 09:24:59</td>\n",
       "      <td>246</td>\n",
       "      <td>2019-08-06</td>\n",
       "    </tr>\n",
       "    <tr>\n",
       "      <th>35233</th>\n",
       "      <td>CartScreenAppear</td>\n",
       "      <td>7738058666231999878</td>\n",
       "      <td>2019-08-01 19:06:35</td>\n",
       "      <td>246</td>\n",
       "      <td>2019-08-01</td>\n",
       "    </tr>\n",
       "    <tr>\n",
       "      <th>168991</th>\n",
       "      <td>PaymentScreenSuccessful</td>\n",
       "      <td>6932517045703054087</td>\n",
       "      <td>2019-08-05 17:00:03</td>\n",
       "      <td>248</td>\n",
       "      <td>2019-08-05</td>\n",
       "    </tr>\n",
       "    <tr>\n",
       "      <th>75115</th>\n",
       "      <td>PaymentScreenSuccessful</td>\n",
       "      <td>1754140665440434215</td>\n",
       "      <td>2019-08-03 02:22:20</td>\n",
       "      <td>247</td>\n",
       "      <td>2019-08-03</td>\n",
       "    </tr>\n",
       "  </tbody>\n",
       "</table>\n",
       "</div>"
      ],
      "text/plain": [
       "                     event_name              user_id            event_ts  \\\n",
       "137444  PaymentScreenSuccessful  1602535389316247105 2019-08-04 18:55:39   \n",
       "187564         MainScreenAppear  2611142795743063052 2019-08-06 09:24:59   \n",
       "35233          CartScreenAppear  7738058666231999878 2019-08-01 19:06:35   \n",
       "168991  PaymentScreenSuccessful  6932517045703054087 2019-08-05 17:00:03   \n",
       "75115   PaymentScreenSuccessful  1754140665440434215 2019-08-03 02:22:20   \n",
       "\n",
       "        group       date  \n",
       "137444    248 2019-08-04  \n",
       "187564    246 2019-08-06  \n",
       "35233     246 2019-08-01  \n",
       "168991    248 2019-08-05  \n",
       "75115     247 2019-08-03  "
      ]
     },
     "execution_count": 15,
     "metadata": {},
     "output_type": "execute_result"
    }
   ],
   "source": [
    "# A sample of duplicated data\n",
    "\n",
    "df[df.duplicated()].sample(5)"
   ]
  },
  {
   "cell_type": "markdown",
   "metadata": {},
   "source": [
    "We'll try to establish if duplicates happened during some particular day or days.\n",
    "\n",
    "If yes, we could discard the data on these days and lengthen our test to gather new information."
   ]
  },
  {
   "cell_type": "code",
   "execution_count": 16,
   "metadata": {},
   "outputs": [
    {
     "data": {
      "text/plain": [
       "array(['2019-07-30T00:00:00.000000000', '2019-07-31T00:00:00.000000000',\n",
       "       '2019-08-01T00:00:00.000000000', '2019-08-02T00:00:00.000000000',\n",
       "       '2019-08-03T00:00:00.000000000', '2019-08-04T00:00:00.000000000',\n",
       "       '2019-08-05T00:00:00.000000000', '2019-08-06T00:00:00.000000000',\n",
       "       '2019-08-07T00:00:00.000000000'], dtype='datetime64[ns]')"
      ]
     },
     "execution_count": 16,
     "metadata": {},
     "output_type": "execute_result"
    }
   ],
   "source": [
    "df[df.duplicated()]['date'].unique()"
   ]
  },
  {
   "cell_type": "markdown",
   "metadata": {},
   "source": [
    "However, we see that our data is duplicated during the second week, which is half of the test time.\n",
    "\n",
    "It means, it's too late to improve the test itself, so we'll have to clean out the duplicates from our dataset."
   ]
  },
  {
   "cell_type": "code",
   "execution_count": 17,
   "metadata": {},
   "outputs": [
    {
     "name": "stdout",
     "output_type": "stream",
     "text": [
      "<class 'pandas.core.frame.DataFrame'>\n",
      "Int64Index: 243713 entries, 0 to 244125\n",
      "Data columns (total 5 columns):\n",
      " #   Column      Non-Null Count   Dtype         \n",
      "---  ------      --------------   -----         \n",
      " 0   event_name  243713 non-null  object        \n",
      " 1   user_id     243713 non-null  int64         \n",
      " 2   event_ts    243713 non-null  datetime64[ns]\n",
      " 3   group       243713 non-null  int64         \n",
      " 4   date        243713 non-null  datetime64[ns]\n",
      "dtypes: datetime64[ns](2), int64(2), object(1)\n",
      "memory usage: 11.2+ MB\n"
     ]
    }
   ],
   "source": [
    "df_clean = df.drop_duplicates(keep='last')\n",
    "df_clean.info()"
   ]
  },
  {
   "cell_type": "markdown",
   "metadata": {},
   "source": [
    "We've deleted 413 duplicates. The last thing left to do is to check if every user belongs to one group only.\n",
    "\n",
    "[Back to Contents](#cont)"
   ]
  },
  {
   "cell_type": "markdown",
   "metadata": {},
   "source": [
    "### <a id='step2users'>Users and Groups Check</a>"
   ]
  },
  {
   "cell_type": "code",
   "execution_count": 18,
   "metadata": {},
   "outputs": [
    {
     "data": {
      "text/plain": [
       "count    7551.0\n",
       "mean        1.0\n",
       "std         0.0\n",
       "min         1.0\n",
       "25%         1.0\n",
       "50%         1.0\n",
       "75%         1.0\n",
       "max         1.0\n",
       "Name: group, dtype: float64"
      ]
     },
     "execution_count": 18,
     "metadata": {},
     "output_type": "execute_result"
    }
   ],
   "source": [
    "# Checking the number of groups our users belong to\n",
    "\n",
    "user_check = (df_clean\n",
    "              .groupby('user_id')['group']\n",
    "              .nunique()\n",
    "              .reset_index()\n",
    "              .sort_values(by='group', ascending=False))\n",
    "user_check.group.describe()"
   ]
  },
  {
   "cell_type": "markdown",
   "metadata": {},
   "source": [
    "Luckily, the splitting instument works fine and we have no users that were assigned to multiple groups by mistake. \n",
    "\n",
    "[Back to Contents](#cont)"
   ]
  },
  {
   "cell_type": "markdown",
   "metadata": {},
   "source": [
    "### <a id='step2activity'>Checking User Activity</a>\n",
    "\n",
    "Another thing we can check is if there was any suspicious user activity, e.g. users with too many actions."
   ]
  },
  {
   "cell_type": "code",
   "execution_count": 19,
   "metadata": {},
   "outputs": [
    {
     "data": {
      "text/html": [
       "<div>\n",
       "<style scoped>\n",
       "    .dataframe tbody tr th:only-of-type {\n",
       "        vertical-align: middle;\n",
       "    }\n",
       "\n",
       "    .dataframe tbody tr th {\n",
       "        vertical-align: top;\n",
       "    }\n",
       "\n",
       "    .dataframe thead th {\n",
       "        text-align: right;\n",
       "    }\n",
       "</style>\n",
       "<table border=\"1\" class=\"dataframe\">\n",
       "  <thead>\n",
       "    <tr style=\"text-align: right;\">\n",
       "      <th></th>\n",
       "      <th>user_id</th>\n",
       "      <th>n_actions</th>\n",
       "    </tr>\n",
       "  </thead>\n",
       "  <tbody>\n",
       "    <tr>\n",
       "      <th>5116</th>\n",
       "      <td>6304868067479728361</td>\n",
       "      <td>2242</td>\n",
       "    </tr>\n",
       "    <tr>\n",
       "      <th>147</th>\n",
       "      <td>197027893265565660</td>\n",
       "      <td>1730</td>\n",
       "    </tr>\n",
       "    <tr>\n",
       "      <th>3714</th>\n",
       "      <td>4623191541214045580</td>\n",
       "      <td>1592</td>\n",
       "    </tr>\n",
       "    <tr>\n",
       "      <th>5590</th>\n",
       "      <td>6932517045703054087</td>\n",
       "      <td>1295</td>\n",
       "    </tr>\n",
       "    <tr>\n",
       "      <th>1391</th>\n",
       "      <td>1754140665440434215</td>\n",
       "      <td>981</td>\n",
       "    </tr>\n",
       "  </tbody>\n",
       "</table>\n",
       "</div>"
      ],
      "text/plain": [
       "                  user_id  n_actions\n",
       "5116  6304868067479728361       2242\n",
       "147    197027893265565660       1730\n",
       "3714  4623191541214045580       1592\n",
       "5590  6932517045703054087       1295\n",
       "1391  1754140665440434215        981"
      ]
     },
     "execution_count": 19,
     "metadata": {},
     "output_type": "execute_result"
    }
   ],
   "source": [
    "# Calculating number of actions per user\n",
    "\n",
    "user_activity = (df_clean\n",
    "                 .groupby('user_id')['event_ts']\n",
    "                 .nunique()\n",
    "                 .reset_index()\n",
    "                 .sort_values(by='event_ts', ascending=False))\n",
    "user_activity.columns = ['user_id', 'n_actions']\n",
    "user_activity.head()"
   ]
  },
  {
   "cell_type": "code",
   "execution_count": 20,
   "metadata": {},
   "outputs": [
    {
     "data": {
      "image/svg+xml": [
       "<svg class=\"main-svg\" xmlns=\"http://www.w3.org/2000/svg\" xmlns:xlink=\"http://www.w3.org/1999/xlink\" width=\"700\" height=\"450\" style=\"\" viewBox=\"0 0 700 450\"><rect x=\"0\" y=\"0\" width=\"700\" height=\"450\" style=\"fill: rgb(255, 255, 255); fill-opacity: 1;\"/><defs id=\"defs-9a94b4\"><g class=\"clips\"><clipPath id=\"clip9a94b4xyplot\" class=\"plotclip\"><rect width=\"540\" height=\"270\"/></clipPath><clipPath class=\"axesclip\" id=\"clip9a94b4x\"><rect x=\"80\" y=\"0\" width=\"540\" height=\"450\"/></clipPath><clipPath class=\"axesclip\" id=\"clip9a94b4y\"><rect x=\"0\" y=\"100\" width=\"700\" height=\"270\"/></clipPath><clipPath class=\"axesclip\" id=\"clip9a94b4xy\"><rect x=\"80\" y=\"100\" width=\"540\" height=\"270\"/></clipPath></g><g class=\"gradients\"/></defs><g class=\"bglayer\"><rect class=\"bg\" x=\"80\" y=\"100\" width=\"540\" height=\"270\" style=\"fill: rgb(229, 236, 246); fill-opacity: 1; stroke-width: 0;\"/></g><g class=\"layer-below\"><g class=\"imagelayer\"/><g class=\"shapelayer\"/></g><g class=\"cartesianlayer\"><g class=\"subplot xy\"><g class=\"layer-subplot\"><g class=\"shapelayer\"/><g class=\"imagelayer\"/></g><g class=\"gridlayer\"><g class=\"x\"/><g class=\"y\"><path class=\"ygrid crisp\" transform=\"translate(0,302.39)\" d=\"M80,0h540\" style=\"stroke: rgb(255, 255, 255); stroke-opacity: 1; stroke-width: 1px;\"/><path class=\"ygrid crisp\" transform=\"translate(0,248.17)\" d=\"M80,0h540\" style=\"stroke: rgb(255, 255, 255); stroke-opacity: 1; stroke-width: 1px;\"/><path class=\"ygrid crisp\" transform=\"translate(0,193.95999999999998)\" d=\"M80,0h540\" style=\"stroke: rgb(255, 255, 255); stroke-opacity: 1; stroke-width: 1px;\"/><path class=\"ygrid crisp\" transform=\"translate(0,139.74)\" d=\"M80,0h540\" style=\"stroke: rgb(255, 255, 255); stroke-opacity: 1; stroke-width: 1px;\"/></g></g><g class=\"zerolinelayer\"><path class=\"yzl zl crisp\" transform=\"translate(0,356.61)\" d=\"M80,0h540\" style=\"stroke: rgb(255, 255, 255); stroke-opacity: 1; stroke-width: 2px;\"/></g><path class=\"xlines-below\"/><path class=\"ylines-below\"/><g class=\"overlines-below\"/><g class=\"xaxislayer-below\"/><g class=\"yaxislayer-below\"/><g class=\"overaxes-below\"/><g class=\"plot\" transform=\"translate(80,100)\" clip-path=\"url('#clip9a94b4xyplot')\"><g class=\"boxlayer mlayer\"><g class=\"trace boxes\" style=\"opacity: 0.7;\"><path class=\"box\" d=\"M137.7,254.63H402.3M137.7,255.63H402.3V252.92H137.7ZM270,255.63V256.5M270,252.92V248.91M203.85,256.5H336.15M203.85,248.91H336.15\" style=\"vector-effect: non-scaling-stroke; stroke-width: 2px; stroke: rgb(0, 63, 92); stroke-opacity: 1; fill: rgb(0, 63, 92); fill-opacity: 0.5;\"/><g class=\"points\"><path class=\"point\" transform=\"translate(270,248.8)\" d=\"M3,0A3,3 0 1,1 0,-3A3,3 0 0,1 3,0Z\" style=\"opacity: 1; stroke-width: 1.5px; fill: rgb(0, 63, 92); fill-opacity: 1; stroke: rgb(0, 47, 69); stroke-opacity: 1;\"/><path class=\"point\" transform=\"translate(270,248.8)\" d=\"M3,0A3,3 0 1,1 0,-3A3,3 0 0,1 3,0Z\" style=\"opacity: 1; stroke-width: 1.5px; fill: rgb(0, 63, 92); fill-opacity: 1; stroke: rgb(0, 47, 69); stroke-opacity: 1;\"/><path class=\"point\" transform=\"translate(270,248.8)\" d=\"M3,0A3,3 0 1,1 0,-3A3,3 0 0,1 3,0Z\" style=\"opacity: 1; stroke-width: 1.5px; fill: rgb(0, 63, 92); fill-opacity: 1; stroke: rgb(0, 47, 69); stroke-opacity: 1;\"/><path class=\"point\" transform=\"translate(270,248.8)\" d=\"M3,0A3,3 0 1,1 0,-3A3,3 0 0,1 3,0Z\" style=\"opacity: 1; stroke-width: 1.5px; fill: rgb(0, 63, 92); fill-opacity: 1; stroke: rgb(0, 47, 69); stroke-opacity: 1;\"/><path class=\"point\" transform=\"translate(270,248.8)\" d=\"M3,0A3,3 0 1,1 0,-3A3,3 0 0,1 3,0Z\" style=\"opacity: 1; stroke-width: 1.5px; fill: rgb(0, 63, 92); fill-opacity: 1; stroke: rgb(0, 47, 69); stroke-opacity: 1;\"/><path class=\"point\" transform=\"translate(270,248.8)\" d=\"M3,0A3,3 0 1,1 0,-3A3,3 0 0,1 3,0Z\" style=\"opacity: 1; stroke-width: 1.5px; fill: rgb(0, 63, 92); fill-opacity: 1; stroke: rgb(0, 47, 69); stroke-opacity: 1;\"/><path class=\"point\" transform=\"translate(270,248.8)\" d=\"M3,0A3,3 0 1,1 0,-3A3,3 0 0,1 3,0Z\" style=\"opacity: 1; stroke-width: 1.5px; fill: rgb(0, 63, 92); fill-opacity: 1; stroke: rgb(0, 47, 69); stroke-opacity: 1;\"/><path class=\"point\" transform=\"translate(270,248.8)\" d=\"M3,0A3,3 0 1,1 0,-3A3,3 0 0,1 3,0Z\" style=\"opacity: 1; stroke-width: 1.5px; fill: rgb(0, 63, 92); fill-opacity: 1; stroke: rgb(0, 47, 69); stroke-opacity: 1;\"/><path class=\"point\" transform=\"translate(270,248.8)\" d=\"M3,0A3,3 0 1,1 0,-3A3,3 0 0,1 3,0Z\" style=\"opacity: 1; stroke-width: 1.5px; fill: rgb(0, 63, 92); fill-opacity: 1; stroke: rgb(0, 47, 69); stroke-opacity: 1;\"/><path class=\"point\" transform=\"translate(270,248.8)\" d=\"M3,0A3,3 0 1,1 0,-3A3,3 0 0,1 3,0Z\" style=\"opacity: 1; stroke-width: 1.5px; fill: rgb(0, 63, 92); fill-opacity: 1; stroke: rgb(0, 47, 69); stroke-opacity: 1;\"/><path class=\"point\" transform=\"translate(270,248.8)\" d=\"M3,0A3,3 0 1,1 0,-3A3,3 0 0,1 3,0Z\" style=\"opacity: 1; stroke-width: 1.5px; fill: rgb(0, 63, 92); fill-opacity: 1; stroke: rgb(0, 47, 69); stroke-opacity: 1;\"/><path class=\"point\" transform=\"translate(270,248.69)\" d=\"M3,0A3,3 0 1,1 0,-3A3,3 0 0,1 3,0Z\" style=\"opacity: 1; stroke-width: 1.5px; fill: rgb(0, 63, 92); fill-opacity: 1; stroke: rgb(0, 47, 69); stroke-opacity: 1;\"/><path class=\"point\" transform=\"translate(270,248.69)\" d=\"M3,0A3,3 0 1,1 0,-3A3,3 0 0,1 3,0Z\" style=\"opacity: 1; stroke-width: 1.5px; fill: rgb(0, 63, 92); fill-opacity: 1; stroke: rgb(0, 47, 69); stroke-opacity: 1;\"/><path class=\"point\" transform=\"translate(270,248.69)\" d=\"M3,0A3,3 0 1,1 0,-3A3,3 0 0,1 3,0Z\" style=\"opacity: 1; stroke-width: 1.5px; fill: rgb(0, 63, 92); fill-opacity: 1; stroke: rgb(0, 47, 69); stroke-opacity: 1;\"/><path class=\"point\" transform=\"translate(270,248.69)\" d=\"M3,0A3,3 0 1,1 0,-3A3,3 0 0,1 3,0Z\" style=\"opacity: 1; stroke-width: 1.5px; fill: rgb(0, 63, 92); fill-opacity: 1; stroke: rgb(0, 47, 69); stroke-opacity: 1;\"/><path class=\"point\" transform=\"translate(270,248.69)\" d=\"M3,0A3,3 0 1,1 0,-3A3,3 0 0,1 3,0Z\" style=\"opacity: 1; stroke-width: 1.5px; fill: rgb(0, 63, 92); fill-opacity: 1; stroke: rgb(0, 47, 69); stroke-opacity: 1;\"/><path class=\"point\" transform=\"translate(270,248.69)\" d=\"M3,0A3,3 0 1,1 0,-3A3,3 0 0,1 3,0Z\" style=\"opacity: 1; stroke-width: 1.5px; fill: rgb(0, 63, 92); fill-opacity: 1; stroke: rgb(0, 47, 69); stroke-opacity: 1;\"/><path class=\"point\" transform=\"translate(270,248.69)\" d=\"M3,0A3,3 0 1,1 0,-3A3,3 0 0,1 3,0Z\" style=\"opacity: 1; stroke-width: 1.5px; fill: rgb(0, 63, 92); fill-opacity: 1; stroke: rgb(0, 47, 69); stroke-opacity: 1;\"/><path class=\"point\" transform=\"translate(270,248.69)\" d=\"M3,0A3,3 0 1,1 0,-3A3,3 0 0,1 3,0Z\" style=\"opacity: 1; stroke-width: 1.5px; fill: rgb(0, 63, 92); fill-opacity: 1; stroke: rgb(0, 47, 69); stroke-opacity: 1;\"/><path class=\"point\" transform=\"translate(270,248.69)\" d=\"M3,0A3,3 0 1,1 0,-3A3,3 0 0,1 3,0Z\" style=\"opacity: 1; stroke-width: 1.5px; fill: rgb(0, 63, 92); fill-opacity: 1; stroke: rgb(0, 47, 69); stroke-opacity: 1;\"/><path class=\"point\" transform=\"translate(270,248.69)\" d=\"M3,0A3,3 0 1,1 0,-3A3,3 0 0,1 3,0Z\" style=\"opacity: 1; stroke-width: 1.5px; fill: rgb(0, 63, 92); fill-opacity: 1; stroke: rgb(0, 47, 69); stroke-opacity: 1;\"/><path class=\"point\" transform=\"translate(270,248.58)\" d=\"M3,0A3,3 0 1,1 0,-3A3,3 0 0,1 3,0Z\" style=\"opacity: 1; stroke-width: 1.5px; fill: rgb(0, 63, 92); fill-opacity: 1; stroke: rgb(0, 47, 69); stroke-opacity: 1;\"/><path class=\"point\" transform=\"translate(270,248.58)\" d=\"M3,0A3,3 0 1,1 0,-3A3,3 0 0,1 3,0Z\" style=\"opacity: 1; stroke-width: 1.5px; fill: rgb(0, 63, 92); fill-opacity: 1; stroke: rgb(0, 47, 69); stroke-opacity: 1;\"/><path class=\"point\" transform=\"translate(270,248.58)\" d=\"M3,0A3,3 0 1,1 0,-3A3,3 0 0,1 3,0Z\" style=\"opacity: 1; stroke-width: 1.5px; fill: rgb(0, 63, 92); fill-opacity: 1; stroke: rgb(0, 47, 69); stroke-opacity: 1;\"/><path class=\"point\" transform=\"translate(270,248.58)\" d=\"M3,0A3,3 0 1,1 0,-3A3,3 0 0,1 3,0Z\" style=\"opacity: 1; stroke-width: 1.5px; fill: rgb(0, 63, 92); fill-opacity: 1; stroke: rgb(0, 47, 69); stroke-opacity: 1;\"/><path class=\"point\" transform=\"translate(270,248.58)\" d=\"M3,0A3,3 0 1,1 0,-3A3,3 0 0,1 3,0Z\" style=\"opacity: 1; stroke-width: 1.5px; fill: rgb(0, 63, 92); fill-opacity: 1; stroke: rgb(0, 47, 69); stroke-opacity: 1;\"/><path class=\"point\" transform=\"translate(270,248.58)\" d=\"M3,0A3,3 0 1,1 0,-3A3,3 0 0,1 3,0Z\" style=\"opacity: 1; stroke-width: 1.5px; fill: rgb(0, 63, 92); fill-opacity: 1; stroke: rgb(0, 47, 69); stroke-opacity: 1;\"/><path class=\"point\" transform=\"translate(270,248.58)\" d=\"M3,0A3,3 0 1,1 0,-3A3,3 0 0,1 3,0Z\" style=\"opacity: 1; stroke-width: 1.5px; fill: rgb(0, 63, 92); fill-opacity: 1; stroke: rgb(0, 47, 69); stroke-opacity: 1;\"/><path class=\"point\" transform=\"translate(270,248.58)\" d=\"M3,0A3,3 0 1,1 0,-3A3,3 0 0,1 3,0Z\" style=\"opacity: 1; stroke-width: 1.5px; fill: rgb(0, 63, 92); fill-opacity: 1; stroke: rgb(0, 47, 69); stroke-opacity: 1;\"/><path class=\"point\" transform=\"translate(270,248.58)\" d=\"M3,0A3,3 0 1,1 0,-3A3,3 0 0,1 3,0Z\" style=\"opacity: 1; stroke-width: 1.5px; fill: rgb(0, 63, 92); fill-opacity: 1; stroke: rgb(0, 47, 69); stroke-opacity: 1;\"/><path class=\"point\" transform=\"translate(270,248.58)\" d=\"M3,0A3,3 0 1,1 0,-3A3,3 0 0,1 3,0Z\" style=\"opacity: 1; stroke-width: 1.5px; fill: rgb(0, 63, 92); fill-opacity: 1; stroke: rgb(0, 47, 69); stroke-opacity: 1;\"/><path class=\"point\" transform=\"translate(270,248.58)\" d=\"M3,0A3,3 0 1,1 0,-3A3,3 0 0,1 3,0Z\" style=\"opacity: 1; stroke-width: 1.5px; fill: rgb(0, 63, 92); fill-opacity: 1; stroke: rgb(0, 47, 69); stroke-opacity: 1;\"/><path class=\"point\" transform=\"translate(270,248.58)\" d=\"M3,0A3,3 0 1,1 0,-3A3,3 0 0,1 3,0Z\" style=\"opacity: 1; stroke-width: 1.5px; fill: rgb(0, 63, 92); fill-opacity: 1; stroke: rgb(0, 47, 69); stroke-opacity: 1;\"/><path class=\"point\" transform=\"translate(270,248.58)\" d=\"M3,0A3,3 0 1,1 0,-3A3,3 0 0,1 3,0Z\" style=\"opacity: 1; stroke-width: 1.5px; fill: rgb(0, 63, 92); fill-opacity: 1; stroke: rgb(0, 47, 69); stroke-opacity: 1;\"/><path class=\"point\" transform=\"translate(270,248.58)\" d=\"M3,0A3,3 0 1,1 0,-3A3,3 0 0,1 3,0Z\" style=\"opacity: 1; stroke-width: 1.5px; fill: rgb(0, 63, 92); fill-opacity: 1; stroke: rgb(0, 47, 69); stroke-opacity: 1;\"/><path class=\"point\" transform=\"translate(270,248.48)\" d=\"M3,0A3,3 0 1,1 0,-3A3,3 0 0,1 3,0Z\" style=\"opacity: 1; stroke-width: 1.5px; fill: rgb(0, 63, 92); fill-opacity: 1; stroke: rgb(0, 47, 69); stroke-opacity: 1;\"/><path class=\"point\" transform=\"translate(270,248.48)\" d=\"M3,0A3,3 0 1,1 0,-3A3,3 0 0,1 3,0Z\" style=\"opacity: 1; stroke-width: 1.5px; fill: rgb(0, 63, 92); fill-opacity: 1; stroke: rgb(0, 47, 69); stroke-opacity: 1;\"/><path class=\"point\" transform=\"translate(270,248.48)\" d=\"M3,0A3,3 0 1,1 0,-3A3,3 0 0,1 3,0Z\" style=\"opacity: 1; stroke-width: 1.5px; fill: rgb(0, 63, 92); fill-opacity: 1; stroke: rgb(0, 47, 69); stroke-opacity: 1;\"/><path class=\"point\" transform=\"translate(270,248.48)\" d=\"M3,0A3,3 0 1,1 0,-3A3,3 0 0,1 3,0Z\" style=\"opacity: 1; stroke-width: 1.5px; fill: rgb(0, 63, 92); fill-opacity: 1; stroke: rgb(0, 47, 69); stroke-opacity: 1;\"/><path class=\"point\" transform=\"translate(270,248.48)\" d=\"M3,0A3,3 0 1,1 0,-3A3,3 0 0,1 3,0Z\" style=\"opacity: 1; stroke-width: 1.5px; fill: rgb(0, 63, 92); fill-opacity: 1; stroke: rgb(0, 47, 69); stroke-opacity: 1;\"/><path class=\"point\" transform=\"translate(270,248.48)\" d=\"M3,0A3,3 0 1,1 0,-3A3,3 0 0,1 3,0Z\" style=\"opacity: 1; stroke-width: 1.5px; fill: rgb(0, 63, 92); fill-opacity: 1; stroke: rgb(0, 47, 69); stroke-opacity: 1;\"/><path class=\"point\" transform=\"translate(270,248.48)\" d=\"M3,0A3,3 0 1,1 0,-3A3,3 0 0,1 3,0Z\" style=\"opacity: 1; stroke-width: 1.5px; fill: rgb(0, 63, 92); fill-opacity: 1; stroke: rgb(0, 47, 69); stroke-opacity: 1;\"/><path class=\"point\" transform=\"translate(270,248.48)\" d=\"M3,0A3,3 0 1,1 0,-3A3,3 0 0,1 3,0Z\" style=\"opacity: 1; stroke-width: 1.5px; fill: rgb(0, 63, 92); fill-opacity: 1; stroke: rgb(0, 47, 69); stroke-opacity: 1;\"/><path class=\"point\" transform=\"translate(270,248.48)\" d=\"M3,0A3,3 0 1,1 0,-3A3,3 0 0,1 3,0Z\" style=\"opacity: 1; stroke-width: 1.5px; fill: rgb(0, 63, 92); fill-opacity: 1; stroke: rgb(0, 47, 69); stroke-opacity: 1;\"/><path class=\"point\" transform=\"translate(270,248.48)\" d=\"M3,0A3,3 0 1,1 0,-3A3,3 0 0,1 3,0Z\" style=\"opacity: 1; stroke-width: 1.5px; fill: rgb(0, 63, 92); fill-opacity: 1; stroke: rgb(0, 47, 69); stroke-opacity: 1;\"/><path class=\"point\" transform=\"translate(270,248.48)\" d=\"M3,0A3,3 0 1,1 0,-3A3,3 0 0,1 3,0Z\" style=\"opacity: 1; stroke-width: 1.5px; fill: rgb(0, 63, 92); fill-opacity: 1; stroke: rgb(0, 47, 69); stroke-opacity: 1;\"/><path class=\"point\" transform=\"translate(270,248.48)\" d=\"M3,0A3,3 0 1,1 0,-3A3,3 0 0,1 3,0Z\" style=\"opacity: 1; stroke-width: 1.5px; fill: rgb(0, 63, 92); fill-opacity: 1; stroke: rgb(0, 47, 69); stroke-opacity: 1;\"/><path class=\"point\" transform=\"translate(270,248.48)\" d=\"M3,0A3,3 0 1,1 0,-3A3,3 0 0,1 3,0Z\" style=\"opacity: 1; stroke-width: 1.5px; fill: rgb(0, 63, 92); fill-opacity: 1; stroke: rgb(0, 47, 69); stroke-opacity: 1;\"/><path class=\"point\" transform=\"translate(270,248.48)\" d=\"M3,0A3,3 0 1,1 0,-3A3,3 0 0,1 3,0Z\" style=\"opacity: 1; stroke-width: 1.5px; fill: rgb(0, 63, 92); fill-opacity: 1; stroke: rgb(0, 47, 69); stroke-opacity: 1;\"/><path class=\"point\" transform=\"translate(270,248.48)\" d=\"M3,0A3,3 0 1,1 0,-3A3,3 0 0,1 3,0Z\" style=\"opacity: 1; stroke-width: 1.5px; fill: rgb(0, 63, 92); fill-opacity: 1; stroke: rgb(0, 47, 69); stroke-opacity: 1;\"/><path class=\"point\" transform=\"translate(270,248.48)\" d=\"M3,0A3,3 0 1,1 0,-3A3,3 0 0,1 3,0Z\" style=\"opacity: 1; stroke-width: 1.5px; fill: rgb(0, 63, 92); fill-opacity: 1; stroke: rgb(0, 47, 69); stroke-opacity: 1;\"/><path class=\"point\" transform=\"translate(270,248.48)\" d=\"M3,0A3,3 0 1,1 0,-3A3,3 0 0,1 3,0Z\" style=\"opacity: 1; stroke-width: 1.5px; fill: rgb(0, 63, 92); fill-opacity: 1; stroke: rgb(0, 47, 69); stroke-opacity: 1;\"/><path class=\"point\" transform=\"translate(270,248.48)\" d=\"M3,0A3,3 0 1,1 0,-3A3,3 0 0,1 3,0Z\" style=\"opacity: 1; stroke-width: 1.5px; fill: rgb(0, 63, 92); fill-opacity: 1; stroke: rgb(0, 47, 69); stroke-opacity: 1;\"/><path class=\"point\" transform=\"translate(270,248.37)\" d=\"M3,0A3,3 0 1,1 0,-3A3,3 0 0,1 3,0Z\" style=\"opacity: 1; stroke-width: 1.5px; fill: rgb(0, 63, 92); fill-opacity: 1; stroke: rgb(0, 47, 69); stroke-opacity: 1;\"/><path class=\"point\" transform=\"translate(270,248.37)\" d=\"M3,0A3,3 0 1,1 0,-3A3,3 0 0,1 3,0Z\" style=\"opacity: 1; stroke-width: 1.5px; fill: rgb(0, 63, 92); fill-opacity: 1; stroke: rgb(0, 47, 69); stroke-opacity: 1;\"/><path class=\"point\" transform=\"translate(270,248.37)\" d=\"M3,0A3,3 0 1,1 0,-3A3,3 0 0,1 3,0Z\" style=\"opacity: 1; stroke-width: 1.5px; fill: rgb(0, 63, 92); fill-opacity: 1; stroke: rgb(0, 47, 69); stroke-opacity: 1;\"/><path class=\"point\" transform=\"translate(270,248.37)\" d=\"M3,0A3,3 0 1,1 0,-3A3,3 0 0,1 3,0Z\" style=\"opacity: 1; stroke-width: 1.5px; fill: rgb(0, 63, 92); fill-opacity: 1; stroke: rgb(0, 47, 69); stroke-opacity: 1;\"/><path class=\"point\" transform=\"translate(270,248.37)\" d=\"M3,0A3,3 0 1,1 0,-3A3,3 0 0,1 3,0Z\" style=\"opacity: 1; stroke-width: 1.5px; fill: rgb(0, 63, 92); fill-opacity: 1; stroke: rgb(0, 47, 69); stroke-opacity: 1;\"/><path class=\"point\" transform=\"translate(270,248.37)\" d=\"M3,0A3,3 0 1,1 0,-3A3,3 0 0,1 3,0Z\" style=\"opacity: 1; stroke-width: 1.5px; fill: rgb(0, 63, 92); fill-opacity: 1; stroke: rgb(0, 47, 69); stroke-opacity: 1;\"/><path class=\"point\" transform=\"translate(270,248.37)\" d=\"M3,0A3,3 0 1,1 0,-3A3,3 0 0,1 3,0Z\" style=\"opacity: 1; stroke-width: 1.5px; fill: rgb(0, 63, 92); fill-opacity: 1; stroke: rgb(0, 47, 69); stroke-opacity: 1;\"/><path class=\"point\" transform=\"translate(270,248.37)\" d=\"M3,0A3,3 0 1,1 0,-3A3,3 0 0,1 3,0Z\" style=\"opacity: 1; stroke-width: 1.5px; fill: rgb(0, 63, 92); fill-opacity: 1; stroke: rgb(0, 47, 69); stroke-opacity: 1;\"/><path class=\"point\" transform=\"translate(270,248.37)\" d=\"M3,0A3,3 0 1,1 0,-3A3,3 0 0,1 3,0Z\" style=\"opacity: 1; stroke-width: 1.5px; fill: rgb(0, 63, 92); fill-opacity: 1; stroke: rgb(0, 47, 69); stroke-opacity: 1;\"/><path class=\"point\" transform=\"translate(270,248.37)\" d=\"M3,0A3,3 0 1,1 0,-3A3,3 0 0,1 3,0Z\" style=\"opacity: 1; stroke-width: 1.5px; fill: rgb(0, 63, 92); fill-opacity: 1; stroke: rgb(0, 47, 69); stroke-opacity: 1;\"/><path class=\"point\" transform=\"translate(270,248.37)\" d=\"M3,0A3,3 0 1,1 0,-3A3,3 0 0,1 3,0Z\" style=\"opacity: 1; stroke-width: 1.5px; fill: rgb(0, 63, 92); fill-opacity: 1; stroke: rgb(0, 47, 69); stroke-opacity: 1;\"/><path class=\"point\" transform=\"translate(270,248.26)\" d=\"M3,0A3,3 0 1,1 0,-3A3,3 0 0,1 3,0Z\" style=\"opacity: 1; stroke-width: 1.5px; fill: rgb(0, 63, 92); fill-opacity: 1; stroke: rgb(0, 47, 69); stroke-opacity: 1;\"/><path class=\"point\" transform=\"translate(270,248.26)\" d=\"M3,0A3,3 0 1,1 0,-3A3,3 0 0,1 3,0Z\" style=\"opacity: 1; stroke-width: 1.5px; fill: rgb(0, 63, 92); fill-opacity: 1; stroke: rgb(0, 47, 69); stroke-opacity: 1;\"/><path class=\"point\" transform=\"translate(270,248.26)\" d=\"M3,0A3,3 0 1,1 0,-3A3,3 0 0,1 3,0Z\" style=\"opacity: 1; stroke-width: 1.5px; fill: rgb(0, 63, 92); fill-opacity: 1; stroke: rgb(0, 47, 69); stroke-opacity: 1;\"/><path class=\"point\" transform=\"translate(270,248.26)\" d=\"M3,0A3,3 0 1,1 0,-3A3,3 0 0,1 3,0Z\" style=\"opacity: 1; stroke-width: 1.5px; fill: rgb(0, 63, 92); fill-opacity: 1; stroke: rgb(0, 47, 69); stroke-opacity: 1;\"/><path class=\"point\" transform=\"translate(270,248.26)\" d=\"M3,0A3,3 0 1,1 0,-3A3,3 0 0,1 3,0Z\" style=\"opacity: 1; stroke-width: 1.5px; fill: rgb(0, 63, 92); fill-opacity: 1; stroke: rgb(0, 47, 69); stroke-opacity: 1;\"/><path class=\"point\" transform=\"translate(270,248.26)\" d=\"M3,0A3,3 0 1,1 0,-3A3,3 0 0,1 3,0Z\" style=\"opacity: 1; stroke-width: 1.5px; fill: rgb(0, 63, 92); fill-opacity: 1; stroke: rgb(0, 47, 69); stroke-opacity: 1;\"/><path class=\"point\" transform=\"translate(270,248.26)\" d=\"M3,0A3,3 0 1,1 0,-3A3,3 0 0,1 3,0Z\" style=\"opacity: 1; stroke-width: 1.5px; fill: rgb(0, 63, 92); fill-opacity: 1; stroke: rgb(0, 47, 69); stroke-opacity: 1;\"/><path class=\"point\" transform=\"translate(270,248.26)\" d=\"M3,0A3,3 0 1,1 0,-3A3,3 0 0,1 3,0Z\" style=\"opacity: 1; stroke-width: 1.5px; fill: rgb(0, 63, 92); fill-opacity: 1; stroke: rgb(0, 47, 69); stroke-opacity: 1;\"/><path class=\"point\" transform=\"translate(270,248.26)\" d=\"M3,0A3,3 0 1,1 0,-3A3,3 0 0,1 3,0Z\" style=\"opacity: 1; stroke-width: 1.5px; fill: rgb(0, 63, 92); fill-opacity: 1; stroke: rgb(0, 47, 69); stroke-opacity: 1;\"/><path class=\"point\" transform=\"translate(270,248.26)\" d=\"M3,0A3,3 0 1,1 0,-3A3,3 0 0,1 3,0Z\" style=\"opacity: 1; stroke-width: 1.5px; fill: rgb(0, 63, 92); fill-opacity: 1; stroke: rgb(0, 47, 69); stroke-opacity: 1;\"/><path class=\"point\" transform=\"translate(270,248.26)\" d=\"M3,0A3,3 0 1,1 0,-3A3,3 0 0,1 3,0Z\" style=\"opacity: 1; stroke-width: 1.5px; fill: rgb(0, 63, 92); fill-opacity: 1; stroke: rgb(0, 47, 69); stroke-opacity: 1;\"/><path class=\"point\" transform=\"translate(270,248.26)\" d=\"M3,0A3,3 0 1,1 0,-3A3,3 0 0,1 3,0Z\" style=\"opacity: 1; stroke-width: 1.5px; fill: rgb(0, 63, 92); fill-opacity: 1; stroke: rgb(0, 47, 69); stroke-opacity: 1;\"/><path class=\"point\" transform=\"translate(270,248.15)\" d=\"M3,0A3,3 0 1,1 0,-3A3,3 0 0,1 3,0Z\" style=\"opacity: 1; stroke-width: 1.5px; fill: rgb(0, 63, 92); fill-opacity: 1; stroke: rgb(0, 47, 69); stroke-opacity: 1;\"/><path class=\"point\" transform=\"translate(270,248.15)\" d=\"M3,0A3,3 0 1,1 0,-3A3,3 0 0,1 3,0Z\" style=\"opacity: 1; stroke-width: 1.5px; fill: rgb(0, 63, 92); fill-opacity: 1; stroke: rgb(0, 47, 69); stroke-opacity: 1;\"/><path class=\"point\" transform=\"translate(270,248.15)\" d=\"M3,0A3,3 0 1,1 0,-3A3,3 0 0,1 3,0Z\" style=\"opacity: 1; stroke-width: 1.5px; fill: rgb(0, 63, 92); fill-opacity: 1; stroke: rgb(0, 47, 69); stroke-opacity: 1;\"/><path class=\"point\" transform=\"translate(270,248.15)\" d=\"M3,0A3,3 0 1,1 0,-3A3,3 0 0,1 3,0Z\" style=\"opacity: 1; stroke-width: 1.5px; fill: rgb(0, 63, 92); fill-opacity: 1; stroke: rgb(0, 47, 69); stroke-opacity: 1;\"/><path class=\"point\" transform=\"translate(270,248.15)\" d=\"M3,0A3,3 0 1,1 0,-3A3,3 0 0,1 3,0Z\" style=\"opacity: 1; stroke-width: 1.5px; fill: rgb(0, 63, 92); fill-opacity: 1; stroke: rgb(0, 47, 69); stroke-opacity: 1;\"/><path class=\"point\" transform=\"translate(270,248.15)\" d=\"M3,0A3,3 0 1,1 0,-3A3,3 0 0,1 3,0Z\" style=\"opacity: 1; stroke-width: 1.5px; fill: rgb(0, 63, 92); fill-opacity: 1; stroke: rgb(0, 47, 69); stroke-opacity: 1;\"/><path class=\"point\" transform=\"translate(270,248.15)\" d=\"M3,0A3,3 0 1,1 0,-3A3,3 0 0,1 3,0Z\" style=\"opacity: 1; stroke-width: 1.5px; fill: rgb(0, 63, 92); fill-opacity: 1; stroke: rgb(0, 47, 69); stroke-opacity: 1;\"/><path class=\"point\" transform=\"translate(270,248.15)\" d=\"M3,0A3,3 0 1,1 0,-3A3,3 0 0,1 3,0Z\" style=\"opacity: 1; stroke-width: 1.5px; fill: rgb(0, 63, 92); fill-opacity: 1; stroke: rgb(0, 47, 69); stroke-opacity: 1;\"/><path class=\"point\" transform=\"translate(270,248.15)\" d=\"M3,0A3,3 0 1,1 0,-3A3,3 0 0,1 3,0Z\" style=\"opacity: 1; stroke-width: 1.5px; fill: rgb(0, 63, 92); fill-opacity: 1; stroke: rgb(0, 47, 69); stroke-opacity: 1;\"/><path class=\"point\" transform=\"translate(270,248.15)\" d=\"M3,0A3,3 0 1,1 0,-3A3,3 0 0,1 3,0Z\" style=\"opacity: 1; stroke-width: 1.5px; fill: rgb(0, 63, 92); fill-opacity: 1; stroke: rgb(0, 47, 69); stroke-opacity: 1;\"/><path class=\"point\" transform=\"translate(270,248.04)\" d=\"M3,0A3,3 0 1,1 0,-3A3,3 0 0,1 3,0Z\" style=\"opacity: 1; stroke-width: 1.5px; fill: rgb(0, 63, 92); fill-opacity: 1; stroke: rgb(0, 47, 69); stroke-opacity: 1;\"/><path class=\"point\" transform=\"translate(270,248.04)\" d=\"M3,0A3,3 0 1,1 0,-3A3,3 0 0,1 3,0Z\" style=\"opacity: 1; stroke-width: 1.5px; fill: rgb(0, 63, 92); fill-opacity: 1; stroke: rgb(0, 47, 69); stroke-opacity: 1;\"/><path class=\"point\" transform=\"translate(270,248.04)\" d=\"M3,0A3,3 0 1,1 0,-3A3,3 0 0,1 3,0Z\" style=\"opacity: 1; stroke-width: 1.5px; fill: rgb(0, 63, 92); fill-opacity: 1; stroke: rgb(0, 47, 69); stroke-opacity: 1;\"/><path class=\"point\" transform=\"translate(270,248.04)\" d=\"M3,0A3,3 0 1,1 0,-3A3,3 0 0,1 3,0Z\" style=\"opacity: 1; stroke-width: 1.5px; fill: rgb(0, 63, 92); fill-opacity: 1; stroke: rgb(0, 47, 69); stroke-opacity: 1;\"/><path class=\"point\" transform=\"translate(270,248.04)\" d=\"M3,0A3,3 0 1,1 0,-3A3,3 0 0,1 3,0Z\" style=\"opacity: 1; stroke-width: 1.5px; fill: rgb(0, 63, 92); fill-opacity: 1; stroke: rgb(0, 47, 69); stroke-opacity: 1;\"/><path class=\"point\" transform=\"translate(270,248.04)\" d=\"M3,0A3,3 0 1,1 0,-3A3,3 0 0,1 3,0Z\" style=\"opacity: 1; stroke-width: 1.5px; fill: rgb(0, 63, 92); fill-opacity: 1; stroke: rgb(0, 47, 69); stroke-opacity: 1;\"/><path class=\"point\" transform=\"translate(270,248.04)\" d=\"M3,0A3,3 0 1,1 0,-3A3,3 0 0,1 3,0Z\" style=\"opacity: 1; stroke-width: 1.5px; fill: rgb(0, 63, 92); fill-opacity: 1; stroke: rgb(0, 47, 69); stroke-opacity: 1;\"/><path class=\"point\" transform=\"translate(270,248.04)\" d=\"M3,0A3,3 0 1,1 0,-3A3,3 0 0,1 3,0Z\" style=\"opacity: 1; stroke-width: 1.5px; fill: rgb(0, 63, 92); fill-opacity: 1; stroke: rgb(0, 47, 69); stroke-opacity: 1;\"/><path class=\"point\" transform=\"translate(270,248.04)\" d=\"M3,0A3,3 0 1,1 0,-3A3,3 0 0,1 3,0Z\" style=\"opacity: 1; stroke-width: 1.5px; fill: rgb(0, 63, 92); fill-opacity: 1; stroke: rgb(0, 47, 69); stroke-opacity: 1;\"/><path class=\"point\" transform=\"translate(270,248.04)\" d=\"M3,0A3,3 0 1,1 0,-3A3,3 0 0,1 3,0Z\" style=\"opacity: 1; stroke-width: 1.5px; fill: rgb(0, 63, 92); fill-opacity: 1; stroke: rgb(0, 47, 69); stroke-opacity: 1;\"/><path class=\"point\" transform=\"translate(270,248.04)\" d=\"M3,0A3,3 0 1,1 0,-3A3,3 0 0,1 3,0Z\" style=\"opacity: 1; stroke-width: 1.5px; fill: rgb(0, 63, 92); fill-opacity: 1; stroke: rgb(0, 47, 69); stroke-opacity: 1;\"/><path class=\"point\" transform=\"translate(270,247.93)\" d=\"M3,0A3,3 0 1,1 0,-3A3,3 0 0,1 3,0Z\" style=\"opacity: 1; stroke-width: 1.5px; fill: rgb(0, 63, 92); fill-opacity: 1; stroke: rgb(0, 47, 69); stroke-opacity: 1;\"/><path class=\"point\" transform=\"translate(270,247.93)\" d=\"M3,0A3,3 0 1,1 0,-3A3,3 0 0,1 3,0Z\" style=\"opacity: 1; stroke-width: 1.5px; fill: rgb(0, 63, 92); fill-opacity: 1; stroke: rgb(0, 47, 69); stroke-opacity: 1;\"/><path class=\"point\" transform=\"translate(270,247.93)\" d=\"M3,0A3,3 0 1,1 0,-3A3,3 0 0,1 3,0Z\" style=\"opacity: 1; stroke-width: 1.5px; fill: rgb(0, 63, 92); fill-opacity: 1; stroke: rgb(0, 47, 69); stroke-opacity: 1;\"/><path class=\"point\" transform=\"translate(270,247.93)\" d=\"M3,0A3,3 0 1,1 0,-3A3,3 0 0,1 3,0Z\" style=\"opacity: 1; stroke-width: 1.5px; fill: rgb(0, 63, 92); fill-opacity: 1; stroke: rgb(0, 47, 69); stroke-opacity: 1;\"/><path class=\"point\" transform=\"translate(270,247.93)\" d=\"M3,0A3,3 0 1,1 0,-3A3,3 0 0,1 3,0Z\" style=\"opacity: 1; stroke-width: 1.5px; fill: rgb(0, 63, 92); fill-opacity: 1; stroke: rgb(0, 47, 69); stroke-opacity: 1;\"/><path class=\"point\" transform=\"translate(270,247.93)\" d=\"M3,0A3,3 0 1,1 0,-3A3,3 0 0,1 3,0Z\" style=\"opacity: 1; stroke-width: 1.5px; fill: rgb(0, 63, 92); fill-opacity: 1; stroke: rgb(0, 47, 69); stroke-opacity: 1;\"/><path class=\"point\" transform=\"translate(270,247.93)\" d=\"M3,0A3,3 0 1,1 0,-3A3,3 0 0,1 3,0Z\" style=\"opacity: 1; stroke-width: 1.5px; fill: rgb(0, 63, 92); fill-opacity: 1; stroke: rgb(0, 47, 69); stroke-opacity: 1;\"/><path class=\"point\" transform=\"translate(270,247.93)\" d=\"M3,0A3,3 0 1,1 0,-3A3,3 0 0,1 3,0Z\" style=\"opacity: 1; stroke-width: 1.5px; fill: rgb(0, 63, 92); fill-opacity: 1; stroke: rgb(0, 47, 69); stroke-opacity: 1;\"/><path class=\"point\" transform=\"translate(270,247.93)\" d=\"M3,0A3,3 0 1,1 0,-3A3,3 0 0,1 3,0Z\" style=\"opacity: 1; stroke-width: 1.5px; fill: rgb(0, 63, 92); fill-opacity: 1; stroke: rgb(0, 47, 69); stroke-opacity: 1;\"/><path class=\"point\" transform=\"translate(270,247.93)\" d=\"M3,0A3,3 0 1,1 0,-3A3,3 0 0,1 3,0Z\" style=\"opacity: 1; stroke-width: 1.5px; fill: rgb(0, 63, 92); fill-opacity: 1; stroke: rgb(0, 47, 69); stroke-opacity: 1;\"/><path class=\"point\" transform=\"translate(270,247.93)\" d=\"M3,0A3,3 0 1,1 0,-3A3,3 0 0,1 3,0Z\" style=\"opacity: 1; stroke-width: 1.5px; fill: rgb(0, 63, 92); fill-opacity: 1; stroke: rgb(0, 47, 69); stroke-opacity: 1;\"/><path class=\"point\" transform=\"translate(270,247.83)\" d=\"M3,0A3,3 0 1,1 0,-3A3,3 0 0,1 3,0Z\" style=\"opacity: 1; stroke-width: 1.5px; fill: rgb(0, 63, 92); fill-opacity: 1; stroke: rgb(0, 47, 69); stroke-opacity: 1;\"/><path class=\"point\" transform=\"translate(270,247.83)\" d=\"M3,0A3,3 0 1,1 0,-3A3,3 0 0,1 3,0Z\" style=\"opacity: 1; stroke-width: 1.5px; fill: rgb(0, 63, 92); fill-opacity: 1; stroke: rgb(0, 47, 69); stroke-opacity: 1;\"/><path class=\"point\" transform=\"translate(270,247.83)\" d=\"M3,0A3,3 0 1,1 0,-3A3,3 0 0,1 3,0Z\" style=\"opacity: 1; stroke-width: 1.5px; fill: rgb(0, 63, 92); fill-opacity: 1; stroke: rgb(0, 47, 69); stroke-opacity: 1;\"/><path class=\"point\" transform=\"translate(270,247.83)\" d=\"M3,0A3,3 0 1,1 0,-3A3,3 0 0,1 3,0Z\" style=\"opacity: 1; stroke-width: 1.5px; fill: rgb(0, 63, 92); fill-opacity: 1; stroke: rgb(0, 47, 69); stroke-opacity: 1;\"/><path class=\"point\" transform=\"translate(270,247.83)\" d=\"M3,0A3,3 0 1,1 0,-3A3,3 0 0,1 3,0Z\" style=\"opacity: 1; stroke-width: 1.5px; fill: rgb(0, 63, 92); fill-opacity: 1; stroke: rgb(0, 47, 69); stroke-opacity: 1;\"/><path class=\"point\" transform=\"translate(270,247.83)\" d=\"M3,0A3,3 0 1,1 0,-3A3,3 0 0,1 3,0Z\" style=\"opacity: 1; stroke-width: 1.5px; fill: rgb(0, 63, 92); fill-opacity: 1; stroke: rgb(0, 47, 69); stroke-opacity: 1;\"/><path class=\"point\" transform=\"translate(270,247.83)\" d=\"M3,0A3,3 0 1,1 0,-3A3,3 0 0,1 3,0Z\" style=\"opacity: 1; stroke-width: 1.5px; fill: rgb(0, 63, 92); fill-opacity: 1; stroke: rgb(0, 47, 69); stroke-opacity: 1;\"/><path class=\"point\" transform=\"translate(270,247.83)\" d=\"M3,0A3,3 0 1,1 0,-3A3,3 0 0,1 3,0Z\" style=\"opacity: 1; stroke-width: 1.5px; fill: rgb(0, 63, 92); fill-opacity: 1; stroke: rgb(0, 47, 69); stroke-opacity: 1;\"/><path class=\"point\" transform=\"translate(270,247.72)\" d=\"M3,0A3,3 0 1,1 0,-3A3,3 0 0,1 3,0Z\" style=\"opacity: 1; stroke-width: 1.5px; fill: rgb(0, 63, 92); fill-opacity: 1; stroke: rgb(0, 47, 69); stroke-opacity: 1;\"/><path class=\"point\" transform=\"translate(270,247.72)\" d=\"M3,0A3,3 0 1,1 0,-3A3,3 0 0,1 3,0Z\" style=\"opacity: 1; stroke-width: 1.5px; fill: rgb(0, 63, 92); fill-opacity: 1; stroke: rgb(0, 47, 69); stroke-opacity: 1;\"/><path class=\"point\" transform=\"translate(270,247.72)\" d=\"M3,0A3,3 0 1,1 0,-3A3,3 0 0,1 3,0Z\" style=\"opacity: 1; stroke-width: 1.5px; fill: rgb(0, 63, 92); fill-opacity: 1; stroke: rgb(0, 47, 69); stroke-opacity: 1;\"/><path class=\"point\" transform=\"translate(270,247.72)\" d=\"M3,0A3,3 0 1,1 0,-3A3,3 0 0,1 3,0Z\" style=\"opacity: 1; stroke-width: 1.5px; fill: rgb(0, 63, 92); fill-opacity: 1; stroke: rgb(0, 47, 69); stroke-opacity: 1;\"/><path class=\"point\" transform=\"translate(270,247.72)\" d=\"M3,0A3,3 0 1,1 0,-3A3,3 0 0,1 3,0Z\" style=\"opacity: 1; stroke-width: 1.5px; fill: rgb(0, 63, 92); fill-opacity: 1; stroke: rgb(0, 47, 69); stroke-opacity: 1;\"/><path class=\"point\" transform=\"translate(270,247.72)\" d=\"M3,0A3,3 0 1,1 0,-3A3,3 0 0,1 3,0Z\" style=\"opacity: 1; stroke-width: 1.5px; fill: rgb(0, 63, 92); fill-opacity: 1; stroke: rgb(0, 47, 69); stroke-opacity: 1;\"/><path class=\"point\" transform=\"translate(270,247.72)\" d=\"M3,0A3,3 0 1,1 0,-3A3,3 0 0,1 3,0Z\" style=\"opacity: 1; stroke-width: 1.5px; fill: rgb(0, 63, 92); fill-opacity: 1; stroke: rgb(0, 47, 69); stroke-opacity: 1;\"/><path class=\"point\" transform=\"translate(270,247.72)\" d=\"M3,0A3,3 0 1,1 0,-3A3,3 0 0,1 3,0Z\" style=\"opacity: 1; stroke-width: 1.5px; fill: rgb(0, 63, 92); fill-opacity: 1; stroke: rgb(0, 47, 69); stroke-opacity: 1;\"/><path class=\"point\" transform=\"translate(270,247.72)\" d=\"M3,0A3,3 0 1,1 0,-3A3,3 0 0,1 3,0Z\" style=\"opacity: 1; stroke-width: 1.5px; fill: rgb(0, 63, 92); fill-opacity: 1; stroke: rgb(0, 47, 69); stroke-opacity: 1;\"/><path class=\"point\" transform=\"translate(270,247.61)\" d=\"M3,0A3,3 0 1,1 0,-3A3,3 0 0,1 3,0Z\" style=\"opacity: 1; stroke-width: 1.5px; fill: rgb(0, 63, 92); fill-opacity: 1; stroke: rgb(0, 47, 69); stroke-opacity: 1;\"/><path class=\"point\" transform=\"translate(270,247.61)\" d=\"M3,0A3,3 0 1,1 0,-3A3,3 0 0,1 3,0Z\" style=\"opacity: 1; stroke-width: 1.5px; fill: rgb(0, 63, 92); fill-opacity: 1; stroke: rgb(0, 47, 69); stroke-opacity: 1;\"/><path class=\"point\" transform=\"translate(270,247.61)\" d=\"M3,0A3,3 0 1,1 0,-3A3,3 0 0,1 3,0Z\" style=\"opacity: 1; stroke-width: 1.5px; fill: rgb(0, 63, 92); fill-opacity: 1; stroke: rgb(0, 47, 69); stroke-opacity: 1;\"/><path class=\"point\" transform=\"translate(270,247.61)\" d=\"M3,0A3,3 0 1,1 0,-3A3,3 0 0,1 3,0Z\" style=\"opacity: 1; stroke-width: 1.5px; fill: rgb(0, 63, 92); fill-opacity: 1; stroke: rgb(0, 47, 69); stroke-opacity: 1;\"/><path class=\"point\" transform=\"translate(270,247.61)\" d=\"M3,0A3,3 0 1,1 0,-3A3,3 0 0,1 3,0Z\" style=\"opacity: 1; stroke-width: 1.5px; fill: rgb(0, 63, 92); fill-opacity: 1; stroke: rgb(0, 47, 69); stroke-opacity: 1;\"/><path class=\"point\" transform=\"translate(270,247.61)\" d=\"M3,0A3,3 0 1,1 0,-3A3,3 0 0,1 3,0Z\" style=\"opacity: 1; stroke-width: 1.5px; fill: rgb(0, 63, 92); fill-opacity: 1; stroke: rgb(0, 47, 69); stroke-opacity: 1;\"/><path class=\"point\" transform=\"translate(270,247.61)\" d=\"M3,0A3,3 0 1,1 0,-3A3,3 0 0,1 3,0Z\" style=\"opacity: 1; stroke-width: 1.5px; fill: rgb(0, 63, 92); fill-opacity: 1; stroke: rgb(0, 47, 69); stroke-opacity: 1;\"/><path class=\"point\" transform=\"translate(270,247.5)\" d=\"M3,0A3,3 0 1,1 0,-3A3,3 0 0,1 3,0Z\" style=\"opacity: 1; stroke-width: 1.5px; fill: rgb(0, 63, 92); fill-opacity: 1; stroke: rgb(0, 47, 69); stroke-opacity: 1;\"/><path class=\"point\" transform=\"translate(270,247.5)\" d=\"M3,0A3,3 0 1,1 0,-3A3,3 0 0,1 3,0Z\" style=\"opacity: 1; stroke-width: 1.5px; fill: rgb(0, 63, 92); fill-opacity: 1; stroke: rgb(0, 47, 69); stroke-opacity: 1;\"/><path class=\"point\" transform=\"translate(270,247.5)\" d=\"M3,0A3,3 0 1,1 0,-3A3,3 0 0,1 3,0Z\" style=\"opacity: 1; stroke-width: 1.5px; fill: rgb(0, 63, 92); fill-opacity: 1; stroke: rgb(0, 47, 69); stroke-opacity: 1;\"/><path class=\"point\" transform=\"translate(270,247.5)\" d=\"M3,0A3,3 0 1,1 0,-3A3,3 0 0,1 3,0Z\" style=\"opacity: 1; stroke-width: 1.5px; fill: rgb(0, 63, 92); fill-opacity: 1; stroke: rgb(0, 47, 69); stroke-opacity: 1;\"/><path class=\"point\" transform=\"translate(270,247.5)\" d=\"M3,0A3,3 0 1,1 0,-3A3,3 0 0,1 3,0Z\" style=\"opacity: 1; stroke-width: 1.5px; fill: rgb(0, 63, 92); fill-opacity: 1; stroke: rgb(0, 47, 69); stroke-opacity: 1;\"/><path class=\"point\" transform=\"translate(270,247.5)\" d=\"M3,0A3,3 0 1,1 0,-3A3,3 0 0,1 3,0Z\" style=\"opacity: 1; stroke-width: 1.5px; fill: rgb(0, 63, 92); fill-opacity: 1; stroke: rgb(0, 47, 69); stroke-opacity: 1;\"/><path class=\"point\" transform=\"translate(270,247.5)\" d=\"M3,0A3,3 0 1,1 0,-3A3,3 0 0,1 3,0Z\" style=\"opacity: 1; stroke-width: 1.5px; fill: rgb(0, 63, 92); fill-opacity: 1; stroke: rgb(0, 47, 69); stroke-opacity: 1;\"/><path class=\"point\" transform=\"translate(270,247.5)\" d=\"M3,0A3,3 0 1,1 0,-3A3,3 0 0,1 3,0Z\" style=\"opacity: 1; stroke-width: 1.5px; fill: rgb(0, 63, 92); fill-opacity: 1; stroke: rgb(0, 47, 69); stroke-opacity: 1;\"/><path class=\"point\" transform=\"translate(270,247.5)\" d=\"M3,0A3,3 0 1,1 0,-3A3,3 0 0,1 3,0Z\" style=\"opacity: 1; stroke-width: 1.5px; fill: rgb(0, 63, 92); fill-opacity: 1; stroke: rgb(0, 47, 69); stroke-opacity: 1;\"/><path class=\"point\" transform=\"translate(270,247.39)\" d=\"M3,0A3,3 0 1,1 0,-3A3,3 0 0,1 3,0Z\" style=\"opacity: 1; stroke-width: 1.5px; fill: rgb(0, 63, 92); fill-opacity: 1; stroke: rgb(0, 47, 69); stroke-opacity: 1;\"/><path class=\"point\" transform=\"translate(270,247.39)\" d=\"M3,0A3,3 0 1,1 0,-3A3,3 0 0,1 3,0Z\" style=\"opacity: 1; stroke-width: 1.5px; fill: rgb(0, 63, 92); fill-opacity: 1; stroke: rgb(0, 47, 69); stroke-opacity: 1;\"/><path class=\"point\" transform=\"translate(270,247.39)\" d=\"M3,0A3,3 0 1,1 0,-3A3,3 0 0,1 3,0Z\" style=\"opacity: 1; stroke-width: 1.5px; fill: rgb(0, 63, 92); fill-opacity: 1; stroke: rgb(0, 47, 69); stroke-opacity: 1;\"/><path class=\"point\" transform=\"translate(270,247.39)\" d=\"M3,0A3,3 0 1,1 0,-3A3,3 0 0,1 3,0Z\" style=\"opacity: 1; stroke-width: 1.5px; fill: rgb(0, 63, 92); fill-opacity: 1; stroke: rgb(0, 47, 69); stroke-opacity: 1;\"/><path class=\"point\" transform=\"translate(270,247.39)\" d=\"M3,0A3,3 0 1,1 0,-3A3,3 0 0,1 3,0Z\" style=\"opacity: 1; stroke-width: 1.5px; fill: rgb(0, 63, 92); fill-opacity: 1; stroke: rgb(0, 47, 69); stroke-opacity: 1;\"/><path class=\"point\" transform=\"translate(270,247.39)\" d=\"M3,0A3,3 0 1,1 0,-3A3,3 0 0,1 3,0Z\" style=\"opacity: 1; stroke-width: 1.5px; fill: rgb(0, 63, 92); fill-opacity: 1; stroke: rgb(0, 47, 69); stroke-opacity: 1;\"/><path class=\"point\" transform=\"translate(270,247.39)\" d=\"M3,0A3,3 0 1,1 0,-3A3,3 0 0,1 3,0Z\" style=\"opacity: 1; stroke-width: 1.5px; fill: rgb(0, 63, 92); fill-opacity: 1; stroke: rgb(0, 47, 69); stroke-opacity: 1;\"/><path class=\"point\" transform=\"translate(270,247.39)\" d=\"M3,0A3,3 0 1,1 0,-3A3,3 0 0,1 3,0Z\" style=\"opacity: 1; stroke-width: 1.5px; fill: rgb(0, 63, 92); fill-opacity: 1; stroke: rgb(0, 47, 69); stroke-opacity: 1;\"/><path class=\"point\" transform=\"translate(270,247.39)\" d=\"M3,0A3,3 0 1,1 0,-3A3,3 0 0,1 3,0Z\" style=\"opacity: 1; stroke-width: 1.5px; fill: rgb(0, 63, 92); fill-opacity: 1; stroke: rgb(0, 47, 69); stroke-opacity: 1;\"/><path class=\"point\" transform=\"translate(270,247.39)\" d=\"M3,0A3,3 0 1,1 0,-3A3,3 0 0,1 3,0Z\" style=\"opacity: 1; stroke-width: 1.5px; fill: rgb(0, 63, 92); fill-opacity: 1; stroke: rgb(0, 47, 69); stroke-opacity: 1;\"/><path class=\"point\" transform=\"translate(270,247.39)\" d=\"M3,0A3,3 0 1,1 0,-3A3,3 0 0,1 3,0Z\" style=\"opacity: 1; stroke-width: 1.5px; fill: rgb(0, 63, 92); fill-opacity: 1; stroke: rgb(0, 47, 69); stroke-opacity: 1;\"/><path class=\"point\" transform=\"translate(270,247.39)\" d=\"M3,0A3,3 0 1,1 0,-3A3,3 0 0,1 3,0Z\" style=\"opacity: 1; stroke-width: 1.5px; fill: rgb(0, 63, 92); fill-opacity: 1; stroke: rgb(0, 47, 69); stroke-opacity: 1;\"/><path class=\"point\" transform=\"translate(270,247.39)\" d=\"M3,0A3,3 0 1,1 0,-3A3,3 0 0,1 3,0Z\" style=\"opacity: 1; stroke-width: 1.5px; fill: rgb(0, 63, 92); fill-opacity: 1; stroke: rgb(0, 47, 69); stroke-opacity: 1;\"/><path class=\"point\" transform=\"translate(270,247.28)\" d=\"M3,0A3,3 0 1,1 0,-3A3,3 0 0,1 3,0Z\" style=\"opacity: 1; stroke-width: 1.5px; fill: rgb(0, 63, 92); fill-opacity: 1; stroke: rgb(0, 47, 69); stroke-opacity: 1;\"/><path class=\"point\" transform=\"translate(270,247.28)\" d=\"M3,0A3,3 0 1,1 0,-3A3,3 0 0,1 3,0Z\" style=\"opacity: 1; stroke-width: 1.5px; fill: rgb(0, 63, 92); fill-opacity: 1; stroke: rgb(0, 47, 69); stroke-opacity: 1;\"/><path class=\"point\" transform=\"translate(270,247.28)\" d=\"M3,0A3,3 0 1,1 0,-3A3,3 0 0,1 3,0Z\" style=\"opacity: 1; stroke-width: 1.5px; fill: rgb(0, 63, 92); fill-opacity: 1; stroke: rgb(0, 47, 69); stroke-opacity: 1;\"/><path class=\"point\" transform=\"translate(270,247.28)\" d=\"M3,0A3,3 0 1,1 0,-3A3,3 0 0,1 3,0Z\" style=\"opacity: 1; stroke-width: 1.5px; fill: rgb(0, 63, 92); fill-opacity: 1; stroke: rgb(0, 47, 69); stroke-opacity: 1;\"/><path class=\"point\" transform=\"translate(270,247.28)\" d=\"M3,0A3,3 0 1,1 0,-3A3,3 0 0,1 3,0Z\" style=\"opacity: 1; stroke-width: 1.5px; fill: rgb(0, 63, 92); fill-opacity: 1; stroke: rgb(0, 47, 69); stroke-opacity: 1;\"/><path class=\"point\" transform=\"translate(270,247.28)\" d=\"M3,0A3,3 0 1,1 0,-3A3,3 0 0,1 3,0Z\" style=\"opacity: 1; stroke-width: 1.5px; fill: rgb(0, 63, 92); fill-opacity: 1; stroke: rgb(0, 47, 69); stroke-opacity: 1;\"/><path class=\"point\" transform=\"translate(270,247.28)\" d=\"M3,0A3,3 0 1,1 0,-3A3,3 0 0,1 3,0Z\" style=\"opacity: 1; stroke-width: 1.5px; fill: rgb(0, 63, 92); fill-opacity: 1; stroke: rgb(0, 47, 69); stroke-opacity: 1;\"/><path class=\"point\" transform=\"translate(270,247.28)\" d=\"M3,0A3,3 0 1,1 0,-3A3,3 0 0,1 3,0Z\" style=\"opacity: 1; stroke-width: 1.5px; fill: rgb(0, 63, 92); fill-opacity: 1; stroke: rgb(0, 47, 69); stroke-opacity: 1;\"/><path class=\"point\" transform=\"translate(270,247.28)\" d=\"M3,0A3,3 0 1,1 0,-3A3,3 0 0,1 3,0Z\" style=\"opacity: 1; stroke-width: 1.5px; fill: rgb(0, 63, 92); fill-opacity: 1; stroke: rgb(0, 47, 69); stroke-opacity: 1;\"/><path class=\"point\" transform=\"translate(270,247.17)\" d=\"M3,0A3,3 0 1,1 0,-3A3,3 0 0,1 3,0Z\" style=\"opacity: 1; stroke-width: 1.5px; fill: rgb(0, 63, 92); fill-opacity: 1; stroke: rgb(0, 47, 69); stroke-opacity: 1;\"/><path class=\"point\" transform=\"translate(270,247.17)\" d=\"M3,0A3,3 0 1,1 0,-3A3,3 0 0,1 3,0Z\" style=\"opacity: 1; stroke-width: 1.5px; fill: rgb(0, 63, 92); fill-opacity: 1; stroke: rgb(0, 47, 69); stroke-opacity: 1;\"/><path class=\"point\" transform=\"translate(270,247.17)\" d=\"M3,0A3,3 0 1,1 0,-3A3,3 0 0,1 3,0Z\" style=\"opacity: 1; stroke-width: 1.5px; fill: rgb(0, 63, 92); fill-opacity: 1; stroke: rgb(0, 47, 69); stroke-opacity: 1;\"/><path class=\"point\" transform=\"translate(270,247.17)\" d=\"M3,0A3,3 0 1,1 0,-3A3,3 0 0,1 3,0Z\" style=\"opacity: 1; stroke-width: 1.5px; fill: rgb(0, 63, 92); fill-opacity: 1; stroke: rgb(0, 47, 69); stroke-opacity: 1;\"/><path class=\"point\" transform=\"translate(270,247.17)\" d=\"M3,0A3,3 0 1,1 0,-3A3,3 0 0,1 3,0Z\" style=\"opacity: 1; stroke-width: 1.5px; fill: rgb(0, 63, 92); fill-opacity: 1; stroke: rgb(0, 47, 69); stroke-opacity: 1;\"/><path class=\"point\" transform=\"translate(270,247.17)\" d=\"M3,0A3,3 0 1,1 0,-3A3,3 0 0,1 3,0Z\" style=\"opacity: 1; stroke-width: 1.5px; fill: rgb(0, 63, 92); fill-opacity: 1; stroke: rgb(0, 47, 69); stroke-opacity: 1;\"/><path class=\"point\" transform=\"translate(270,247.17)\" d=\"M3,0A3,3 0 1,1 0,-3A3,3 0 0,1 3,0Z\" style=\"opacity: 1; stroke-width: 1.5px; fill: rgb(0, 63, 92); fill-opacity: 1; stroke: rgb(0, 47, 69); stroke-opacity: 1;\"/><path class=\"point\" transform=\"translate(270,247.07)\" d=\"M3,0A3,3 0 1,1 0,-3A3,3 0 0,1 3,0Z\" style=\"opacity: 1; stroke-width: 1.5px; fill: rgb(0, 63, 92); fill-opacity: 1; stroke: rgb(0, 47, 69); stroke-opacity: 1;\"/><path class=\"point\" transform=\"translate(270,247.07)\" d=\"M3,0A3,3 0 1,1 0,-3A3,3 0 0,1 3,0Z\" style=\"opacity: 1; stroke-width: 1.5px; fill: rgb(0, 63, 92); fill-opacity: 1; stroke: rgb(0, 47, 69); stroke-opacity: 1;\"/><path class=\"point\" transform=\"translate(270,247.07)\" d=\"M3,0A3,3 0 1,1 0,-3A3,3 0 0,1 3,0Z\" style=\"opacity: 1; stroke-width: 1.5px; fill: rgb(0, 63, 92); fill-opacity: 1; stroke: rgb(0, 47, 69); stroke-opacity: 1;\"/><path class=\"point\" transform=\"translate(270,247.07)\" d=\"M3,0A3,3 0 1,1 0,-3A3,3 0 0,1 3,0Z\" style=\"opacity: 1; stroke-width: 1.5px; fill: rgb(0, 63, 92); fill-opacity: 1; stroke: rgb(0, 47, 69); stroke-opacity: 1;\"/><path class=\"point\" transform=\"translate(270,247.07)\" d=\"M3,0A3,3 0 1,1 0,-3A3,3 0 0,1 3,0Z\" style=\"opacity: 1; stroke-width: 1.5px; fill: rgb(0, 63, 92); fill-opacity: 1; stroke: rgb(0, 47, 69); stroke-opacity: 1;\"/><path class=\"point\" transform=\"translate(270,247.07)\" d=\"M3,0A3,3 0 1,1 0,-3A3,3 0 0,1 3,0Z\" style=\"opacity: 1; stroke-width: 1.5px; fill: rgb(0, 63, 92); fill-opacity: 1; stroke: rgb(0, 47, 69); stroke-opacity: 1;\"/><path class=\"point\" transform=\"translate(270,247.07)\" d=\"M3,0A3,3 0 1,1 0,-3A3,3 0 0,1 3,0Z\" style=\"opacity: 1; stroke-width: 1.5px; fill: rgb(0, 63, 92); fill-opacity: 1; stroke: rgb(0, 47, 69); stroke-opacity: 1;\"/><path class=\"point\" transform=\"translate(270,247.07)\" d=\"M3,0A3,3 0 1,1 0,-3A3,3 0 0,1 3,0Z\" style=\"opacity: 1; stroke-width: 1.5px; fill: rgb(0, 63, 92); fill-opacity: 1; stroke: rgb(0, 47, 69); stroke-opacity: 1;\"/><path class=\"point\" transform=\"translate(270,246.96)\" d=\"M3,0A3,3 0 1,1 0,-3A3,3 0 0,1 3,0Z\" style=\"opacity: 1; stroke-width: 1.5px; fill: rgb(0, 63, 92); fill-opacity: 1; stroke: rgb(0, 47, 69); stroke-opacity: 1;\"/><path class=\"point\" transform=\"translate(270,246.96)\" d=\"M3,0A3,3 0 1,1 0,-3A3,3 0 0,1 3,0Z\" style=\"opacity: 1; stroke-width: 1.5px; fill: rgb(0, 63, 92); fill-opacity: 1; stroke: rgb(0, 47, 69); stroke-opacity: 1;\"/><path class=\"point\" transform=\"translate(270,246.96)\" d=\"M3,0A3,3 0 1,1 0,-3A3,3 0 0,1 3,0Z\" style=\"opacity: 1; stroke-width: 1.5px; fill: rgb(0, 63, 92); fill-opacity: 1; stroke: rgb(0, 47, 69); stroke-opacity: 1;\"/><path class=\"point\" transform=\"translate(270,246.96)\" d=\"M3,0A3,3 0 1,1 0,-3A3,3 0 0,1 3,0Z\" style=\"opacity: 1; stroke-width: 1.5px; fill: rgb(0, 63, 92); fill-opacity: 1; stroke: rgb(0, 47, 69); stroke-opacity: 1;\"/><path class=\"point\" transform=\"translate(270,246.96)\" d=\"M3,0A3,3 0 1,1 0,-3A3,3 0 0,1 3,0Z\" style=\"opacity: 1; stroke-width: 1.5px; fill: rgb(0, 63, 92); fill-opacity: 1; stroke: rgb(0, 47, 69); stroke-opacity: 1;\"/><path class=\"point\" transform=\"translate(270,246.96)\" d=\"M3,0A3,3 0 1,1 0,-3A3,3 0 0,1 3,0Z\" style=\"opacity: 1; stroke-width: 1.5px; fill: rgb(0, 63, 92); fill-opacity: 1; stroke: rgb(0, 47, 69); stroke-opacity: 1;\"/><path class=\"point\" transform=\"translate(270,246.96)\" d=\"M3,0A3,3 0 1,1 0,-3A3,3 0 0,1 3,0Z\" style=\"opacity: 1; stroke-width: 1.5px; fill: rgb(0, 63, 92); fill-opacity: 1; stroke: rgb(0, 47, 69); stroke-opacity: 1;\"/><path class=\"point\" transform=\"translate(270,246.96)\" d=\"M3,0A3,3 0 1,1 0,-3A3,3 0 0,1 3,0Z\" style=\"opacity: 1; stroke-width: 1.5px; fill: rgb(0, 63, 92); fill-opacity: 1; stroke: rgb(0, 47, 69); stroke-opacity: 1;\"/><path class=\"point\" transform=\"translate(270,246.96)\" d=\"M3,0A3,3 0 1,1 0,-3A3,3 0 0,1 3,0Z\" style=\"opacity: 1; stroke-width: 1.5px; fill: rgb(0, 63, 92); fill-opacity: 1; stroke: rgb(0, 47, 69); stroke-opacity: 1;\"/><path class=\"point\" transform=\"translate(270,246.96)\" d=\"M3,0A3,3 0 1,1 0,-3A3,3 0 0,1 3,0Z\" style=\"opacity: 1; stroke-width: 1.5px; fill: rgb(0, 63, 92); fill-opacity: 1; stroke: rgb(0, 47, 69); stroke-opacity: 1;\"/><path class=\"point\" transform=\"translate(270,246.96)\" d=\"M3,0A3,3 0 1,1 0,-3A3,3 0 0,1 3,0Z\" style=\"opacity: 1; stroke-width: 1.5px; fill: rgb(0, 63, 92); fill-opacity: 1; stroke: rgb(0, 47, 69); stroke-opacity: 1;\"/><path class=\"point\" transform=\"translate(270,246.85)\" d=\"M3,0A3,3 0 1,1 0,-3A3,3 0 0,1 3,0Z\" style=\"opacity: 1; stroke-width: 1.5px; fill: rgb(0, 63, 92); fill-opacity: 1; stroke: rgb(0, 47, 69); stroke-opacity: 1;\"/><path class=\"point\" transform=\"translate(270,246.85)\" d=\"M3,0A3,3 0 1,1 0,-3A3,3 0 0,1 3,0Z\" style=\"opacity: 1; stroke-width: 1.5px; fill: rgb(0, 63, 92); fill-opacity: 1; stroke: rgb(0, 47, 69); stroke-opacity: 1;\"/><path class=\"point\" transform=\"translate(270,246.85)\" d=\"M3,0A3,3 0 1,1 0,-3A3,3 0 0,1 3,0Z\" style=\"opacity: 1; stroke-width: 1.5px; fill: rgb(0, 63, 92); fill-opacity: 1; stroke: rgb(0, 47, 69); stroke-opacity: 1;\"/><path class=\"point\" transform=\"translate(270,246.85)\" d=\"M3,0A3,3 0 1,1 0,-3A3,3 0 0,1 3,0Z\" style=\"opacity: 1; stroke-width: 1.5px; fill: rgb(0, 63, 92); fill-opacity: 1; stroke: rgb(0, 47, 69); stroke-opacity: 1;\"/><path class=\"point\" transform=\"translate(270,246.85)\" d=\"M3,0A3,3 0 1,1 0,-3A3,3 0 0,1 3,0Z\" style=\"opacity: 1; stroke-width: 1.5px; fill: rgb(0, 63, 92); fill-opacity: 1; stroke: rgb(0, 47, 69); stroke-opacity: 1;\"/><path class=\"point\" transform=\"translate(270,246.74)\" d=\"M3,0A3,3 0 1,1 0,-3A3,3 0 0,1 3,0Z\" style=\"opacity: 1; stroke-width: 1.5px; fill: rgb(0, 63, 92); fill-opacity: 1; stroke: rgb(0, 47, 69); stroke-opacity: 1;\"/><path class=\"point\" transform=\"translate(270,246.74)\" d=\"M3,0A3,3 0 1,1 0,-3A3,3 0 0,1 3,0Z\" style=\"opacity: 1; stroke-width: 1.5px; fill: rgb(0, 63, 92); fill-opacity: 1; stroke: rgb(0, 47, 69); stroke-opacity: 1;\"/><path class=\"point\" transform=\"translate(270,246.74)\" d=\"M3,0A3,3 0 1,1 0,-3A3,3 0 0,1 3,0Z\" style=\"opacity: 1; stroke-width: 1.5px; fill: rgb(0, 63, 92); fill-opacity: 1; stroke: rgb(0, 47, 69); stroke-opacity: 1;\"/><path class=\"point\" transform=\"translate(270,246.74)\" d=\"M3,0A3,3 0 1,1 0,-3A3,3 0 0,1 3,0Z\" style=\"opacity: 1; stroke-width: 1.5px; fill: rgb(0, 63, 92); fill-opacity: 1; stroke: rgb(0, 47, 69); stroke-opacity: 1;\"/><path class=\"point\" transform=\"translate(270,246.74)\" d=\"M3,0A3,3 0 1,1 0,-3A3,3 0 0,1 3,0Z\" style=\"opacity: 1; stroke-width: 1.5px; fill: rgb(0, 63, 92); fill-opacity: 1; stroke: rgb(0, 47, 69); stroke-opacity: 1;\"/><path class=\"point\" transform=\"translate(270,246.74)\" d=\"M3,0A3,3 0 1,1 0,-3A3,3 0 0,1 3,0Z\" style=\"opacity: 1; stroke-width: 1.5px; fill: rgb(0, 63, 92); fill-opacity: 1; stroke: rgb(0, 47, 69); stroke-opacity: 1;\"/><path class=\"point\" transform=\"translate(270,246.74)\" d=\"M3,0A3,3 0 1,1 0,-3A3,3 0 0,1 3,0Z\" style=\"opacity: 1; stroke-width: 1.5px; fill: rgb(0, 63, 92); fill-opacity: 1; stroke: rgb(0, 47, 69); stroke-opacity: 1;\"/><path class=\"point\" transform=\"translate(270,246.74)\" d=\"M3,0A3,3 0 1,1 0,-3A3,3 0 0,1 3,0Z\" style=\"opacity: 1; stroke-width: 1.5px; fill: rgb(0, 63, 92); fill-opacity: 1; stroke: rgb(0, 47, 69); stroke-opacity: 1;\"/><path class=\"point\" transform=\"translate(270,246.74)\" d=\"M3,0A3,3 0 1,1 0,-3A3,3 0 0,1 3,0Z\" style=\"opacity: 1; stroke-width: 1.5px; fill: rgb(0, 63, 92); fill-opacity: 1; stroke: rgb(0, 47, 69); stroke-opacity: 1;\"/><path class=\"point\" transform=\"translate(270,246.63)\" d=\"M3,0A3,3 0 1,1 0,-3A3,3 0 0,1 3,0Z\" style=\"opacity: 1; stroke-width: 1.5px; fill: rgb(0, 63, 92); fill-opacity: 1; stroke: rgb(0, 47, 69); stroke-opacity: 1;\"/><path class=\"point\" transform=\"translate(270,246.63)\" d=\"M3,0A3,3 0 1,1 0,-3A3,3 0 0,1 3,0Z\" style=\"opacity: 1; stroke-width: 1.5px; fill: rgb(0, 63, 92); fill-opacity: 1; stroke: rgb(0, 47, 69); stroke-opacity: 1;\"/><path class=\"point\" transform=\"translate(270,246.63)\" d=\"M3,0A3,3 0 1,1 0,-3A3,3 0 0,1 3,0Z\" style=\"opacity: 1; stroke-width: 1.5px; fill: rgb(0, 63, 92); fill-opacity: 1; stroke: rgb(0, 47, 69); stroke-opacity: 1;\"/><path class=\"point\" transform=\"translate(270,246.63)\" d=\"M3,0A3,3 0 1,1 0,-3A3,3 0 0,1 3,0Z\" style=\"opacity: 1; stroke-width: 1.5px; fill: rgb(0, 63, 92); fill-opacity: 1; stroke: rgb(0, 47, 69); stroke-opacity: 1;\"/><path class=\"point\" transform=\"translate(270,246.63)\" d=\"M3,0A3,3 0 1,1 0,-3A3,3 0 0,1 3,0Z\" style=\"opacity: 1; stroke-width: 1.5px; fill: rgb(0, 63, 92); fill-opacity: 1; stroke: rgb(0, 47, 69); stroke-opacity: 1;\"/><path class=\"point\" transform=\"translate(270,246.63)\" d=\"M3,0A3,3 0 1,1 0,-3A3,3 0 0,1 3,0Z\" style=\"opacity: 1; stroke-width: 1.5px; fill: rgb(0, 63, 92); fill-opacity: 1; stroke: rgb(0, 47, 69); stroke-opacity: 1;\"/><path class=\"point\" transform=\"translate(270,246.52)\" d=\"M3,0A3,3 0 1,1 0,-3A3,3 0 0,1 3,0Z\" style=\"opacity: 1; stroke-width: 1.5px; fill: rgb(0, 63, 92); fill-opacity: 1; stroke: rgb(0, 47, 69); stroke-opacity: 1;\"/><path class=\"point\" transform=\"translate(270,246.52)\" d=\"M3,0A3,3 0 1,1 0,-3A3,3 0 0,1 3,0Z\" style=\"opacity: 1; stroke-width: 1.5px; fill: rgb(0, 63, 92); fill-opacity: 1; stroke: rgb(0, 47, 69); stroke-opacity: 1;\"/><path class=\"point\" transform=\"translate(270,246.52)\" d=\"M3,0A3,3 0 1,1 0,-3A3,3 0 0,1 3,0Z\" style=\"opacity: 1; stroke-width: 1.5px; fill: rgb(0, 63, 92); fill-opacity: 1; stroke: rgb(0, 47, 69); stroke-opacity: 1;\"/><path class=\"point\" transform=\"translate(270,246.52)\" d=\"M3,0A3,3 0 1,1 0,-3A3,3 0 0,1 3,0Z\" style=\"opacity: 1; stroke-width: 1.5px; fill: rgb(0, 63, 92); fill-opacity: 1; stroke: rgb(0, 47, 69); stroke-opacity: 1;\"/><path class=\"point\" transform=\"translate(270,246.52)\" d=\"M3,0A3,3 0 1,1 0,-3A3,3 0 0,1 3,0Z\" style=\"opacity: 1; stroke-width: 1.5px; fill: rgb(0, 63, 92); fill-opacity: 1; stroke: rgb(0, 47, 69); stroke-opacity: 1;\"/><path class=\"point\" transform=\"translate(270,246.52)\" d=\"M3,0A3,3 0 1,1 0,-3A3,3 0 0,1 3,0Z\" style=\"opacity: 1; stroke-width: 1.5px; fill: rgb(0, 63, 92); fill-opacity: 1; stroke: rgb(0, 47, 69); stroke-opacity: 1;\"/><path class=\"point\" transform=\"translate(270,246.52)\" d=\"M3,0A3,3 0 1,1 0,-3A3,3 0 0,1 3,0Z\" style=\"opacity: 1; stroke-width: 1.5px; fill: rgb(0, 63, 92); fill-opacity: 1; stroke: rgb(0, 47, 69); stroke-opacity: 1;\"/><path class=\"point\" transform=\"translate(270,246.52)\" d=\"M3,0A3,3 0 1,1 0,-3A3,3 0 0,1 3,0Z\" style=\"opacity: 1; stroke-width: 1.5px; fill: rgb(0, 63, 92); fill-opacity: 1; stroke: rgb(0, 47, 69); stroke-opacity: 1;\"/><path class=\"point\" transform=\"translate(270,246.52)\" d=\"M3,0A3,3 0 1,1 0,-3A3,3 0 0,1 3,0Z\" style=\"opacity: 1; stroke-width: 1.5px; fill: rgb(0, 63, 92); fill-opacity: 1; stroke: rgb(0, 47, 69); stroke-opacity: 1;\"/><path class=\"point\" transform=\"translate(270,246.52)\" d=\"M3,0A3,3 0 1,1 0,-3A3,3 0 0,1 3,0Z\" style=\"opacity: 1; stroke-width: 1.5px; fill: rgb(0, 63, 92); fill-opacity: 1; stroke: rgb(0, 47, 69); stroke-opacity: 1;\"/><path class=\"point\" transform=\"translate(270,246.42)\" d=\"M3,0A3,3 0 1,1 0,-3A3,3 0 0,1 3,0Z\" style=\"opacity: 1; stroke-width: 1.5px; fill: rgb(0, 63, 92); fill-opacity: 1; stroke: rgb(0, 47, 69); stroke-opacity: 1;\"/><path class=\"point\" transform=\"translate(270,246.42)\" d=\"M3,0A3,3 0 1,1 0,-3A3,3 0 0,1 3,0Z\" style=\"opacity: 1; stroke-width: 1.5px; fill: rgb(0, 63, 92); fill-opacity: 1; stroke: rgb(0, 47, 69); stroke-opacity: 1;\"/><path class=\"point\" transform=\"translate(270,246.42)\" d=\"M3,0A3,3 0 1,1 0,-3A3,3 0 0,1 3,0Z\" style=\"opacity: 1; stroke-width: 1.5px; fill: rgb(0, 63, 92); fill-opacity: 1; stroke: rgb(0, 47, 69); stroke-opacity: 1;\"/><path class=\"point\" transform=\"translate(270,246.42)\" d=\"M3,0A3,3 0 1,1 0,-3A3,3 0 0,1 3,0Z\" style=\"opacity: 1; stroke-width: 1.5px; fill: rgb(0, 63, 92); fill-opacity: 1; stroke: rgb(0, 47, 69); stroke-opacity: 1;\"/><path class=\"point\" transform=\"translate(270,246.42)\" d=\"M3,0A3,3 0 1,1 0,-3A3,3 0 0,1 3,0Z\" style=\"opacity: 1; stroke-width: 1.5px; fill: rgb(0, 63, 92); fill-opacity: 1; stroke: rgb(0, 47, 69); stroke-opacity: 1;\"/><path class=\"point\" transform=\"translate(270,246.42)\" d=\"M3,0A3,3 0 1,1 0,-3A3,3 0 0,1 3,0Z\" style=\"opacity: 1; stroke-width: 1.5px; fill: rgb(0, 63, 92); fill-opacity: 1; stroke: rgb(0, 47, 69); stroke-opacity: 1;\"/><path class=\"point\" transform=\"translate(270,246.42)\" d=\"M3,0A3,3 0 1,1 0,-3A3,3 0 0,1 3,0Z\" style=\"opacity: 1; stroke-width: 1.5px; fill: rgb(0, 63, 92); fill-opacity: 1; stroke: rgb(0, 47, 69); stroke-opacity: 1;\"/><path class=\"point\" transform=\"translate(270,246.42)\" d=\"M3,0A3,3 0 1,1 0,-3A3,3 0 0,1 3,0Z\" style=\"opacity: 1; stroke-width: 1.5px; fill: rgb(0, 63, 92); fill-opacity: 1; stroke: rgb(0, 47, 69); stroke-opacity: 1;\"/><path class=\"point\" transform=\"translate(270,246.42)\" d=\"M3,0A3,3 0 1,1 0,-3A3,3 0 0,1 3,0Z\" style=\"opacity: 1; stroke-width: 1.5px; fill: rgb(0, 63, 92); fill-opacity: 1; stroke: rgb(0, 47, 69); stroke-opacity: 1;\"/><path class=\"point\" transform=\"translate(270,246.31)\" d=\"M3,0A3,3 0 1,1 0,-3A3,3 0 0,1 3,0Z\" style=\"opacity: 1; stroke-width: 1.5px; fill: rgb(0, 63, 92); fill-opacity: 1; stroke: rgb(0, 47, 69); stroke-opacity: 1;\"/><path class=\"point\" transform=\"translate(270,246.31)\" d=\"M3,0A3,3 0 1,1 0,-3A3,3 0 0,1 3,0Z\" style=\"opacity: 1; stroke-width: 1.5px; fill: rgb(0, 63, 92); fill-opacity: 1; stroke: rgb(0, 47, 69); stroke-opacity: 1;\"/><path class=\"point\" transform=\"translate(270,246.31)\" d=\"M3,0A3,3 0 1,1 0,-3A3,3 0 0,1 3,0Z\" style=\"opacity: 1; stroke-width: 1.5px; fill: rgb(0, 63, 92); fill-opacity: 1; stroke: rgb(0, 47, 69); stroke-opacity: 1;\"/><path class=\"point\" transform=\"translate(270,246.31)\" d=\"M3,0A3,3 0 1,1 0,-3A3,3 0 0,1 3,0Z\" style=\"opacity: 1; stroke-width: 1.5px; fill: rgb(0, 63, 92); fill-opacity: 1; stroke: rgb(0, 47, 69); stroke-opacity: 1;\"/><path class=\"point\" transform=\"translate(270,246.31)\" d=\"M3,0A3,3 0 1,1 0,-3A3,3 0 0,1 3,0Z\" style=\"opacity: 1; stroke-width: 1.5px; fill: rgb(0, 63, 92); fill-opacity: 1; stroke: rgb(0, 47, 69); stroke-opacity: 1;\"/><path class=\"point\" transform=\"translate(270,246.31)\" d=\"M3,0A3,3 0 1,1 0,-3A3,3 0 0,1 3,0Z\" style=\"opacity: 1; stroke-width: 1.5px; fill: rgb(0, 63, 92); fill-opacity: 1; stroke: rgb(0, 47, 69); stroke-opacity: 1;\"/><path class=\"point\" transform=\"translate(270,246.31)\" d=\"M3,0A3,3 0 1,1 0,-3A3,3 0 0,1 3,0Z\" style=\"opacity: 1; stroke-width: 1.5px; fill: rgb(0, 63, 92); fill-opacity: 1; stroke: rgb(0, 47, 69); stroke-opacity: 1;\"/><path class=\"point\" transform=\"translate(270,246.31)\" d=\"M3,0A3,3 0 1,1 0,-3A3,3 0 0,1 3,0Z\" style=\"opacity: 1; stroke-width: 1.5px; fill: rgb(0, 63, 92); fill-opacity: 1; stroke: rgb(0, 47, 69); stroke-opacity: 1;\"/><path class=\"point\" transform=\"translate(270,246.2)\" d=\"M3,0A3,3 0 1,1 0,-3A3,3 0 0,1 3,0Z\" style=\"opacity: 1; stroke-width: 1.5px; fill: rgb(0, 63, 92); fill-opacity: 1; stroke: rgb(0, 47, 69); stroke-opacity: 1;\"/><path class=\"point\" transform=\"translate(270,246.2)\" d=\"M3,0A3,3 0 1,1 0,-3A3,3 0 0,1 3,0Z\" style=\"opacity: 1; stroke-width: 1.5px; fill: rgb(0, 63, 92); fill-opacity: 1; stroke: rgb(0, 47, 69); stroke-opacity: 1;\"/><path class=\"point\" transform=\"translate(270,246.2)\" d=\"M3,0A3,3 0 1,1 0,-3A3,3 0 0,1 3,0Z\" style=\"opacity: 1; stroke-width: 1.5px; fill: rgb(0, 63, 92); fill-opacity: 1; stroke: rgb(0, 47, 69); stroke-opacity: 1;\"/><path class=\"point\" transform=\"translate(270,246.2)\" d=\"M3,0A3,3 0 1,1 0,-3A3,3 0 0,1 3,0Z\" style=\"opacity: 1; stroke-width: 1.5px; fill: rgb(0, 63, 92); fill-opacity: 1; stroke: rgb(0, 47, 69); stroke-opacity: 1;\"/><path class=\"point\" transform=\"translate(270,246.09)\" d=\"M3,0A3,3 0 1,1 0,-3A3,3 0 0,1 3,0Z\" style=\"opacity: 1; stroke-width: 1.5px; fill: rgb(0, 63, 92); fill-opacity: 1; stroke: rgb(0, 47, 69); stroke-opacity: 1;\"/><path class=\"point\" transform=\"translate(270,246.09)\" d=\"M3,0A3,3 0 1,1 0,-3A3,3 0 0,1 3,0Z\" style=\"opacity: 1; stroke-width: 1.5px; fill: rgb(0, 63, 92); fill-opacity: 1; stroke: rgb(0, 47, 69); stroke-opacity: 1;\"/><path class=\"point\" transform=\"translate(270,246.09)\" d=\"M3,0A3,3 0 1,1 0,-3A3,3 0 0,1 3,0Z\" style=\"opacity: 1; stroke-width: 1.5px; fill: rgb(0, 63, 92); fill-opacity: 1; stroke: rgb(0, 47, 69); stroke-opacity: 1;\"/><path class=\"point\" transform=\"translate(270,246.09)\" d=\"M3,0A3,3 0 1,1 0,-3A3,3 0 0,1 3,0Z\" style=\"opacity: 1; stroke-width: 1.5px; fill: rgb(0, 63, 92); fill-opacity: 1; stroke: rgb(0, 47, 69); stroke-opacity: 1;\"/><path class=\"point\" transform=\"translate(270,246.09)\" d=\"M3,0A3,3 0 1,1 0,-3A3,3 0 0,1 3,0Z\" style=\"opacity: 1; stroke-width: 1.5px; fill: rgb(0, 63, 92); fill-opacity: 1; stroke: rgb(0, 47, 69); stroke-opacity: 1;\"/><path class=\"point\" transform=\"translate(270,245.98)\" d=\"M3,0A3,3 0 1,1 0,-3A3,3 0 0,1 3,0Z\" style=\"opacity: 1; stroke-width: 1.5px; fill: rgb(0, 63, 92); fill-opacity: 1; stroke: rgb(0, 47, 69); stroke-opacity: 1;\"/><path class=\"point\" transform=\"translate(270,245.98)\" d=\"M3,0A3,3 0 1,1 0,-3A3,3 0 0,1 3,0Z\" style=\"opacity: 1; stroke-width: 1.5px; fill: rgb(0, 63, 92); fill-opacity: 1; stroke: rgb(0, 47, 69); stroke-opacity: 1;\"/><path class=\"point\" transform=\"translate(270,245.98)\" d=\"M3,0A3,3 0 1,1 0,-3A3,3 0 0,1 3,0Z\" style=\"opacity: 1; stroke-width: 1.5px; fill: rgb(0, 63, 92); fill-opacity: 1; stroke: rgb(0, 47, 69); stroke-opacity: 1;\"/><path class=\"point\" transform=\"translate(270,245.98)\" d=\"M3,0A3,3 0 1,1 0,-3A3,3 0 0,1 3,0Z\" style=\"opacity: 1; stroke-width: 1.5px; fill: rgb(0, 63, 92); fill-opacity: 1; stroke: rgb(0, 47, 69); stroke-opacity: 1;\"/><path class=\"point\" transform=\"translate(270,245.98)\" d=\"M3,0A3,3 0 1,1 0,-3A3,3 0 0,1 3,0Z\" style=\"opacity: 1; stroke-width: 1.5px; fill: rgb(0, 63, 92); fill-opacity: 1; stroke: rgb(0, 47, 69); stroke-opacity: 1;\"/><path class=\"point\" transform=\"translate(270,245.98)\" d=\"M3,0A3,3 0 1,1 0,-3A3,3 0 0,1 3,0Z\" style=\"opacity: 1; stroke-width: 1.5px; fill: rgb(0, 63, 92); fill-opacity: 1; stroke: rgb(0, 47, 69); stroke-opacity: 1;\"/><path class=\"point\" transform=\"translate(270,245.98)\" d=\"M3,0A3,3 0 1,1 0,-3A3,3 0 0,1 3,0Z\" style=\"opacity: 1; stroke-width: 1.5px; fill: rgb(0, 63, 92); fill-opacity: 1; stroke: rgb(0, 47, 69); stroke-opacity: 1;\"/><path class=\"point\" transform=\"translate(270,245.87)\" d=\"M3,0A3,3 0 1,1 0,-3A3,3 0 0,1 3,0Z\" style=\"opacity: 1; stroke-width: 1.5px; fill: rgb(0, 63, 92); fill-opacity: 1; stroke: rgb(0, 47, 69); stroke-opacity: 1;\"/><path class=\"point\" transform=\"translate(270,245.87)\" d=\"M3,0A3,3 0 1,1 0,-3A3,3 0 0,1 3,0Z\" style=\"opacity: 1; stroke-width: 1.5px; fill: rgb(0, 63, 92); fill-opacity: 1; stroke: rgb(0, 47, 69); stroke-opacity: 1;\"/><path class=\"point\" transform=\"translate(270,245.77)\" d=\"M3,0A3,3 0 1,1 0,-3A3,3 0 0,1 3,0Z\" style=\"opacity: 1; stroke-width: 1.5px; fill: rgb(0, 63, 92); fill-opacity: 1; stroke: rgb(0, 47, 69); stroke-opacity: 1;\"/><path class=\"point\" transform=\"translate(270,245.77)\" d=\"M3,0A3,3 0 1,1 0,-3A3,3 0 0,1 3,0Z\" style=\"opacity: 1; stroke-width: 1.5px; fill: rgb(0, 63, 92); fill-opacity: 1; stroke: rgb(0, 47, 69); stroke-opacity: 1;\"/><path class=\"point\" transform=\"translate(270,245.77)\" d=\"M3,0A3,3 0 1,1 0,-3A3,3 0 0,1 3,0Z\" style=\"opacity: 1; stroke-width: 1.5px; fill: rgb(0, 63, 92); fill-opacity: 1; stroke: rgb(0, 47, 69); stroke-opacity: 1;\"/><path class=\"point\" transform=\"translate(270,245.66)\" d=\"M3,0A3,3 0 1,1 0,-3A3,3 0 0,1 3,0Z\" style=\"opacity: 1; stroke-width: 1.5px; fill: rgb(0, 63, 92); fill-opacity: 1; stroke: rgb(0, 47, 69); stroke-opacity: 1;\"/><path class=\"point\" transform=\"translate(270,245.66)\" d=\"M3,0A3,3 0 1,1 0,-3A3,3 0 0,1 3,0Z\" style=\"opacity: 1; stroke-width: 1.5px; fill: rgb(0, 63, 92); fill-opacity: 1; stroke: rgb(0, 47, 69); stroke-opacity: 1;\"/><path class=\"point\" transform=\"translate(270,245.66)\" d=\"M3,0A3,3 0 1,1 0,-3A3,3 0 0,1 3,0Z\" style=\"opacity: 1; stroke-width: 1.5px; fill: rgb(0, 63, 92); fill-opacity: 1; stroke: rgb(0, 47, 69); stroke-opacity: 1;\"/><path class=\"point\" transform=\"translate(270,245.66)\" d=\"M3,0A3,3 0 1,1 0,-3A3,3 0 0,1 3,0Z\" style=\"opacity: 1; stroke-width: 1.5px; fill: rgb(0, 63, 92); fill-opacity: 1; stroke: rgb(0, 47, 69); stroke-opacity: 1;\"/><path class=\"point\" transform=\"translate(270,245.66)\" d=\"M3,0A3,3 0 1,1 0,-3A3,3 0 0,1 3,0Z\" style=\"opacity: 1; stroke-width: 1.5px; fill: rgb(0, 63, 92); fill-opacity: 1; stroke: rgb(0, 47, 69); stroke-opacity: 1;\"/><path class=\"point\" transform=\"translate(270,245.66)\" d=\"M3,0A3,3 0 1,1 0,-3A3,3 0 0,1 3,0Z\" style=\"opacity: 1; stroke-width: 1.5px; fill: rgb(0, 63, 92); fill-opacity: 1; stroke: rgb(0, 47, 69); stroke-opacity: 1;\"/><path class=\"point\" transform=\"translate(270,245.66)\" d=\"M3,0A3,3 0 1,1 0,-3A3,3 0 0,1 3,0Z\" style=\"opacity: 1; stroke-width: 1.5px; fill: rgb(0, 63, 92); fill-opacity: 1; stroke: rgb(0, 47, 69); stroke-opacity: 1;\"/><path class=\"point\" transform=\"translate(270,245.66)\" d=\"M3,0A3,3 0 1,1 0,-3A3,3 0 0,1 3,0Z\" style=\"opacity: 1; stroke-width: 1.5px; fill: rgb(0, 63, 92); fill-opacity: 1; stroke: rgb(0, 47, 69); stroke-opacity: 1;\"/><path class=\"point\" transform=\"translate(270,245.55)\" d=\"M3,0A3,3 0 1,1 0,-3A3,3 0 0,1 3,0Z\" style=\"opacity: 1; stroke-width: 1.5px; fill: rgb(0, 63, 92); fill-opacity: 1; stroke: rgb(0, 47, 69); stroke-opacity: 1;\"/><path class=\"point\" transform=\"translate(270,245.55)\" d=\"M3,0A3,3 0 1,1 0,-3A3,3 0 0,1 3,0Z\" style=\"opacity: 1; stroke-width: 1.5px; fill: rgb(0, 63, 92); fill-opacity: 1; stroke: rgb(0, 47, 69); stroke-opacity: 1;\"/><path class=\"point\" transform=\"translate(270,245.55)\" d=\"M3,0A3,3 0 1,1 0,-3A3,3 0 0,1 3,0Z\" style=\"opacity: 1; stroke-width: 1.5px; fill: rgb(0, 63, 92); fill-opacity: 1; stroke: rgb(0, 47, 69); stroke-opacity: 1;\"/><path class=\"point\" transform=\"translate(270,245.44)\" d=\"M3,0A3,3 0 1,1 0,-3A3,3 0 0,1 3,0Z\" style=\"opacity: 1; stroke-width: 1.5px; fill: rgb(0, 63, 92); fill-opacity: 1; stroke: rgb(0, 47, 69); stroke-opacity: 1;\"/><path class=\"point\" transform=\"translate(270,245.44)\" d=\"M3,0A3,3 0 1,1 0,-3A3,3 0 0,1 3,0Z\" style=\"opacity: 1; stroke-width: 1.5px; fill: rgb(0, 63, 92); fill-opacity: 1; stroke: rgb(0, 47, 69); stroke-opacity: 1;\"/><path class=\"point\" transform=\"translate(270,245.44)\" d=\"M3,0A3,3 0 1,1 0,-3A3,3 0 0,1 3,0Z\" style=\"opacity: 1; stroke-width: 1.5px; fill: rgb(0, 63, 92); fill-opacity: 1; stroke: rgb(0, 47, 69); stroke-opacity: 1;\"/><path class=\"point\" transform=\"translate(270,245.44)\" d=\"M3,0A3,3 0 1,1 0,-3A3,3 0 0,1 3,0Z\" style=\"opacity: 1; stroke-width: 1.5px; fill: rgb(0, 63, 92); fill-opacity: 1; stroke: rgb(0, 47, 69); stroke-opacity: 1;\"/><path class=\"point\" transform=\"translate(270,245.33)\" d=\"M3,0A3,3 0 1,1 0,-3A3,3 0 0,1 3,0Z\" style=\"opacity: 1; stroke-width: 1.5px; fill: rgb(0, 63, 92); fill-opacity: 1; stroke: rgb(0, 47, 69); stroke-opacity: 1;\"/><path class=\"point\" transform=\"translate(270,245.33)\" d=\"M3,0A3,3 0 1,1 0,-3A3,3 0 0,1 3,0Z\" style=\"opacity: 1; stroke-width: 1.5px; fill: rgb(0, 63, 92); fill-opacity: 1; stroke: rgb(0, 47, 69); stroke-opacity: 1;\"/><path class=\"point\" transform=\"translate(270,245.22)\" d=\"M3,0A3,3 0 1,1 0,-3A3,3 0 0,1 3,0Z\" style=\"opacity: 1; stroke-width: 1.5px; fill: rgb(0, 63, 92); fill-opacity: 1; stroke: rgb(0, 47, 69); stroke-opacity: 1;\"/><path class=\"point\" transform=\"translate(270,245.22)\" d=\"M3,0A3,3 0 1,1 0,-3A3,3 0 0,1 3,0Z\" style=\"opacity: 1; stroke-width: 1.5px; fill: rgb(0, 63, 92); fill-opacity: 1; stroke: rgb(0, 47, 69); stroke-opacity: 1;\"/><path class=\"point\" transform=\"translate(270,245.22)\" d=\"M3,0A3,3 0 1,1 0,-3A3,3 0 0,1 3,0Z\" style=\"opacity: 1; stroke-width: 1.5px; fill: rgb(0, 63, 92); fill-opacity: 1; stroke: rgb(0, 47, 69); stroke-opacity: 1;\"/><path class=\"point\" transform=\"translate(270,245.22)\" d=\"M3,0A3,3 0 1,1 0,-3A3,3 0 0,1 3,0Z\" style=\"opacity: 1; stroke-width: 1.5px; fill: rgb(0, 63, 92); fill-opacity: 1; stroke: rgb(0, 47, 69); stroke-opacity: 1;\"/><path class=\"point\" transform=\"translate(270,245.22)\" d=\"M3,0A3,3 0 1,1 0,-3A3,3 0 0,1 3,0Z\" style=\"opacity: 1; stroke-width: 1.5px; fill: rgb(0, 63, 92); fill-opacity: 1; stroke: rgb(0, 47, 69); stroke-opacity: 1;\"/><path class=\"point\" transform=\"translate(270,245.22)\" d=\"M3,0A3,3 0 1,1 0,-3A3,3 0 0,1 3,0Z\" style=\"opacity: 1; stroke-width: 1.5px; fill: rgb(0, 63, 92); fill-opacity: 1; stroke: rgb(0, 47, 69); stroke-opacity: 1;\"/><path class=\"point\" transform=\"translate(270,245.11)\" d=\"M3,0A3,3 0 1,1 0,-3A3,3 0 0,1 3,0Z\" style=\"opacity: 1; stroke-width: 1.5px; fill: rgb(0, 63, 92); fill-opacity: 1; stroke: rgb(0, 47, 69); stroke-opacity: 1;\"/><path class=\"point\" transform=\"translate(270,245.11)\" d=\"M3,0A3,3 0 1,1 0,-3A3,3 0 0,1 3,0Z\" style=\"opacity: 1; stroke-width: 1.5px; fill: rgb(0, 63, 92); fill-opacity: 1; stroke: rgb(0, 47, 69); stroke-opacity: 1;\"/><path class=\"point\" transform=\"translate(270,245.11)\" d=\"M3,0A3,3 0 1,1 0,-3A3,3 0 0,1 3,0Z\" style=\"opacity: 1; stroke-width: 1.5px; fill: rgb(0, 63, 92); fill-opacity: 1; stroke: rgb(0, 47, 69); stroke-opacity: 1;\"/><path class=\"point\" transform=\"translate(270,245.11)\" d=\"M3,0A3,3 0 1,1 0,-3A3,3 0 0,1 3,0Z\" style=\"opacity: 1; stroke-width: 1.5px; fill: rgb(0, 63, 92); fill-opacity: 1; stroke: rgb(0, 47, 69); stroke-opacity: 1;\"/><path class=\"point\" transform=\"translate(270,245.11)\" d=\"M3,0A3,3 0 1,1 0,-3A3,3 0 0,1 3,0Z\" style=\"opacity: 1; stroke-width: 1.5px; fill: rgb(0, 63, 92); fill-opacity: 1; stroke: rgb(0, 47, 69); stroke-opacity: 1;\"/><path class=\"point\" transform=\"translate(270,245.11)\" d=\"M3,0A3,3 0 1,1 0,-3A3,3 0 0,1 3,0Z\" style=\"opacity: 1; stroke-width: 1.5px; fill: rgb(0, 63, 92); fill-opacity: 1; stroke: rgb(0, 47, 69); stroke-opacity: 1;\"/><path class=\"point\" transform=\"translate(270,245.11)\" d=\"M3,0A3,3 0 1,1 0,-3A3,3 0 0,1 3,0Z\" style=\"opacity: 1; stroke-width: 1.5px; fill: rgb(0, 63, 92); fill-opacity: 1; stroke: rgb(0, 47, 69); stroke-opacity: 1;\"/><path class=\"point\" transform=\"translate(270,245.11)\" d=\"M3,0A3,3 0 1,1 0,-3A3,3 0 0,1 3,0Z\" style=\"opacity: 1; stroke-width: 1.5px; fill: rgb(0, 63, 92); fill-opacity: 1; stroke: rgb(0, 47, 69); stroke-opacity: 1;\"/><path class=\"point\" transform=\"translate(270,245.11)\" d=\"M3,0A3,3 0 1,1 0,-3A3,3 0 0,1 3,0Z\" style=\"opacity: 1; stroke-width: 1.5px; fill: rgb(0, 63, 92); fill-opacity: 1; stroke: rgb(0, 47, 69); stroke-opacity: 1;\"/><path class=\"point\" transform=\"translate(270,245.11)\" d=\"M3,0A3,3 0 1,1 0,-3A3,3 0 0,1 3,0Z\" style=\"opacity: 1; stroke-width: 1.5px; fill: rgb(0, 63, 92); fill-opacity: 1; stroke: rgb(0, 47, 69); stroke-opacity: 1;\"/><path class=\"point\" transform=\"translate(270,245.01)\" d=\"M3,0A3,3 0 1,1 0,-3A3,3 0 0,1 3,0Z\" style=\"opacity: 1; stroke-width: 1.5px; fill: rgb(0, 63, 92); fill-opacity: 1; stroke: rgb(0, 47, 69); stroke-opacity: 1;\"/><path class=\"point\" transform=\"translate(270,245.01)\" d=\"M3,0A3,3 0 1,1 0,-3A3,3 0 0,1 3,0Z\" style=\"opacity: 1; stroke-width: 1.5px; fill: rgb(0, 63, 92); fill-opacity: 1; stroke: rgb(0, 47, 69); stroke-opacity: 1;\"/><path class=\"point\" transform=\"translate(270,245.01)\" d=\"M3,0A3,3 0 1,1 0,-3A3,3 0 0,1 3,0Z\" style=\"opacity: 1; stroke-width: 1.5px; fill: rgb(0, 63, 92); fill-opacity: 1; stroke: rgb(0, 47, 69); stroke-opacity: 1;\"/><path class=\"point\" transform=\"translate(270,245.01)\" d=\"M3,0A3,3 0 1,1 0,-3A3,3 0 0,1 3,0Z\" style=\"opacity: 1; stroke-width: 1.5px; fill: rgb(0, 63, 92); fill-opacity: 1; stroke: rgb(0, 47, 69); stroke-opacity: 1;\"/><path class=\"point\" transform=\"translate(270,245.01)\" d=\"M3,0A3,3 0 1,1 0,-3A3,3 0 0,1 3,0Z\" style=\"opacity: 1; stroke-width: 1.5px; fill: rgb(0, 63, 92); fill-opacity: 1; stroke: rgb(0, 47, 69); stroke-opacity: 1;\"/><path class=\"point\" transform=\"translate(270,244.9)\" d=\"M3,0A3,3 0 1,1 0,-3A3,3 0 0,1 3,0Z\" style=\"opacity: 1; stroke-width: 1.5px; fill: rgb(0, 63, 92); fill-opacity: 1; stroke: rgb(0, 47, 69); stroke-opacity: 1;\"/><path class=\"point\" transform=\"translate(270,244.9)\" d=\"M3,0A3,3 0 1,1 0,-3A3,3 0 0,1 3,0Z\" style=\"opacity: 1; stroke-width: 1.5px; fill: rgb(0, 63, 92); fill-opacity: 1; stroke: rgb(0, 47, 69); stroke-opacity: 1;\"/><path class=\"point\" transform=\"translate(270,244.9)\" d=\"M3,0A3,3 0 1,1 0,-3A3,3 0 0,1 3,0Z\" style=\"opacity: 1; stroke-width: 1.5px; fill: rgb(0, 63, 92); fill-opacity: 1; stroke: rgb(0, 47, 69); stroke-opacity: 1;\"/><path class=\"point\" transform=\"translate(270,244.9)\" d=\"M3,0A3,3 0 1,1 0,-3A3,3 0 0,1 3,0Z\" style=\"opacity: 1; stroke-width: 1.5px; fill: rgb(0, 63, 92); fill-opacity: 1; stroke: rgb(0, 47, 69); stroke-opacity: 1;\"/><path class=\"point\" transform=\"translate(270,244.79)\" d=\"M3,0A3,3 0 1,1 0,-3A3,3 0 0,1 3,0Z\" style=\"opacity: 1; stroke-width: 1.5px; fill: rgb(0, 63, 92); fill-opacity: 1; stroke: rgb(0, 47, 69); stroke-opacity: 1;\"/><path class=\"point\" transform=\"translate(270,244.79)\" d=\"M3,0A3,3 0 1,1 0,-3A3,3 0 0,1 3,0Z\" style=\"opacity: 1; stroke-width: 1.5px; fill: rgb(0, 63, 92); fill-opacity: 1; stroke: rgb(0, 47, 69); stroke-opacity: 1;\"/><path class=\"point\" transform=\"translate(270,244.79)\" d=\"M3,0A3,3 0 1,1 0,-3A3,3 0 0,1 3,0Z\" style=\"opacity: 1; stroke-width: 1.5px; fill: rgb(0, 63, 92); fill-opacity: 1; stroke: rgb(0, 47, 69); stroke-opacity: 1;\"/><path class=\"point\" transform=\"translate(270,244.68)\" d=\"M3,0A3,3 0 1,1 0,-3A3,3 0 0,1 3,0Z\" style=\"opacity: 1; stroke-width: 1.5px; fill: rgb(0, 63, 92); fill-opacity: 1; stroke: rgb(0, 47, 69); stroke-opacity: 1;\"/><path class=\"point\" transform=\"translate(270,244.68)\" d=\"M3,0A3,3 0 1,1 0,-3A3,3 0 0,1 3,0Z\" style=\"opacity: 1; stroke-width: 1.5px; fill: rgb(0, 63, 92); fill-opacity: 1; stroke: rgb(0, 47, 69); stroke-opacity: 1;\"/><path class=\"point\" transform=\"translate(270,244.57)\" d=\"M3,0A3,3 0 1,1 0,-3A3,3 0 0,1 3,0Z\" style=\"opacity: 1; stroke-width: 1.5px; fill: rgb(0, 63, 92); fill-opacity: 1; stroke: rgb(0, 47, 69); stroke-opacity: 1;\"/><path class=\"point\" transform=\"translate(270,244.57)\" d=\"M3,0A3,3 0 1,1 0,-3A3,3 0 0,1 3,0Z\" style=\"opacity: 1; stroke-width: 1.5px; fill: rgb(0, 63, 92); fill-opacity: 1; stroke: rgb(0, 47, 69); stroke-opacity: 1;\"/><path class=\"point\" transform=\"translate(270,244.57)\" d=\"M3,0A3,3 0 1,1 0,-3A3,3 0 0,1 3,0Z\" style=\"opacity: 1; stroke-width: 1.5px; fill: rgb(0, 63, 92); fill-opacity: 1; stroke: rgb(0, 47, 69); stroke-opacity: 1;\"/><path class=\"point\" transform=\"translate(270,244.57)\" d=\"M3,0A3,3 0 1,1 0,-3A3,3 0 0,1 3,0Z\" style=\"opacity: 1; stroke-width: 1.5px; fill: rgb(0, 63, 92); fill-opacity: 1; stroke: rgb(0, 47, 69); stroke-opacity: 1;\"/><path class=\"point\" transform=\"translate(270,244.57)\" d=\"M3,0A3,3 0 1,1 0,-3A3,3 0 0,1 3,0Z\" style=\"opacity: 1; stroke-width: 1.5px; fill: rgb(0, 63, 92); fill-opacity: 1; stroke: rgb(0, 47, 69); stroke-opacity: 1;\"/><path class=\"point\" transform=\"translate(270,244.46)\" d=\"M3,0A3,3 0 1,1 0,-3A3,3 0 0,1 3,0Z\" style=\"opacity: 1; stroke-width: 1.5px; fill: rgb(0, 63, 92); fill-opacity: 1; stroke: rgb(0, 47, 69); stroke-opacity: 1;\"/><path class=\"point\" transform=\"translate(270,244.46)\" d=\"M3,0A3,3 0 1,1 0,-3A3,3 0 0,1 3,0Z\" style=\"opacity: 1; stroke-width: 1.5px; fill: rgb(0, 63, 92); fill-opacity: 1; stroke: rgb(0, 47, 69); stroke-opacity: 1;\"/><path class=\"point\" transform=\"translate(270,244.46)\" d=\"M3,0A3,3 0 1,1 0,-3A3,3 0 0,1 3,0Z\" style=\"opacity: 1; stroke-width: 1.5px; fill: rgb(0, 63, 92); fill-opacity: 1; stroke: rgb(0, 47, 69); stroke-opacity: 1;\"/><path class=\"point\" transform=\"translate(270,244.46)\" d=\"M3,0A3,3 0 1,1 0,-3A3,3 0 0,1 3,0Z\" style=\"opacity: 1; stroke-width: 1.5px; fill: rgb(0, 63, 92); fill-opacity: 1; stroke: rgb(0, 47, 69); stroke-opacity: 1;\"/><path class=\"point\" transform=\"translate(270,244.46)\" d=\"M3,0A3,3 0 1,1 0,-3A3,3 0 0,1 3,0Z\" style=\"opacity: 1; stroke-width: 1.5px; fill: rgb(0, 63, 92); fill-opacity: 1; stroke: rgb(0, 47, 69); stroke-opacity: 1;\"/><path class=\"point\" transform=\"translate(270,244.46)\" d=\"M3,0A3,3 0 1,1 0,-3A3,3 0 0,1 3,0Z\" style=\"opacity: 1; stroke-width: 1.5px; fill: rgb(0, 63, 92); fill-opacity: 1; stroke: rgb(0, 47, 69); stroke-opacity: 1;\"/><path class=\"point\" transform=\"translate(270,244.36)\" d=\"M3,0A3,3 0 1,1 0,-3A3,3 0 0,1 3,0Z\" style=\"opacity: 1; stroke-width: 1.5px; fill: rgb(0, 63, 92); fill-opacity: 1; stroke: rgb(0, 47, 69); stroke-opacity: 1;\"/><path class=\"point\" transform=\"translate(270,244.36)\" d=\"M3,0A3,3 0 1,1 0,-3A3,3 0 0,1 3,0Z\" style=\"opacity: 1; stroke-width: 1.5px; fill: rgb(0, 63, 92); fill-opacity: 1; stroke: rgb(0, 47, 69); stroke-opacity: 1;\"/><path class=\"point\" transform=\"translate(270,244.36)\" d=\"M3,0A3,3 0 1,1 0,-3A3,3 0 0,1 3,0Z\" style=\"opacity: 1; stroke-width: 1.5px; fill: rgb(0, 63, 92); fill-opacity: 1; stroke: rgb(0, 47, 69); stroke-opacity: 1;\"/><path class=\"point\" transform=\"translate(270,244.25)\" d=\"M3,0A3,3 0 1,1 0,-3A3,3 0 0,1 3,0Z\" style=\"opacity: 1; stroke-width: 1.5px; fill: rgb(0, 63, 92); fill-opacity: 1; stroke: rgb(0, 47, 69); stroke-opacity: 1;\"/><path class=\"point\" transform=\"translate(270,244.14)\" d=\"M3,0A3,3 0 1,1 0,-3A3,3 0 0,1 3,0Z\" style=\"opacity: 1; stroke-width: 1.5px; fill: rgb(0, 63, 92); fill-opacity: 1; stroke: rgb(0, 47, 69); stroke-opacity: 1;\"/><path class=\"point\" transform=\"translate(270,244.14)\" d=\"M3,0A3,3 0 1,1 0,-3A3,3 0 0,1 3,0Z\" style=\"opacity: 1; stroke-width: 1.5px; fill: rgb(0, 63, 92); fill-opacity: 1; stroke: rgb(0, 47, 69); stroke-opacity: 1;\"/><path class=\"point\" transform=\"translate(270,244.14)\" d=\"M3,0A3,3 0 1,1 0,-3A3,3 0 0,1 3,0Z\" style=\"opacity: 1; stroke-width: 1.5px; fill: rgb(0, 63, 92); fill-opacity: 1; stroke: rgb(0, 47, 69); stroke-opacity: 1;\"/><path class=\"point\" transform=\"translate(270,244.03)\" d=\"M3,0A3,3 0 1,1 0,-3A3,3 0 0,1 3,0Z\" style=\"opacity: 1; stroke-width: 1.5px; fill: rgb(0, 63, 92); fill-opacity: 1; stroke: rgb(0, 47, 69); stroke-opacity: 1;\"/><path class=\"point\" transform=\"translate(270,244.03)\" d=\"M3,0A3,3 0 1,1 0,-3A3,3 0 0,1 3,0Z\" style=\"opacity: 1; stroke-width: 1.5px; fill: rgb(0, 63, 92); fill-opacity: 1; stroke: rgb(0, 47, 69); stroke-opacity: 1;\"/><path class=\"point\" transform=\"translate(270,244.03)\" d=\"M3,0A3,3 0 1,1 0,-3A3,3 0 0,1 3,0Z\" style=\"opacity: 1; stroke-width: 1.5px; fill: rgb(0, 63, 92); fill-opacity: 1; stroke: rgb(0, 47, 69); stroke-opacity: 1;\"/><path class=\"point\" transform=\"translate(270,244.03)\" d=\"M3,0A3,3 0 1,1 0,-3A3,3 0 0,1 3,0Z\" style=\"opacity: 1; stroke-width: 1.5px; fill: rgb(0, 63, 92); fill-opacity: 1; stroke: rgb(0, 47, 69); stroke-opacity: 1;\"/><path class=\"point\" transform=\"translate(270,243.92)\" d=\"M3,0A3,3 0 1,1 0,-3A3,3 0 0,1 3,0Z\" style=\"opacity: 1; stroke-width: 1.5px; fill: rgb(0, 63, 92); fill-opacity: 1; stroke: rgb(0, 47, 69); stroke-opacity: 1;\"/><path class=\"point\" transform=\"translate(270,243.92)\" d=\"M3,0A3,3 0 1,1 0,-3A3,3 0 0,1 3,0Z\" style=\"opacity: 1; stroke-width: 1.5px; fill: rgb(0, 63, 92); fill-opacity: 1; stroke: rgb(0, 47, 69); stroke-opacity: 1;\"/><path class=\"point\" transform=\"translate(270,243.92)\" d=\"M3,0A3,3 0 1,1 0,-3A3,3 0 0,1 3,0Z\" style=\"opacity: 1; stroke-width: 1.5px; fill: rgb(0, 63, 92); fill-opacity: 1; stroke: rgb(0, 47, 69); stroke-opacity: 1;\"/><path class=\"point\" transform=\"translate(270,243.92)\" d=\"M3,0A3,3 0 1,1 0,-3A3,3 0 0,1 3,0Z\" style=\"opacity: 1; stroke-width: 1.5px; fill: rgb(0, 63, 92); fill-opacity: 1; stroke: rgb(0, 47, 69); stroke-opacity: 1;\"/><path class=\"point\" transform=\"translate(270,243.92)\" d=\"M3,0A3,3 0 1,1 0,-3A3,3 0 0,1 3,0Z\" style=\"opacity: 1; stroke-width: 1.5px; fill: rgb(0, 63, 92); fill-opacity: 1; stroke: rgb(0, 47, 69); stroke-opacity: 1;\"/><path class=\"point\" transform=\"translate(270,243.92)\" d=\"M3,0A3,3 0 1,1 0,-3A3,3 0 0,1 3,0Z\" style=\"opacity: 1; stroke-width: 1.5px; fill: rgb(0, 63, 92); fill-opacity: 1; stroke: rgb(0, 47, 69); stroke-opacity: 1;\"/><path class=\"point\" transform=\"translate(270,243.92)\" d=\"M3,0A3,3 0 1,1 0,-3A3,3 0 0,1 3,0Z\" style=\"opacity: 1; stroke-width: 1.5px; fill: rgb(0, 63, 92); fill-opacity: 1; stroke: rgb(0, 47, 69); stroke-opacity: 1;\"/><path class=\"point\" transform=\"translate(270,243.81)\" d=\"M3,0A3,3 0 1,1 0,-3A3,3 0 0,1 3,0Z\" style=\"opacity: 1; stroke-width: 1.5px; fill: rgb(0, 63, 92); fill-opacity: 1; stroke: rgb(0, 47, 69); stroke-opacity: 1;\"/><path class=\"point\" transform=\"translate(270,243.81)\" d=\"M3,0A3,3 0 1,1 0,-3A3,3 0 0,1 3,0Z\" style=\"opacity: 1; stroke-width: 1.5px; fill: rgb(0, 63, 92); fill-opacity: 1; stroke: rgb(0, 47, 69); stroke-opacity: 1;\"/><path class=\"point\" transform=\"translate(270,243.81)\" d=\"M3,0A3,3 0 1,1 0,-3A3,3 0 0,1 3,0Z\" style=\"opacity: 1; stroke-width: 1.5px; fill: rgb(0, 63, 92); fill-opacity: 1; stroke: rgb(0, 47, 69); stroke-opacity: 1;\"/><path class=\"point\" transform=\"translate(270,243.7)\" d=\"M3,0A3,3 0 1,1 0,-3A3,3 0 0,1 3,0Z\" style=\"opacity: 1; stroke-width: 1.5px; fill: rgb(0, 63, 92); fill-opacity: 1; stroke: rgb(0, 47, 69); stroke-opacity: 1;\"/><path class=\"point\" transform=\"translate(270,243.7)\" d=\"M3,0A3,3 0 1,1 0,-3A3,3 0 0,1 3,0Z\" style=\"opacity: 1; stroke-width: 1.5px; fill: rgb(0, 63, 92); fill-opacity: 1; stroke: rgb(0, 47, 69); stroke-opacity: 1;\"/><path class=\"point\" transform=\"translate(270,243.7)\" d=\"M3,0A3,3 0 1,1 0,-3A3,3 0 0,1 3,0Z\" style=\"opacity: 1; stroke-width: 1.5px; fill: rgb(0, 63, 92); fill-opacity: 1; stroke: rgb(0, 47, 69); stroke-opacity: 1;\"/><path class=\"point\" transform=\"translate(270,243.6)\" d=\"M3,0A3,3 0 1,1 0,-3A3,3 0 0,1 3,0Z\" style=\"opacity: 1; stroke-width: 1.5px; fill: rgb(0, 63, 92); fill-opacity: 1; stroke: rgb(0, 47, 69); stroke-opacity: 1;\"/><path class=\"point\" transform=\"translate(270,243.6)\" d=\"M3,0A3,3 0 1,1 0,-3A3,3 0 0,1 3,0Z\" style=\"opacity: 1; stroke-width: 1.5px; fill: rgb(0, 63, 92); fill-opacity: 1; stroke: rgb(0, 47, 69); stroke-opacity: 1;\"/><path class=\"point\" transform=\"translate(270,243.6)\" d=\"M3,0A3,3 0 1,1 0,-3A3,3 0 0,1 3,0Z\" style=\"opacity: 1; stroke-width: 1.5px; fill: rgb(0, 63, 92); fill-opacity: 1; stroke: rgb(0, 47, 69); stroke-opacity: 1;\"/><path class=\"point\" transform=\"translate(270,243.6)\" d=\"M3,0A3,3 0 1,1 0,-3A3,3 0 0,1 3,0Z\" style=\"opacity: 1; stroke-width: 1.5px; fill: rgb(0, 63, 92); fill-opacity: 1; stroke: rgb(0, 47, 69); stroke-opacity: 1;\"/><path class=\"point\" transform=\"translate(270,243.6)\" d=\"M3,0A3,3 0 1,1 0,-3A3,3 0 0,1 3,0Z\" style=\"opacity: 1; stroke-width: 1.5px; fill: rgb(0, 63, 92); fill-opacity: 1; stroke: rgb(0, 47, 69); stroke-opacity: 1;\"/><path class=\"point\" transform=\"translate(270,243.49)\" d=\"M3,0A3,3 0 1,1 0,-3A3,3 0 0,1 3,0Z\" style=\"opacity: 1; stroke-width: 1.5px; fill: rgb(0, 63, 92); fill-opacity: 1; stroke: rgb(0, 47, 69); stroke-opacity: 1;\"/><path class=\"point\" transform=\"translate(270,243.38)\" d=\"M3,0A3,3 0 1,1 0,-3A3,3 0 0,1 3,0Z\" style=\"opacity: 1; stroke-width: 1.5px; fill: rgb(0, 63, 92); fill-opacity: 1; stroke: rgb(0, 47, 69); stroke-opacity: 1;\"/><path class=\"point\" transform=\"translate(270,243.16)\" d=\"M3,0A3,3 0 1,1 0,-3A3,3 0 0,1 3,0Z\" style=\"opacity: 1; stroke-width: 1.5px; fill: rgb(0, 63, 92); fill-opacity: 1; stroke: rgb(0, 47, 69); stroke-opacity: 1;\"/><path class=\"point\" transform=\"translate(270,243.16)\" d=\"M3,0A3,3 0 1,1 0,-3A3,3 0 0,1 3,0Z\" style=\"opacity: 1; stroke-width: 1.5px; fill: rgb(0, 63, 92); fill-opacity: 1; stroke: rgb(0, 47, 69); stroke-opacity: 1;\"/><path class=\"point\" transform=\"translate(270,242.95)\" d=\"M3,0A3,3 0 1,1 0,-3A3,3 0 0,1 3,0Z\" style=\"opacity: 1; stroke-width: 1.5px; fill: rgb(0, 63, 92); fill-opacity: 1; stroke: rgb(0, 47, 69); stroke-opacity: 1;\"/><path class=\"point\" transform=\"translate(270,242.84)\" d=\"M3,0A3,3 0 1,1 0,-3A3,3 0 0,1 3,0Z\" style=\"opacity: 1; stroke-width: 1.5px; fill: rgb(0, 63, 92); fill-opacity: 1; stroke: rgb(0, 47, 69); stroke-opacity: 1;\"/><path class=\"point\" transform=\"translate(270,242.84)\" d=\"M3,0A3,3 0 1,1 0,-3A3,3 0 0,1 3,0Z\" style=\"opacity: 1; stroke-width: 1.5px; fill: rgb(0, 63, 92); fill-opacity: 1; stroke: rgb(0, 47, 69); stroke-opacity: 1;\"/><path class=\"point\" transform=\"translate(270,242.73)\" d=\"M3,0A3,3 0 1,1 0,-3A3,3 0 0,1 3,0Z\" style=\"opacity: 1; stroke-width: 1.5px; fill: rgb(0, 63, 92); fill-opacity: 1; stroke: rgb(0, 47, 69); stroke-opacity: 1;\"/><path class=\"point\" transform=\"translate(270,242.62)\" d=\"M3,0A3,3 0 1,1 0,-3A3,3 0 0,1 3,0Z\" style=\"opacity: 1; stroke-width: 1.5px; fill: rgb(0, 63, 92); fill-opacity: 1; stroke: rgb(0, 47, 69); stroke-opacity: 1;\"/><path class=\"point\" transform=\"translate(270,242.62)\" d=\"M3,0A3,3 0 1,1 0,-3A3,3 0 0,1 3,0Z\" style=\"opacity: 1; stroke-width: 1.5px; fill: rgb(0, 63, 92); fill-opacity: 1; stroke: rgb(0, 47, 69); stroke-opacity: 1;\"/><path class=\"point\" transform=\"translate(270,242.51)\" d=\"M3,0A3,3 0 1,1 0,-3A3,3 0 0,1 3,0Z\" style=\"opacity: 1; stroke-width: 1.5px; fill: rgb(0, 63, 92); fill-opacity: 1; stroke: rgb(0, 47, 69); stroke-opacity: 1;\"/><path class=\"point\" transform=\"translate(270,242.51)\" d=\"M3,0A3,3 0 1,1 0,-3A3,3 0 0,1 3,0Z\" style=\"opacity: 1; stroke-width: 1.5px; fill: rgb(0, 63, 92); fill-opacity: 1; stroke: rgb(0, 47, 69); stroke-opacity: 1;\"/><path class=\"point\" transform=\"translate(270,242.51)\" d=\"M3,0A3,3 0 1,1 0,-3A3,3 0 0,1 3,0Z\" style=\"opacity: 1; stroke-width: 1.5px; fill: rgb(0, 63, 92); fill-opacity: 1; stroke: rgb(0, 47, 69); stroke-opacity: 1;\"/><path class=\"point\" transform=\"translate(270,242.4)\" d=\"M3,0A3,3 0 1,1 0,-3A3,3 0 0,1 3,0Z\" style=\"opacity: 1; stroke-width: 1.5px; fill: rgb(0, 63, 92); fill-opacity: 1; stroke: rgb(0, 47, 69); stroke-opacity: 1;\"/><path class=\"point\" transform=\"translate(270,242.4)\" d=\"M3,0A3,3 0 1,1 0,-3A3,3 0 0,1 3,0Z\" style=\"opacity: 1; stroke-width: 1.5px; fill: rgb(0, 63, 92); fill-opacity: 1; stroke: rgb(0, 47, 69); stroke-opacity: 1;\"/><path class=\"point\" transform=\"translate(270,242.3)\" d=\"M3,0A3,3 0 1,1 0,-3A3,3 0 0,1 3,0Z\" style=\"opacity: 1; stroke-width: 1.5px; fill: rgb(0, 63, 92); fill-opacity: 1; stroke: rgb(0, 47, 69); stroke-opacity: 1;\"/><path class=\"point\" transform=\"translate(270,242.3)\" d=\"M3,0A3,3 0 1,1 0,-3A3,3 0 0,1 3,0Z\" style=\"opacity: 1; stroke-width: 1.5px; fill: rgb(0, 63, 92); fill-opacity: 1; stroke: rgb(0, 47, 69); stroke-opacity: 1;\"/><path class=\"point\" transform=\"translate(270,242.19)\" d=\"M3,0A3,3 0 1,1 0,-3A3,3 0 0,1 3,0Z\" style=\"opacity: 1; stroke-width: 1.5px; fill: rgb(0, 63, 92); fill-opacity: 1; stroke: rgb(0, 47, 69); stroke-opacity: 1;\"/><path class=\"point\" transform=\"translate(270,242.19)\" d=\"M3,0A3,3 0 1,1 0,-3A3,3 0 0,1 3,0Z\" style=\"opacity: 1; stroke-width: 1.5px; fill: rgb(0, 63, 92); fill-opacity: 1; stroke: rgb(0, 47, 69); stroke-opacity: 1;\"/><path class=\"point\" transform=\"translate(270,241.97)\" d=\"M3,0A3,3 0 1,1 0,-3A3,3 0 0,1 3,0Z\" style=\"opacity: 1; stroke-width: 1.5px; fill: rgb(0, 63, 92); fill-opacity: 1; stroke: rgb(0, 47, 69); stroke-opacity: 1;\"/><path class=\"point\" transform=\"translate(270,241.86)\" d=\"M3,0A3,3 0 1,1 0,-3A3,3 0 0,1 3,0Z\" style=\"opacity: 1; stroke-width: 1.5px; fill: rgb(0, 63, 92); fill-opacity: 1; stroke: rgb(0, 47, 69); stroke-opacity: 1;\"/><path class=\"point\" transform=\"translate(270,241.86)\" d=\"M3,0A3,3 0 1,1 0,-3A3,3 0 0,1 3,0Z\" style=\"opacity: 1; stroke-width: 1.5px; fill: rgb(0, 63, 92); fill-opacity: 1; stroke: rgb(0, 47, 69); stroke-opacity: 1;\"/><path class=\"point\" transform=\"translate(270,241.64)\" d=\"M3,0A3,3 0 1,1 0,-3A3,3 0 0,1 3,0Z\" style=\"opacity: 1; stroke-width: 1.5px; fill: rgb(0, 63, 92); fill-opacity: 1; stroke: rgb(0, 47, 69); stroke-opacity: 1;\"/><path class=\"point\" transform=\"translate(270,241.43)\" d=\"M3,0A3,3 0 1,1 0,-3A3,3 0 0,1 3,0Z\" style=\"opacity: 1; stroke-width: 1.5px; fill: rgb(0, 63, 92); fill-opacity: 1; stroke: rgb(0, 47, 69); stroke-opacity: 1;\"/><path class=\"point\" transform=\"translate(270,241.43)\" d=\"M3,0A3,3 0 1,1 0,-3A3,3 0 0,1 3,0Z\" style=\"opacity: 1; stroke-width: 1.5px; fill: rgb(0, 63, 92); fill-opacity: 1; stroke: rgb(0, 47, 69); stroke-opacity: 1;\"/><path class=\"point\" transform=\"translate(270,241.21)\" d=\"M3,0A3,3 0 1,1 0,-3A3,3 0 0,1 3,0Z\" style=\"opacity: 1; stroke-width: 1.5px; fill: rgb(0, 63, 92); fill-opacity: 1; stroke: rgb(0, 47, 69); stroke-opacity: 1;\"/><path class=\"point\" transform=\"translate(270,241.21)\" d=\"M3,0A3,3 0 1,1 0,-3A3,3 0 0,1 3,0Z\" style=\"opacity: 1; stroke-width: 1.5px; fill: rgb(0, 63, 92); fill-opacity: 1; stroke: rgb(0, 47, 69); stroke-opacity: 1;\"/><path class=\"point\" transform=\"translate(270,241.1)\" d=\"M3,0A3,3 0 1,1 0,-3A3,3 0 0,1 3,0Z\" style=\"opacity: 1; stroke-width: 1.5px; fill: rgb(0, 63, 92); fill-opacity: 1; stroke: rgb(0, 47, 69); stroke-opacity: 1;\"/><path class=\"point\" transform=\"translate(270,241.1)\" d=\"M3,0A3,3 0 1,1 0,-3A3,3 0 0,1 3,0Z\" style=\"opacity: 1; stroke-width: 1.5px; fill: rgb(0, 63, 92); fill-opacity: 1; stroke: rgb(0, 47, 69); stroke-opacity: 1;\"/><path class=\"point\" transform=\"translate(270,240.99)\" d=\"M3,0A3,3 0 1,1 0,-3A3,3 0 0,1 3,0Z\" style=\"opacity: 1; stroke-width: 1.5px; fill: rgb(0, 63, 92); fill-opacity: 1; stroke: rgb(0, 47, 69); stroke-opacity: 1;\"/><path class=\"point\" transform=\"translate(270,240.89)\" d=\"M3,0A3,3 0 1,1 0,-3A3,3 0 0,1 3,0Z\" style=\"opacity: 1; stroke-width: 1.5px; fill: rgb(0, 63, 92); fill-opacity: 1; stroke: rgb(0, 47, 69); stroke-opacity: 1;\"/><path class=\"point\" transform=\"translate(270,240.89)\" d=\"M3,0A3,3 0 1,1 0,-3A3,3 0 0,1 3,0Z\" style=\"opacity: 1; stroke-width: 1.5px; fill: rgb(0, 63, 92); fill-opacity: 1; stroke: rgb(0, 47, 69); stroke-opacity: 1;\"/><path class=\"point\" transform=\"translate(270,240.56)\" d=\"M3,0A3,3 0 1,1 0,-3A3,3 0 0,1 3,0Z\" style=\"opacity: 1; stroke-width: 1.5px; fill: rgb(0, 63, 92); fill-opacity: 1; stroke: rgb(0, 47, 69); stroke-opacity: 1;\"/><path class=\"point\" transform=\"translate(270,240.56)\" d=\"M3,0A3,3 0 1,1 0,-3A3,3 0 0,1 3,0Z\" style=\"opacity: 1; stroke-width: 1.5px; fill: rgb(0, 63, 92); fill-opacity: 1; stroke: rgb(0, 47, 69); stroke-opacity: 1;\"/><path class=\"point\" transform=\"translate(270,240.56)\" d=\"M3,0A3,3 0 1,1 0,-3A3,3 0 0,1 3,0Z\" style=\"opacity: 1; stroke-width: 1.5px; fill: rgb(0, 63, 92); fill-opacity: 1; stroke: rgb(0, 47, 69); stroke-opacity: 1;\"/><path class=\"point\" transform=\"translate(270,240.45)\" d=\"M3,0A3,3 0 1,1 0,-3A3,3 0 0,1 3,0Z\" style=\"opacity: 1; stroke-width: 1.5px; fill: rgb(0, 63, 92); fill-opacity: 1; stroke: rgb(0, 47, 69); stroke-opacity: 1;\"/><path class=\"point\" transform=\"translate(270,240.45)\" d=\"M3,0A3,3 0 1,1 0,-3A3,3 0 0,1 3,0Z\" style=\"opacity: 1; stroke-width: 1.5px; fill: rgb(0, 63, 92); fill-opacity: 1; stroke: rgb(0, 47, 69); stroke-opacity: 1;\"/><path class=\"point\" transform=\"translate(270,240.34)\" d=\"M3,0A3,3 0 1,1 0,-3A3,3 0 0,1 3,0Z\" style=\"opacity: 1; stroke-width: 1.5px; fill: rgb(0, 63, 92); fill-opacity: 1; stroke: rgb(0, 47, 69); stroke-opacity: 1;\"/><path class=\"point\" transform=\"translate(270,240.34)\" d=\"M3,0A3,3 0 1,1 0,-3A3,3 0 0,1 3,0Z\" style=\"opacity: 1; stroke-width: 1.5px; fill: rgb(0, 63, 92); fill-opacity: 1; stroke: rgb(0, 47, 69); stroke-opacity: 1;\"/><path class=\"point\" transform=\"translate(270,240.34)\" d=\"M3,0A3,3 0 1,1 0,-3A3,3 0 0,1 3,0Z\" style=\"opacity: 1; stroke-width: 1.5px; fill: rgb(0, 63, 92); fill-opacity: 1; stroke: rgb(0, 47, 69); stroke-opacity: 1;\"/><path class=\"point\" transform=\"translate(270,240.13)\" d=\"M3,0A3,3 0 1,1 0,-3A3,3 0 0,1 3,0Z\" style=\"opacity: 1; stroke-width: 1.5px; fill: rgb(0, 63, 92); fill-opacity: 1; stroke: rgb(0, 47, 69); stroke-opacity: 1;\"/><path class=\"point\" transform=\"translate(270,240.13)\" d=\"M3,0A3,3 0 1,1 0,-3A3,3 0 0,1 3,0Z\" style=\"opacity: 1; stroke-width: 1.5px; fill: rgb(0, 63, 92); fill-opacity: 1; stroke: rgb(0, 47, 69); stroke-opacity: 1;\"/><path class=\"point\" transform=\"translate(270,240.02)\" d=\"M3,0A3,3 0 1,1 0,-3A3,3 0 0,1 3,0Z\" style=\"opacity: 1; stroke-width: 1.5px; fill: rgb(0, 63, 92); fill-opacity: 1; stroke: rgb(0, 47, 69); stroke-opacity: 1;\"/><path class=\"point\" transform=\"translate(270,240.02)\" d=\"M3,0A3,3 0 1,1 0,-3A3,3 0 0,1 3,0Z\" style=\"opacity: 1; stroke-width: 1.5px; fill: rgb(0, 63, 92); fill-opacity: 1; stroke: rgb(0, 47, 69); stroke-opacity: 1;\"/><path class=\"point\" transform=\"translate(270,239.91)\" d=\"M3,0A3,3 0 1,1 0,-3A3,3 0 0,1 3,0Z\" style=\"opacity: 1; stroke-width: 1.5px; fill: rgb(0, 63, 92); fill-opacity: 1; stroke: rgb(0, 47, 69); stroke-opacity: 1;\"/><path class=\"point\" transform=\"translate(270,239.8)\" d=\"M3,0A3,3 0 1,1 0,-3A3,3 0 0,1 3,0Z\" style=\"opacity: 1; stroke-width: 1.5px; fill: rgb(0, 63, 92); fill-opacity: 1; stroke: rgb(0, 47, 69); stroke-opacity: 1;\"/><path class=\"point\" transform=\"translate(270,239.69)\" d=\"M3,0A3,3 0 1,1 0,-3A3,3 0 0,1 3,0Z\" style=\"opacity: 1; stroke-width: 1.5px; fill: rgb(0, 63, 92); fill-opacity: 1; stroke: rgb(0, 47, 69); stroke-opacity: 1;\"/><path class=\"point\" transform=\"translate(270,239.69)\" d=\"M3,0A3,3 0 1,1 0,-3A3,3 0 0,1 3,0Z\" style=\"opacity: 1; stroke-width: 1.5px; fill: rgb(0, 63, 92); fill-opacity: 1; stroke: rgb(0, 47, 69); stroke-opacity: 1;\"/><path class=\"point\" transform=\"translate(270,239.69)\" d=\"M3,0A3,3 0 1,1 0,-3A3,3 0 0,1 3,0Z\" style=\"opacity: 1; stroke-width: 1.5px; fill: rgb(0, 63, 92); fill-opacity: 1; stroke: rgb(0, 47, 69); stroke-opacity: 1;\"/><path class=\"point\" transform=\"translate(270,239.69)\" d=\"M3,0A3,3 0 1,1 0,-3A3,3 0 0,1 3,0Z\" style=\"opacity: 1; stroke-width: 1.5px; fill: rgb(0, 63, 92); fill-opacity: 1; stroke: rgb(0, 47, 69); stroke-opacity: 1;\"/><path class=\"point\" transform=\"translate(270,239.48)\" d=\"M3,0A3,3 0 1,1 0,-3A3,3 0 0,1 3,0Z\" style=\"opacity: 1; stroke-width: 1.5px; fill: rgb(0, 63, 92); fill-opacity: 1; stroke: rgb(0, 47, 69); stroke-opacity: 1;\"/><path class=\"point\" transform=\"translate(270,239.48)\" d=\"M3,0A3,3 0 1,1 0,-3A3,3 0 0,1 3,0Z\" style=\"opacity: 1; stroke-width: 1.5px; fill: rgb(0, 63, 92); fill-opacity: 1; stroke: rgb(0, 47, 69); stroke-opacity: 1;\"/><path class=\"point\" transform=\"translate(270,239.48)\" d=\"M3,0A3,3 0 1,1 0,-3A3,3 0 0,1 3,0Z\" style=\"opacity: 1; stroke-width: 1.5px; fill: rgb(0, 63, 92); fill-opacity: 1; stroke: rgb(0, 47, 69); stroke-opacity: 1;\"/><path class=\"point\" transform=\"translate(270,239.37)\" d=\"M3,0A3,3 0 1,1 0,-3A3,3 0 0,1 3,0Z\" style=\"opacity: 1; stroke-width: 1.5px; fill: rgb(0, 63, 92); fill-opacity: 1; stroke: rgb(0, 47, 69); stroke-opacity: 1;\"/><path class=\"point\" transform=\"translate(270,239.26)\" d=\"M3,0A3,3 0 1,1 0,-3A3,3 0 0,1 3,0Z\" style=\"opacity: 1; stroke-width: 1.5px; fill: rgb(0, 63, 92); fill-opacity: 1; stroke: rgb(0, 47, 69); stroke-opacity: 1;\"/><path class=\"point\" transform=\"translate(270,239.15)\" d=\"M3,0A3,3 0 1,1 0,-3A3,3 0 0,1 3,0Z\" style=\"opacity: 1; stroke-width: 1.5px; fill: rgb(0, 63, 92); fill-opacity: 1; stroke: rgb(0, 47, 69); stroke-opacity: 1;\"/><path class=\"point\" transform=\"translate(270,239.04)\" d=\"M3,0A3,3 0 1,1 0,-3A3,3 0 0,1 3,0Z\" style=\"opacity: 1; stroke-width: 1.5px; fill: rgb(0, 63, 92); fill-opacity: 1; stroke: rgb(0, 47, 69); stroke-opacity: 1;\"/><path class=\"point\" transform=\"translate(270,239.04)\" d=\"M3,0A3,3 0 1,1 0,-3A3,3 0 0,1 3,0Z\" style=\"opacity: 1; stroke-width: 1.5px; fill: rgb(0, 63, 92); fill-opacity: 1; stroke: rgb(0, 47, 69); stroke-opacity: 1;\"/><path class=\"point\" transform=\"translate(270,239.04)\" d=\"M3,0A3,3 0 1,1 0,-3A3,3 0 0,1 3,0Z\" style=\"opacity: 1; stroke-width: 1.5px; fill: rgb(0, 63, 92); fill-opacity: 1; stroke: rgb(0, 47, 69); stroke-opacity: 1;\"/><path class=\"point\" transform=\"translate(270,238.83)\" d=\"M3,0A3,3 0 1,1 0,-3A3,3 0 0,1 3,0Z\" style=\"opacity: 1; stroke-width: 1.5px; fill: rgb(0, 63, 92); fill-opacity: 1; stroke: rgb(0, 47, 69); stroke-opacity: 1;\"/><path class=\"point\" transform=\"translate(270,238.5)\" d=\"M3,0A3,3 0 1,1 0,-3A3,3 0 0,1 3,0Z\" style=\"opacity: 1; stroke-width: 1.5px; fill: rgb(0, 63, 92); fill-opacity: 1; stroke: rgb(0, 47, 69); stroke-opacity: 1;\"/><path class=\"point\" transform=\"translate(270,238.39)\" d=\"M3,0A3,3 0 1,1 0,-3A3,3 0 0,1 3,0Z\" style=\"opacity: 1; stroke-width: 1.5px; fill: rgb(0, 63, 92); fill-opacity: 1; stroke: rgb(0, 47, 69); stroke-opacity: 1;\"/><path class=\"point\" transform=\"translate(270,238.28)\" d=\"M3,0A3,3 0 1,1 0,-3A3,3 0 0,1 3,0Z\" style=\"opacity: 1; stroke-width: 1.5px; fill: rgb(0, 63, 92); fill-opacity: 1; stroke: rgb(0, 47, 69); stroke-opacity: 1;\"/><path class=\"point\" transform=\"translate(270,238.17)\" d=\"M3,0A3,3 0 1,1 0,-3A3,3 0 0,1 3,0Z\" style=\"opacity: 1; stroke-width: 1.5px; fill: rgb(0, 63, 92); fill-opacity: 1; stroke: rgb(0, 47, 69); stroke-opacity: 1;\"/><path class=\"point\" transform=\"translate(270,237.96)\" d=\"M3,0A3,3 0 1,1 0,-3A3,3 0 0,1 3,0Z\" style=\"opacity: 1; stroke-width: 1.5px; fill: rgb(0, 63, 92); fill-opacity: 1; stroke: rgb(0, 47, 69); stroke-opacity: 1;\"/><path class=\"point\" transform=\"translate(270,237.96)\" d=\"M3,0A3,3 0 1,1 0,-3A3,3 0 0,1 3,0Z\" style=\"opacity: 1; stroke-width: 1.5px; fill: rgb(0, 63, 92); fill-opacity: 1; stroke: rgb(0, 47, 69); stroke-opacity: 1;\"/><path class=\"point\" transform=\"translate(270,237.85)\" d=\"M3,0A3,3 0 1,1 0,-3A3,3 0 0,1 3,0Z\" style=\"opacity: 1; stroke-width: 1.5px; fill: rgb(0, 63, 92); fill-opacity: 1; stroke: rgb(0, 47, 69); stroke-opacity: 1;\"/><path class=\"point\" transform=\"translate(270,237.74)\" d=\"M3,0A3,3 0 1,1 0,-3A3,3 0 0,1 3,0Z\" style=\"opacity: 1; stroke-width: 1.5px; fill: rgb(0, 63, 92); fill-opacity: 1; stroke: rgb(0, 47, 69); stroke-opacity: 1;\"/><path class=\"point\" transform=\"translate(270,237.74)\" d=\"M3,0A3,3 0 1,1 0,-3A3,3 0 0,1 3,0Z\" style=\"opacity: 1; stroke-width: 1.5px; fill: rgb(0, 63, 92); fill-opacity: 1; stroke: rgb(0, 47, 69); stroke-opacity: 1;\"/><path class=\"point\" transform=\"translate(270,237.63)\" d=\"M3,0A3,3 0 1,1 0,-3A3,3 0 0,1 3,0Z\" style=\"opacity: 1; stroke-width: 1.5px; fill: rgb(0, 63, 92); fill-opacity: 1; stroke: rgb(0, 47, 69); stroke-opacity: 1;\"/><path class=\"point\" transform=\"translate(270,237.52)\" d=\"M3,0A3,3 0 1,1 0,-3A3,3 0 0,1 3,0Z\" style=\"opacity: 1; stroke-width: 1.5px; fill: rgb(0, 63, 92); fill-opacity: 1; stroke: rgb(0, 47, 69); stroke-opacity: 1;\"/><path class=\"point\" transform=\"translate(270,237.52)\" d=\"M3,0A3,3 0 1,1 0,-3A3,3 0 0,1 3,0Z\" style=\"opacity: 1; stroke-width: 1.5px; fill: rgb(0, 63, 92); fill-opacity: 1; stroke: rgb(0, 47, 69); stroke-opacity: 1;\"/><path class=\"point\" transform=\"translate(270,237.52)\" d=\"M3,0A3,3 0 1,1 0,-3A3,3 0 0,1 3,0Z\" style=\"opacity: 1; stroke-width: 1.5px; fill: rgb(0, 63, 92); fill-opacity: 1; stroke: rgb(0, 47, 69); stroke-opacity: 1;\"/><path class=\"point\" transform=\"translate(270,237.31)\" d=\"M3,0A3,3 0 1,1 0,-3A3,3 0 0,1 3,0Z\" style=\"opacity: 1; stroke-width: 1.5px; fill: rgb(0, 63, 92); fill-opacity: 1; stroke: rgb(0, 47, 69); stroke-opacity: 1;\"/><path class=\"point\" transform=\"translate(270,237.31)\" d=\"M3,0A3,3 0 1,1 0,-3A3,3 0 0,1 3,0Z\" style=\"opacity: 1; stroke-width: 1.5px; fill: rgb(0, 63, 92); fill-opacity: 1; stroke: rgb(0, 47, 69); stroke-opacity: 1;\"/><path class=\"point\" transform=\"translate(270,237.2)\" d=\"M3,0A3,3 0 1,1 0,-3A3,3 0 0,1 3,0Z\" style=\"opacity: 1; stroke-width: 1.5px; fill: rgb(0, 63, 92); fill-opacity: 1; stroke: rgb(0, 47, 69); stroke-opacity: 1;\"/><path class=\"point\" transform=\"translate(270,237.2)\" d=\"M3,0A3,3 0 1,1 0,-3A3,3 0 0,1 3,0Z\" style=\"opacity: 1; stroke-width: 1.5px; fill: rgb(0, 63, 92); fill-opacity: 1; stroke: rgb(0, 47, 69); stroke-opacity: 1;\"/><path class=\"point\" transform=\"translate(270,237.09)\" d=\"M3,0A3,3 0 1,1 0,-3A3,3 0 0,1 3,0Z\" style=\"opacity: 1; stroke-width: 1.5px; fill: rgb(0, 63, 92); fill-opacity: 1; stroke: rgb(0, 47, 69); stroke-opacity: 1;\"/><path class=\"point\" transform=\"translate(270,237.09)\" d=\"M3,0A3,3 0 1,1 0,-3A3,3 0 0,1 3,0Z\" style=\"opacity: 1; stroke-width: 1.5px; fill: rgb(0, 63, 92); fill-opacity: 1; stroke: rgb(0, 47, 69); stroke-opacity: 1;\"/><path class=\"point\" transform=\"translate(270,236.77)\" d=\"M3,0A3,3 0 1,1 0,-3A3,3 0 0,1 3,0Z\" style=\"opacity: 1; stroke-width: 1.5px; fill: rgb(0, 63, 92); fill-opacity: 1; stroke: rgb(0, 47, 69); stroke-opacity: 1;\"/><path class=\"point\" transform=\"translate(270,236.55)\" d=\"M3,0A3,3 0 1,1 0,-3A3,3 0 0,1 3,0Z\" style=\"opacity: 1; stroke-width: 1.5px; fill: rgb(0, 63, 92); fill-opacity: 1; stroke: rgb(0, 47, 69); stroke-opacity: 1;\"/><path class=\"point\" transform=\"translate(270,236.22)\" d=\"M3,0A3,3 0 1,1 0,-3A3,3 0 0,1 3,0Z\" style=\"opacity: 1; stroke-width: 1.5px; fill: rgb(0, 63, 92); fill-opacity: 1; stroke: rgb(0, 47, 69); stroke-opacity: 1;\"/><path class=\"point\" transform=\"translate(270,236.11)\" d=\"M3,0A3,3 0 1,1 0,-3A3,3 0 0,1 3,0Z\" style=\"opacity: 1; stroke-width: 1.5px; fill: rgb(0, 63, 92); fill-opacity: 1; stroke: rgb(0, 47, 69); stroke-opacity: 1;\"/><path class=\"point\" transform=\"translate(270,236.01)\" d=\"M3,0A3,3 0 1,1 0,-3A3,3 0 0,1 3,0Z\" style=\"opacity: 1; stroke-width: 1.5px; fill: rgb(0, 63, 92); fill-opacity: 1; stroke: rgb(0, 47, 69); stroke-opacity: 1;\"/><path class=\"point\" transform=\"translate(270,235.9)\" d=\"M3,0A3,3 0 1,1 0,-3A3,3 0 0,1 3,0Z\" style=\"opacity: 1; stroke-width: 1.5px; fill: rgb(0, 63, 92); fill-opacity: 1; stroke: rgb(0, 47, 69); stroke-opacity: 1;\"/><path class=\"point\" transform=\"translate(270,235.57)\" d=\"M3,0A3,3 0 1,1 0,-3A3,3 0 0,1 3,0Z\" style=\"opacity: 1; stroke-width: 1.5px; fill: rgb(0, 63, 92); fill-opacity: 1; stroke: rgb(0, 47, 69); stroke-opacity: 1;\"/><path class=\"point\" transform=\"translate(270,235.46)\" d=\"M3,0A3,3 0 1,1 0,-3A3,3 0 0,1 3,0Z\" style=\"opacity: 1; stroke-width: 1.5px; fill: rgb(0, 63, 92); fill-opacity: 1; stroke: rgb(0, 47, 69); stroke-opacity: 1;\"/><path class=\"point\" transform=\"translate(270,235.46)\" d=\"M3,0A3,3 0 1,1 0,-3A3,3 0 0,1 3,0Z\" style=\"opacity: 1; stroke-width: 1.5px; fill: rgb(0, 63, 92); fill-opacity: 1; stroke: rgb(0, 47, 69); stroke-opacity: 1;\"/><path class=\"point\" transform=\"translate(270,235.36)\" d=\"M3,0A3,3 0 1,1 0,-3A3,3 0 0,1 3,0Z\" style=\"opacity: 1; stroke-width: 1.5px; fill: rgb(0, 63, 92); fill-opacity: 1; stroke: rgb(0, 47, 69); stroke-opacity: 1;\"/><path class=\"point\" transform=\"translate(270,235.25)\" d=\"M3,0A3,3 0 1,1 0,-3A3,3 0 0,1 3,0Z\" style=\"opacity: 1; stroke-width: 1.5px; fill: rgb(0, 63, 92); fill-opacity: 1; stroke: rgb(0, 47, 69); stroke-opacity: 1;\"/><path class=\"point\" transform=\"translate(270,235.25)\" d=\"M3,0A3,3 0 1,1 0,-3A3,3 0 0,1 3,0Z\" style=\"opacity: 1; stroke-width: 1.5px; fill: rgb(0, 63, 92); fill-opacity: 1; stroke: rgb(0, 47, 69); stroke-opacity: 1;\"/><path class=\"point\" transform=\"translate(270,235.03)\" d=\"M3,0A3,3 0 1,1 0,-3A3,3 0 0,1 3,0Z\" style=\"opacity: 1; stroke-width: 1.5px; fill: rgb(0, 63, 92); fill-opacity: 1; stroke: rgb(0, 47, 69); stroke-opacity: 1;\"/><path class=\"point\" transform=\"translate(270,234.92)\" d=\"M3,0A3,3 0 1,1 0,-3A3,3 0 0,1 3,0Z\" style=\"opacity: 1; stroke-width: 1.5px; fill: rgb(0, 63, 92); fill-opacity: 1; stroke: rgb(0, 47, 69); stroke-opacity: 1;\"/><path class=\"point\" transform=\"translate(270,234.38)\" d=\"M3,0A3,3 0 1,1 0,-3A3,3 0 0,1 3,0Z\" style=\"opacity: 1; stroke-width: 1.5px; fill: rgb(0, 63, 92); fill-opacity: 1; stroke: rgb(0, 47, 69); stroke-opacity: 1;\"/><path class=\"point\" transform=\"translate(270,234.27)\" d=\"M3,0A3,3 0 1,1 0,-3A3,3 0 0,1 3,0Z\" style=\"opacity: 1; stroke-width: 1.5px; fill: rgb(0, 63, 92); fill-opacity: 1; stroke: rgb(0, 47, 69); stroke-opacity: 1;\"/><path class=\"point\" transform=\"translate(270,234.27)\" d=\"M3,0A3,3 0 1,1 0,-3A3,3 0 0,1 3,0Z\" style=\"opacity: 1; stroke-width: 1.5px; fill: rgb(0, 63, 92); fill-opacity: 1; stroke: rgb(0, 47, 69); stroke-opacity: 1;\"/><path class=\"point\" transform=\"translate(270,234.27)\" d=\"M3,0A3,3 0 1,1 0,-3A3,3 0 0,1 3,0Z\" style=\"opacity: 1; stroke-width: 1.5px; fill: rgb(0, 63, 92); fill-opacity: 1; stroke: rgb(0, 47, 69); stroke-opacity: 1;\"/><path class=\"point\" transform=\"translate(270,234.27)\" d=\"M3,0A3,3 0 1,1 0,-3A3,3 0 0,1 3,0Z\" style=\"opacity: 1; stroke-width: 1.5px; fill: rgb(0, 63, 92); fill-opacity: 1; stroke: rgb(0, 47, 69); stroke-opacity: 1;\"/><path class=\"point\" transform=\"translate(270,234.16)\" d=\"M3,0A3,3 0 1,1 0,-3A3,3 0 0,1 3,0Z\" style=\"opacity: 1; stroke-width: 1.5px; fill: rgb(0, 63, 92); fill-opacity: 1; stroke: rgb(0, 47, 69); stroke-opacity: 1;\"/><path class=\"point\" transform=\"translate(270,233.84)\" d=\"M3,0A3,3 0 1,1 0,-3A3,3 0 0,1 3,0Z\" style=\"opacity: 1; stroke-width: 1.5px; fill: rgb(0, 63, 92); fill-opacity: 1; stroke: rgb(0, 47, 69); stroke-opacity: 1;\"/><path class=\"point\" transform=\"translate(270,233.3)\" d=\"M3,0A3,3 0 1,1 0,-3A3,3 0 0,1 3,0Z\" style=\"opacity: 1; stroke-width: 1.5px; fill: rgb(0, 63, 92); fill-opacity: 1; stroke: rgb(0, 47, 69); stroke-opacity: 1;\"/><path class=\"point\" transform=\"translate(270,232.97)\" d=\"M3,0A3,3 0 1,1 0,-3A3,3 0 0,1 3,0Z\" style=\"opacity: 1; stroke-width: 1.5px; fill: rgb(0, 63, 92); fill-opacity: 1; stroke: rgb(0, 47, 69); stroke-opacity: 1;\"/><path class=\"point\" transform=\"translate(270,232.64)\" d=\"M3,0A3,3 0 1,1 0,-3A3,3 0 0,1 3,0Z\" style=\"opacity: 1; stroke-width: 1.5px; fill: rgb(0, 63, 92); fill-opacity: 1; stroke: rgb(0, 47, 69); stroke-opacity: 1;\"/><path class=\"point\" transform=\"translate(270,232.54)\" d=\"M3,0A3,3 0 1,1 0,-3A3,3 0 0,1 3,0Z\" style=\"opacity: 1; stroke-width: 1.5px; fill: rgb(0, 63, 92); fill-opacity: 1; stroke: rgb(0, 47, 69); stroke-opacity: 1;\"/><path class=\"point\" transform=\"translate(270,232.43)\" d=\"M3,0A3,3 0 1,1 0,-3A3,3 0 0,1 3,0Z\" style=\"opacity: 1; stroke-width: 1.5px; fill: rgb(0, 63, 92); fill-opacity: 1; stroke: rgb(0, 47, 69); stroke-opacity: 1;\"/><path class=\"point\" transform=\"translate(270,232.1)\" d=\"M3,0A3,3 0 1,1 0,-3A3,3 0 0,1 3,0Z\" style=\"opacity: 1; stroke-width: 1.5px; fill: rgb(0, 63, 92); fill-opacity: 1; stroke: rgb(0, 47, 69); stroke-opacity: 1;\"/><path class=\"point\" transform=\"translate(270,231.89)\" d=\"M3,0A3,3 0 1,1 0,-3A3,3 0 0,1 3,0Z\" style=\"opacity: 1; stroke-width: 1.5px; fill: rgb(0, 63, 92); fill-opacity: 1; stroke: rgb(0, 47, 69); stroke-opacity: 1;\"/><path class=\"point\" transform=\"translate(270,231.78)\" d=\"M3,0A3,3 0 1,1 0,-3A3,3 0 0,1 3,0Z\" style=\"opacity: 1; stroke-width: 1.5px; fill: rgb(0, 63, 92); fill-opacity: 1; stroke: rgb(0, 47, 69); stroke-opacity: 1;\"/><path class=\"point\" transform=\"translate(270,231.67)\" d=\"M3,0A3,3 0 1,1 0,-3A3,3 0 0,1 3,0Z\" style=\"opacity: 1; stroke-width: 1.5px; fill: rgb(0, 63, 92); fill-opacity: 1; stroke: rgb(0, 47, 69); stroke-opacity: 1;\"/><path class=\"point\" transform=\"translate(270,231.13)\" d=\"M3,0A3,3 0 1,1 0,-3A3,3 0 0,1 3,0Z\" style=\"opacity: 1; stroke-width: 1.5px; fill: rgb(0, 63, 92); fill-opacity: 1; stroke: rgb(0, 47, 69); stroke-opacity: 1;\"/><path class=\"point\" transform=\"translate(270,231.13)\" d=\"M3,0A3,3 0 1,1 0,-3A3,3 0 0,1 3,0Z\" style=\"opacity: 1; stroke-width: 1.5px; fill: rgb(0, 63, 92); fill-opacity: 1; stroke: rgb(0, 47, 69); stroke-opacity: 1;\"/><path class=\"point\" transform=\"translate(270,231.02)\" d=\"M3,0A3,3 0 1,1 0,-3A3,3 0 0,1 3,0Z\" style=\"opacity: 1; stroke-width: 1.5px; fill: rgb(0, 63, 92); fill-opacity: 1; stroke: rgb(0, 47, 69); stroke-opacity: 1;\"/><path class=\"point\" transform=\"translate(270,230.69)\" d=\"M3,0A3,3 0 1,1 0,-3A3,3 0 0,1 3,0Z\" style=\"opacity: 1; stroke-width: 1.5px; fill: rgb(0, 63, 92); fill-opacity: 1; stroke: rgb(0, 47, 69); stroke-opacity: 1;\"/><path class=\"point\" transform=\"translate(270,230.48)\" d=\"M3,0A3,3 0 1,1 0,-3A3,3 0 0,1 3,0Z\" style=\"opacity: 1; stroke-width: 1.5px; fill: rgb(0, 63, 92); fill-opacity: 1; stroke: rgb(0, 47, 69); stroke-opacity: 1;\"/><path class=\"point\" transform=\"translate(270,229.72)\" d=\"M3,0A3,3 0 1,1 0,-3A3,3 0 0,1 3,0Z\" style=\"opacity: 1; stroke-width: 1.5px; fill: rgb(0, 63, 92); fill-opacity: 1; stroke: rgb(0, 47, 69); stroke-opacity: 1;\"/><path class=\"point\" transform=\"translate(270,229.61)\" d=\"M3,0A3,3 0 1,1 0,-3A3,3 0 0,1 3,0Z\" style=\"opacity: 1; stroke-width: 1.5px; fill: rgb(0, 63, 92); fill-opacity: 1; stroke: rgb(0, 47, 69); stroke-opacity: 1;\"/><path class=\"point\" transform=\"translate(270,229.28)\" d=\"M3,0A3,3 0 1,1 0,-3A3,3 0 0,1 3,0Z\" style=\"opacity: 1; stroke-width: 1.5px; fill: rgb(0, 63, 92); fill-opacity: 1; stroke: rgb(0, 47, 69); stroke-opacity: 1;\"/><path class=\"point\" transform=\"translate(270,229.17)\" d=\"M3,0A3,3 0 1,1 0,-3A3,3 0 0,1 3,0Z\" style=\"opacity: 1; stroke-width: 1.5px; fill: rgb(0, 63, 92); fill-opacity: 1; stroke: rgb(0, 47, 69); stroke-opacity: 1;\"/><path class=\"point\" transform=\"translate(270,228.2)\" d=\"M3,0A3,3 0 1,1 0,-3A3,3 0 0,1 3,0Z\" style=\"opacity: 1; stroke-width: 1.5px; fill: rgb(0, 63, 92); fill-opacity: 1; stroke: rgb(0, 47, 69); stroke-opacity: 1;\"/><path class=\"point\" transform=\"translate(270,226.25)\" d=\"M3,0A3,3 0 1,1 0,-3A3,3 0 0,1 3,0Z\" style=\"opacity: 1; stroke-width: 1.5px; fill: rgb(0, 63, 92); fill-opacity: 1; stroke: rgb(0, 47, 69); stroke-opacity: 1;\"/><path class=\"point\" transform=\"translate(270,226.25)\" d=\"M3,0A3,3 0 1,1 0,-3A3,3 0 0,1 3,0Z\" style=\"opacity: 1; stroke-width: 1.5px; fill: rgb(0, 63, 92); fill-opacity: 1; stroke: rgb(0, 47, 69); stroke-opacity: 1;\"/><path class=\"point\" transform=\"translate(270,225.49)\" d=\"M3,0A3,3 0 1,1 0,-3A3,3 0 0,1 3,0Z\" style=\"opacity: 1; stroke-width: 1.5px; fill: rgb(0, 63, 92); fill-opacity: 1; stroke: rgb(0, 47, 69); stroke-opacity: 1;\"/><path class=\"point\" transform=\"translate(270,224.62)\" d=\"M3,0A3,3 0 1,1 0,-3A3,3 0 0,1 3,0Z\" style=\"opacity: 1; stroke-width: 1.5px; fill: rgb(0, 63, 92); fill-opacity: 1; stroke: rgb(0, 47, 69); stroke-opacity: 1;\"/><path class=\"point\" transform=\"translate(270,223.54)\" d=\"M3,0A3,3 0 1,1 0,-3A3,3 0 0,1 3,0Z\" style=\"opacity: 1; stroke-width: 1.5px; fill: rgb(0, 63, 92); fill-opacity: 1; stroke: rgb(0, 47, 69); stroke-opacity: 1;\"/><path class=\"point\" transform=\"translate(270,223.21)\" d=\"M3,0A3,3 0 1,1 0,-3A3,3 0 0,1 3,0Z\" style=\"opacity: 1; stroke-width: 1.5px; fill: rgb(0, 63, 92); fill-opacity: 1; stroke: rgb(0, 47, 69); stroke-opacity: 1;\"/><path class=\"point\" transform=\"translate(270,222.99)\" d=\"M3,0A3,3 0 1,1 0,-3A3,3 0 0,1 3,0Z\" style=\"opacity: 1; stroke-width: 1.5px; fill: rgb(0, 63, 92); fill-opacity: 1; stroke: rgb(0, 47, 69); stroke-opacity: 1;\"/><path class=\"point\" transform=\"translate(270,219.52)\" d=\"M3,0A3,3 0 1,1 0,-3A3,3 0 0,1 3,0Z\" style=\"opacity: 1; stroke-width: 1.5px; fill: rgb(0, 63, 92); fill-opacity: 1; stroke: rgb(0, 47, 69); stroke-opacity: 1;\"/><path class=\"point\" transform=\"translate(270,218.44)\" d=\"M3,0A3,3 0 1,1 0,-3A3,3 0 0,1 3,0Z\" style=\"opacity: 1; stroke-width: 1.5px; fill: rgb(0, 63, 92); fill-opacity: 1; stroke: rgb(0, 47, 69); stroke-opacity: 1;\"/><path class=\"point\" transform=\"translate(270,214.86)\" d=\"M3,0A3,3 0 1,1 0,-3A3,3 0 0,1 3,0Z\" style=\"opacity: 1; stroke-width: 1.5px; fill: rgb(0, 63, 92); fill-opacity: 1; stroke: rgb(0, 47, 69); stroke-opacity: 1;\"/><path class=\"point\" transform=\"translate(270,213.56)\" d=\"M3,0A3,3 0 1,1 0,-3A3,3 0 0,1 3,0Z\" style=\"opacity: 1; stroke-width: 1.5px; fill: rgb(0, 63, 92); fill-opacity: 1; stroke: rgb(0, 47, 69); stroke-opacity: 1;\"/><path class=\"point\" transform=\"translate(270,207.92)\" d=\"M3,0A3,3 0 1,1 0,-3A3,3 0 0,1 3,0Z\" style=\"opacity: 1; stroke-width: 1.5px; fill: rgb(0, 63, 92); fill-opacity: 1; stroke: rgb(0, 47, 69); stroke-opacity: 1;\"/><path class=\"point\" transform=\"translate(270,206.4)\" d=\"M3,0A3,3 0 1,1 0,-3A3,3 0 0,1 3,0Z\" style=\"opacity: 1; stroke-width: 1.5px; fill: rgb(0, 63, 92); fill-opacity: 1; stroke: rgb(0, 47, 69); stroke-opacity: 1;\"/><path class=\"point\" transform=\"translate(270,202.72)\" d=\"M3,0A3,3 0 1,1 0,-3A3,3 0 0,1 3,0Z\" style=\"opacity: 1; stroke-width: 1.5px; fill: rgb(0, 63, 92); fill-opacity: 1; stroke: rgb(0, 47, 69); stroke-opacity: 1;\"/><path class=\"point\" transform=\"translate(270,202.07)\" d=\"M3,0A3,3 0 1,1 0,-3A3,3 0 0,1 3,0Z\" style=\"opacity: 1; stroke-width: 1.5px; fill: rgb(0, 63, 92); fill-opacity: 1; stroke: rgb(0, 47, 69); stroke-opacity: 1;\"/><path class=\"point\" transform=\"translate(270,201.52)\" d=\"M3,0A3,3 0 1,1 0,-3A3,3 0 0,1 3,0Z\" style=\"opacity: 1; stroke-width: 1.5px; fill: rgb(0, 63, 92); fill-opacity: 1; stroke: rgb(0, 47, 69); stroke-opacity: 1;\"/><path class=\"point\" transform=\"translate(270,197.19)\" d=\"M3,0A3,3 0 1,1 0,-3A3,3 0 0,1 3,0Z\" style=\"opacity: 1; stroke-width: 1.5px; fill: rgb(0, 63, 92); fill-opacity: 1; stroke: rgb(0, 47, 69); stroke-opacity: 1;\"/><path class=\"point\" transform=\"translate(270,196.43)\" d=\"M3,0A3,3 0 1,1 0,-3A3,3 0 0,1 3,0Z\" style=\"opacity: 1; stroke-width: 1.5px; fill: rgb(0, 63, 92); fill-opacity: 1; stroke: rgb(0, 47, 69); stroke-opacity: 1;\"/><path class=\"point\" transform=\"translate(270,194.37)\" d=\"M3,0A3,3 0 1,1 0,-3A3,3 0 0,1 3,0Z\" style=\"opacity: 1; stroke-width: 1.5px; fill: rgb(0, 63, 92); fill-opacity: 1; stroke: rgb(0, 47, 69); stroke-opacity: 1;\"/><path class=\"point\" transform=\"translate(270,193.72)\" d=\"M3,0A3,3 0 1,1 0,-3A3,3 0 0,1 3,0Z\" style=\"opacity: 1; stroke-width: 1.5px; fill: rgb(0, 63, 92); fill-opacity: 1; stroke: rgb(0, 47, 69); stroke-opacity: 1;\"/><path class=\"point\" transform=\"translate(270,186.13)\" d=\"M3,0A3,3 0 1,1 0,-3A3,3 0 0,1 3,0Z\" style=\"opacity: 1; stroke-width: 1.5px; fill: rgb(0, 63, 92); fill-opacity: 1; stroke: rgb(0, 47, 69); stroke-opacity: 1;\"/><path class=\"point\" transform=\"translate(270,184.17)\" d=\"M3,0A3,3 0 1,1 0,-3A3,3 0 0,1 3,0Z\" style=\"opacity: 1; stroke-width: 1.5px; fill: rgb(0, 63, 92); fill-opacity: 1; stroke: rgb(0, 47, 69); stroke-opacity: 1;\"/><path class=\"point\" transform=\"translate(270,180.49)\" d=\"M3,0A3,3 0 1,1 0,-3A3,3 0 0,1 3,0Z\" style=\"opacity: 1; stroke-width: 1.5px; fill: rgb(0, 63, 92); fill-opacity: 1; stroke: rgb(0, 47, 69); stroke-opacity: 1;\"/><path class=\"point\" transform=\"translate(270,175.72)\" d=\"M3,0A3,3 0 1,1 0,-3A3,3 0 0,1 3,0Z\" style=\"opacity: 1; stroke-width: 1.5px; fill: rgb(0, 63, 92); fill-opacity: 1; stroke: rgb(0, 47, 69); stroke-opacity: 1;\"/><path class=\"point\" transform=\"translate(270,161.4)\" d=\"M3,0A3,3 0 1,1 0,-3A3,3 0 0,1 3,0Z\" style=\"opacity: 1; stroke-width: 1.5px; fill: rgb(0, 63, 92); fill-opacity: 1; stroke: rgb(0, 47, 69); stroke-opacity: 1;\"/><path class=\"point\" transform=\"translate(270,150.23)\" d=\"M3,0A3,3 0 1,1 0,-3A3,3 0 0,1 3,0Z\" style=\"opacity: 1; stroke-width: 1.5px; fill: rgb(0, 63, 92); fill-opacity: 1; stroke: rgb(0, 47, 69); stroke-opacity: 1;\"/><path class=\"point\" transform=\"translate(270,116.19)\" d=\"M3,0A3,3 0 1,1 0,-3A3,3 0 0,1 3,0Z\" style=\"opacity: 1; stroke-width: 1.5px; fill: rgb(0, 63, 92); fill-opacity: 1; stroke: rgb(0, 47, 69); stroke-opacity: 1;\"/><path class=\"point\" transform=\"translate(270,83.98)\" d=\"M3,0A3,3 0 1,1 0,-3A3,3 0 0,1 3,0Z\" style=\"opacity: 1; stroke-width: 1.5px; fill: rgb(0, 63, 92); fill-opacity: 1; stroke: rgb(0, 47, 69); stroke-opacity: 1;\"/><path class=\"point\" transform=\"translate(270,69.02)\" d=\"M3,0A3,3 0 1,1 0,-3A3,3 0 0,1 3,0Z\" style=\"opacity: 1; stroke-width: 1.5px; fill: rgb(0, 63, 92); fill-opacity: 1; stroke: rgb(0, 47, 69); stroke-opacity: 1;\"/><path class=\"point\" transform=\"translate(270,13.5)\" d=\"M3,0A3,3 0 1,1 0,-3A3,3 0 0,1 3,0Z\" style=\"opacity: 1; stroke-width: 1.5px; fill: rgb(0, 63, 92); fill-opacity: 1; stroke: rgb(0, 47, 69); stroke-opacity: 1;\"/></g></g></g></g><g class=\"overplot\"/><path class=\"xlines-above crisp\" d=\"M0,0\" style=\"fill: none;\"/><path class=\"ylines-above crisp\" d=\"M0,0\" style=\"fill: none;\"/><g class=\"overlines-above\"/><g class=\"xaxislayer-above\"><g class=\"xtick\"><text text-anchor=\"middle\" x=\"0\" y=\"383\" transform=\"translate(350,0)\" style=\"font-family: 'Open Sans', verdana, arial, sans-serif; font-size: 12px; fill: rgb(42, 63, 95); fill-opacity: 1; white-space: pre;\"> </text></g></g><g class=\"yaxislayer-above\"><g class=\"ytick\"><text text-anchor=\"end\" x=\"79\" y=\"4.199999999999999\" transform=\"translate(0,356.61)\" style=\"font-family: 'Open Sans', verdana, arial, sans-serif; font-size: 12px; fill: rgb(42, 63, 95); fill-opacity: 1; white-space: pre;\">0</text></g><g class=\"ytick\"><text text-anchor=\"end\" x=\"79\" y=\"4.199999999999999\" transform=\"translate(0,302.39)\" style=\"font-family: 'Open Sans', verdana, arial, sans-serif; font-size: 12px; fill: rgb(42, 63, 95); fill-opacity: 1; white-space: pre;\">500</text></g><g class=\"ytick\"><text text-anchor=\"end\" x=\"79\" y=\"4.199999999999999\" transform=\"translate(0,248.17)\" style=\"font-family: 'Open Sans', verdana, arial, sans-serif; font-size: 12px; fill: rgb(42, 63, 95); fill-opacity: 1; white-space: pre;\">1000</text></g><g class=\"ytick\"><text text-anchor=\"end\" x=\"79\" y=\"4.199999999999999\" transform=\"translate(0,193.95999999999998)\" style=\"font-family: 'Open Sans', verdana, arial, sans-serif; font-size: 12px; fill: rgb(42, 63, 95); fill-opacity: 1; white-space: pre;\">1500</text></g><g class=\"ytick\"><text text-anchor=\"end\" x=\"79\" y=\"4.199999999999999\" transform=\"translate(0,139.74)\" style=\"font-family: 'Open Sans', verdana, arial, sans-serif; font-size: 12px; fill: rgb(42, 63, 95); fill-opacity: 1; white-space: pre;\">2000</text></g></g><g class=\"overaxes-above\"/></g></g><g class=\"polarlayer\"/><g class=\"ternarylayer\"/><g class=\"geolayer\"/><g class=\"funnelarealayer\"/><g class=\"pielayer\"/><g class=\"treemaplayer\"/><g class=\"sunburstlayer\"/><g class=\"glimages\"/><defs id=\"topdefs-9a94b4\"><g class=\"clips\"/></defs><g class=\"layer-above\"><g class=\"imagelayer\"/><g class=\"shapelayer\"/></g><g class=\"infolayer\"><g class=\"g-gtitle\"><text class=\"gtitle\" x=\"35\" y=\"50\" text-anchor=\"start\" dy=\"0em\" style=\"font-family: 'Open Sans', verdana, arial, sans-serif; font-size: 17px; fill: rgb(42, 63, 95); opacity: 1; font-weight: normal; white-space: pre;\">Number of Actions Performed by Users</text></g><g class=\"g-xtitle\"/><g class=\"g-ytitle\"><text class=\"ytitle\" transform=\"rotate(-90,23.684375000000003,235)\" x=\"23.684375000000003\" y=\"235\" text-anchor=\"middle\" style=\"font-family: 'Open Sans', verdana, arial, sans-serif; font-size: 14px; fill: rgb(42, 63, 95); opacity: 1; font-weight: normal; white-space: pre;\">Number of actions</text></g></g></svg>"
      ]
     },
     "metadata": {},
     "output_type": "display_data"
    }
   ],
   "source": [
    "user_activity_graph = px.box(user_activity, y='n_actions',\n",
    "                            labels=dict(n_actions='Number of actions'),\n",
    "                            title='Number of Actions Performed by Users')\n",
    "user_activity_graph.update_traces(marker_color='#003f5c', opacity=0.7, marker_line_color='#002f45', marker_line_width=1.5)\n",
    "user_activity_graph.show('svg')"
   ]
  },
  {
   "cell_type": "markdown",
   "metadata": {},
   "source": [
    "As we see from this boxplot, in terms of their activity some users definitely stand out."
   ]
  },
  {
   "cell_type": "code",
   "execution_count": 21,
   "metadata": {},
   "outputs": [
    {
     "name": "stdout",
     "output_type": "stream",
     "text": [
      "One user performed 2242 actions, which means approximately 160.14 actions per day.\n",
      "It means checking the app once in every 4 minutes for 12 hours every single day.\n"
     ]
    }
   ],
   "source": [
    "max_actions = user_activity.n_actions.max()\n",
    "print('One user performed {} actions, which means approximately {:.2f} actions per day.'.format(max_actions, max_actions/df_clean.date.nunique()))\n",
    "print(\"It means checking the app once in every {:} minutes for 12 hours every single day.\".format(round(60/(max_actions/df_clean.date.nunique()/12))))"
   ]
  },
  {
   "cell_type": "markdown",
   "metadata": {},
   "source": [
    "For a store that sells food this is a lot of actions. And while we can privately suspect this user of having OCD, we also need to define data anomalies, so that they wouldn't skew our results."
   ]
  },
  {
   "cell_type": "code",
   "execution_count": 22,
   "metadata": {},
   "outputs": [
    {
     "name": "stdout",
     "output_type": "stream",
     "text": [
      "90th percentile: 58.0\n",
      "95th percentile: 81.0\n",
      "99th percentile: 177.0\n"
     ]
    }
   ],
   "source": [
    "print('90th percentile: {}'.format(np.percentile(user_activity.n_actions, 90)))\n",
    "print('95th percentile: {}'.format(np.percentile(user_activity.n_actions, 95)))\n",
    "print('99th percentile: {}'.format(np.percentile(user_activity.n_actions, 99)))"
   ]
  },
  {
   "cell_type": "markdown",
   "metadata": {},
   "source": [
    "Since we're trying to preserve most of our data, we'll keep everything up to the 99th percentile. Only more than 177 actions per user will be considered an oultier."
   ]
  },
  {
   "cell_type": "code",
   "execution_count": 23,
   "metadata": {},
   "outputs": [
    {
     "data": {
      "text/plain": [
       "76"
      ]
     },
     "execution_count": 23,
     "metadata": {},
     "output_type": "execute_result"
    }
   ],
   "source": [
    "# Creating a list of users which performed too many actions\n",
    "\n",
    "too_many_actions = user_activity[user_activity.n_actions > 177]['user_id'].to_list()\n",
    "len(too_many_actions)"
   ]
  },
  {
   "cell_type": "code",
   "execution_count": 24,
   "metadata": {},
   "outputs": [
    {
     "name": "stdout",
     "output_type": "stream",
     "text": [
      "<class 'pandas.core.frame.DataFrame'>\n",
      "Int64Index: 209736 entries, 0 to 244125\n",
      "Data columns (total 5 columns):\n",
      " #   Column      Non-Null Count   Dtype         \n",
      "---  ------      --------------   -----         \n",
      " 0   event_name  209736 non-null  object        \n",
      " 1   user_id     209736 non-null  int64         \n",
      " 2   event_ts    209736 non-null  datetime64[ns]\n",
      " 3   group       209736 non-null  int64         \n",
      " 4   date        209736 non-null  datetime64[ns]\n",
      "dtypes: datetime64[ns](2), int64(2), object(1)\n",
      "memory usage: 9.6+ MB\n"
     ]
    }
   ],
   "source": [
    "# Creating a clean dataset whithout those users\n",
    "\n",
    "data = df_clean[np.logical_not(df_clean.user_id.isin(too_many_actions))]\n",
    "data.info()"
   ]
  },
  {
   "cell_type": "markdown",
   "metadata": {},
   "source": [
    "[Back to Contents](#cont)"
   ]
  },
  {
   "cell_type": "markdown",
   "metadata": {},
   "source": [
    "### <a id='step2concl'>Conclusions to Step 2</a>\n",
    "\n",
    "We've downloaded and explored the dataset, renamed its columns, converted timestamps (in seconds) to datetime type and created a separate column with dates only. We've also removed the outliers (users with too high activity) and duplicated rows.\n",
    "\n",
    "[Back to Contents](#cont)"
   ]
  },
  {
   "cell_type": "markdown",
   "metadata": {},
   "source": [
    "## <a id='step3'>Step 3. Thoroughly Studying the Data</a>"
   ]
  },
  {
   "cell_type": "markdown",
   "metadata": {},
   "source": [
    "During this step, we are going to answer the following questions:\n",
    "\n",
    "- How many events are in the logs?\n",
    "- How many users are in the logs?\n",
    "- What's the average number of events per user?\n",
    "- What period of time does the data cover? What period does the data actually represent?\n",
    "- Did we lose many events and users when excluding the older data?\n",
    "- Do we have users from all three experimental groups?"
   ]
  },
  {
   "cell_type": "markdown",
   "metadata": {},
   "source": [
    "### <a id='step3events'>How Many Events Are in the Logs?</a>"
   ]
  },
  {
   "cell_type": "code",
   "execution_count": 25,
   "metadata": {},
   "outputs": [
    {
     "name": "stdout",
     "output_type": "stream",
     "text": [
      "Total number of events in our logs: 209736\n"
     ]
    }
   ],
   "source": [
    "print('Total number of events in our logs: {}'.format(len(data)))"
   ]
  },
  {
   "cell_type": "code",
   "execution_count": 26,
   "metadata": {},
   "outputs": [
    {
     "name": "stdout",
     "output_type": "stream",
     "text": [
      "They belong to 5 different types.\n"
     ]
    }
   ],
   "source": [
    "print('They belong to {} different types.'.format(data.event_name.nunique()))"
   ]
  },
  {
   "cell_type": "code",
   "execution_count": 27,
   "metadata": {},
   "outputs": [
    {
     "name": "stdout",
     "output_type": "stream",
     "text": [
      "Types of events:\n",
      "- MainScreenAppear\n",
      "- PaymentScreenSuccessful\n",
      "- CartScreenAppear\n",
      "- OffersScreenAppear\n",
      "- Tutorial\n"
     ]
    }
   ],
   "source": [
    "print('Types of events:')\n",
    "for i in data.event_name.unique().tolist():\n",
    "    print('-', i)"
   ]
  },
  {
   "cell_type": "code",
   "execution_count": 28,
   "metadata": {},
   "outputs": [
    {
     "data": {
      "image/svg+xml": [
       "<svg class=\"main-svg\" xmlns=\"http://www.w3.org/2000/svg\" xmlns:xlink=\"http://www.w3.org/1999/xlink\" width=\"700\" height=\"450\" style=\"\" viewBox=\"0 0 700 450\"><rect x=\"0\" y=\"0\" width=\"700\" height=\"450\" style=\"fill: rgb(255, 255, 255); fill-opacity: 1;\"/><defs id=\"defs-10762f\"><g class=\"clips\"><clipPath id=\"clip10762fxyplot\" class=\"plotclip\"><rect width=\"540\" height=\"220\"/></clipPath><clipPath class=\"axesclip\" id=\"clip10762fx\"><rect x=\"80\" y=\"0\" width=\"540\" height=\"450\"/></clipPath><clipPath class=\"axesclip\" id=\"clip10762fy\"><rect x=\"0\" y=\"100\" width=\"700\" height=\"220\"/></clipPath><clipPath class=\"axesclip\" id=\"clip10762fxy\"><rect x=\"80\" y=\"100\" width=\"540\" height=\"220\"/></clipPath></g><g class=\"gradients\"/></defs><g class=\"bglayer\"><rect class=\"bg\" x=\"80\" y=\"100\" width=\"540\" height=\"220\" style=\"fill: rgb(229, 236, 246); fill-opacity: 1; stroke-width: 0;\"/></g><g class=\"layer-below\"><g class=\"imagelayer\"/><g class=\"shapelayer\"/></g><g class=\"cartesianlayer\"><g class=\"subplot xy\"><g class=\"layer-subplot\"><g class=\"shapelayer\"/><g class=\"imagelayer\"/></g><g class=\"gridlayer\"><g class=\"x\"/><g class=\"y\"><path class=\"ygrid crisp\" transform=\"translate(0,283.53999999999996)\" d=\"M80,0h540\" style=\"stroke: rgb(255, 255, 255); stroke-opacity: 1; stroke-width: 1px;\"/><path class=\"ygrid crisp\" transform=\"translate(0,247.08)\" d=\"M80,0h540\" style=\"stroke: rgb(255, 255, 255); stroke-opacity: 1; stroke-width: 1px;\"/><path class=\"ygrid crisp\" transform=\"translate(0,210.62)\" d=\"M80,0h540\" style=\"stroke: rgb(255, 255, 255); stroke-opacity: 1; stroke-width: 1px;\"/><path class=\"ygrid crisp\" transform=\"translate(0,174.16)\" d=\"M80,0h540\" style=\"stroke: rgb(255, 255, 255); stroke-opacity: 1; stroke-width: 1px;\"/><path class=\"ygrid crisp\" transform=\"translate(0,137.7)\" d=\"M80,0h540\" style=\"stroke: rgb(255, 255, 255); stroke-opacity: 1; stroke-width: 1px;\"/><path class=\"ygrid crisp\" transform=\"translate(0,101.24)\" d=\"M80,0h540\" style=\"stroke: rgb(255, 255, 255); stroke-opacity: 1; stroke-width: 1px;\"/></g></g><g class=\"zerolinelayer\"><path class=\"yzl zl crisp\" transform=\"translate(0,320)\" d=\"M80,0h540\" style=\"stroke: rgb(255, 255, 255); stroke-opacity: 1; stroke-width: 2px;\"/></g><path class=\"xlines-below\"/><path class=\"ylines-below\"/><g class=\"overlines-below\"/><g class=\"xaxislayer-below\"/><g class=\"yaxislayer-below\"/><g class=\"overaxes-below\"/><g class=\"plot\" transform=\"translate(80,100)\" clip-path=\"url('#clip10762fxyplot')\"><g class=\"barlayer mlayer\"><g class=\"trace bars\" style=\"opacity: 0.7;\"><g class=\"points\"><g class=\"point\"><path d=\"M10.8,220V218.19H97.2V220Z\" style=\"vector-effect: non-scaling-stroke; opacity: 1; stroke-width: 1.5px; fill: rgb(0, 63, 92); fill-opacity: 1; stroke: rgb(0, 47, 69); stroke-opacity: 1;\"/></g><g class=\"point\"><path d=\"M118.8,220V178.37H205.2V220Z\" style=\"vector-effect: non-scaling-stroke; opacity: 1; stroke-width: 1.5px; fill: rgb(88, 80, 141); fill-opacity: 1; stroke: rgb(0, 47, 69); stroke-opacity: 1;\"/></g><g class=\"point\"><path d=\"M226.8,220V165.23H313.2V220Z\" style=\"vector-effect: non-scaling-stroke; opacity: 1; stroke-width: 1.5px; fill: rgb(188, 80, 144); fill-opacity: 1; stroke: rgb(0, 47, 69); stroke-opacity: 1;\"/></g><g class=\"point\"><path d=\"M334.8,220V144.86H421.2V220Z\" style=\"vector-effect: non-scaling-stroke; opacity: 1; stroke-width: 1.5px; fill: rgb(255, 99, 97); fill-opacity: 1; stroke: rgb(0, 47, 69); stroke-opacity: 1;\"/></g><g class=\"point\"><path d=\"M442.8,220V11H529.2V220Z\" style=\"vector-effect: non-scaling-stroke; opacity: 1; stroke-width: 1.5px; fill: rgb(255, 166, 0); fill-opacity: 1; stroke: rgb(0, 47, 69); stroke-opacity: 1;\"/></g></g></g></g></g><g class=\"overplot\"/><path class=\"xlines-above crisp\" d=\"M0,0\" style=\"fill: none;\"/><path class=\"ylines-above crisp\" d=\"M0,0\" style=\"fill: none;\"/><g class=\"overlines-above\"/><g class=\"xaxislayer-above\"><g class=\"xtick\"><text text-anchor=\"start\" x=\"0\" y=\"333\" transform=\"translate(134,0) rotate(30,0,327)\" style=\"font-family: 'Open Sans', verdana, arial, sans-serif; font-size: 12px; fill: rgb(42, 63, 95); fill-opacity: 1; white-space: pre;\">Tutorial</text></g><g class=\"xtick\"><text text-anchor=\"start\" x=\"0\" y=\"333\" transform=\"translate(242,0) rotate(30,0,327)\" style=\"font-family: 'Open Sans', verdana, arial, sans-serif; font-size: 12px; fill: rgb(42, 63, 95); fill-opacity: 1; white-space: pre;\">PaymentScreenSuccessful</text></g><g class=\"xtick\"><text text-anchor=\"start\" x=\"0\" y=\"333\" transform=\"translate(350,0) rotate(30,0,327)\" style=\"font-family: 'Open Sans', verdana, arial, sans-serif; font-size: 12px; fill: rgb(42, 63, 95); fill-opacity: 1; white-space: pre;\">CartScreenAppear</text></g><g class=\"xtick\"><text text-anchor=\"start\" x=\"0\" y=\"333\" transform=\"translate(458,0) rotate(30,0,327)\" style=\"font-family: 'Open Sans', verdana, arial, sans-serif; font-size: 12px; fill: rgb(42, 63, 95); fill-opacity: 1; white-space: pre;\">OffersScreenAppear</text></g><g class=\"xtick\"><text text-anchor=\"start\" x=\"0\" y=\"333\" transform=\"translate(566,0) rotate(30,0,327)\" style=\"font-family: 'Open Sans', verdana, arial, sans-serif; font-size: 12px; fill: rgb(42, 63, 95); fill-opacity: 1; white-space: pre;\">MainScreenAppear</text></g></g><g class=\"yaxislayer-above\"><g class=\"ytick\"><text text-anchor=\"end\" x=\"79\" y=\"4.199999999999999\" transform=\"translate(0,320)\" style=\"font-family: 'Open Sans', verdana, arial, sans-serif; font-size: 12px; fill: rgb(42, 63, 95); fill-opacity: 1; white-space: pre;\">0</text></g><g class=\"ytick\"><text text-anchor=\"end\" x=\"79\" y=\"4.199999999999999\" transform=\"translate(0,283.53999999999996)\" style=\"font-family: 'Open Sans', verdana, arial, sans-serif; font-size: 12px; fill: rgb(42, 63, 95); fill-opacity: 1; white-space: pre;\">20k</text></g><g class=\"ytick\"><text text-anchor=\"end\" x=\"79\" y=\"4.199999999999999\" transform=\"translate(0,247.08)\" style=\"font-family: 'Open Sans', verdana, arial, sans-serif; font-size: 12px; fill: rgb(42, 63, 95); fill-opacity: 1; white-space: pre;\">40k</text></g><g class=\"ytick\"><text text-anchor=\"end\" x=\"79\" y=\"4.199999999999999\" transform=\"translate(0,210.62)\" style=\"font-family: 'Open Sans', verdana, arial, sans-serif; font-size: 12px; fill: rgb(42, 63, 95); fill-opacity: 1; white-space: pre;\">60k</text></g><g class=\"ytick\"><text text-anchor=\"end\" x=\"79\" y=\"4.199999999999999\" transform=\"translate(0,174.16)\" style=\"font-family: 'Open Sans', verdana, arial, sans-serif; font-size: 12px; fill: rgb(42, 63, 95); fill-opacity: 1; white-space: pre;\">80k</text></g><g class=\"ytick\"><text text-anchor=\"end\" x=\"79\" y=\"4.199999999999999\" transform=\"translate(0,137.7)\" style=\"font-family: 'Open Sans', verdana, arial, sans-serif; font-size: 12px; fill: rgb(42, 63, 95); fill-opacity: 1; white-space: pre;\">100k</text></g><g class=\"ytick\"><text text-anchor=\"end\" x=\"79\" y=\"4.199999999999999\" transform=\"translate(0,101.24)\" style=\"font-family: 'Open Sans', verdana, arial, sans-serif; font-size: 12px; fill: rgb(42, 63, 95); fill-opacity: 1; white-space: pre;\">120k</text></g></g><g class=\"overaxes-above\"/></g></g><g class=\"polarlayer\"/><g class=\"ternarylayer\"/><g class=\"geolayer\"/><g class=\"funnelarealayer\"/><g class=\"pielayer\"/><g class=\"treemaplayer\"/><g class=\"sunburstlayer\"/><g class=\"glimages\"/><defs id=\"topdefs-10762f\"><g class=\"clips\"/></defs><g class=\"layer-above\"><g class=\"imagelayer\"/><g class=\"shapelayer\"/></g><g class=\"infolayer\"><g class=\"g-gtitle\"><text class=\"gtitle\" x=\"35\" y=\"50\" text-anchor=\"start\" dy=\"0em\" style=\"font-family: 'Open Sans', verdana, arial, sans-serif; font-size: 17px; fill: rgb(42, 63, 95); opacity: 1; font-weight: normal; white-space: pre;\">Types of Events</text></g><g class=\"g-xtitle\"><text class=\"xtitle\" x=\"350\" y=\"437.770703125\" text-anchor=\"middle\" style=\"font-family: 'Open Sans', verdana, arial, sans-serif; font-size: 14px; fill: rgb(42, 63, 95); opacity: 1; font-weight: normal; white-space: pre;\">Name of Event</text></g><g class=\"g-ytitle\"><text class=\"ytitle\" transform=\"rotate(-90,24.200000000000003,210)\" x=\"24.200000000000003\" y=\"210\" text-anchor=\"middle\" style=\"font-family: 'Open Sans', verdana, arial, sans-serif; font-size: 14px; fill: rgb(42, 63, 95); opacity: 1; font-weight: normal; white-space: pre;\">Number of Events</text></g></g></svg>"
      ]
     },
     "metadata": {},
     "output_type": "display_data"
    }
   ],
   "source": [
    "events = data.groupby('event_name')['event_ts'].count().reset_index().sort_values(by='event_ts')\n",
    "\n",
    "colors = ['#003f5c', '#58508d', '#bc5090', '#ff6361', '#ffa600']\n",
    "events_graph = go.Figure()\n",
    "events_graph.add_trace(go.Bar(x=events.event_name, y=events.event_ts, marker_color=colors,\n",
    "                             opacity=0.7, marker_line_color='#002f45',\n",
    "                              marker_line_width=1.5))\n",
    "events_graph.update_layout(title='Types of Events',\n",
    "                          xaxis_title='Name of Event',\n",
    "                          yaxis_title='Number of Events')\n",
    "events_graph.show('svg')"
   ]
  },
  {
   "cell_type": "markdown",
   "metadata": {},
   "source": [
    "[Back to Contents](#cont)"
   ]
  },
  {
   "cell_type": "markdown",
   "metadata": {},
   "source": [
    "### <a id='step3users'>How Many Users Are in the Logs?</a>"
   ]
  },
  {
   "cell_type": "code",
   "execution_count": 29,
   "metadata": {},
   "outputs": [
    {
     "data": {
      "text/plain": [
       "7475"
      ]
     },
     "execution_count": 29,
     "metadata": {},
     "output_type": "execute_result"
    }
   ],
   "source": [
    "data['user_id'].nunique()"
   ]
  },
  {
   "cell_type": "markdown",
   "metadata": {},
   "source": [
    "After we've dropped the duplicated entries and filtered out the anomalies (users with too high level of activity), we're left with 7,475 users in our dataset.\n",
    "\n",
    "[Back to Contents](#cont)"
   ]
  },
  {
   "cell_type": "markdown",
   "metadata": {},
   "source": [
    "### <a id='step3eventsperuser'>What's the Average Number of Events per User?</a>"
   ]
  },
  {
   "cell_type": "code",
   "execution_count": 30,
   "metadata": {},
   "outputs": [
    {
     "name": "stdout",
     "output_type": "stream",
     "text": [
      "Average number of events per user: 28\n"
     ]
    }
   ],
   "source": [
    "print('Average number of events per user: {}'.format(round(data.groupby('user_id')['event_name'].count().mean())))"
   ]
  },
  {
   "cell_type": "code",
   "execution_count": 31,
   "metadata": {},
   "outputs": [
    {
     "data": {
      "image/svg+xml": [
       "<svg class=\"main-svg\" xmlns=\"http://www.w3.org/2000/svg\" xmlns:xlink=\"http://www.w3.org/1999/xlink\" width=\"700\" height=\"450\" style=\"\" viewBox=\"0 0 700 450\"><rect x=\"0\" y=\"0\" width=\"700\" height=\"450\" style=\"fill: rgb(255, 255, 255); fill-opacity: 1;\"/><defs id=\"defs-638029\"><g class=\"clips\"><clipPath id=\"clip638029xyplot\" class=\"plotclip\"><rect width=\"540\" height=\"270\"/></clipPath><clipPath class=\"axesclip\" id=\"clip638029x\"><rect x=\"80\" y=\"0\" width=\"540\" height=\"450\"/></clipPath><clipPath class=\"axesclip\" id=\"clip638029y\"><rect x=\"0\" y=\"100\" width=\"700\" height=\"270\"/></clipPath><clipPath class=\"axesclip\" id=\"clip638029xy\"><rect x=\"80\" y=\"100\" width=\"540\" height=\"270\"/></clipPath></g><g class=\"gradients\"/></defs><g class=\"bglayer\"><rect class=\"bg\" x=\"80\" y=\"100\" width=\"540\" height=\"270\" style=\"fill: rgb(229, 236, 246); fill-opacity: 1; stroke-width: 0;\"/></g><g class=\"layer-below\"><g class=\"imagelayer\"/><g class=\"shapelayer\"/></g><g class=\"cartesianlayer\"><g class=\"subplot xy\"><g class=\"layer-subplot\"><g class=\"shapelayer\"/><g class=\"imagelayer\"/></g><g class=\"gridlayer\"><g class=\"x\"/><g class=\"y\"><path class=\"ygrid crisp\" transform=\"translate(0,318.6)\" d=\"M80,0h540\" style=\"stroke: rgb(255, 255, 255); stroke-opacity: 1; stroke-width: 1px;\"/><path class=\"ygrid crisp\" transform=\"translate(0,267.19)\" d=\"M80,0h540\" style=\"stroke: rgb(255, 255, 255); stroke-opacity: 1; stroke-width: 1px;\"/><path class=\"ygrid crisp\" transform=\"translate(0,215.79000000000002)\" d=\"M80,0h540\" style=\"stroke: rgb(255, 255, 255); stroke-opacity: 1; stroke-width: 1px;\"/><path class=\"ygrid crisp\" transform=\"translate(0,164.39)\" d=\"M80,0h540\" style=\"stroke: rgb(255, 255, 255); stroke-opacity: 1; stroke-width: 1px;\"/><path class=\"ygrid crisp\" transform=\"translate(0,112.99)\" d=\"M80,0h540\" style=\"stroke: rgb(255, 255, 255); stroke-opacity: 1; stroke-width: 1px;\"/></g></g><g class=\"zerolinelayer\"><path class=\"yzl zl crisp\" transform=\"translate(0,370)\" d=\"M80,0h540\" style=\"stroke: rgb(255, 255, 255); stroke-opacity: 1; stroke-width: 2px;\"/></g><path class=\"xlines-below\"/><path class=\"ylines-below\"/><g class=\"overlines-below\"/><g class=\"xaxislayer-below\"/><g class=\"yaxislayer-below\"/><g class=\"overaxes-below\"/><g class=\"plot\" transform=\"translate(80,100)\" clip-path=\"url('#clip638029xyplot')\"><g class=\"barlayer mlayer\"><g class=\"trace bars\" style=\"opacity: 0.7;\"><g class=\"points\"><g class=\"point\"><path d=\"M0,270V213.46H3.55V270Z\" style=\"vector-effect: non-scaling-stroke; opacity: 1; stroke-width: 1.5px; fill: rgb(0, 63, 92); fill-opacity: 1; stroke: rgb(0, 47, 69); stroke-opacity: 1;\"/></g><g class=\"point\"><path d=\"M3.55,270V81.35H7.11V270Z\" style=\"vector-effect: non-scaling-stroke; opacity: 1; stroke-width: 1.5px; fill: rgb(0, 63, 92); fill-opacity: 1; stroke: rgb(0, 47, 69); stroke-opacity: 1;\"/></g><g class=\"point\"><path d=\"M7.11,270V15.04H10.66V270Z\" style=\"vector-effect: non-scaling-stroke; opacity: 1; stroke-width: 1.5px; fill: rgb(0, 63, 92); fill-opacity: 1; stroke: rgb(0, 47, 69); stroke-opacity: 1;\"/></g><g class=\"point\"><path d=\"M10.66,270V13.5H14.21V270Z\" style=\"vector-effect: non-scaling-stroke; opacity: 1; stroke-width: 1.5px; fill: rgb(0, 63, 92); fill-opacity: 1; stroke: rgb(0, 47, 69); stroke-opacity: 1;\"/></g><g class=\"point\"><path d=\"M14.21,270V33.03H17.76V270Z\" style=\"vector-effect: non-scaling-stroke; opacity: 1; stroke-width: 1.5px; fill: rgb(0, 63, 92); fill-opacity: 1; stroke: rgb(0, 47, 69); stroke-opacity: 1;\"/></g><g class=\"point\"><path d=\"M17.76,270V60.79H21.32V270Z\" style=\"vector-effect: non-scaling-stroke; opacity: 1; stroke-width: 1.5px; fill: rgb(0, 63, 92); fill-opacity: 1; stroke: rgb(0, 47, 69); stroke-opacity: 1;\"/></g><g class=\"point\"><path d=\"M21.32,270V82.38H24.87V270Z\" style=\"vector-effect: non-scaling-stroke; opacity: 1; stroke-width: 1.5px; fill: rgb(0, 63, 92); fill-opacity: 1; stroke: rgb(0, 47, 69); stroke-opacity: 1;\"/></g><g class=\"point\"><path d=\"M24.87,270V66.44H28.42V270Z\" style=\"vector-effect: non-scaling-stroke; opacity: 1; stroke-width: 1.5px; fill: rgb(0, 63, 92); fill-opacity: 1; stroke: rgb(0, 47, 69); stroke-opacity: 1;\"/></g><g class=\"point\"><path d=\"M28.42,270V102.94H31.97V270Z\" style=\"vector-effect: non-scaling-stroke; opacity: 1; stroke-width: 1.5px; fill: rgb(0, 63, 92); fill-opacity: 1; stroke: rgb(0, 47, 69); stroke-opacity: 1;\"/></g><g class=\"point\"><path d=\"M31.97,270V102.94H35.53V270Z\" style=\"vector-effect: non-scaling-stroke; opacity: 1; stroke-width: 1.5px; fill: rgb(0, 63, 92); fill-opacity: 1; stroke: rgb(0, 47, 69); stroke-opacity: 1;\"/></g><g class=\"point\"><path d=\"M35.53,270V130.18H39.08V270Z\" style=\"vector-effect: non-scaling-stroke; opacity: 1; stroke-width: 1.5px; fill: rgb(0, 63, 92); fill-opacity: 1; stroke: rgb(0, 47, 69); stroke-opacity: 1;\"/></g><g class=\"point\"><path d=\"M39.08,270V148.69H42.63V270Z\" style=\"vector-effect: non-scaling-stroke; opacity: 1; stroke-width: 1.5px; fill: rgb(0, 63, 92); fill-opacity: 1; stroke: rgb(0, 47, 69); stroke-opacity: 1;\"/></g><g class=\"point\"><path d=\"M42.63,270V148.69H46.18V270Z\" style=\"vector-effect: non-scaling-stroke; opacity: 1; stroke-width: 1.5px; fill: rgb(0, 63, 92); fill-opacity: 1; stroke: rgb(0, 47, 69); stroke-opacity: 1;\"/></g><g class=\"point\"><path d=\"M46.18,270V141.49H49.74V270Z\" style=\"vector-effect: non-scaling-stroke; opacity: 1; stroke-width: 1.5px; fill: rgb(0, 63, 92); fill-opacity: 1; stroke: rgb(0, 47, 69); stroke-opacity: 1;\"/></g><g class=\"point\"><path d=\"M49.74,270V141.49H53.29V270Z\" style=\"vector-effect: non-scaling-stroke; opacity: 1; stroke-width: 1.5px; fill: rgb(0, 63, 92); fill-opacity: 1; stroke: rgb(0, 47, 69); stroke-opacity: 1;\"/></g><g class=\"point\"><path d=\"M53.29,270V181.07H56.84V270Z\" style=\"vector-effect: non-scaling-stroke; opacity: 1; stroke-width: 1.5px; fill: rgb(0, 63, 92); fill-opacity: 1; stroke: rgb(0, 47, 69); stroke-opacity: 1;\"/></g><g class=\"point\"><path d=\"M56.84,270V171.82H60.39V270Z\" style=\"vector-effect: non-scaling-stroke; opacity: 1; stroke-width: 1.5px; fill: rgb(0, 63, 92); fill-opacity: 1; stroke: rgb(0, 47, 69); stroke-opacity: 1;\"/></g><g class=\"point\"><path d=\"M60.39,270V186.73H63.95V270Z\" style=\"vector-effect: non-scaling-stroke; opacity: 1; stroke-width: 1.5px; fill: rgb(0, 63, 92); fill-opacity: 1; stroke: rgb(0, 47, 69); stroke-opacity: 1;\"/></g><g class=\"point\"><path d=\"M63.95,270V195.98H67.5V270Z\" style=\"vector-effect: non-scaling-stroke; opacity: 1; stroke-width: 1.5px; fill: rgb(0, 63, 92); fill-opacity: 1; stroke: rgb(0, 47, 69); stroke-opacity: 1;\"/></g><g class=\"point\"><path d=\"M67.5,270V196.49H71.05V270Z\" style=\"vector-effect: non-scaling-stroke; opacity: 1; stroke-width: 1.5px; fill: rgb(0, 63, 92); fill-opacity: 1; stroke: rgb(0, 47, 69); stroke-opacity: 1;\"/></g><g class=\"point\"><path d=\"M71.05,270V209.34H74.61V270Z\" style=\"vector-effect: non-scaling-stroke; opacity: 1; stroke-width: 1.5px; fill: rgb(0, 63, 92); fill-opacity: 1; stroke: rgb(0, 47, 69); stroke-opacity: 1;\"/></g><g class=\"point\"><path d=\"M74.61,270V207.29H78.16V270Z\" style=\"vector-effect: non-scaling-stroke; opacity: 1; stroke-width: 1.5px; fill: rgb(0, 63, 92); fill-opacity: 1; stroke: rgb(0, 47, 69); stroke-opacity: 1;\"/></g><g class=\"point\"><path d=\"M78.16,270V218.6H81.71V270Z\" style=\"vector-effect: non-scaling-stroke; opacity: 1; stroke-width: 1.5px; fill: rgb(0, 63, 92); fill-opacity: 1; stroke: rgb(0, 47, 69); stroke-opacity: 1;\"/></g><g class=\"point\"><path d=\"M81.71,270V221.68H85.26V270Z\" style=\"vector-effect: non-scaling-stroke; opacity: 1; stroke-width: 1.5px; fill: rgb(0, 63, 92); fill-opacity: 1; stroke: rgb(0, 47, 69); stroke-opacity: 1;\"/></g><g class=\"point\"><path d=\"M85.26,270V235.56H88.82V270Z\" style=\"vector-effect: non-scaling-stroke; opacity: 1; stroke-width: 1.5px; fill: rgb(0, 63, 92); fill-opacity: 1; stroke: rgb(0, 47, 69); stroke-opacity: 1;\"/></g><g class=\"point\"><path d=\"M88.82,270V221.68H92.37V270Z\" style=\"vector-effect: non-scaling-stroke; opacity: 1; stroke-width: 1.5px; fill: rgb(0, 63, 92); fill-opacity: 1; stroke: rgb(0, 47, 69); stroke-opacity: 1;\"/></g><g class=\"point\"><path d=\"M92.37,270V238.13H95.92V270Z\" style=\"vector-effect: non-scaling-stroke; opacity: 1; stroke-width: 1.5px; fill: rgb(0, 63, 92); fill-opacity: 1; stroke: rgb(0, 47, 69); stroke-opacity: 1;\"/></g><g class=\"point\"><path d=\"M95.92,270V232.48H99.47V270Z\" style=\"vector-effect: non-scaling-stroke; opacity: 1; stroke-width: 1.5px; fill: rgb(0, 63, 92); fill-opacity: 1; stroke: rgb(0, 47, 69); stroke-opacity: 1;\"/></g><g class=\"point\"><path d=\"M99.47,270V238.13H103.03V270Z\" style=\"vector-effect: non-scaling-stroke; opacity: 1; stroke-width: 1.5px; fill: rgb(0, 63, 92); fill-opacity: 1; stroke: rgb(0, 47, 69); stroke-opacity: 1;\"/></g><g class=\"point\"><path d=\"M103.03,270V237.62H106.58V270Z\" style=\"vector-effect: non-scaling-stroke; opacity: 1; stroke-width: 1.5px; fill: rgb(0, 63, 92); fill-opacity: 1; stroke: rgb(0, 47, 69); stroke-opacity: 1;\"/></g><g class=\"point\"><path d=\"M106.58,270V242.76H110.13V270Z\" style=\"vector-effect: non-scaling-stroke; opacity: 1; stroke-width: 1.5px; fill: rgb(0, 63, 92); fill-opacity: 1; stroke: rgb(0, 47, 69); stroke-opacity: 1;\"/></g><g class=\"point\"><path d=\"M110.13,270V238.64H113.68V270Z\" style=\"vector-effect: non-scaling-stroke; opacity: 1; stroke-width: 1.5px; fill: rgb(0, 63, 92); fill-opacity: 1; stroke: rgb(0, 47, 69); stroke-opacity: 1;\"/></g><g class=\"point\"><path d=\"M113.68,270V241.21H117.24V270Z\" style=\"vector-effect: non-scaling-stroke; opacity: 1; stroke-width: 1.5px; fill: rgb(0, 63, 92); fill-opacity: 1; stroke: rgb(0, 47, 69); stroke-opacity: 1;\"/></g><g class=\"point\"><path d=\"M117.24,270V246.35H120.79V270Z\" style=\"vector-effect: non-scaling-stroke; opacity: 1; stroke-width: 1.5px; fill: rgb(0, 63, 92); fill-opacity: 1; stroke: rgb(0, 47, 69); stroke-opacity: 1;\"/></g><g class=\"point\"><path d=\"M120.79,270V250.47H124.34V270Z\" style=\"vector-effect: non-scaling-stroke; opacity: 1; stroke-width: 1.5px; fill: rgb(0, 63, 92); fill-opacity: 1; stroke: rgb(0, 47, 69); stroke-opacity: 1;\"/></g><g class=\"point\"><path d=\"M124.34,270V252.52H127.89V270Z\" style=\"vector-effect: non-scaling-stroke; opacity: 1; stroke-width: 1.5px; fill: rgb(0, 63, 92); fill-opacity: 1; stroke: rgb(0, 47, 69); stroke-opacity: 1;\"/></g><g class=\"point\"><path d=\"M127.89,270V256.12H131.45V270Z\" style=\"vector-effect: non-scaling-stroke; opacity: 1; stroke-width: 1.5px; fill: rgb(0, 63, 92); fill-opacity: 1; stroke: rgb(0, 47, 69); stroke-opacity: 1;\"/></g><g class=\"point\"><path d=\"M131.45,270V256.12H135V270Z\" style=\"vector-effect: non-scaling-stroke; opacity: 1; stroke-width: 1.5px; fill: rgb(0, 63, 92); fill-opacity: 1; stroke: rgb(0, 47, 69); stroke-opacity: 1;\"/></g><g class=\"point\"><path d=\"M135,270V257.66H138.55V270Z\" style=\"vector-effect: non-scaling-stroke; opacity: 1; stroke-width: 1.5px; fill: rgb(0, 63, 92); fill-opacity: 1; stroke: rgb(0, 47, 69); stroke-opacity: 1;\"/></g><g class=\"point\"><path d=\"M138.55,270V255.61H142.11V270Z\" style=\"vector-effect: non-scaling-stroke; opacity: 1; stroke-width: 1.5px; fill: rgb(0, 63, 92); fill-opacity: 1; stroke: rgb(0, 47, 69); stroke-opacity: 1;\"/></g><g class=\"point\"><path d=\"M142.11,270V256.12H145.66V270Z\" style=\"vector-effect: non-scaling-stroke; opacity: 1; stroke-width: 1.5px; fill: rgb(0, 63, 92); fill-opacity: 1; stroke: rgb(0, 47, 69); stroke-opacity: 1;\"/></g><g class=\"point\"><path d=\"M145.66,270V257.15H149.21V270Z\" style=\"vector-effect: non-scaling-stroke; opacity: 1; stroke-width: 1.5px; fill: rgb(0, 63, 92); fill-opacity: 1; stroke: rgb(0, 47, 69); stroke-opacity: 1;\"/></g><g class=\"point\"><path d=\"M149.21,270V258.18H152.76V270Z\" style=\"vector-effect: non-scaling-stroke; opacity: 1; stroke-width: 1.5px; fill: rgb(0, 63, 92); fill-opacity: 1; stroke: rgb(0, 47, 69); stroke-opacity: 1;\"/></g><g class=\"point\"><path d=\"M152.76,270V257.15H156.32V270Z\" style=\"vector-effect: non-scaling-stroke; opacity: 1; stroke-width: 1.5px; fill: rgb(0, 63, 92); fill-opacity: 1; stroke: rgb(0, 47, 69); stroke-opacity: 1;\"/></g><g class=\"point\"><path d=\"M156.32,270V258.69H159.87V270Z\" style=\"vector-effect: non-scaling-stroke; opacity: 1; stroke-width: 1.5px; fill: rgb(0, 63, 92); fill-opacity: 1; stroke: rgb(0, 47, 69); stroke-opacity: 1;\"/></g><g class=\"point\"><path d=\"M159.87,270V260.75H163.42V270Z\" style=\"vector-effect: non-scaling-stroke; opacity: 1; stroke-width: 1.5px; fill: rgb(0, 63, 92); fill-opacity: 1; stroke: rgb(0, 47, 69); stroke-opacity: 1;\"/></g><g class=\"point\"><path d=\"M163.42,270V262.29H166.97V270Z\" style=\"vector-effect: non-scaling-stroke; opacity: 1; stroke-width: 1.5px; fill: rgb(0, 63, 92); fill-opacity: 1; stroke: rgb(0, 47, 69); stroke-opacity: 1;\"/></g><g class=\"point\"><path d=\"M166.97,270V261.26H170.53V270Z\" style=\"vector-effect: non-scaling-stroke; opacity: 1; stroke-width: 1.5px; fill: rgb(0, 63, 92); fill-opacity: 1; stroke: rgb(0, 47, 69); stroke-opacity: 1;\"/></g><g class=\"point\"><path d=\"M170.53,270V268.46H174.08V270Z\" style=\"vector-effect: non-scaling-stroke; opacity: 1; stroke-width: 1.5px; fill: rgb(0, 63, 92); fill-opacity: 1; stroke: rgb(0, 47, 69); stroke-opacity: 1;\"/></g><g class=\"point\"><path d=\"M174.08,270V261.78H177.63V270Z\" style=\"vector-effect: non-scaling-stroke; opacity: 1; stroke-width: 1.5px; fill: rgb(0, 63, 92); fill-opacity: 1; stroke: rgb(0, 47, 69); stroke-opacity: 1;\"/></g><g class=\"point\"><path d=\"M177.63,270V265.89H181.18V270Z\" style=\"vector-effect: non-scaling-stroke; opacity: 1; stroke-width: 1.5px; fill: rgb(0, 63, 92); fill-opacity: 1; stroke: rgb(0, 47, 69); stroke-opacity: 1;\"/></g><g class=\"point\"><path d=\"M181.18,270V262.29H184.74V270Z\" style=\"vector-effect: non-scaling-stroke; opacity: 1; stroke-width: 1.5px; fill: rgb(0, 63, 92); fill-opacity: 1; stroke: rgb(0, 47, 69); stroke-opacity: 1;\"/></g><g class=\"point\"><path d=\"M184.74,270V263.83H188.29V270Z\" style=\"vector-effect: non-scaling-stroke; opacity: 1; stroke-width: 1.5px; fill: rgb(0, 63, 92); fill-opacity: 1; stroke: rgb(0, 47, 69); stroke-opacity: 1;\"/></g><g class=\"point\"><path d=\"M188.29,270V265.89H191.84V270Z\" style=\"vector-effect: non-scaling-stroke; opacity: 1; stroke-width: 1.5px; fill: rgb(0, 63, 92); fill-opacity: 1; stroke: rgb(0, 47, 69); stroke-opacity: 1;\"/></g><g class=\"point\"><path d=\"M191.84,270V264.35H195.39V270Z\" style=\"vector-effect: non-scaling-stroke; opacity: 1; stroke-width: 1.5px; fill: rgb(0, 63, 92); fill-opacity: 1; stroke: rgb(0, 47, 69); stroke-opacity: 1;\"/></g><g class=\"point\"><path d=\"M195.39,270V264.35H198.95V270Z\" style=\"vector-effect: non-scaling-stroke; opacity: 1; stroke-width: 1.5px; fill: rgb(0, 63, 92); fill-opacity: 1; stroke: rgb(0, 47, 69); stroke-opacity: 1;\"/></g><g class=\"point\"><path d=\"M198.95,270V266.4H202.5V270Z\" style=\"vector-effect: non-scaling-stroke; opacity: 1; stroke-width: 1.5px; fill: rgb(0, 63, 92); fill-opacity: 1; stroke: rgb(0, 47, 69); stroke-opacity: 1;\"/></g><g class=\"point\"><path d=\"M202.5,270V267.94H206.05V270Z\" style=\"vector-effect: non-scaling-stroke; opacity: 1; stroke-width: 1.5px; fill: rgb(0, 63, 92); fill-opacity: 1; stroke: rgb(0, 47, 69); stroke-opacity: 1;\"/></g><g class=\"point\"><path d=\"M206.05,270V265.89H209.61V270Z\" style=\"vector-effect: non-scaling-stroke; opacity: 1; stroke-width: 1.5px; fill: rgb(0, 63, 92); fill-opacity: 1; stroke: rgb(0, 47, 69); stroke-opacity: 1;\"/></g><g class=\"point\"><path d=\"M209.61,270V265.37H213.16V270Z\" style=\"vector-effect: non-scaling-stroke; opacity: 1; stroke-width: 1.5px; fill: rgb(0, 63, 92); fill-opacity: 1; stroke: rgb(0, 47, 69); stroke-opacity: 1;\"/></g><g class=\"point\"><path d=\"M213.16,270V264.86H216.71V270Z\" style=\"vector-effect: non-scaling-stroke; opacity: 1; stroke-width: 1.5px; fill: rgb(0, 63, 92); fill-opacity: 1; stroke: rgb(0, 47, 69); stroke-opacity: 1;\"/></g><g class=\"point\"><path d=\"M216.71,270V268.46H220.26V270Z\" style=\"vector-effect: non-scaling-stroke; opacity: 1; stroke-width: 1.5px; fill: rgb(0, 63, 92); fill-opacity: 1; stroke: rgb(0, 47, 69); stroke-opacity: 1;\"/></g><g class=\"point\"><path d=\"M220.26,270V265.89H223.82V270Z\" style=\"vector-effect: non-scaling-stroke; opacity: 1; stroke-width: 1.5px; fill: rgb(0, 63, 92); fill-opacity: 1; stroke: rgb(0, 47, 69); stroke-opacity: 1;\"/></g><g class=\"point\"><path d=\"M223.82,270V264.86H227.37V270Z\" style=\"vector-effect: non-scaling-stroke; opacity: 1; stroke-width: 1.5px; fill: rgb(0, 63, 92); fill-opacity: 1; stroke: rgb(0, 47, 69); stroke-opacity: 1;\"/></g><g class=\"point\"><path d=\"M227.37,270V266.92H230.92V270Z\" style=\"vector-effect: non-scaling-stroke; opacity: 1; stroke-width: 1.5px; fill: rgb(0, 63, 92); fill-opacity: 1; stroke: rgb(0, 47, 69); stroke-opacity: 1;\"/></g><g class=\"point\"><path d=\"M230.92,270V266.92H234.47V270Z\" style=\"vector-effect: non-scaling-stroke; opacity: 1; stroke-width: 1.5px; fill: rgb(0, 63, 92); fill-opacity: 1; stroke: rgb(0, 47, 69); stroke-opacity: 1;\"/></g><g class=\"point\"><path d=\"M234.47,270V265.89H238.03V270Z\" style=\"vector-effect: non-scaling-stroke; opacity: 1; stroke-width: 1.5px; fill: rgb(0, 63, 92); fill-opacity: 1; stroke: rgb(0, 47, 69); stroke-opacity: 1;\"/></g><g class=\"point\"><path d=\"M238.03,270V266.92H241.58V270Z\" style=\"vector-effect: non-scaling-stroke; opacity: 1; stroke-width: 1.5px; fill: rgb(0, 63, 92); fill-opacity: 1; stroke: rgb(0, 47, 69); stroke-opacity: 1;\"/></g><g class=\"point\"><path d=\"M241.58,270V266.92H245.13V270Z\" style=\"vector-effect: non-scaling-stroke; opacity: 1; stroke-width: 1.5px; fill: rgb(0, 63, 92); fill-opacity: 1; stroke: rgb(0, 47, 69); stroke-opacity: 1;\"/></g><g class=\"point\"><path d=\"M245.13,270V269.49H248.68V270Z\" style=\"vector-effect: non-scaling-stroke; opacity: 1; stroke-width: 1.5px; fill: rgb(0, 63, 92); fill-opacity: 1; stroke: rgb(0, 47, 69); stroke-opacity: 1;\"/></g><g class=\"point\"><path d=\"M248.68,270V269.49H252.24V270Z\" style=\"vector-effect: non-scaling-stroke; opacity: 1; stroke-width: 1.5px; fill: rgb(0, 63, 92); fill-opacity: 1; stroke: rgb(0, 47, 69); stroke-opacity: 1;\"/></g><g class=\"point\"><path d=\"M252.24,270V268.46H255.79V270Z\" style=\"vector-effect: non-scaling-stroke; opacity: 1; stroke-width: 1.5px; fill: rgb(0, 63, 92); fill-opacity: 1; stroke: rgb(0, 47, 69); stroke-opacity: 1;\"/></g><g class=\"point\"><path d=\"M255.79,270V268.46H259.34V270Z\" style=\"vector-effect: non-scaling-stroke; opacity: 1; stroke-width: 1.5px; fill: rgb(0, 63, 92); fill-opacity: 1; stroke: rgb(0, 47, 69); stroke-opacity: 1;\"/></g><g class=\"point\"><path d=\"M259.34,270V269.49H262.89V270Z\" style=\"vector-effect: non-scaling-stroke; opacity: 1; stroke-width: 1.5px; fill: rgb(0, 63, 92); fill-opacity: 1; stroke: rgb(0, 47, 69); stroke-opacity: 1;\"/></g><g class=\"point\"><path d=\"M262.89,270V267.94H266.45V270Z\" style=\"vector-effect: non-scaling-stroke; opacity: 1; stroke-width: 1.5px; fill: rgb(0, 63, 92); fill-opacity: 1; stroke: rgb(0, 47, 69); stroke-opacity: 1;\"/></g><g class=\"point\"><path d=\"M266.45,270V269.49H270V270Z\" style=\"vector-effect: non-scaling-stroke; opacity: 1; stroke-width: 1.5px; fill: rgb(0, 63, 92); fill-opacity: 1; stroke: rgb(0, 47, 69); stroke-opacity: 1;\"/></g><g class=\"point\"><path d=\"M270,270V268.46H273.55V270Z\" style=\"vector-effect: non-scaling-stroke; opacity: 1; stroke-width: 1.5px; fill: rgb(0, 63, 92); fill-opacity: 1; stroke: rgb(0, 47, 69); stroke-opacity: 1;\"/></g><g class=\"point\"><path d=\"M273.55,270V269.49H277.11V270Z\" style=\"vector-effect: non-scaling-stroke; opacity: 1; stroke-width: 1.5px; fill: rgb(0, 63, 92); fill-opacity: 1; stroke: rgb(0, 47, 69); stroke-opacity: 1;\"/></g><g class=\"point\"><path d=\"M277.11,270V268.46H280.66V270Z\" style=\"vector-effect: non-scaling-stroke; opacity: 1; stroke-width: 1.5px; fill: rgb(0, 63, 92); fill-opacity: 1; stroke: rgb(0, 47, 69); stroke-opacity: 1;\"/></g><g class=\"point\"><path d=\"M280.66,270V267.94H284.21V270Z\" style=\"vector-effect: non-scaling-stroke; opacity: 1; stroke-width: 1.5px; fill: rgb(0, 63, 92); fill-opacity: 1; stroke: rgb(0, 47, 69); stroke-opacity: 1;\"/></g><g class=\"point\"><path d=\"M284.21,270V268.46H287.76V270Z\" style=\"vector-effect: non-scaling-stroke; opacity: 1; stroke-width: 1.5px; fill: rgb(0, 63, 92); fill-opacity: 1; stroke: rgb(0, 47, 69); stroke-opacity: 1;\"/></g><g class=\"point\"><path d=\"M287.76,270V268.97H291.32V270Z\" style=\"vector-effect: non-scaling-stroke; opacity: 1; stroke-width: 1.5px; fill: rgb(0, 63, 92); fill-opacity: 1; stroke: rgb(0, 47, 69); stroke-opacity: 1;\"/></g><g class=\"point\"><path d=\"M291.32,270V267.43H294.87V270Z\" style=\"vector-effect: non-scaling-stroke; opacity: 1; stroke-width: 1.5px; fill: rgb(0, 63, 92); fill-opacity: 1; stroke: rgb(0, 47, 69); stroke-opacity: 1;\"/></g><g class=\"point\"><path d=\"M294.87,270V268.97H298.42V270Z\" style=\"vector-effect: non-scaling-stroke; opacity: 1; stroke-width: 1.5px; fill: rgb(0, 63, 92); fill-opacity: 1; stroke: rgb(0, 47, 69); stroke-opacity: 1;\"/></g><g class=\"point\"><path d=\"M298.42,270V268.46H301.97V270Z\" style=\"vector-effect: non-scaling-stroke; opacity: 1; stroke-width: 1.5px; fill: rgb(0, 63, 92); fill-opacity: 1; stroke: rgb(0, 47, 69); stroke-opacity: 1;\"/></g><g class=\"point\"><path d=\"M301.97,270V268.97H305.53V270Z\" style=\"vector-effect: non-scaling-stroke; opacity: 1; stroke-width: 1.5px; fill: rgb(0, 63, 92); fill-opacity: 1; stroke: rgb(0, 47, 69); stroke-opacity: 1;\"/></g><g class=\"point\"><path d=\"M305.53,270V267.94H309.08V270Z\" style=\"vector-effect: non-scaling-stroke; opacity: 1; stroke-width: 1.5px; fill: rgb(0, 63, 92); fill-opacity: 1; stroke: rgb(0, 47, 69); stroke-opacity: 1;\"/></g><g class=\"point\"><path d=\"M309.08,270V268.97H312.63V270Z\" style=\"vector-effect: non-scaling-stroke; opacity: 1; stroke-width: 1.5px; fill: rgb(0, 63, 92); fill-opacity: 1; stroke: rgb(0, 47, 69); stroke-opacity: 1;\"/></g><g class=\"point\"><path d=\"M0,0Z\" style=\"vector-effect: non-scaling-stroke; opacity: 1; stroke-width: 0px; fill: rgb(0, 63, 92); fill-opacity: 1; stroke: rgb(0, 47, 69); stroke-opacity: 1;\"/></g><g class=\"point\"><path d=\"M316.18,270V268.46H319.74V270Z\" style=\"vector-effect: non-scaling-stroke; opacity: 1; stroke-width: 1.5px; fill: rgb(0, 63, 92); fill-opacity: 1; stroke: rgb(0, 47, 69); stroke-opacity: 1;\"/></g><g class=\"point\"><path d=\"M319.74,270V269.49H323.29V270Z\" style=\"vector-effect: non-scaling-stroke; opacity: 1; stroke-width: 1.5px; fill: rgb(0, 63, 92); fill-opacity: 1; stroke: rgb(0, 47, 69); stroke-opacity: 1;\"/></g><g class=\"point\"><path d=\"M323.29,270V269.49H326.84V270Z\" style=\"vector-effect: non-scaling-stroke; opacity: 1; stroke-width: 1.5px; fill: rgb(0, 63, 92); fill-opacity: 1; stroke: rgb(0, 47, 69); stroke-opacity: 1;\"/></g><g class=\"point\"><path d=\"M326.84,270V269.49H330.39V270Z\" style=\"vector-effect: non-scaling-stroke; opacity: 1; stroke-width: 1.5px; fill: rgb(0, 63, 92); fill-opacity: 1; stroke: rgb(0, 47, 69); stroke-opacity: 1;\"/></g><g class=\"point\"><path d=\"M330.39,270V269.49H333.95V270Z\" style=\"vector-effect: non-scaling-stroke; opacity: 1; stroke-width: 1.5px; fill: rgb(0, 63, 92); fill-opacity: 1; stroke: rgb(0, 47, 69); stroke-opacity: 1;\"/></g><g class=\"point\"><path d=\"M333.95,270V269.49H337.5V270Z\" style=\"vector-effect: non-scaling-stroke; opacity: 1; stroke-width: 1.5px; fill: rgb(0, 63, 92); fill-opacity: 1; stroke: rgb(0, 47, 69); stroke-opacity: 1;\"/></g><g class=\"point\"><path d=\"M337.5,270V268.97H341.05V270Z\" style=\"vector-effect: non-scaling-stroke; opacity: 1; stroke-width: 1.5px; fill: rgb(0, 63, 92); fill-opacity: 1; stroke: rgb(0, 47, 69); stroke-opacity: 1;\"/></g><g class=\"point\"><path d=\"M341.05,270V268.97H344.61V270Z\" style=\"vector-effect: non-scaling-stroke; opacity: 1; stroke-width: 1.5px; fill: rgb(0, 63, 92); fill-opacity: 1; stroke: rgb(0, 47, 69); stroke-opacity: 1;\"/></g><g class=\"point\"><path d=\"M344.61,270V269.49H348.16V270Z\" style=\"vector-effect: non-scaling-stroke; opacity: 1; stroke-width: 1.5px; fill: rgb(0, 63, 92); fill-opacity: 1; stroke: rgb(0, 47, 69); stroke-opacity: 1;\"/></g><g class=\"point\"><path d=\"M0,0Z\" style=\"vector-effect: non-scaling-stroke; opacity: 1; stroke-width: 0px; fill: rgb(0, 63, 92); fill-opacity: 1; stroke: rgb(0, 47, 69); stroke-opacity: 1;\"/></g><g class=\"point\"><path d=\"M351.71,270V269.49H355.26V270Z\" style=\"vector-effect: non-scaling-stroke; opacity: 1; stroke-width: 1.5px; fill: rgb(0, 63, 92); fill-opacity: 1; stroke: rgb(0, 47, 69); stroke-opacity: 1;\"/></g><g class=\"point\"><path d=\"M0,0Z\" style=\"vector-effect: non-scaling-stroke; opacity: 1; stroke-width: 0px; fill: rgb(0, 63, 92); fill-opacity: 1; stroke: rgb(0, 47, 69); stroke-opacity: 1;\"/></g><g class=\"point\"><path d=\"M358.82,270V269.49H362.37V270Z\" style=\"vector-effect: non-scaling-stroke; opacity: 1; stroke-width: 1.5px; fill: rgb(0, 63, 92); fill-opacity: 1; stroke: rgb(0, 47, 69); stroke-opacity: 1;\"/></g><g class=\"point\"><path d=\"M0,0Z\" style=\"vector-effect: non-scaling-stroke; opacity: 1; stroke-width: 0px; fill: rgb(0, 63, 92); fill-opacity: 1; stroke: rgb(0, 47, 69); stroke-opacity: 1;\"/></g><g class=\"point\"><path d=\"M0,0Z\" style=\"vector-effect: non-scaling-stroke; opacity: 1; stroke-width: 0px; fill: rgb(0, 63, 92); fill-opacity: 1; stroke: rgb(0, 47, 69); stroke-opacity: 1;\"/></g><g class=\"point\"><path d=\"M369.47,270V269.49H373.03V270Z\" style=\"vector-effect: non-scaling-stroke; opacity: 1; stroke-width: 1.5px; fill: rgb(0, 63, 92); fill-opacity: 1; stroke: rgb(0, 47, 69); stroke-opacity: 1;\"/></g><g class=\"point\"><path d=\"M373.03,270V269.49H376.58V270Z\" style=\"vector-effect: non-scaling-stroke; opacity: 1; stroke-width: 1.5px; fill: rgb(0, 63, 92); fill-opacity: 1; stroke: rgb(0, 47, 69); stroke-opacity: 1;\"/></g><g class=\"point\"><path d=\"M0,0Z\" style=\"vector-effect: non-scaling-stroke; opacity: 1; stroke-width: 0px; fill: rgb(0, 63, 92); fill-opacity: 1; stroke: rgb(0, 47, 69); stroke-opacity: 1;\"/></g><g class=\"point\"><path d=\"M0,0Z\" style=\"vector-effect: non-scaling-stroke; opacity: 1; stroke-width: 0px; fill: rgb(0, 63, 92); fill-opacity: 1; stroke: rgb(0, 47, 69); stroke-opacity: 1;\"/></g><g class=\"point\"><path d=\"M0,0Z\" style=\"vector-effect: non-scaling-stroke; opacity: 1; stroke-width: 0px; fill: rgb(0, 63, 92); fill-opacity: 1; stroke: rgb(0, 47, 69); stroke-opacity: 1;\"/></g><g class=\"point\"><path d=\"M387.24,270V269.49H390.79V270Z\" style=\"vector-effect: non-scaling-stroke; opacity: 1; stroke-width: 1.5px; fill: rgb(0, 63, 92); fill-opacity: 1; stroke: rgb(0, 47, 69); stroke-opacity: 1;\"/></g><g class=\"point\"><path d=\"M0,0Z\" style=\"vector-effect: non-scaling-stroke; opacity: 1; stroke-width: 0px; fill: rgb(0, 63, 92); fill-opacity: 1; stroke: rgb(0, 47, 69); stroke-opacity: 1;\"/></g><g class=\"point\"><path d=\"M394.34,270V269.49H397.89V270Z\" style=\"vector-effect: non-scaling-stroke; opacity: 1; stroke-width: 1.5px; fill: rgb(0, 63, 92); fill-opacity: 1; stroke: rgb(0, 47, 69); stroke-opacity: 1;\"/></g><g class=\"point\"><path d=\"M0,0Z\" style=\"vector-effect: non-scaling-stroke; opacity: 1; stroke-width: 0px; fill: rgb(0, 63, 92); fill-opacity: 1; stroke: rgb(0, 47, 69); stroke-opacity: 1;\"/></g><g class=\"point\"><path d=\"M0,0Z\" style=\"vector-effect: non-scaling-stroke; opacity: 1; stroke-width: 0px; fill: rgb(0, 63, 92); fill-opacity: 1; stroke: rgb(0, 47, 69); stroke-opacity: 1;\"/></g><g class=\"point\"><path d=\"M0,0Z\" style=\"vector-effect: non-scaling-stroke; opacity: 1; stroke-width: 0px; fill: rgb(0, 63, 92); fill-opacity: 1; stroke: rgb(0, 47, 69); stroke-opacity: 1;\"/></g><g class=\"point\"><path d=\"M0,0Z\" style=\"vector-effect: non-scaling-stroke; opacity: 1; stroke-width: 0px; fill: rgb(0, 63, 92); fill-opacity: 1; stroke: rgb(0, 47, 69); stroke-opacity: 1;\"/></g><g class=\"point\"><path d=\"M0,0Z\" style=\"vector-effect: non-scaling-stroke; opacity: 1; stroke-width: 0px; fill: rgb(0, 63, 92); fill-opacity: 1; stroke: rgb(0, 47, 69); stroke-opacity: 1;\"/></g><g class=\"point\"><path d=\"M415.66,270V269.49H419.21V270Z\" style=\"vector-effect: non-scaling-stroke; opacity: 1; stroke-width: 1.5px; fill: rgb(0, 63, 92); fill-opacity: 1; stroke: rgb(0, 47, 69); stroke-opacity: 1;\"/></g><g class=\"point\"><path d=\"M0,0Z\" style=\"vector-effect: non-scaling-stroke; opacity: 1; stroke-width: 0px; fill: rgb(0, 63, 92); fill-opacity: 1; stroke: rgb(0, 47, 69); stroke-opacity: 1;\"/></g><g class=\"point\"><path d=\"M0,0Z\" style=\"vector-effect: non-scaling-stroke; opacity: 1; stroke-width: 0px; fill: rgb(0, 63, 92); fill-opacity: 1; stroke: rgb(0, 47, 69); stroke-opacity: 1;\"/></g><g class=\"point\"><path d=\"M0,0Z\" style=\"vector-effect: non-scaling-stroke; opacity: 1; stroke-width: 0px; fill: rgb(0, 63, 92); fill-opacity: 1; stroke: rgb(0, 47, 69); stroke-opacity: 1;\"/></g><g class=\"point\"><path d=\"M0,0Z\" style=\"vector-effect: non-scaling-stroke; opacity: 1; stroke-width: 0px; fill: rgb(0, 63, 92); fill-opacity: 1; stroke: rgb(0, 47, 69); stroke-opacity: 1;\"/></g><g class=\"point\"><path d=\"M0,0Z\" style=\"vector-effect: non-scaling-stroke; opacity: 1; stroke-width: 0px; fill: rgb(0, 63, 92); fill-opacity: 1; stroke: rgb(0, 47, 69); stroke-opacity: 1;\"/></g><g class=\"point\"><path d=\"M0,0Z\" style=\"vector-effect: non-scaling-stroke; opacity: 1; stroke-width: 0px; fill: rgb(0, 63, 92); fill-opacity: 1; stroke: rgb(0, 47, 69); stroke-opacity: 1;\"/></g><g class=\"point\"><path d=\"M0,0Z\" style=\"vector-effect: non-scaling-stroke; opacity: 1; stroke-width: 0px; fill: rgb(0, 63, 92); fill-opacity: 1; stroke: rgb(0, 47, 69); stroke-opacity: 1;\"/></g><g class=\"point\"><path d=\"M0,0Z\" style=\"vector-effect: non-scaling-stroke; opacity: 1; stroke-width: 0px; fill: rgb(0, 63, 92); fill-opacity: 1; stroke: rgb(0, 47, 69); stroke-opacity: 1;\"/></g><g class=\"point\"><path d=\"M0,0Z\" style=\"vector-effect: non-scaling-stroke; opacity: 1; stroke-width: 0px; fill: rgb(0, 63, 92); fill-opacity: 1; stroke: rgb(0, 47, 69); stroke-opacity: 1;\"/></g><g class=\"point\"><path d=\"M0,0Z\" style=\"vector-effect: non-scaling-stroke; opacity: 1; stroke-width: 0px; fill: rgb(0, 63, 92); fill-opacity: 1; stroke: rgb(0, 47, 69); stroke-opacity: 1;\"/></g><g class=\"point\"><path d=\"M0,0Z\" style=\"vector-effect: non-scaling-stroke; opacity: 1; stroke-width: 0px; fill: rgb(0, 63, 92); fill-opacity: 1; stroke: rgb(0, 47, 69); stroke-opacity: 1;\"/></g><g class=\"point\"><path d=\"M0,0Z\" style=\"vector-effect: non-scaling-stroke; opacity: 1; stroke-width: 0px; fill: rgb(0, 63, 92); fill-opacity: 1; stroke: rgb(0, 47, 69); stroke-opacity: 1;\"/></g><g class=\"point\"><path d=\"M461.84,270V269.49H465.39V270Z\" style=\"vector-effect: non-scaling-stroke; opacity: 1; stroke-width: 1.5px; fill: rgb(0, 63, 92); fill-opacity: 1; stroke: rgb(0, 47, 69); stroke-opacity: 1;\"/></g><g class=\"point\"><path d=\"M0,0Z\" style=\"vector-effect: non-scaling-stroke; opacity: 1; stroke-width: 0px; fill: rgb(0, 63, 92); fill-opacity: 1; stroke: rgb(0, 47, 69); stroke-opacity: 1;\"/></g><g class=\"point\"><path d=\"M0,0Z\" style=\"vector-effect: non-scaling-stroke; opacity: 1; stroke-width: 0px; fill: rgb(0, 63, 92); fill-opacity: 1; stroke: rgb(0, 47, 69); stroke-opacity: 1;\"/></g><g class=\"point\"><path d=\"M0,0Z\" style=\"vector-effect: non-scaling-stroke; opacity: 1; stroke-width: 0px; fill: rgb(0, 63, 92); fill-opacity: 1; stroke: rgb(0, 47, 69); stroke-opacity: 1;\"/></g><g class=\"point\"><path d=\"M0,0Z\" style=\"vector-effect: non-scaling-stroke; opacity: 1; stroke-width: 0px; fill: rgb(0, 63, 92); fill-opacity: 1; stroke: rgb(0, 47, 69); stroke-opacity: 1;\"/></g><g class=\"point\"><path d=\"M479.61,270V269.49H483.16V270Z\" style=\"vector-effect: non-scaling-stroke; opacity: 1; stroke-width: 1.5px; fill: rgb(0, 63, 92); fill-opacity: 1; stroke: rgb(0, 47, 69); stroke-opacity: 1;\"/></g><g class=\"point\"><path d=\"M0,0Z\" style=\"vector-effect: non-scaling-stroke; opacity: 1; stroke-width: 0px; fill: rgb(0, 63, 92); fill-opacity: 1; stroke: rgb(0, 47, 69); stroke-opacity: 1;\"/></g><g class=\"point\"><path d=\"M0,0Z\" style=\"vector-effect: non-scaling-stroke; opacity: 1; stroke-width: 0px; fill: rgb(0, 63, 92); fill-opacity: 1; stroke: rgb(0, 47, 69); stroke-opacity: 1;\"/></g><g class=\"point\"><path d=\"M0,0Z\" style=\"vector-effect: non-scaling-stroke; opacity: 1; stroke-width: 0px; fill: rgb(0, 63, 92); fill-opacity: 1; stroke: rgb(0, 47, 69); stroke-opacity: 1;\"/></g><g class=\"point\"><path d=\"M0,0Z\" style=\"vector-effect: non-scaling-stroke; opacity: 1; stroke-width: 0px; fill: rgb(0, 63, 92); fill-opacity: 1; stroke: rgb(0, 47, 69); stroke-opacity: 1;\"/></g><g class=\"point\"><path d=\"M0,0Z\" style=\"vector-effect: non-scaling-stroke; opacity: 1; stroke-width: 0px; fill: rgb(0, 63, 92); fill-opacity: 1; stroke: rgb(0, 47, 69); stroke-opacity: 1;\"/></g><g class=\"point\"><path d=\"M0,0Z\" style=\"vector-effect: non-scaling-stroke; opacity: 1; stroke-width: 0px; fill: rgb(0, 63, 92); fill-opacity: 1; stroke: rgb(0, 47, 69); stroke-opacity: 1;\"/></g><g class=\"point\"><path d=\"M0,0Z\" style=\"vector-effect: non-scaling-stroke; opacity: 1; stroke-width: 0px; fill: rgb(0, 63, 92); fill-opacity: 1; stroke: rgb(0, 47, 69); stroke-opacity: 1;\"/></g><g class=\"point\"><path d=\"M0,0Z\" style=\"vector-effect: non-scaling-stroke; opacity: 1; stroke-width: 0px; fill: rgb(0, 63, 92); fill-opacity: 1; stroke: rgb(0, 47, 69); stroke-opacity: 1;\"/></g><g class=\"point\"><path d=\"M0,0Z\" style=\"vector-effect: non-scaling-stroke; opacity: 1; stroke-width: 0px; fill: rgb(0, 63, 92); fill-opacity: 1; stroke: rgb(0, 47, 69); stroke-opacity: 1;\"/></g><g class=\"point\"><path d=\"M0,0Z\" style=\"vector-effect: non-scaling-stroke; opacity: 1; stroke-width: 0px; fill: rgb(0, 63, 92); fill-opacity: 1; stroke: rgb(0, 47, 69); stroke-opacity: 1;\"/></g><g class=\"point\"><path d=\"M0,0Z\" style=\"vector-effect: non-scaling-stroke; opacity: 1; stroke-width: 0px; fill: rgb(0, 63, 92); fill-opacity: 1; stroke: rgb(0, 47, 69); stroke-opacity: 1;\"/></g><g class=\"point\"><path d=\"M0,0Z\" style=\"vector-effect: non-scaling-stroke; opacity: 1; stroke-width: 0px; fill: rgb(0, 63, 92); fill-opacity: 1; stroke: rgb(0, 47, 69); stroke-opacity: 1;\"/></g><g class=\"point\"><path d=\"M0,0Z\" style=\"vector-effect: non-scaling-stroke; opacity: 1; stroke-width: 0px; fill: rgb(0, 63, 92); fill-opacity: 1; stroke: rgb(0, 47, 69); stroke-opacity: 1;\"/></g><g class=\"point\"><path d=\"M0,0Z\" style=\"vector-effect: non-scaling-stroke; opacity: 1; stroke-width: 0px; fill: rgb(0, 63, 92); fill-opacity: 1; stroke: rgb(0, 47, 69); stroke-opacity: 1;\"/></g><g class=\"point\"><path d=\"M0,0Z\" style=\"vector-effect: non-scaling-stroke; opacity: 1; stroke-width: 0px; fill: rgb(0, 63, 92); fill-opacity: 1; stroke: rgb(0, 47, 69); stroke-opacity: 1;\"/></g><g class=\"point\"><path d=\"M536.45,270V269.49H540V270Z\" style=\"vector-effect: non-scaling-stroke; opacity: 1; stroke-width: 1.5px; fill: rgb(0, 63, 92); fill-opacity: 1; stroke: rgb(0, 47, 69); stroke-opacity: 1;\"/></g></g></g></g></g><g class=\"overplot\"/><path class=\"xlines-above crisp\" d=\"M0,0\" style=\"fill: none;\"/><path class=\"ylines-above crisp\" d=\"M0,0\" style=\"fill: none;\"/><g class=\"overlines-above\"/><g class=\"xaxislayer-above\"><g class=\"xtick\"><text text-anchor=\"middle\" x=\"0\" y=\"383\" transform=\"translate(80.89,0)\" style=\"font-family: 'Open Sans', verdana, arial, sans-serif; font-size: 12px; fill: rgb(42, 63, 95); fill-opacity: 1; white-space: pre;\">0</text></g><g class=\"xtick\"><text text-anchor=\"middle\" x=\"0\" y=\"383\" transform=\"translate(169.7,0)\" style=\"font-family: 'Open Sans', verdana, arial, sans-serif; font-size: 12px; fill: rgb(42, 63, 95); fill-opacity: 1; white-space: pre;\">50</text></g><g class=\"xtick\"><text text-anchor=\"middle\" x=\"0\" y=\"383\" transform=\"translate(258.52,0)\" style=\"font-family: 'Open Sans', verdana, arial, sans-serif; font-size: 12px; fill: rgb(42, 63, 95); fill-opacity: 1; white-space: pre;\">100</text></g><g class=\"xtick\"><text text-anchor=\"middle\" x=\"0\" y=\"383\" transform=\"translate(347.34,0)\" style=\"font-family: 'Open Sans', verdana, arial, sans-serif; font-size: 12px; fill: rgb(42, 63, 95); fill-opacity: 1; white-space: pre;\">150</text></g><g class=\"xtick\"><text text-anchor=\"middle\" x=\"0\" y=\"383\" transform=\"translate(436.15,0)\" style=\"font-family: 'Open Sans', verdana, arial, sans-serif; font-size: 12px; fill: rgb(42, 63, 95); fill-opacity: 1; white-space: pre;\">200</text></g><g class=\"xtick\"><text text-anchor=\"middle\" x=\"0\" y=\"383\" transform=\"translate(524.97,0)\" style=\"font-family: 'Open Sans', verdana, arial, sans-serif; font-size: 12px; fill: rgb(42, 63, 95); fill-opacity: 1; white-space: pre;\">250</text></g><g class=\"xtick\"><text text-anchor=\"middle\" x=\"0\" y=\"383\" transform=\"translate(613.78,0)\" style=\"font-family: 'Open Sans', verdana, arial, sans-serif; font-size: 12px; fill: rgb(42, 63, 95); fill-opacity: 1; white-space: pre;\">300</text></g></g><g class=\"yaxislayer-above\"><g class=\"ytick\"><text text-anchor=\"end\" x=\"79\" y=\"4.199999999999999\" transform=\"translate(0,370)\" style=\"font-family: 'Open Sans', verdana, arial, sans-serif; font-size: 12px; fill: rgb(42, 63, 95); fill-opacity: 1; white-space: pre;\">0</text></g><g class=\"ytick\"><text text-anchor=\"end\" x=\"79\" y=\"4.199999999999999\" transform=\"translate(0,318.6)\" style=\"font-family: 'Open Sans', verdana, arial, sans-serif; font-size: 12px; fill: rgb(42, 63, 95); fill-opacity: 1; white-space: pre;\">100</text></g><g class=\"ytick\"><text text-anchor=\"end\" x=\"79\" y=\"4.199999999999999\" transform=\"translate(0,267.19)\" style=\"font-family: 'Open Sans', verdana, arial, sans-serif; font-size: 12px; fill: rgb(42, 63, 95); fill-opacity: 1; white-space: pre;\">200</text></g><g class=\"ytick\"><text text-anchor=\"end\" x=\"79\" y=\"4.199999999999999\" transform=\"translate(0,215.79000000000002)\" style=\"font-family: 'Open Sans', verdana, arial, sans-serif; font-size: 12px; fill: rgb(42, 63, 95); fill-opacity: 1; white-space: pre;\">300</text></g><g class=\"ytick\"><text text-anchor=\"end\" x=\"79\" y=\"4.199999999999999\" transform=\"translate(0,164.39)\" style=\"font-family: 'Open Sans', verdana, arial, sans-serif; font-size: 12px; fill: rgb(42, 63, 95); fill-opacity: 1; white-space: pre;\">400</text></g><g class=\"ytick\"><text text-anchor=\"end\" x=\"79\" y=\"4.199999999999999\" transform=\"translate(0,112.99)\" style=\"font-family: 'Open Sans', verdana, arial, sans-serif; font-size: 12px; fill: rgb(42, 63, 95); fill-opacity: 1; white-space: pre;\">500</text></g></g><g class=\"overaxes-above\"/></g></g><g class=\"polarlayer\"/><g class=\"ternarylayer\"/><g class=\"geolayer\"/><g class=\"funnelarealayer\"/><g class=\"pielayer\"/><g class=\"treemaplayer\"/><g class=\"sunburstlayer\"/><g class=\"glimages\"/><defs id=\"topdefs-638029\"><g class=\"clips\"/></defs><g class=\"layer-above\"><g class=\"imagelayer\"/><g class=\"shapelayer\"/></g><g class=\"infolayer\"><g class=\"g-gtitle\"><text class=\"gtitle\" x=\"35\" y=\"50\" text-anchor=\"start\" dy=\"0em\" style=\"font-family: 'Open Sans', verdana, arial, sans-serif; font-size: 17px; fill: rgb(42, 63, 95); opacity: 1; font-weight: normal; white-space: pre;\">Average Events per User</text></g><g class=\"g-xtitle\"><text class=\"xtitle\" x=\"350\" y=\"410.3\" text-anchor=\"middle\" style=\"font-family: 'Open Sans', verdana, arial, sans-serif; font-size: 14px; fill: rgb(42, 63, 95); opacity: 1; font-weight: normal; white-space: pre;\">Number of events</text></g><g class=\"g-ytitle\"><text class=\"ytitle\" transform=\"rotate(-90,31.309375000000003,235)\" x=\"31.309375000000003\" y=\"235\" text-anchor=\"middle\" style=\"font-family: 'Open Sans', verdana, arial, sans-serif; font-size: 14px; fill: rgb(42, 63, 95); opacity: 1; font-weight: normal; white-space: pre;\">Count of users</text></g></g></svg>"
      ]
     },
     "metadata": {},
     "output_type": "display_data"
    }
   ],
   "source": [
    "avg_events_graph = go.Figure()\n",
    "avg_events_graph.add_trace(go.Histogram(x=data.groupby('user_id')['event_name'].count(),\n",
    "                                       marker_color='#003f5c', opacity=0.7,\n",
    "                                        marker_line_color='#002f45', marker_line_width=1.5))\n",
    "avg_events_graph.update_layout(title='Average Events per User',\n",
    "                              xaxis_title='Number of events',\n",
    "                              yaxis_title='Count of users')\n",
    "avg_events_graph.show('svg')"
   ]
  },
  {
   "cell_type": "markdown",
   "metadata": {},
   "source": [
    "On average, each user performed 28 events. The distribution of this parameter is skewed to the right, meaning that the majority of users performed 0-50 actions, however there are people who performed 100, 150, 200 actions and more.\n",
    "\n",
    "We should also remind you that we've already removed outliers (i.e. users with suspiciously big number of actions) during one of the the previous stages.\n",
    "\n",
    "[Back to Contents](#cont)"
   ]
  },
  {
   "cell_type": "markdown",
   "metadata": {},
   "source": [
    "### <a id='step3period'>What Period of Time Does the Data Cover?</a> "
   ]
  },
  {
   "cell_type": "code",
   "execution_count": 32,
   "metadata": {},
   "outputs": [
    {
     "name": "stdout",
     "output_type": "stream",
     "text": [
      "Maximum date: 2019-08-07 00:00:00\n",
      "Minimum date: 2019-07-25 00:00:00\n"
     ]
    }
   ],
   "source": [
    "print('Maximum date: {:}'.format(data.date.max()))\n",
    "print('Minimum date: {:}'.format(data.date.min()))"
   ]
  },
  {
   "cell_type": "markdown",
   "metadata": {},
   "source": [
    "From the first sight it seems that our dataset contains information on a two-week period: from 25 July to 8 August 2019."
   ]
  },
  {
   "cell_type": "code",
   "execution_count": 33,
   "metadata": {},
   "outputs": [
    {
     "data": {
      "image/svg+xml": [
       "<svg class=\"main-svg\" xmlns=\"http://www.w3.org/2000/svg\" xmlns:xlink=\"http://www.w3.org/1999/xlink\" width=\"700\" height=\"450\" style=\"\" viewBox=\"0 0 700 450\"><rect x=\"0\" y=\"0\" width=\"700\" height=\"450\" style=\"fill: rgb(255, 255, 255); fill-opacity: 1;\"/><defs id=\"defs-7cf832\"><g class=\"clips\"><clipPath id=\"clip7cf832xyplot\" class=\"plotclip\"><rect width=\"540\" height=\"270\"/></clipPath><clipPath class=\"axesclip\" id=\"clip7cf832x\"><rect x=\"80\" y=\"0\" width=\"540\" height=\"450\"/></clipPath><clipPath class=\"axesclip\" id=\"clip7cf832y\"><rect x=\"0\" y=\"100\" width=\"700\" height=\"270\"/></clipPath><clipPath class=\"axesclip\" id=\"clip7cf832xy\"><rect x=\"80\" y=\"100\" width=\"540\" height=\"270\"/></clipPath></g><g class=\"gradients\"/></defs><g class=\"bglayer\"><rect class=\"bg\" x=\"80\" y=\"100\" width=\"540\" height=\"270\" style=\"fill: rgb(229, 236, 246); fill-opacity: 1; stroke-width: 0;\"/></g><g class=\"layer-below\"><g class=\"imagelayer\"/><g class=\"shapelayer\"/></g><g class=\"cartesianlayer\"><g class=\"subplot xy\"><g class=\"layer-subplot\"><g class=\"shapelayer\"/><g class=\"imagelayer\"/></g><g class=\"gridlayer\"><g class=\"x\"/><g class=\"y\"><path class=\"ygrid crisp\" transform=\"translate(0,319.19)\" d=\"M80,0h540\" style=\"stroke: rgb(255, 255, 255); stroke-opacity: 1; stroke-width: 1px;\"/><path class=\"ygrid crisp\" transform=\"translate(0,268.38)\" d=\"M80,0h540\" style=\"stroke: rgb(255, 255, 255); stroke-opacity: 1; stroke-width: 1px;\"/><path class=\"ygrid crisp\" transform=\"translate(0,217.56)\" d=\"M80,0h540\" style=\"stroke: rgb(255, 255, 255); stroke-opacity: 1; stroke-width: 1px;\"/><path class=\"ygrid crisp\" transform=\"translate(0,166.75)\" d=\"M80,0h540\" style=\"stroke: rgb(255, 255, 255); stroke-opacity: 1; stroke-width: 1px;\"/><path class=\"ygrid crisp\" transform=\"translate(0,115.94)\" d=\"M80,0h540\" style=\"stroke: rgb(255, 255, 255); stroke-opacity: 1; stroke-width: 1px;\"/></g></g><g class=\"zerolinelayer\"><path class=\"yzl zl crisp\" transform=\"translate(0,370)\" d=\"M80,0h540\" style=\"stroke: rgb(255, 255, 255); stroke-opacity: 1; stroke-width: 2px;\"/></g><path class=\"xlines-below\"/><path class=\"ylines-below\"/><g class=\"overlines-below\"/><g class=\"xaxislayer-below\"/><g class=\"yaxislayer-below\"/><g class=\"overaxes-below\"/><g class=\"plot\" transform=\"translate(80,100)\" clip-path=\"url('#clip7cf832xyplot')\"><g class=\"barlayer mlayer\"><g class=\"trace bars\" style=\"opacity: 0.7;\"><g class=\"points\"><g class=\"point\"><path d=\"M0,270V269.9H1.64V270Z\" style=\"vector-effect: non-scaling-stroke; opacity: 1; stroke-width: 0.5px; fill: rgb(255, 99, 97); fill-opacity: 1; stroke: rgb(0, 47, 69); stroke-opacity: 1;\"/></g><g class=\"point\"><path d=\"M0,0Z\" style=\"vector-effect: non-scaling-stroke; opacity: 1; stroke-width: 0px; fill: rgb(255, 99, 97); fill-opacity: 1; stroke: rgb(0, 47, 69); stroke-opacity: 1;\"/></g><g class=\"point\"><path d=\"M0,0Z\" style=\"vector-effect: non-scaling-stroke; opacity: 1; stroke-width: 0px; fill: rgb(255, 99, 97); fill-opacity: 1; stroke: rgb(0, 47, 69); stroke-opacity: 1;\"/></g><g class=\"point\"><path d=\"M0,0Z\" style=\"vector-effect: non-scaling-stroke; opacity: 1; stroke-width: 0px; fill: rgb(255, 99, 97); fill-opacity: 1; stroke: rgb(0, 47, 69); stroke-opacity: 1;\"/></g><g class=\"point\"><path d=\"M0,0Z\" style=\"vector-effect: non-scaling-stroke; opacity: 1; stroke-width: 0px; fill: rgb(255, 99, 97); fill-opacity: 1; stroke: rgb(0, 47, 69); stroke-opacity: 1;\"/></g><g class=\"point\"><path d=\"M0,0Z\" style=\"vector-effect: non-scaling-stroke; opacity: 1; stroke-width: 0px; fill: rgb(255, 99, 97); fill-opacity: 1; stroke: rgb(0, 47, 69); stroke-opacity: 1;\"/></g><g class=\"point\"><path d=\"M0,0Z\" style=\"vector-effect: non-scaling-stroke; opacity: 1; stroke-width: 0px; fill: rgb(255, 99, 97); fill-opacity: 1; stroke: rgb(0, 47, 69); stroke-opacity: 1;\"/></g><g class=\"point\"><path d=\"M11.45,270V269.49H13.09V270Z\" style=\"vector-effect: non-scaling-stroke; opacity: 1; stroke-width: 0.5px; fill: rgb(255, 99, 97); fill-opacity: 1; stroke: rgb(0, 47, 69); stroke-opacity: 1;\"/></g><g class=\"point\"><path d=\"M0,0Z\" style=\"vector-effect: non-scaling-stroke; opacity: 1; stroke-width: 0px; fill: rgb(255, 99, 97); fill-opacity: 1; stroke: rgb(0, 47, 69); stroke-opacity: 1;\"/></g><g class=\"point\"><path d=\"M0,0Z\" style=\"vector-effect: non-scaling-stroke; opacity: 1; stroke-width: 0px; fill: rgb(255, 99, 97); fill-opacity: 1; stroke: rgb(0, 47, 69); stroke-opacity: 1;\"/></g><g class=\"point\"><path d=\"M16.36,270V269.9H18V270Z\" style=\"vector-effect: non-scaling-stroke; opacity: 1; stroke-width: 0.5px; fill: rgb(255, 99, 97); fill-opacity: 1; stroke: rgb(0, 47, 69); stroke-opacity: 1;\"/></g><g class=\"point\"><path d=\"M0,0Z\" style=\"vector-effect: non-scaling-stroke; opacity: 1; stroke-width: 0px; fill: rgb(255, 99, 97); fill-opacity: 1; stroke: rgb(0, 47, 69); stroke-opacity: 1;\"/></g><g class=\"point\"><path d=\"M0,0Z\" style=\"vector-effect: non-scaling-stroke; opacity: 1; stroke-width: 0px; fill: rgb(255, 99, 97); fill-opacity: 1; stroke: rgb(0, 47, 69); stroke-opacity: 1;\"/></g><g class=\"point\"><path d=\"M0,0Z\" style=\"vector-effect: non-scaling-stroke; opacity: 1; stroke-width: 0px; fill: rgb(255, 99, 97); fill-opacity: 1; stroke: rgb(0, 47, 69); stroke-opacity: 1;\"/></g><g class=\"point\"><path d=\"M0,0Z\" style=\"vector-effect: non-scaling-stroke; opacity: 1; stroke-width: 0px; fill: rgb(255, 99, 97); fill-opacity: 1; stroke: rgb(0, 47, 69); stroke-opacity: 1;\"/></g><g class=\"point\"><path d=\"M0,0Z\" style=\"vector-effect: non-scaling-stroke; opacity: 1; stroke-width: 0px; fill: rgb(255, 99, 97); fill-opacity: 1; stroke: rgb(0, 47, 69); stroke-opacity: 1;\"/></g><g class=\"point\"><path d=\"M26.18,270V269.8H27.82V270Z\" style=\"vector-effect: non-scaling-stroke; opacity: 1; stroke-width: 0.5px; fill: rgb(255, 99, 97); fill-opacity: 1; stroke: rgb(0, 47, 69); stroke-opacity: 1;\"/></g><g class=\"point\"><path d=\"M0,0Z\" style=\"vector-effect: non-scaling-stroke; opacity: 1; stroke-width: 0px; fill: rgb(255, 99, 97); fill-opacity: 1; stroke: rgb(0, 47, 69); stroke-opacity: 1;\"/></g><g class=\"point\"><path d=\"M0,0Z\" style=\"vector-effect: non-scaling-stroke; opacity: 1; stroke-width: 0px; fill: rgb(255, 99, 97); fill-opacity: 1; stroke: rgb(0, 47, 69); stroke-opacity: 1;\"/></g><g class=\"point\"><path d=\"M0,0Z\" style=\"vector-effect: non-scaling-stroke; opacity: 1; stroke-width: 0px; fill: rgb(255, 99, 97); fill-opacity: 1; stroke: rgb(0, 47, 69); stroke-opacity: 1;\"/></g><g class=\"point\"><path d=\"M0,0Z\" style=\"vector-effect: non-scaling-stroke; opacity: 1; stroke-width: 0px; fill: rgb(255, 99, 97); fill-opacity: 1; stroke: rgb(0, 47, 69); stroke-opacity: 1;\"/></g><g class=\"point\"><path d=\"M0,0Z\" style=\"vector-effect: non-scaling-stroke; opacity: 1; stroke-width: 0px; fill: rgb(255, 99, 97); fill-opacity: 1; stroke: rgb(0, 47, 69); stroke-opacity: 1;\"/></g><g class=\"point\"><path d=\"M0,0Z\" style=\"vector-effect: non-scaling-stroke; opacity: 1; stroke-width: 0px; fill: rgb(255, 99, 97); fill-opacity: 1; stroke: rgb(0, 47, 69); stroke-opacity: 1;\"/></g><g class=\"point\"><path d=\"M37.64,270V269.9H39.27V270Z\" style=\"vector-effect: non-scaling-stroke; opacity: 1; stroke-width: 0.5px; fill: rgb(255, 99, 97); fill-opacity: 1; stroke: rgb(0, 47, 69); stroke-opacity: 1;\"/></g><g class=\"point\"><path d=\"M0,0Z\" style=\"vector-effect: non-scaling-stroke; opacity: 1; stroke-width: 0px; fill: rgb(255, 99, 97); fill-opacity: 1; stroke: rgb(0, 47, 69); stroke-opacity: 1;\"/></g><g class=\"point\"><path d=\"M40.91,270V269.9H42.55V270Z\" style=\"vector-effect: non-scaling-stroke; opacity: 1; stroke-width: 0.5px; fill: rgb(255, 99, 97); fill-opacity: 1; stroke: rgb(0, 47, 69); stroke-opacity: 1;\"/></g><g class=\"point\"><path d=\"M42.55,270V269.8H44.18V270Z\" style=\"vector-effect: non-scaling-stroke; opacity: 1; stroke-width: 0.5px; fill: rgb(255, 99, 97); fill-opacity: 1; stroke: rgb(0, 47, 69); stroke-opacity: 1;\"/></g><g class=\"point\"><path d=\"M44.18,270V269.9H45.82V270Z\" style=\"vector-effect: non-scaling-stroke; opacity: 1; stroke-width: 0.5px; fill: rgb(255, 99, 97); fill-opacity: 1; stroke: rgb(0, 47, 69); stroke-opacity: 1;\"/></g><g class=\"point\"><path d=\"M0,0Z\" style=\"vector-effect: non-scaling-stroke; opacity: 1; stroke-width: 0px; fill: rgb(255, 99, 97); fill-opacity: 1; stroke: rgb(0, 47, 69); stroke-opacity: 1;\"/></g><g class=\"point\"><path d=\"M0,0Z\" style=\"vector-effect: non-scaling-stroke; opacity: 1; stroke-width: 0px; fill: rgb(255, 99, 97); fill-opacity: 1; stroke: rgb(0, 47, 69); stroke-opacity: 1;\"/></g><g class=\"point\"><path d=\"M49.09,270V269.9H50.73V270Z\" style=\"vector-effect: non-scaling-stroke; opacity: 1; stroke-width: 0.5px; fill: rgb(255, 99, 97); fill-opacity: 1; stroke: rgb(0, 47, 69); stroke-opacity: 1;\"/></g><g class=\"point\"><path d=\"M50.73,270V269.8H52.36V270Z\" style=\"vector-effect: non-scaling-stroke; opacity: 1; stroke-width: 0.5px; fill: rgb(255, 99, 97); fill-opacity: 1; stroke: rgb(0, 47, 69); stroke-opacity: 1;\"/></g><g class=\"point\"><path d=\"M52.36,270V269.9H54V270Z\" style=\"vector-effect: non-scaling-stroke; opacity: 1; stroke-width: 0.5px; fill: rgb(255, 99, 97); fill-opacity: 1; stroke: rgb(0, 47, 69); stroke-opacity: 1;\"/></g><g class=\"point\"><path d=\"M54,270V269.9H55.64V270Z\" style=\"vector-effect: non-scaling-stroke; opacity: 1; stroke-width: 0.5px; fill: rgb(255, 99, 97); fill-opacity: 1; stroke: rgb(0, 47, 69); stroke-opacity: 1;\"/></g><g class=\"point\"><path d=\"M55.64,270V269.49H57.27V270Z\" style=\"vector-effect: non-scaling-stroke; opacity: 1; stroke-width: 0.5px; fill: rgb(255, 99, 97); fill-opacity: 1; stroke: rgb(0, 47, 69); stroke-opacity: 1;\"/></g><g class=\"point\"><path d=\"M57.27,270V269.9H58.91V270Z\" style=\"vector-effect: non-scaling-stroke; opacity: 1; stroke-width: 0.5px; fill: rgb(255, 99, 97); fill-opacity: 1; stroke: rgb(0, 47, 69); stroke-opacity: 1;\"/></g><g class=\"point\"><path d=\"M58.91,270V269.9H60.55V270Z\" style=\"vector-effect: non-scaling-stroke; opacity: 1; stroke-width: 0.5px; fill: rgb(255, 99, 97); fill-opacity: 1; stroke: rgb(0, 47, 69); stroke-opacity: 1;\"/></g><g class=\"point\"><path d=\"M60.55,270V269.7H62.18V270Z\" style=\"vector-effect: non-scaling-stroke; opacity: 1; stroke-width: 0.5px; fill: rgb(255, 99, 97); fill-opacity: 1; stroke: rgb(0, 47, 69); stroke-opacity: 1;\"/></g><g class=\"point\"><path d=\"M62.18,270V269.59H63.82V270Z\" style=\"vector-effect: non-scaling-stroke; opacity: 1; stroke-width: 0.5px; fill: rgb(255, 99, 97); fill-opacity: 1; stroke: rgb(0, 47, 69); stroke-opacity: 1;\"/></g><g class=\"point\"><path d=\"M63.82,270V269.59H65.45V270Z\" style=\"vector-effect: non-scaling-stroke; opacity: 1; stroke-width: 0.5px; fill: rgb(255, 99, 97); fill-opacity: 1; stroke: rgb(0, 47, 69); stroke-opacity: 1;\"/></g><g class=\"point\"><path d=\"M0,0Z\" style=\"vector-effect: non-scaling-stroke; opacity: 1; stroke-width: 0px; fill: rgb(255, 99, 97); fill-opacity: 1; stroke: rgb(0, 47, 69); stroke-opacity: 1;\"/></g><g class=\"point\"><path d=\"M0,0Z\" style=\"vector-effect: non-scaling-stroke; opacity: 1; stroke-width: 0px; fill: rgb(255, 99, 97); fill-opacity: 1; stroke: rgb(0, 47, 69); stroke-opacity: 1;\"/></g><g class=\"point\"><path d=\"M0,0Z\" style=\"vector-effect: non-scaling-stroke; opacity: 1; stroke-width: 0px; fill: rgb(255, 99, 97); fill-opacity: 1; stroke: rgb(0, 47, 69); stroke-opacity: 1;\"/></g><g class=\"point\"><path d=\"M70.36,270V269.9H72V270Z\" style=\"vector-effect: non-scaling-stroke; opacity: 1; stroke-width: 0.5px; fill: rgb(255, 99, 97); fill-opacity: 1; stroke: rgb(0, 47, 69); stroke-opacity: 1;\"/></g><g class=\"point\"><path d=\"M0,0Z\" style=\"vector-effect: non-scaling-stroke; opacity: 1; stroke-width: 0px; fill: rgb(255, 99, 97); fill-opacity: 1; stroke: rgb(0, 47, 69); stroke-opacity: 1;\"/></g><g class=\"point\"><path d=\"M0,0Z\" style=\"vector-effect: non-scaling-stroke; opacity: 1; stroke-width: 0px; fill: rgb(255, 99, 97); fill-opacity: 1; stroke: rgb(0, 47, 69); stroke-opacity: 1;\"/></g><g class=\"point\"><path d=\"M0,0Z\" style=\"vector-effect: non-scaling-stroke; opacity: 1; stroke-width: 0px; fill: rgb(255, 99, 97); fill-opacity: 1; stroke: rgb(0, 47, 69); stroke-opacity: 1;\"/></g><g class=\"point\"><path d=\"M0,0Z\" style=\"vector-effect: non-scaling-stroke; opacity: 1; stroke-width: 0px; fill: rgb(255, 99, 97); fill-opacity: 1; stroke: rgb(0, 47, 69); stroke-opacity: 1;\"/></g><g class=\"point\"><path d=\"M78.55,270V269.9H80.18V270Z\" style=\"vector-effect: non-scaling-stroke; opacity: 1; stroke-width: 0.5px; fill: rgb(255, 99, 97); fill-opacity: 1; stroke: rgb(0, 47, 69); stroke-opacity: 1;\"/></g><g class=\"point\"><path d=\"M0,0Z\" style=\"vector-effect: non-scaling-stroke; opacity: 1; stroke-width: 0px; fill: rgb(255, 99, 97); fill-opacity: 1; stroke: rgb(0, 47, 69); stroke-opacity: 1;\"/></g><g class=\"point\"><path d=\"M81.82,270V269.59H83.45V270Z\" style=\"vector-effect: non-scaling-stroke; opacity: 1; stroke-width: 0.5px; fill: rgb(255, 99, 97); fill-opacity: 1; stroke: rgb(0, 47, 69); stroke-opacity: 1;\"/></g><g class=\"point\"><path d=\"M0,0Z\" style=\"vector-effect: non-scaling-stroke; opacity: 1; stroke-width: 0px; fill: rgb(255, 99, 97); fill-opacity: 1; stroke: rgb(0, 47, 69); stroke-opacity: 1;\"/></g><g class=\"point\"><path d=\"M85.09,270V269.09H86.73V270Z\" style=\"vector-effect: non-scaling-stroke; opacity: 1; stroke-width: 0.5px; fill: rgb(255, 99, 97); fill-opacity: 1; stroke: rgb(0, 47, 69); stroke-opacity: 1;\"/></g><g class=\"point\"><path d=\"M0,0Z\" style=\"vector-effect: non-scaling-stroke; opacity: 1; stroke-width: 0px; fill: rgb(255, 99, 97); fill-opacity: 1; stroke: rgb(0, 47, 69); stroke-opacity: 1;\"/></g><g class=\"point\"><path d=\"M88.36,270V268.68H90V270Z\" style=\"vector-effect: non-scaling-stroke; opacity: 1; stroke-width: 0.5px; fill: rgb(255, 99, 97); fill-opacity: 1; stroke: rgb(0, 47, 69); stroke-opacity: 1;\"/></g><g class=\"point\"><path d=\"M90,270V269.9H91.64V270Z\" style=\"vector-effect: non-scaling-stroke; opacity: 1; stroke-width: 0.5px; fill: rgb(255, 99, 97); fill-opacity: 1; stroke: rgb(0, 47, 69); stroke-opacity: 1;\"/></g><g class=\"point\"><path d=\"M91.64,270V269.8H93.27V270Z\" style=\"vector-effect: non-scaling-stroke; opacity: 1; stroke-width: 0.5px; fill: rgb(255, 99, 97); fill-opacity: 1; stroke: rgb(0, 47, 69); stroke-opacity: 1;\"/></g><g class=\"point\"><path d=\"M93.27,270V269.9H94.91V270Z\" style=\"vector-effect: non-scaling-stroke; opacity: 1; stroke-width: 0.5px; fill: rgb(255, 99, 97); fill-opacity: 1; stroke: rgb(0, 47, 69); stroke-opacity: 1;\"/></g><g class=\"point\"><path d=\"M94.91,270V269.59H96.55V270Z\" style=\"vector-effect: non-scaling-stroke; opacity: 1; stroke-width: 0.5px; fill: rgb(255, 99, 97); fill-opacity: 1; stroke: rgb(0, 47, 69); stroke-opacity: 1;\"/></g><g class=\"point\"><path d=\"M96.55,270V269.8H98.18V270Z\" style=\"vector-effect: non-scaling-stroke; opacity: 1; stroke-width: 0.5px; fill: rgb(255, 99, 97); fill-opacity: 1; stroke: rgb(0, 47, 69); stroke-opacity: 1;\"/></g><g class=\"point\"><path d=\"M98.18,270V269.49H99.82V270Z\" style=\"vector-effect: non-scaling-stroke; opacity: 1; stroke-width: 0.5px; fill: rgb(255, 99, 97); fill-opacity: 1; stroke: rgb(0, 47, 69); stroke-opacity: 1;\"/></g><g class=\"point\"><path d=\"M99.82,270V269.39H101.45V270Z\" style=\"vector-effect: non-scaling-stroke; opacity: 1; stroke-width: 0.5px; fill: rgb(255, 99, 97); fill-opacity: 1; stroke: rgb(0, 47, 69); stroke-opacity: 1;\"/></g><g class=\"point\"><path d=\"M101.45,270V269.59H103.09V270Z\" style=\"vector-effect: non-scaling-stroke; opacity: 1; stroke-width: 0.5px; fill: rgb(255, 99, 97); fill-opacity: 1; stroke: rgb(0, 47, 69); stroke-opacity: 1;\"/></g><g class=\"point\"><path d=\"M103.09,270V269.8H104.73V270Z\" style=\"vector-effect: non-scaling-stroke; opacity: 1; stroke-width: 0.5px; fill: rgb(255, 99, 97); fill-opacity: 1; stroke: rgb(0, 47, 69); stroke-opacity: 1;\"/></g><g class=\"point\"><path d=\"M0,0Z\" style=\"vector-effect: non-scaling-stroke; opacity: 1; stroke-width: 0px; fill: rgb(255, 99, 97); fill-opacity: 1; stroke: rgb(0, 47, 69); stroke-opacity: 1;\"/></g><g class=\"point\"><path d=\"M0,0Z\" style=\"vector-effect: non-scaling-stroke; opacity: 1; stroke-width: 0px; fill: rgb(255, 99, 97); fill-opacity: 1; stroke: rgb(0, 47, 69); stroke-opacity: 1;\"/></g><g class=\"point\"><path d=\"M0,0Z\" style=\"vector-effect: non-scaling-stroke; opacity: 1; stroke-width: 0px; fill: rgb(255, 99, 97); fill-opacity: 1; stroke: rgb(0, 47, 69); stroke-opacity: 1;\"/></g><g class=\"point\"><path d=\"M109.64,270V269.9H111.27V270Z\" style=\"vector-effect: non-scaling-stroke; opacity: 1; stroke-width: 0.5px; fill: rgb(255, 99, 97); fill-opacity: 1; stroke: rgb(0, 47, 69); stroke-opacity: 1;\"/></g><g class=\"point\"><path d=\"M0,0Z\" style=\"vector-effect: non-scaling-stroke; opacity: 1; stroke-width: 0px; fill: rgb(255, 99, 97); fill-opacity: 1; stroke: rgb(0, 47, 69); stroke-opacity: 1;\"/></g><g class=\"point\"><path d=\"M0,0Z\" style=\"vector-effect: non-scaling-stroke; opacity: 1; stroke-width: 0px; fill: rgb(255, 99, 97); fill-opacity: 1; stroke: rgb(0, 47, 69); stroke-opacity: 1;\"/></g><g class=\"point\"><path d=\"M114.55,270V269.9H116.18V270Z\" style=\"vector-effect: non-scaling-stroke; opacity: 1; stroke-width: 0.5px; fill: rgb(255, 99, 97); fill-opacity: 1; stroke: rgb(0, 47, 69); stroke-opacity: 1;\"/></g><g class=\"point\"><path d=\"M0,0Z\" style=\"vector-effect: non-scaling-stroke; opacity: 1; stroke-width: 0px; fill: rgb(255, 99, 97); fill-opacity: 1; stroke: rgb(0, 47, 69); stroke-opacity: 1;\"/></g><g class=\"point\"><path d=\"M117.82,270V269.09H119.45V270Z\" style=\"vector-effect: non-scaling-stroke; opacity: 1; stroke-width: 0.5px; fill: rgb(255, 99, 97); fill-opacity: 1; stroke: rgb(0, 47, 69); stroke-opacity: 1;\"/></g><g class=\"point\"><path d=\"M119.45,270V269.8H121.09V270Z\" style=\"vector-effect: non-scaling-stroke; opacity: 1; stroke-width: 0.5px; fill: rgb(255, 99, 97); fill-opacity: 1; stroke: rgb(0, 47, 69); stroke-opacity: 1;\"/></g><g class=\"point\"><path d=\"M121.09,270V269.7H122.73V270Z\" style=\"vector-effect: non-scaling-stroke; opacity: 1; stroke-width: 0.5px; fill: rgb(255, 99, 97); fill-opacity: 1; stroke: rgb(0, 47, 69); stroke-opacity: 1;\"/></g><g class=\"point\"><path d=\"M122.73,270V269.29H124.36V270Z\" style=\"vector-effect: non-scaling-stroke; opacity: 1; stroke-width: 0.5px; fill: rgb(255, 99, 97); fill-opacity: 1; stroke: rgb(0, 47, 69); stroke-opacity: 1;\"/></g><g class=\"point\"><path d=\"M124.36,270V269.49H126V270Z\" style=\"vector-effect: non-scaling-stroke; opacity: 1; stroke-width: 0.5px; fill: rgb(255, 99, 97); fill-opacity: 1; stroke: rgb(0, 47, 69); stroke-opacity: 1;\"/></g><g class=\"point\"><path d=\"M126,270V269.8H127.64V270Z\" style=\"vector-effect: non-scaling-stroke; opacity: 1; stroke-width: 0.5px; fill: rgb(255, 99, 97); fill-opacity: 1; stroke: rgb(0, 47, 69); stroke-opacity: 1;\"/></g><g class=\"point\"><path d=\"M127.64,270V269.7H129.27V270Z\" style=\"vector-effect: non-scaling-stroke; opacity: 1; stroke-width: 0.5px; fill: rgb(255, 99, 97); fill-opacity: 1; stroke: rgb(0, 47, 69); stroke-opacity: 1;\"/></g><g class=\"point\"><path d=\"M129.27,270V269.9H130.91V270Z\" style=\"vector-effect: non-scaling-stroke; opacity: 1; stroke-width: 0.5px; fill: rgb(255, 99, 97); fill-opacity: 1; stroke: rgb(0, 47, 69); stroke-opacity: 1;\"/></g><g class=\"point\"><path d=\"M130.91,270V268.98H132.55V270Z\" style=\"vector-effect: non-scaling-stroke; opacity: 1; stroke-width: 0.5px; fill: rgb(255, 99, 97); fill-opacity: 1; stroke: rgb(0, 47, 69); stroke-opacity: 1;\"/></g><g class=\"point\"><path d=\"M132.55,270V268.58H134.18V270Z\" style=\"vector-effect: non-scaling-stroke; opacity: 1; stroke-width: 0.5px; fill: rgb(255, 99, 97); fill-opacity: 1; stroke: rgb(0, 47, 69); stroke-opacity: 1;\"/></g><g class=\"point\"><path d=\"M134.18,270V269.29H135.82V270Z\" style=\"vector-effect: non-scaling-stroke; opacity: 1; stroke-width: 0.5px; fill: rgb(255, 99, 97); fill-opacity: 1; stroke: rgb(0, 47, 69); stroke-opacity: 1;\"/></g><g class=\"point\"><path d=\"M135.82,270V269.29H137.45V270Z\" style=\"vector-effect: non-scaling-stroke; opacity: 1; stroke-width: 0.5px; fill: rgb(255, 99, 97); fill-opacity: 1; stroke: rgb(0, 47, 69); stroke-opacity: 1;\"/></g><g class=\"point\"><path d=\"M137.45,270V268.88H139.09V270Z\" style=\"vector-effect: non-scaling-stroke; opacity: 1; stroke-width: 0.5px; fill: rgb(255, 99, 97); fill-opacity: 1; stroke: rgb(0, 47, 69); stroke-opacity: 1;\"/></g><g class=\"point\"><path d=\"M139.09,270V269.39H140.73V270Z\" style=\"vector-effect: non-scaling-stroke; opacity: 1; stroke-width: 0.5px; fill: rgb(255, 99, 97); fill-opacity: 1; stroke: rgb(0, 47, 69); stroke-opacity: 1;\"/></g><g class=\"point\"><path d=\"M140.73,270V269.19H142.36V270Z\" style=\"vector-effect: non-scaling-stroke; opacity: 1; stroke-width: 0.5px; fill: rgb(255, 99, 97); fill-opacity: 1; stroke: rgb(0, 47, 69); stroke-opacity: 1;\"/></g><g class=\"point\"><path d=\"M142.36,270V269.39H144V270Z\" style=\"vector-effect: non-scaling-stroke; opacity: 1; stroke-width: 0.5px; fill: rgb(255, 99, 97); fill-opacity: 1; stroke: rgb(0, 47, 69); stroke-opacity: 1;\"/></g><g class=\"point\"><path d=\"M144,270V269.9H145.64V270Z\" style=\"vector-effect: non-scaling-stroke; opacity: 1; stroke-width: 0.5px; fill: rgb(255, 99, 97); fill-opacity: 1; stroke: rgb(0, 47, 69); stroke-opacity: 1;\"/></g><g class=\"point\"><path d=\"M145.64,270V269.8H147.27V270Z\" style=\"vector-effect: non-scaling-stroke; opacity: 1; stroke-width: 0.5px; fill: rgb(255, 99, 97); fill-opacity: 1; stroke: rgb(0, 47, 69); stroke-opacity: 1;\"/></g><g class=\"point\"><path d=\"M0,0Z\" style=\"vector-effect: non-scaling-stroke; opacity: 1; stroke-width: 0px; fill: rgb(255, 99, 97); fill-opacity: 1; stroke: rgb(0, 47, 69); stroke-opacity: 1;\"/></g><g class=\"point\"><path d=\"M0,0Z\" style=\"vector-effect: non-scaling-stroke; opacity: 1; stroke-width: 0px; fill: rgb(255, 99, 97); fill-opacity: 1; stroke: rgb(0, 47, 69); stroke-opacity: 1;\"/></g><g class=\"point\"><path d=\"M0,0Z\" style=\"vector-effect: non-scaling-stroke; opacity: 1; stroke-width: 0px; fill: rgb(255, 99, 97); fill-opacity: 1; stroke: rgb(0, 47, 69); stroke-opacity: 1;\"/></g><g class=\"point\"><path d=\"M0,0Z\" style=\"vector-effect: non-scaling-stroke; opacity: 1; stroke-width: 0px; fill: rgb(255, 99, 97); fill-opacity: 1; stroke: rgb(0, 47, 69); stroke-opacity: 1;\"/></g><g class=\"point\"><path d=\"M153.82,270V269.8H155.45V270Z\" style=\"vector-effect: non-scaling-stroke; opacity: 1; stroke-width: 0.5px; fill: rgb(255, 99, 97); fill-opacity: 1; stroke: rgb(0, 47, 69); stroke-opacity: 1;\"/></g><g class=\"point\"><path d=\"M0,0Z\" style=\"vector-effect: non-scaling-stroke; opacity: 1; stroke-width: 0px; fill: rgb(255, 99, 97); fill-opacity: 1; stroke: rgb(0, 47, 69); stroke-opacity: 1;\"/></g><g class=\"point\"><path d=\"M157.09,270V269.9H158.73V270Z\" style=\"vector-effect: non-scaling-stroke; opacity: 1; stroke-width: 0.5px; fill: rgb(255, 99, 97); fill-opacity: 1; stroke: rgb(0, 47, 69); stroke-opacity: 1;\"/></g><g class=\"point\"><path d=\"M158.73,270V269.49H160.36V270Z\" style=\"vector-effect: non-scaling-stroke; opacity: 1; stroke-width: 0.5px; fill: rgb(255, 99, 97); fill-opacity: 1; stroke: rgb(0, 47, 69); stroke-opacity: 1;\"/></g><g class=\"point\"><path d=\"M160.36,270V269.8H162V270Z\" style=\"vector-effect: non-scaling-stroke; opacity: 1; stroke-width: 0.5px; fill: rgb(255, 99, 97); fill-opacity: 1; stroke: rgb(0, 47, 69); stroke-opacity: 1;\"/></g><g class=\"point\"><path d=\"M162,270V269.7H163.64V270Z\" style=\"vector-effect: non-scaling-stroke; opacity: 1; stroke-width: 0.5px; fill: rgb(255, 99, 97); fill-opacity: 1; stroke: rgb(0, 47, 69); stroke-opacity: 1;\"/></g><g class=\"point\"><path d=\"M163.64,270V269.49H165.27V270Z\" style=\"vector-effect: non-scaling-stroke; opacity: 1; stroke-width: 0.5px; fill: rgb(255, 99, 97); fill-opacity: 1; stroke: rgb(0, 47, 69); stroke-opacity: 1;\"/></g><g class=\"point\"><path d=\"M165.27,270V269.19H166.91V270Z\" style=\"vector-effect: non-scaling-stroke; opacity: 1; stroke-width: 0.5px; fill: rgb(255, 99, 97); fill-opacity: 1; stroke: rgb(0, 47, 69); stroke-opacity: 1;\"/></g><g class=\"point\"><path d=\"M166.91,270V268.88H168.55V270Z\" style=\"vector-effect: non-scaling-stroke; opacity: 1; stroke-width: 0.5px; fill: rgb(255, 99, 97); fill-opacity: 1; stroke: rgb(0, 47, 69); stroke-opacity: 1;\"/></g><g class=\"point\"><path d=\"M168.55,270V269.29H170.18V270Z\" style=\"vector-effect: non-scaling-stroke; opacity: 1; stroke-width: 0.5px; fill: rgb(255, 99, 97); fill-opacity: 1; stroke: rgb(0, 47, 69); stroke-opacity: 1;\"/></g><g class=\"point\"><path d=\"M170.18,270V269.09H171.82V270Z\" style=\"vector-effect: non-scaling-stroke; opacity: 1; stroke-width: 0.5px; fill: rgb(255, 99, 97); fill-opacity: 1; stroke: rgb(0, 47, 69); stroke-opacity: 1;\"/></g><g class=\"point\"><path d=\"M171.82,270V268.88H173.45V270Z\" style=\"vector-effect: non-scaling-stroke; opacity: 1; stroke-width: 0.5px; fill: rgb(255, 99, 97); fill-opacity: 1; stroke: rgb(0, 47, 69); stroke-opacity: 1;\"/></g><g class=\"point\"><path d=\"M173.45,270V267.26H175.09V270Z\" style=\"vector-effect: non-scaling-stroke; opacity: 1; stroke-width: 0.5px; fill: rgb(255, 99, 97); fill-opacity: 1; stroke: rgb(0, 47, 69); stroke-opacity: 1;\"/></g><g class=\"point\"><path d=\"M175.09,270V268.98H176.73V270Z\" style=\"vector-effect: non-scaling-stroke; opacity: 1; stroke-width: 0.5px; fill: rgb(255, 99, 97); fill-opacity: 1; stroke: rgb(0, 47, 69); stroke-opacity: 1;\"/></g><g class=\"point\"><path d=\"M176.73,270V268.07H178.36V270Z\" style=\"vector-effect: non-scaling-stroke; opacity: 1; stroke-width: 0.5px; fill: rgb(255, 99, 97); fill-opacity: 1; stroke: rgb(0, 47, 69); stroke-opacity: 1;\"/></g><g class=\"point\"><path d=\"M178.36,270V267.26H180V270Z\" style=\"vector-effect: non-scaling-stroke; opacity: 1; stroke-width: 0.5px; fill: rgb(255, 99, 97); fill-opacity: 1; stroke: rgb(0, 47, 69); stroke-opacity: 1;\"/></g><g class=\"point\"><path d=\"M180,270V268.68H181.64V270Z\" style=\"vector-effect: non-scaling-stroke; opacity: 1; stroke-width: 0.5px; fill: rgb(255, 99, 97); fill-opacity: 1; stroke: rgb(0, 47, 69); stroke-opacity: 1;\"/></g><g class=\"point\"><path d=\"M181.64,270V268.37H183.27V270Z\" style=\"vector-effect: non-scaling-stroke; opacity: 1; stroke-width: 0.5px; fill: rgb(255, 99, 97); fill-opacity: 1; stroke: rgb(0, 47, 69); stroke-opacity: 1;\"/></g><g class=\"point\"><path d=\"M183.27,270V269.7H184.91V270Z\" style=\"vector-effect: non-scaling-stroke; opacity: 1; stroke-width: 0.5px; fill: rgb(255, 99, 97); fill-opacity: 1; stroke: rgb(0, 47, 69); stroke-opacity: 1;\"/></g><g class=\"point\"><path d=\"M184.91,270V269.59H186.55V270Z\" style=\"vector-effect: non-scaling-stroke; opacity: 1; stroke-width: 0.5px; fill: rgb(255, 99, 97); fill-opacity: 1; stroke: rgb(0, 47, 69); stroke-opacity: 1;\"/></g><g class=\"point\"><path d=\"M186.55,270V269.9H188.18V270Z\" style=\"vector-effect: non-scaling-stroke; opacity: 1; stroke-width: 0.5px; fill: rgb(255, 99, 97); fill-opacity: 1; stroke: rgb(0, 47, 69); stroke-opacity: 1;\"/></g><g class=\"point\"><path d=\"M0,0Z\" style=\"vector-effect: non-scaling-stroke; opacity: 1; stroke-width: 0px; fill: rgb(255, 99, 97); fill-opacity: 1; stroke: rgb(0, 47, 69); stroke-opacity: 1;\"/></g><g class=\"point\"><path d=\"M0,0Z\" style=\"vector-effect: non-scaling-stroke; opacity: 1; stroke-width: 0px; fill: rgb(255, 99, 97); fill-opacity: 1; stroke: rgb(0, 47, 69); stroke-opacity: 1;\"/></g><g class=\"point\"><path d=\"M191.45,270V269.8H193.09V270Z\" style=\"vector-effect: non-scaling-stroke; opacity: 1; stroke-width: 0.5px; fill: rgb(255, 99, 97); fill-opacity: 1; stroke: rgb(0, 47, 69); stroke-opacity: 1;\"/></g><g class=\"point\"><path d=\"M193.09,270V269.8H194.73V270Z\" style=\"vector-effect: non-scaling-stroke; opacity: 1; stroke-width: 0.5px; fill: rgb(255, 99, 97); fill-opacity: 1; stroke: rgb(0, 47, 69); stroke-opacity: 1;\"/></g><g class=\"point\"><path d=\"M194.73,270V269.8H196.36V270Z\" style=\"vector-effect: non-scaling-stroke; opacity: 1; stroke-width: 0.5px; fill: rgb(255, 99, 97); fill-opacity: 1; stroke: rgb(0, 47, 69); stroke-opacity: 1;\"/></g><g class=\"point\"><path d=\"M196.36,270V268.78H198V270Z\" style=\"vector-effect: non-scaling-stroke; opacity: 1; stroke-width: 0.5px; fill: rgb(255, 99, 97); fill-opacity: 1; stroke: rgb(0, 47, 69); stroke-opacity: 1;\"/></g><g class=\"point\"><path d=\"M198,270V268.48H199.64V270Z\" style=\"vector-effect: non-scaling-stroke; opacity: 1; stroke-width: 0.5px; fill: rgb(255, 99, 97); fill-opacity: 1; stroke: rgb(0, 47, 69); stroke-opacity: 1;\"/></g><g class=\"point\"><path d=\"M199.64,270V268.58H201.27V270Z\" style=\"vector-effect: non-scaling-stroke; opacity: 1; stroke-width: 0.5px; fill: rgb(255, 99, 97); fill-opacity: 1; stroke: rgb(0, 47, 69); stroke-opacity: 1;\"/></g><g class=\"point\"><path d=\"M201.27,270V269.09H202.91V270Z\" style=\"vector-effect: non-scaling-stroke; opacity: 1; stroke-width: 0.5px; fill: rgb(255, 99, 97); fill-opacity: 1; stroke: rgb(0, 47, 69); stroke-opacity: 1;\"/></g><g class=\"point\"><path d=\"M202.91,270V267.46H204.55V270Z\" style=\"vector-effect: non-scaling-stroke; opacity: 1; stroke-width: 0.5px; fill: rgb(255, 99, 97); fill-opacity: 1; stroke: rgb(0, 47, 69); stroke-opacity: 1;\"/></g><g class=\"point\"><path d=\"M204.55,270V268.07H206.18V270Z\" style=\"vector-effect: non-scaling-stroke; opacity: 1; stroke-width: 0.5px; fill: rgb(255, 99, 97); fill-opacity: 1; stroke: rgb(0, 47, 69); stroke-opacity: 1;\"/></g><g class=\"point\"><path d=\"M206.18,270V266.85H207.82V270Z\" style=\"vector-effect: non-scaling-stroke; opacity: 1; stroke-width: 0.5px; fill: rgb(255, 99, 97); fill-opacity: 1; stroke: rgb(0, 47, 69); stroke-opacity: 1;\"/></g><g class=\"point\"><path d=\"M207.82,270V266.75H209.45V270Z\" style=\"vector-effect: non-scaling-stroke; opacity: 1; stroke-width: 0.5px; fill: rgb(255, 99, 97); fill-opacity: 1; stroke: rgb(0, 47, 69); stroke-opacity: 1;\"/></g><g class=\"point\"><path d=\"M209.45,270V267.76H211.09V270Z\" style=\"vector-effect: non-scaling-stroke; opacity: 1; stroke-width: 0.5px; fill: rgb(255, 99, 97); fill-opacity: 1; stroke: rgb(0, 47, 69); stroke-opacity: 1;\"/></g><g class=\"point\"><path d=\"M211.09,270V267.36H212.73V270Z\" style=\"vector-effect: non-scaling-stroke; opacity: 1; stroke-width: 0.5px; fill: rgb(255, 99, 97); fill-opacity: 1; stroke: rgb(0, 47, 69); stroke-opacity: 1;\"/></g><g class=\"point\"><path d=\"M212.73,270V267.56H214.36V270Z\" style=\"vector-effect: non-scaling-stroke; opacity: 1; stroke-width: 0.5px; fill: rgb(255, 99, 97); fill-opacity: 1; stroke: rgb(0, 47, 69); stroke-opacity: 1;\"/></g><g class=\"point\"><path d=\"M214.36,270V267.15H216V270Z\" style=\"vector-effect: non-scaling-stroke; opacity: 1; stroke-width: 0.5px; fill: rgb(255, 99, 97); fill-opacity: 1; stroke: rgb(0, 47, 69); stroke-opacity: 1;\"/></g><g class=\"point\"><path d=\"M216,270V265.83H217.64V270Z\" style=\"vector-effect: non-scaling-stroke; opacity: 1; stroke-width: 0.5px; fill: rgb(255, 99, 97); fill-opacity: 1; stroke: rgb(0, 47, 69); stroke-opacity: 1;\"/></g><g class=\"point\"><path d=\"M217.64,270V266.95H219.27V270Z\" style=\"vector-effect: non-scaling-stroke; opacity: 1; stroke-width: 0.5px; fill: rgb(255, 99, 97); fill-opacity: 1; stroke: rgb(0, 47, 69); stroke-opacity: 1;\"/></g><g class=\"point\"><path d=\"M219.27,270V267.76H220.91V270Z\" style=\"vector-effect: non-scaling-stroke; opacity: 1; stroke-width: 0.5px; fill: rgb(255, 99, 97); fill-opacity: 1; stroke: rgb(0, 47, 69); stroke-opacity: 1;\"/></g><g class=\"point\"><path d=\"M220.91,270V267.87H222.55V270Z\" style=\"vector-effect: non-scaling-stroke; opacity: 1; stroke-width: 0.5px; fill: rgb(255, 99, 97); fill-opacity: 1; stroke: rgb(0, 47, 69); stroke-opacity: 1;\"/></g><g class=\"point\"><path d=\"M222.55,270V268.58H224.18V270Z\" style=\"vector-effect: non-scaling-stroke; opacity: 1; stroke-width: 0.5px; fill: rgb(255, 99, 97); fill-opacity: 1; stroke: rgb(0, 47, 69); stroke-opacity: 1;\"/></g><g class=\"point\"><path d=\"M224.18,270V268.98H225.82V270Z\" style=\"vector-effect: non-scaling-stroke; opacity: 1; stroke-width: 0.5px; fill: rgb(255, 99, 97); fill-opacity: 1; stroke: rgb(0, 47, 69); stroke-opacity: 1;\"/></g><g class=\"point\"><path d=\"M225.82,270V269.59H227.45V270Z\" style=\"vector-effect: non-scaling-stroke; opacity: 1; stroke-width: 0.5px; fill: rgb(255, 99, 97); fill-opacity: 1; stroke: rgb(0, 47, 69); stroke-opacity: 1;\"/></g><g class=\"point\"><path d=\"M227.45,270V269.39H229.09V270Z\" style=\"vector-effect: non-scaling-stroke; opacity: 1; stroke-width: 0.5px; fill: rgb(255, 99, 97); fill-opacity: 1; stroke: rgb(0, 47, 69); stroke-opacity: 1;\"/></g><g class=\"point\"><path d=\"M0,0Z\" style=\"vector-effect: non-scaling-stroke; opacity: 1; stroke-width: 0px; fill: rgb(255, 99, 97); fill-opacity: 1; stroke: rgb(0, 47, 69); stroke-opacity: 1;\"/></g><g class=\"point\"><path d=\"M230.73,270V269.7H232.36V270Z\" style=\"vector-effect: non-scaling-stroke; opacity: 1; stroke-width: 0.5px; fill: rgb(255, 99, 97); fill-opacity: 1; stroke: rgb(0, 47, 69); stroke-opacity: 1;\"/></g><g class=\"point\"><path d=\"M232.36,270V269.8H234V270Z\" style=\"vector-effect: non-scaling-stroke; opacity: 1; stroke-width: 0.5px; fill: rgb(255, 99, 97); fill-opacity: 1; stroke: rgb(0, 47, 69); stroke-opacity: 1;\"/></g><g class=\"point\"><path d=\"M234,270V268.78H235.64V270Z\" style=\"vector-effect: non-scaling-stroke; opacity: 1; stroke-width: 0.5px; fill: rgb(255, 99, 97); fill-opacity: 1; stroke: rgb(0, 47, 69); stroke-opacity: 1;\"/></g><g class=\"point\"><path d=\"M235.64,270V267.76H237.27V270Z\" style=\"vector-effect: non-scaling-stroke; opacity: 1; stroke-width: 0.5px; fill: rgb(255, 99, 97); fill-opacity: 1; stroke: rgb(0, 47, 69); stroke-opacity: 1;\"/></g><g class=\"point\"><path d=\"M237.27,270V267.26H238.91V270Z\" style=\"vector-effect: non-scaling-stroke; opacity: 1; stroke-width: 0.5px; fill: rgb(255, 99, 97); fill-opacity: 1; stroke: rgb(0, 47, 69); stroke-opacity: 1;\"/></g><g class=\"point\"><path d=\"M238.91,270V266.85H240.55V270Z\" style=\"vector-effect: non-scaling-stroke; opacity: 1; stroke-width: 0.5px; fill: rgb(255, 99, 97); fill-opacity: 1; stroke: rgb(0, 47, 69); stroke-opacity: 1;\"/></g><g class=\"point\"><path d=\"M240.55,270V265.43H242.18V270Z\" style=\"vector-effect: non-scaling-stroke; opacity: 1; stroke-width: 0.5px; fill: rgb(255, 99, 97); fill-opacity: 1; stroke: rgb(0, 47, 69); stroke-opacity: 1;\"/></g><g class=\"point\"><path d=\"M242.18,270V266.85H243.82V270Z\" style=\"vector-effect: non-scaling-stroke; opacity: 1; stroke-width: 0.5px; fill: rgb(255, 99, 97); fill-opacity: 1; stroke: rgb(0, 47, 69); stroke-opacity: 1;\"/></g><g class=\"point\"><path d=\"M243.82,270V265.02H245.45V270Z\" style=\"vector-effect: non-scaling-stroke; opacity: 1; stroke-width: 0.5px; fill: rgb(255, 99, 97); fill-opacity: 1; stroke: rgb(0, 47, 69); stroke-opacity: 1;\"/></g><g class=\"point\"><path d=\"M245.45,270V261.06H247.09V270Z\" style=\"vector-effect: non-scaling-stroke; opacity: 1; stroke-width: 0.5px; fill: rgb(255, 99, 97); fill-opacity: 1; stroke: rgb(0, 47, 69); stroke-opacity: 1;\"/></g><g class=\"point\"><path d=\"M247.09,270V264.61H248.73V270Z\" style=\"vector-effect: non-scaling-stroke; opacity: 1; stroke-width: 0.5px; fill: rgb(255, 99, 97); fill-opacity: 1; stroke: rgb(0, 47, 69); stroke-opacity: 1;\"/></g><g class=\"point\"><path d=\"M248.73,270V261.77H250.36V270Z\" style=\"vector-effect: non-scaling-stroke; opacity: 1; stroke-width: 0.5px; fill: rgb(255, 99, 97); fill-opacity: 1; stroke: rgb(0, 47, 69); stroke-opacity: 1;\"/></g><g class=\"point\"><path d=\"M250.36,270V260.85H252V270Z\" style=\"vector-effect: non-scaling-stroke; opacity: 1; stroke-width: 0.5px; fill: rgb(255, 99, 97); fill-opacity: 1; stroke: rgb(0, 47, 69); stroke-opacity: 1;\"/></g><g class=\"point\"><path d=\"M252,270V260.24H253.64V270Z\" style=\"vector-effect: non-scaling-stroke; opacity: 1; stroke-width: 0.5px; fill: rgb(255, 99, 97); fill-opacity: 1; stroke: rgb(0, 47, 69); stroke-opacity: 1;\"/></g><g class=\"point\"><path d=\"M253.64,270V258.72H255.27V270Z\" style=\"vector-effect: non-scaling-stroke; opacity: 1; stroke-width: 0.5px; fill: rgb(255, 99, 97); fill-opacity: 1; stroke: rgb(0, 47, 69); stroke-opacity: 1;\"/></g><g class=\"point\"><path d=\"M255.27,270V259.23H256.91V270Z\" style=\"vector-effect: non-scaling-stroke; opacity: 1; stroke-width: 0.5px; fill: rgb(255, 99, 97); fill-opacity: 1; stroke: rgb(0, 47, 69); stroke-opacity: 1;\"/></g><g class=\"point\"><path d=\"M256.91,270V259.02H258.55V270Z\" style=\"vector-effect: non-scaling-stroke; opacity: 1; stroke-width: 0.5px; fill: rgb(255, 99, 97); fill-opacity: 1; stroke: rgb(0, 47, 69); stroke-opacity: 1;\"/></g><g class=\"point\"><path d=\"M258.55,270V259.53H260.18V270Z\" style=\"vector-effect: non-scaling-stroke; opacity: 1; stroke-width: 0.5px; fill: rgb(255, 99, 97); fill-opacity: 1; stroke: rgb(0, 47, 69); stroke-opacity: 1;\"/></g><g class=\"point\"><path d=\"M260.18,270V263.7H261.82V270Z\" style=\"vector-effect: non-scaling-stroke; opacity: 1; stroke-width: 0.5px; fill: rgb(255, 99, 97); fill-opacity: 1; stroke: rgb(0, 47, 69); stroke-opacity: 1;\"/></g><g class=\"point\"><path d=\"M261.82,270V264.51H263.45V270Z\" style=\"vector-effect: non-scaling-stroke; opacity: 1; stroke-width: 0.5px; fill: rgb(255, 99, 97); fill-opacity: 1; stroke: rgb(0, 47, 69); stroke-opacity: 1;\"/></g><g class=\"point\"><path d=\"M263.45,270V233.52H265.09V270Z\" style=\"vector-effect: non-scaling-stroke; opacity: 1; stroke-width: 0.5px; fill: rgb(255, 99, 97); fill-opacity: 1; stroke: rgb(0, 47, 69); stroke-opacity: 1;\"/></g><g class=\"point\"><path d=\"M265.09,270V243.07H266.73V270Z\" style=\"vector-effect: non-scaling-stroke; opacity: 1; stroke-width: 0.5px; fill: rgb(255, 99, 97); fill-opacity: 1; stroke: rgb(0, 47, 69); stroke-opacity: 1;\"/></g><g class=\"point\"><path d=\"M266.73,270V260.55H268.36V270Z\" style=\"vector-effect: non-scaling-stroke; opacity: 1; stroke-width: 0.5px; fill: rgb(255, 99, 97); fill-opacity: 1; stroke: rgb(0, 47, 69); stroke-opacity: 1;\"/></g><g class=\"point\"><path d=\"M268.36,270V250.69H270V270Z\" style=\"vector-effect: non-scaling-stroke; opacity: 1; stroke-width: 0.5px; fill: rgb(255, 99, 97); fill-opacity: 1; stroke: rgb(0, 47, 69); stroke-opacity: 1;\"/></g><g class=\"point\"><path d=\"M270,270V249.07H271.64V270Z\" style=\"vector-effect: non-scaling-stroke; opacity: 1; stroke-width: 0.5px; fill: rgb(255, 99, 97); fill-opacity: 1; stroke: rgb(0, 47, 69); stroke-opacity: 1;\"/></g><g class=\"point\"><path d=\"M271.64,270V237.68H273.27V270Z\" style=\"vector-effect: non-scaling-stroke; opacity: 1; stroke-width: 0.5px; fill: rgb(255, 99, 97); fill-opacity: 1; stroke: rgb(0, 47, 69); stroke-opacity: 1;\"/></g><g class=\"point\"><path d=\"M273.27,270V205.98H274.91V270Z\" style=\"vector-effect: non-scaling-stroke; opacity: 1; stroke-width: 0.5px; fill: rgb(255, 99, 97); fill-opacity: 1; stroke: rgb(0, 47, 69); stroke-opacity: 1;\"/></g><g class=\"point\"><path d=\"M274.91,270V187.89H276.55V270Z\" style=\"vector-effect: non-scaling-stroke; opacity: 1; stroke-width: 0.5px; fill: rgb(255, 99, 97); fill-opacity: 1; stroke: rgb(0, 47, 69); stroke-opacity: 1;\"/></g><g class=\"point\"><path d=\"M276.55,270V162.07H278.18V270Z\" style=\"vector-effect: non-scaling-stroke; opacity: 1; stroke-width: 0.5px; fill: rgb(255, 99, 97); fill-opacity: 1; stroke: rgb(0, 47, 69); stroke-opacity: 1;\"/></g><g class=\"point\"><path d=\"M278.18,270V129.35H279.82V270Z\" style=\"vector-effect: non-scaling-stroke; opacity: 1; stroke-width: 0.5px; fill: rgb(255, 99, 97); fill-opacity: 1; stroke: rgb(0, 47, 69); stroke-opacity: 1;\"/></g><g class=\"point\"><path d=\"M279.82,270V100.8H281.45V270Z\" style=\"vector-effect: non-scaling-stroke; opacity: 1; stroke-width: 0.5px; fill: rgb(255, 99, 97); fill-opacity: 1; stroke: rgb(0, 47, 69); stroke-opacity: 1;\"/></g><g class=\"point\"><path d=\"M281.45,270V96.32H283.09V270Z\" style=\"vector-effect: non-scaling-stroke; opacity: 1; stroke-width: 0.5px; fill: rgb(255, 99, 97); fill-opacity: 1; stroke: rgb(0, 47, 69); stroke-opacity: 1;\"/></g><g class=\"point\"><path d=\"M283.09,270V92.97H284.73V270Z\" style=\"vector-effect: non-scaling-stroke; opacity: 1; stroke-width: 0.5px; fill: rgb(255, 99, 97); fill-opacity: 1; stroke: rgb(0, 47, 69); stroke-opacity: 1;\"/></g><g class=\"point\"><path d=\"M284.73,270V88.4H286.36V270Z\" style=\"vector-effect: non-scaling-stroke; opacity: 1; stroke-width: 0.5px; fill: rgb(255, 99, 97); fill-opacity: 1; stroke: rgb(0, 47, 69); stroke-opacity: 1;\"/></g><g class=\"point\"><path d=\"M286.36,270V75.69H288V270Z\" style=\"vector-effect: non-scaling-stroke; opacity: 1; stroke-width: 0.5px; fill: rgb(255, 99, 97); fill-opacity: 1; stroke: rgb(0, 47, 69); stroke-opacity: 1;\"/></g><g class=\"point\"><path d=\"M288,270V74.58H289.64V270Z\" style=\"vector-effect: non-scaling-stroke; opacity: 1; stroke-width: 0.5px; fill: rgb(255, 99, 97); fill-opacity: 1; stroke: rgb(0, 47, 69); stroke-opacity: 1;\"/></g><g class=\"point\"><path d=\"M289.64,270V64.11H291.27V270Z\" style=\"vector-effect: non-scaling-stroke; opacity: 1; stroke-width: 0.5px; fill: rgb(255, 99, 97); fill-opacity: 1; stroke: rgb(0, 47, 69); stroke-opacity: 1;\"/></g><g class=\"point\"><path d=\"M291.27,270V25.19H292.91V270Z\" style=\"vector-effect: non-scaling-stroke; opacity: 1; stroke-width: 0.5px; fill: rgb(255, 99, 97); fill-opacity: 1; stroke: rgb(0, 47, 69); stroke-opacity: 1;\"/></g><g class=\"point\"><path d=\"M292.91,270V52.73H294.55V270Z\" style=\"vector-effect: non-scaling-stroke; opacity: 1; stroke-width: 0.5px; fill: rgb(255, 99, 97); fill-opacity: 1; stroke: rgb(0, 47, 69); stroke-opacity: 1;\"/></g><g class=\"point\"><path d=\"M294.55,270V47.75H296.18V270Z\" style=\"vector-effect: non-scaling-stroke; opacity: 1; stroke-width: 0.5px; fill: rgb(255, 99, 97); fill-opacity: 1; stroke: rgb(0, 47, 69); stroke-opacity: 1;\"/></g><g class=\"point\"><path d=\"M296.18,270V47.14H297.82V270Z\" style=\"vector-effect: non-scaling-stroke; opacity: 1; stroke-width: 0.5px; fill: rgb(255, 99, 97); fill-opacity: 1; stroke: rgb(0, 47, 69); stroke-opacity: 1;\"/></g><g class=\"point\"><path d=\"M297.82,270V101.2H299.45V270Z\" style=\"vector-effect: non-scaling-stroke; opacity: 1; stroke-width: 0.5px; fill: rgb(255, 99, 97); fill-opacity: 1; stroke: rgb(0, 47, 69); stroke-opacity: 1;\"/></g><g class=\"point\"><path d=\"M299.45,270V124.78H301.09V270Z\" style=\"vector-effect: non-scaling-stroke; opacity: 1; stroke-width: 0.5px; fill: rgb(255, 99, 97); fill-opacity: 1; stroke: rgb(0, 47, 69); stroke-opacity: 1;\"/></g><g class=\"point\"><path d=\"M301.09,270V200.18H302.73V270Z\" style=\"vector-effect: non-scaling-stroke; opacity: 1; stroke-width: 0.5px; fill: rgb(255, 99, 97); fill-opacity: 1; stroke: rgb(0, 47, 69); stroke-opacity: 1;\"/></g><g class=\"point\"><path d=\"M302.73,270V230.77H304.36V270Z\" style=\"vector-effect: non-scaling-stroke; opacity: 1; stroke-width: 0.5px; fill: rgb(255, 99, 97); fill-opacity: 1; stroke: rgb(0, 47, 69); stroke-opacity: 1;\"/></g><g class=\"point\"><path d=\"M304.36,270V251.61H306V270Z\" style=\"vector-effect: non-scaling-stroke; opacity: 1; stroke-width: 0.5px; fill: rgb(255, 99, 97); fill-opacity: 1; stroke: rgb(0, 47, 69); stroke-opacity: 1;\"/></g><g class=\"point\"><path d=\"M306,270V252.32H307.64V270Z\" style=\"vector-effect: non-scaling-stroke; opacity: 1; stroke-width: 0.5px; fill: rgb(255, 99, 97); fill-opacity: 1; stroke: rgb(0, 47, 69); stroke-opacity: 1;\"/></g><g class=\"point\"><path d=\"M307.64,270V256.89H309.27V270Z\" style=\"vector-effect: non-scaling-stroke; opacity: 1; stroke-width: 0.5px; fill: rgb(255, 99, 97); fill-opacity: 1; stroke: rgb(0, 47, 69); stroke-opacity: 1;\"/></g><g class=\"point\"><path d=\"M309.27,270V248.86H310.91V270Z\" style=\"vector-effect: non-scaling-stroke; opacity: 1; stroke-width: 0.5px; fill: rgb(255, 99, 97); fill-opacity: 1; stroke: rgb(0, 47, 69); stroke-opacity: 1;\"/></g><g class=\"point\"><path d=\"M310.91,270V244.09H312.55V270Z\" style=\"vector-effect: non-scaling-stroke; opacity: 1; stroke-width: 0.5px; fill: rgb(255, 99, 97); fill-opacity: 1; stroke: rgb(0, 47, 69); stroke-opacity: 1;\"/></g><g class=\"point\"><path d=\"M312.55,270V216.44H314.18V270Z\" style=\"vector-effect: non-scaling-stroke; opacity: 1; stroke-width: 0.5px; fill: rgb(255, 99, 97); fill-opacity: 1; stroke: rgb(0, 47, 69); stroke-opacity: 1;\"/></g><g class=\"point\"><path d=\"M314.18,270V197.54H315.82V270Z\" style=\"vector-effect: non-scaling-stroke; opacity: 1; stroke-width: 0.5px; fill: rgb(255, 99, 97); fill-opacity: 1; stroke: rgb(0, 47, 69); stroke-opacity: 1;\"/></g><g class=\"point\"><path d=\"M315.82,270V171.42H317.45V270Z\" style=\"vector-effect: non-scaling-stroke; opacity: 1; stroke-width: 0.5px; fill: rgb(255, 99, 97); fill-opacity: 1; stroke: rgb(0, 47, 69); stroke-opacity: 1;\"/></g><g class=\"point\"><path d=\"M317.45,270V144.6H319.09V270Z\" style=\"vector-effect: non-scaling-stroke; opacity: 1; stroke-width: 0.5px; fill: rgb(255, 99, 97); fill-opacity: 1; stroke: rgb(0, 47, 69); stroke-opacity: 1;\"/></g><g class=\"point\"><path d=\"M319.09,270V120.41H320.73V270Z\" style=\"vector-effect: non-scaling-stroke; opacity: 1; stroke-width: 0.5px; fill: rgb(255, 99, 97); fill-opacity: 1; stroke: rgb(0, 47, 69); stroke-opacity: 1;\"/></g><g class=\"point\"><path d=\"M320.73,270V82.6H322.36V270Z\" style=\"vector-effect: non-scaling-stroke; opacity: 1; stroke-width: 0.5px; fill: rgb(255, 99, 97); fill-opacity: 1; stroke: rgb(0, 47, 69); stroke-opacity: 1;\"/></g><g class=\"point\"><path d=\"M322.36,270V62.99H324V270Z\" style=\"vector-effect: non-scaling-stroke; opacity: 1; stroke-width: 0.5px; fill: rgb(255, 99, 97); fill-opacity: 1; stroke: rgb(0, 47, 69); stroke-opacity: 1;\"/></g><g class=\"point\"><path d=\"M324,270V80.47H325.64V270Z\" style=\"vector-effect: non-scaling-stroke; opacity: 1; stroke-width: 0.5px; fill: rgb(255, 99, 97); fill-opacity: 1; stroke: rgb(0, 47, 69); stroke-opacity: 1;\"/></g><g class=\"point\"><path d=\"M325.64,270V81.08H327.27V270Z\" style=\"vector-effect: non-scaling-stroke; opacity: 1; stroke-width: 0.5px; fill: rgb(255, 99, 97); fill-opacity: 1; stroke: rgb(0, 47, 69); stroke-opacity: 1;\"/></g><g class=\"point\"><path d=\"M327.27,270V90.33H328.91V270Z\" style=\"vector-effect: non-scaling-stroke; opacity: 1; stroke-width: 0.5px; fill: rgb(255, 99, 97); fill-opacity: 1; stroke: rgb(0, 47, 69); stroke-opacity: 1;\"/></g><g class=\"point\"><path d=\"M328.91,270V46.02H330.55V270Z\" style=\"vector-effect: non-scaling-stroke; opacity: 1; stroke-width: 0.5px; fill: rgb(255, 99, 97); fill-opacity: 1; stroke: rgb(0, 47, 69); stroke-opacity: 1;\"/></g><g class=\"point\"><path d=\"M330.55,270V45.92H332.18V270Z\" style=\"vector-effect: non-scaling-stroke; opacity: 1; stroke-width: 0.5px; fill: rgb(255, 99, 97); fill-opacity: 1; stroke: rgb(0, 47, 69); stroke-opacity: 1;\"/></g><g class=\"point\"><path d=\"M332.18,270V33.72H333.82V270Z\" style=\"vector-effect: non-scaling-stroke; opacity: 1; stroke-width: 0.5px; fill: rgb(255, 99, 97); fill-opacity: 1; stroke: rgb(0, 47, 69); stroke-opacity: 1;\"/></g><g class=\"point\"><path d=\"M333.82,270V51.1H335.45V270Z\" style=\"vector-effect: non-scaling-stroke; opacity: 1; stroke-width: 0.5px; fill: rgb(255, 99, 97); fill-opacity: 1; stroke: rgb(0, 47, 69); stroke-opacity: 1;\"/></g><g class=\"point\"><path d=\"M335.45,270V92.16H337.09V270Z\" style=\"vector-effect: non-scaling-stroke; opacity: 1; stroke-width: 0.5px; fill: rgb(255, 99, 97); fill-opacity: 1; stroke: rgb(0, 47, 69); stroke-opacity: 1;\"/></g><g class=\"point\"><path d=\"M337.09,270V102.93H338.73V270Z\" style=\"vector-effect: non-scaling-stroke; opacity: 1; stroke-width: 0.5px; fill: rgb(255, 99, 97); fill-opacity: 1; stroke: rgb(0, 47, 69); stroke-opacity: 1;\"/></g><g class=\"point\"><path d=\"M338.73,270V145.61H340.36V270Z\" style=\"vector-effect: non-scaling-stroke; opacity: 1; stroke-width: 0.5px; fill: rgb(255, 99, 97); fill-opacity: 1; stroke: rgb(0, 47, 69); stroke-opacity: 1;\"/></g><g class=\"point\"><path d=\"M340.36,270V184.33H342V270Z\" style=\"vector-effect: non-scaling-stroke; opacity: 1; stroke-width: 0.5px; fill: rgb(255, 99, 97); fill-opacity: 1; stroke: rgb(0, 47, 69); stroke-opacity: 1;\"/></g><g class=\"point\"><path d=\"M342,270V226.71H343.64V270Z\" style=\"vector-effect: non-scaling-stroke; opacity: 1; stroke-width: 0.5px; fill: rgb(255, 99, 97); fill-opacity: 1; stroke: rgb(0, 47, 69); stroke-opacity: 1;\"/></g><g class=\"point\"><path d=\"M343.64,270V244.39H345.27V270Z\" style=\"vector-effect: non-scaling-stroke; opacity: 1; stroke-width: 0.5px; fill: rgb(255, 99, 97); fill-opacity: 1; stroke: rgb(0, 47, 69); stroke-opacity: 1;\"/></g><g class=\"point\"><path d=\"M345.27,270V252.32H346.91V270Z\" style=\"vector-effect: non-scaling-stroke; opacity: 1; stroke-width: 0.5px; fill: rgb(255, 99, 97); fill-opacity: 1; stroke: rgb(0, 47, 69); stroke-opacity: 1;\"/></g><g class=\"point\"><path d=\"M346.91,270V262.68H348.55V270Z\" style=\"vector-effect: non-scaling-stroke; opacity: 1; stroke-width: 0.5px; fill: rgb(255, 99, 97); fill-opacity: 1; stroke: rgb(0, 47, 69); stroke-opacity: 1;\"/></g><g class=\"point\"><path d=\"M348.55,270V253.54H350.18V270Z\" style=\"vector-effect: non-scaling-stroke; opacity: 1; stroke-width: 0.5px; fill: rgb(255, 99, 97); fill-opacity: 1; stroke: rgb(0, 47, 69); stroke-opacity: 1;\"/></g><g class=\"point\"><path d=\"M350.18,270V242.66H351.82V270Z\" style=\"vector-effect: non-scaling-stroke; opacity: 1; stroke-width: 0.5px; fill: rgb(255, 99, 97); fill-opacity: 1; stroke: rgb(0, 47, 69); stroke-opacity: 1;\"/></g><g class=\"point\"><path d=\"M351.82,270V230.26H353.45V270Z\" style=\"vector-effect: non-scaling-stroke; opacity: 1; stroke-width: 0.5px; fill: rgb(255, 99, 97); fill-opacity: 1; stroke: rgb(0, 47, 69); stroke-opacity: 1;\"/></g><g class=\"point\"><path d=\"M353.45,270V212.79H355.09V270Z\" style=\"vector-effect: non-scaling-stroke; opacity: 1; stroke-width: 0.5px; fill: rgb(255, 99, 97); fill-opacity: 1; stroke: rgb(0, 47, 69); stroke-opacity: 1;\"/></g><g class=\"point\"><path d=\"M355.09,270V170H356.73V270Z\" style=\"vector-effect: non-scaling-stroke; opacity: 1; stroke-width: 0.5px; fill: rgb(255, 99, 97); fill-opacity: 1; stroke: rgb(0, 47, 69); stroke-opacity: 1;\"/></g><g class=\"point\"><path d=\"M356.73,270V149.17H358.36V270Z\" style=\"vector-effect: non-scaling-stroke; opacity: 1; stroke-width: 0.5px; fill: rgb(255, 99, 97); fill-opacity: 1; stroke: rgb(0, 47, 69); stroke-opacity: 1;\"/></g><g class=\"point\"><path d=\"M358.36,270V120.92H360V270Z\" style=\"vector-effect: non-scaling-stroke; opacity: 1; stroke-width: 0.5px; fill: rgb(255, 99, 97); fill-opacity: 1; stroke: rgb(0, 47, 69); stroke-opacity: 1;\"/></g><g class=\"point\"><path d=\"M360,270V90.53H361.64V270Z\" style=\"vector-effect: non-scaling-stroke; opacity: 1; stroke-width: 0.5px; fill: rgb(255, 99, 97); fill-opacity: 1; stroke: rgb(0, 47, 69); stroke-opacity: 1;\"/></g><g class=\"point\"><path d=\"M361.64,270V51.81H363.27V270Z\" style=\"vector-effect: non-scaling-stroke; opacity: 1; stroke-width: 0.5px; fill: rgb(255, 99, 97); fill-opacity: 1; stroke: rgb(0, 47, 69); stroke-opacity: 1;\"/></g><g class=\"point\"><path d=\"M363.27,270V77.22H364.91V270Z\" style=\"vector-effect: non-scaling-stroke; opacity: 1; stroke-width: 0.5px; fill: rgb(255, 99, 97); fill-opacity: 1; stroke: rgb(0, 47, 69); stroke-opacity: 1;\"/></g><g class=\"point\"><path d=\"M364.91,270V51.2H366.55V270Z\" style=\"vector-effect: non-scaling-stroke; opacity: 1; stroke-width: 0.5px; fill: rgb(255, 99, 97); fill-opacity: 1; stroke: rgb(0, 47, 69); stroke-opacity: 1;\"/></g><g class=\"point\"><path d=\"M366.55,270V75.19H368.18V270Z\" style=\"vector-effect: non-scaling-stroke; opacity: 1; stroke-width: 0.5px; fill: rgb(255, 99, 97); fill-opacity: 1; stroke: rgb(0, 47, 69); stroke-opacity: 1;\"/></g><g class=\"point\"><path d=\"M368.18,270V86.67H369.82V270Z\" style=\"vector-effect: non-scaling-stroke; opacity: 1; stroke-width: 0.5px; fill: rgb(255, 99, 97); fill-opacity: 1; stroke: rgb(0, 47, 69); stroke-opacity: 1;\"/></g><g class=\"point\"><path d=\"M369.82,270V55.06H371.45V270Z\" style=\"vector-effect: non-scaling-stroke; opacity: 1; stroke-width: 0.5px; fill: rgb(255, 99, 97); fill-opacity: 1; stroke: rgb(0, 47, 69); stroke-opacity: 1;\"/></g><g class=\"point\"><path d=\"M371.45,270V64.31H373.09V270Z\" style=\"vector-effect: non-scaling-stroke; opacity: 1; stroke-width: 0.5px; fill: rgb(255, 99, 97); fill-opacity: 1; stroke: rgb(0, 47, 69); stroke-opacity: 1;\"/></g><g class=\"point\"><path d=\"M373.09,270V85.35H374.73V270Z\" style=\"vector-effect: non-scaling-stroke; opacity: 1; stroke-width: 0.5px; fill: rgb(255, 99, 97); fill-opacity: 1; stroke: rgb(0, 47, 69); stroke-opacity: 1;\"/></g><g class=\"point\"><path d=\"M374.73,270V85.75H376.36V270Z\" style=\"vector-effect: non-scaling-stroke; opacity: 1; stroke-width: 0.5px; fill: rgb(255, 99, 97); fill-opacity: 1; stroke: rgb(0, 47, 69); stroke-opacity: 1;\"/></g><g class=\"point\"><path d=\"M376.36,270V134.64H378V270Z\" style=\"vector-effect: non-scaling-stroke; opacity: 1; stroke-width: 0.5px; fill: rgb(255, 99, 97); fill-opacity: 1; stroke: rgb(0, 47, 69); stroke-opacity: 1;\"/></g><g class=\"point\"><path d=\"M378,270V148.46H379.64V270Z\" style=\"vector-effect: non-scaling-stroke; opacity: 1; stroke-width: 0.5px; fill: rgb(255, 99, 97); fill-opacity: 1; stroke: rgb(0, 47, 69); stroke-opacity: 1;\"/></g><g class=\"point\"><path d=\"M379.64,270V197.64H381.27V270Z\" style=\"vector-effect: non-scaling-stroke; opacity: 1; stroke-width: 0.5px; fill: rgb(255, 99, 97); fill-opacity: 1; stroke: rgb(0, 47, 69); stroke-opacity: 1;\"/></g><g class=\"point\"><path d=\"M381.27,270V224.88H382.91V270Z\" style=\"vector-effect: non-scaling-stroke; opacity: 1; stroke-width: 0.5px; fill: rgb(255, 99, 97); fill-opacity: 1; stroke: rgb(0, 47, 69); stroke-opacity: 1;\"/></g><g class=\"point\"><path d=\"M382.91,270V247.03H384.55V270Z\" style=\"vector-effect: non-scaling-stroke; opacity: 1; stroke-width: 0.5px; fill: rgb(255, 99, 97); fill-opacity: 1; stroke: rgb(0, 47, 69); stroke-opacity: 1;\"/></g><g class=\"point\"><path d=\"M384.55,270V260.35H386.18V270Z\" style=\"vector-effect: non-scaling-stroke; opacity: 1; stroke-width: 0.5px; fill: rgb(255, 99, 97); fill-opacity: 1; stroke: rgb(0, 47, 69); stroke-opacity: 1;\"/></g><g class=\"point\"><path d=\"M386.18,270V258.92H387.82V270Z\" style=\"vector-effect: non-scaling-stroke; opacity: 1; stroke-width: 0.5px; fill: rgb(255, 99, 97); fill-opacity: 1; stroke: rgb(0, 47, 69); stroke-opacity: 1;\"/></g><g class=\"point\"><path d=\"M387.82,270V250.49H389.45V270Z\" style=\"vector-effect: non-scaling-stroke; opacity: 1; stroke-width: 0.5px; fill: rgb(255, 99, 97); fill-opacity: 1; stroke: rgb(0, 47, 69); stroke-opacity: 1;\"/></g><g class=\"point\"><path d=\"M389.45,270V248.05H391.09V270Z\" style=\"vector-effect: non-scaling-stroke; opacity: 1; stroke-width: 0.5px; fill: rgb(255, 99, 97); fill-opacity: 1; stroke: rgb(0, 47, 69); stroke-opacity: 1;\"/></g><g class=\"point\"><path d=\"M391.09,270V234.53H392.73V270Z\" style=\"vector-effect: non-scaling-stroke; opacity: 1; stroke-width: 0.5px; fill: rgb(255, 99, 97); fill-opacity: 1; stroke: rgb(0, 47, 69); stroke-opacity: 1;\"/></g><g class=\"point\"><path d=\"M392.73,270V208.62H394.36V270Z\" style=\"vector-effect: non-scaling-stroke; opacity: 1; stroke-width: 0.5px; fill: rgb(255, 99, 97); fill-opacity: 1; stroke: rgb(0, 47, 69); stroke-opacity: 1;\"/></g><g class=\"point\"><path d=\"M394.36,270V180.57H396V270Z\" style=\"vector-effect: non-scaling-stroke; opacity: 1; stroke-width: 0.5px; fill: rgb(255, 99, 97); fill-opacity: 1; stroke: rgb(0, 47, 69); stroke-opacity: 1;\"/></g><g class=\"point\"><path d=\"M396,270V151.81H397.64V270Z\" style=\"vector-effect: non-scaling-stroke; opacity: 1; stroke-width: 0.5px; fill: rgb(255, 99, 97); fill-opacity: 1; stroke: rgb(0, 47, 69); stroke-opacity: 1;\"/></g><g class=\"point\"><path d=\"M397.64,270V125.79H399.27V270Z\" style=\"vector-effect: non-scaling-stroke; opacity: 1; stroke-width: 0.5px; fill: rgb(255, 99, 97); fill-opacity: 1; stroke: rgb(0, 47, 69); stroke-opacity: 1;\"/></g><g class=\"point\"><path d=\"M399.27,270V100.19H400.91V270Z\" style=\"vector-effect: non-scaling-stroke; opacity: 1; stroke-width: 0.5px; fill: rgb(255, 99, 97); fill-opacity: 1; stroke: rgb(0, 47, 69); stroke-opacity: 1;\"/></g><g class=\"point\"><path d=\"M400.91,270V106.99H402.55V270Z\" style=\"vector-effect: non-scaling-stroke; opacity: 1; stroke-width: 0.5px; fill: rgb(255, 99, 97); fill-opacity: 1; stroke: rgb(0, 47, 69); stroke-opacity: 1;\"/></g><g class=\"point\"><path d=\"M402.55,270V67.16H404.18V270Z\" style=\"vector-effect: non-scaling-stroke; opacity: 1; stroke-width: 0.5px; fill: rgb(255, 99, 97); fill-opacity: 1; stroke: rgb(0, 47, 69); stroke-opacity: 1;\"/></g><g class=\"point\"><path d=\"M404.18,270V50.08H405.82V270Z\" style=\"vector-effect: non-scaling-stroke; opacity: 1; stroke-width: 0.5px; fill: rgb(255, 99, 97); fill-opacity: 1; stroke: rgb(0, 47, 69); stroke-opacity: 1;\"/></g><g class=\"point\"><path d=\"M405.82,270V62.28H407.45V270Z\" style=\"vector-effect: non-scaling-stroke; opacity: 1; stroke-width: 0.5px; fill: rgb(255, 99, 97); fill-opacity: 1; stroke: rgb(0, 47, 69); stroke-opacity: 1;\"/></g><g class=\"point\"><path d=\"M407.45,270V80.98H409.09V270Z\" style=\"vector-effect: non-scaling-stroke; opacity: 1; stroke-width: 0.5px; fill: rgb(255, 99, 97); fill-opacity: 1; stroke: rgb(0, 47, 69); stroke-opacity: 1;\"/></g><g class=\"point\"><path d=\"M409.09,270V74.37H410.73V270Z\" style=\"vector-effect: non-scaling-stroke; opacity: 1; stroke-width: 0.5px; fill: rgb(255, 99, 97); fill-opacity: 1; stroke: rgb(0, 47, 69); stroke-opacity: 1;\"/></g><g class=\"point\"><path d=\"M410.73,270V79.45H412.36V270Z\" style=\"vector-effect: non-scaling-stroke; opacity: 1; stroke-width: 0.5px; fill: rgb(255, 99, 97); fill-opacity: 1; stroke: rgb(0, 47, 69); stroke-opacity: 1;\"/></g><g class=\"point\"><path d=\"M412.36,270V88.6H414V270Z\" style=\"vector-effect: non-scaling-stroke; opacity: 1; stroke-width: 0.5px; fill: rgb(255, 99, 97); fill-opacity: 1; stroke: rgb(0, 47, 69); stroke-opacity: 1;\"/></g><g class=\"point\"><path d=\"M414,270V102.73H415.64V270Z\" style=\"vector-effect: non-scaling-stroke; opacity: 1; stroke-width: 0.5px; fill: rgb(255, 99, 97); fill-opacity: 1; stroke: rgb(0, 47, 69); stroke-opacity: 1;\"/></g><g class=\"point\"><path d=\"M415.64,270V115.94H417.27V270Z\" style=\"vector-effect: non-scaling-stroke; opacity: 1; stroke-width: 0.5px; fill: rgb(255, 99, 97); fill-opacity: 1; stroke: rgb(0, 47, 69); stroke-opacity: 1;\"/></g><g class=\"point\"><path d=\"M417.27,270V141.95H418.91V270Z\" style=\"vector-effect: non-scaling-stroke; opacity: 1; stroke-width: 0.5px; fill: rgb(255, 99, 97); fill-opacity: 1; stroke: rgb(0, 47, 69); stroke-opacity: 1;\"/></g><g class=\"point\"><path d=\"M418.91,270V179.25H420.55V270Z\" style=\"vector-effect: non-scaling-stroke; opacity: 1; stroke-width: 0.5px; fill: rgb(255, 99, 97); fill-opacity: 1; stroke: rgb(0, 47, 69); stroke-opacity: 1;\"/></g><g class=\"point\"><path d=\"M420.55,270V215.22H422.18V270Z\" style=\"vector-effect: non-scaling-stroke; opacity: 1; stroke-width: 0.5px; fill: rgb(255, 99, 97); fill-opacity: 1; stroke: rgb(0, 47, 69); stroke-opacity: 1;\"/></g><g class=\"point\"><path d=\"M422.18,270V233.52H423.82V270Z\" style=\"vector-effect: non-scaling-stroke; opacity: 1; stroke-width: 0.5px; fill: rgb(255, 99, 97); fill-opacity: 1; stroke: rgb(0, 47, 69); stroke-opacity: 1;\"/></g><g class=\"point\"><path d=\"M423.82,270V254.35H425.45V270Z\" style=\"vector-effect: non-scaling-stroke; opacity: 1; stroke-width: 0.5px; fill: rgb(255, 99, 97); fill-opacity: 1; stroke: rgb(0, 47, 69); stroke-opacity: 1;\"/></g><g class=\"point\"><path d=\"M425.45,270V253.33H427.09V270Z\" style=\"vector-effect: non-scaling-stroke; opacity: 1; stroke-width: 0.5px; fill: rgb(255, 99, 97); fill-opacity: 1; stroke: rgb(0, 47, 69); stroke-opacity: 1;\"/></g><g class=\"point\"><path d=\"M427.09,270V254.76H428.73V270Z\" style=\"vector-effect: non-scaling-stroke; opacity: 1; stroke-width: 0.5px; fill: rgb(255, 99, 97); fill-opacity: 1; stroke: rgb(0, 47, 69); stroke-opacity: 1;\"/></g><g class=\"point\"><path d=\"M428.73,270V238.39H430.36V270Z\" style=\"vector-effect: non-scaling-stroke; opacity: 1; stroke-width: 0.5px; fill: rgb(255, 99, 97); fill-opacity: 1; stroke: rgb(0, 47, 69); stroke-opacity: 1;\"/></g><g class=\"point\"><path d=\"M430.36,270V222.74H432V270Z\" style=\"vector-effect: non-scaling-stroke; opacity: 1; stroke-width: 0.5px; fill: rgb(255, 99, 97); fill-opacity: 1; stroke: rgb(0, 47, 69); stroke-opacity: 1;\"/></g><g class=\"point\"><path d=\"M432,270V191.44H433.64V270Z\" style=\"vector-effect: non-scaling-stroke; opacity: 1; stroke-width: 0.5px; fill: rgb(255, 99, 97); fill-opacity: 1; stroke: rgb(0, 47, 69); stroke-opacity: 1;\"/></g><g class=\"point\"><path d=\"M433.64,270V149.27H435.27V270Z\" style=\"vector-effect: non-scaling-stroke; opacity: 1; stroke-width: 0.5px; fill: rgb(255, 99, 97); fill-opacity: 1; stroke: rgb(0, 47, 69); stroke-opacity: 1;\"/></g><g class=\"point\"><path d=\"M435.27,270V132.1H436.91V270Z\" style=\"vector-effect: non-scaling-stroke; opacity: 1; stroke-width: 0.5px; fill: rgb(255, 99, 97); fill-opacity: 1; stroke: rgb(0, 47, 69); stroke-opacity: 1;\"/></g><g class=\"point\"><path d=\"M436.91,270V137.28H438.55V270Z\" style=\"vector-effect: non-scaling-stroke; opacity: 1; stroke-width: 0.5px; fill: rgb(255, 99, 97); fill-opacity: 1; stroke: rgb(0, 47, 69); stroke-opacity: 1;\"/></g><g class=\"point\"><path d=\"M438.55,270V99.98H440.18V270Z\" style=\"vector-effect: non-scaling-stroke; opacity: 1; stroke-width: 0.5px; fill: rgb(255, 99, 97); fill-opacity: 1; stroke: rgb(0, 47, 69); stroke-opacity: 1;\"/></g><g class=\"point\"><path d=\"M440.18,270V95H441.82V270Z\" style=\"vector-effect: non-scaling-stroke; opacity: 1; stroke-width: 0.5px; fill: rgb(255, 99, 97); fill-opacity: 1; stroke: rgb(0, 47, 69); stroke-opacity: 1;\"/></g><g class=\"point\"><path d=\"M441.82,270V89.92H443.45V270Z\" style=\"vector-effect: non-scaling-stroke; opacity: 1; stroke-width: 0.5px; fill: rgb(255, 99, 97); fill-opacity: 1; stroke: rgb(0, 47, 69); stroke-opacity: 1;\"/></g><g class=\"point\"><path d=\"M443.45,270V64.11H445.09V270Z\" style=\"vector-effect: non-scaling-stroke; opacity: 1; stroke-width: 0.5px; fill: rgb(255, 99, 97); fill-opacity: 1; stroke: rgb(0, 47, 69); stroke-opacity: 1;\"/></g><g class=\"point\"><path d=\"M445.09,270V72.75H446.73V270Z\" style=\"vector-effect: non-scaling-stroke; opacity: 1; stroke-width: 0.5px; fill: rgb(255, 99, 97); fill-opacity: 1; stroke: rgb(0, 47, 69); stroke-opacity: 1;\"/></g><g class=\"point\"><path d=\"M446.73,270V28.64H448.36V270Z\" style=\"vector-effect: non-scaling-stroke; opacity: 1; stroke-width: 0.5px; fill: rgb(255, 99, 97); fill-opacity: 1; stroke: rgb(0, 47, 69); stroke-opacity: 1;\"/></g><g class=\"point\"><path d=\"M448.36,270V45.11H450V270Z\" style=\"vector-effect: non-scaling-stroke; opacity: 1; stroke-width: 0.5px; fill: rgb(255, 99, 97); fill-opacity: 1; stroke: rgb(0, 47, 69); stroke-opacity: 1;\"/></g><g class=\"point\"><path d=\"M450,270V49.98H451.64V270Z\" style=\"vector-effect: non-scaling-stroke; opacity: 1; stroke-width: 0.5px; fill: rgb(255, 99, 97); fill-opacity: 1; stroke: rgb(0, 47, 69); stroke-opacity: 1;\"/></g><g class=\"point\"><path d=\"M451.64,270V37.89H453.27V270Z\" style=\"vector-effect: non-scaling-stroke; opacity: 1; stroke-width: 0.5px; fill: rgb(255, 99, 97); fill-opacity: 1; stroke: rgb(0, 47, 69); stroke-opacity: 1;\"/></g><g class=\"point\"><path d=\"M453.27,270V52.02H454.91V270Z\" style=\"vector-effect: non-scaling-stroke; opacity: 1; stroke-width: 0.5px; fill: rgb(255, 99, 97); fill-opacity: 1; stroke: rgb(0, 47, 69); stroke-opacity: 1;\"/></g><g class=\"point\"><path d=\"M454.91,270V117.77H456.55V270Z\" style=\"vector-effect: non-scaling-stroke; opacity: 1; stroke-width: 0.5px; fill: rgb(255, 99, 97); fill-opacity: 1; stroke: rgb(0, 47, 69); stroke-opacity: 1;\"/></g><g class=\"point\"><path d=\"M456.55,270V146.32H458.18V270Z\" style=\"vector-effect: non-scaling-stroke; opacity: 1; stroke-width: 0.5px; fill: rgb(255, 99, 97); fill-opacity: 1; stroke: rgb(0, 47, 69); stroke-opacity: 1;\"/></g><g class=\"point\"><path d=\"M458.18,270V192.87H459.82V270Z\" style=\"vector-effect: non-scaling-stroke; opacity: 1; stroke-width: 0.5px; fill: rgb(255, 99, 97); fill-opacity: 1; stroke: rgb(0, 47, 69); stroke-opacity: 1;\"/></g><g class=\"point\"><path d=\"M459.82,270V209.94H461.45V270Z\" style=\"vector-effect: non-scaling-stroke; opacity: 1; stroke-width: 0.5px; fill: rgb(255, 99, 97); fill-opacity: 1; stroke: rgb(0, 47, 69); stroke-opacity: 1;\"/></g><g class=\"point\"><path d=\"M461.45,270V244.39H463.09V270Z\" style=\"vector-effect: non-scaling-stroke; opacity: 1; stroke-width: 0.5px; fill: rgb(255, 99, 97); fill-opacity: 1; stroke: rgb(0, 47, 69); stroke-opacity: 1;\"/></g><g class=\"point\"><path d=\"M463.09,270V254.65H464.73V270Z\" style=\"vector-effect: non-scaling-stroke; opacity: 1; stroke-width: 0.5px; fill: rgb(255, 99, 97); fill-opacity: 1; stroke: rgb(0, 47, 69); stroke-opacity: 1;\"/></g><g class=\"point\"><path d=\"M464.73,270V254.86H466.36V270Z\" style=\"vector-effect: non-scaling-stroke; opacity: 1; stroke-width: 0.5px; fill: rgb(255, 99, 97); fill-opacity: 1; stroke: rgb(0, 47, 69); stroke-opacity: 1;\"/></g><g class=\"point\"><path d=\"M466.36,270V252.93H468V270Z\" style=\"vector-effect: non-scaling-stroke; opacity: 1; stroke-width: 0.5px; fill: rgb(255, 99, 97); fill-opacity: 1; stroke: rgb(0, 47, 69); stroke-opacity: 1;\"/></g><g class=\"point\"><path d=\"M468,270V231.99H469.64V270Z\" style=\"vector-effect: non-scaling-stroke; opacity: 1; stroke-width: 0.5px; fill: rgb(255, 99, 97); fill-opacity: 1; stroke: rgb(0, 47, 69); stroke-opacity: 1;\"/></g><g class=\"point\"><path d=\"M469.64,270V208.42H471.27V270Z\" style=\"vector-effect: non-scaling-stroke; opacity: 1; stroke-width: 0.5px; fill: rgb(255, 99, 97); fill-opacity: 1; stroke: rgb(0, 47, 69); stroke-opacity: 1;\"/></g><g class=\"point\"><path d=\"M471.27,270V167.77H472.91V270Z\" style=\"vector-effect: non-scaling-stroke; opacity: 1; stroke-width: 0.5px; fill: rgb(255, 99, 97); fill-opacity: 1; stroke: rgb(0, 47, 69); stroke-opacity: 1;\"/></g><g class=\"point\"><path d=\"M472.91,270V126H474.55V270Z\" style=\"vector-effect: non-scaling-stroke; opacity: 1; stroke-width: 0.5px; fill: rgb(255, 99, 97); fill-opacity: 1; stroke: rgb(0, 47, 69); stroke-opacity: 1;\"/></g><g class=\"point\"><path d=\"M474.55,270V121.83H476.18V270Z\" style=\"vector-effect: non-scaling-stroke; opacity: 1; stroke-width: 0.5px; fill: rgb(255, 99, 97); fill-opacity: 1; stroke: rgb(0, 47, 69); stroke-opacity: 1;\"/></g><g class=\"point\"><path d=\"M476.18,270V112.28H477.82V270Z\" style=\"vector-effect: non-scaling-stroke; opacity: 1; stroke-width: 0.5px; fill: rgb(255, 99, 97); fill-opacity: 1; stroke: rgb(0, 47, 69); stroke-opacity: 1;\"/></g><g class=\"point\"><path d=\"M477.82,270V90.53H479.45V270Z\" style=\"vector-effect: non-scaling-stroke; opacity: 1; stroke-width: 0.5px; fill: rgb(255, 99, 97); fill-opacity: 1; stroke: rgb(0, 47, 69); stroke-opacity: 1;\"/></g><g class=\"point\"><path d=\"M479.45,270V77.32H481.09V270Z\" style=\"vector-effect: non-scaling-stroke; opacity: 1; stroke-width: 0.5px; fill: rgb(255, 99, 97); fill-opacity: 1; stroke: rgb(0, 47, 69); stroke-opacity: 1;\"/></g><g class=\"point\"><path d=\"M481.09,270V94.6H482.73V270Z\" style=\"vector-effect: non-scaling-stroke; opacity: 1; stroke-width: 0.5px; fill: rgb(255, 99, 97); fill-opacity: 1; stroke: rgb(0, 47, 69); stroke-opacity: 1;\"/></g><g class=\"point\"><path d=\"M482.73,270V68.78H484.36V270Z\" style=\"vector-effect: non-scaling-stroke; opacity: 1; stroke-width: 0.5px; fill: rgb(255, 99, 97); fill-opacity: 1; stroke: rgb(0, 47, 69); stroke-opacity: 1;\"/></g><g class=\"point\"><path d=\"M484.36,270V97.65H486V270Z\" style=\"vector-effect: non-scaling-stroke; opacity: 1; stroke-width: 0.5px; fill: rgb(255, 99, 97); fill-opacity: 1; stroke: rgb(0, 47, 69); stroke-opacity: 1;\"/></g><g class=\"point\"><path d=\"M486,270V72.85H487.64V270Z\" style=\"vector-effect: non-scaling-stroke; opacity: 1; stroke-width: 0.5px; fill: rgb(255, 99, 97); fill-opacity: 1; stroke: rgb(0, 47, 69); stroke-opacity: 1;\"/></g><g class=\"point\"><path d=\"M487.64,270V33.11H489.27V270Z\" style=\"vector-effect: non-scaling-stroke; opacity: 1; stroke-width: 0.5px; fill: rgb(255, 99, 97); fill-opacity: 1; stroke: rgb(0, 47, 69); stroke-opacity: 1;\"/></g><g class=\"point\"><path d=\"M489.27,270V13.5H490.91V270Z\" style=\"vector-effect: non-scaling-stroke; opacity: 1; stroke-width: 0.5px; fill: rgb(255, 99, 97); fill-opacity: 1; stroke: rgb(0, 47, 69); stroke-opacity: 1;\"/></g><g class=\"point\"><path d=\"M490.91,270V46.93H492.55V270Z\" style=\"vector-effect: non-scaling-stroke; opacity: 1; stroke-width: 0.5px; fill: rgb(255, 99, 97); fill-opacity: 1; stroke: rgb(0, 47, 69); stroke-opacity: 1;\"/></g><g class=\"point\"><path d=\"M492.55,270V68.28H494.18V270Z\" style=\"vector-effect: non-scaling-stroke; opacity: 1; stroke-width: 0.5px; fill: rgb(255, 99, 97); fill-opacity: 1; stroke: rgb(0, 47, 69); stroke-opacity: 1;\"/></g><g class=\"point\"><path d=\"M494.18,270V76.2H495.82V270Z\" style=\"vector-effect: non-scaling-stroke; opacity: 1; stroke-width: 0.5px; fill: rgb(255, 99, 97); fill-opacity: 1; stroke: rgb(0, 47, 69); stroke-opacity: 1;\"/></g><g class=\"point\"><path d=\"M495.82,270V135.55H497.45V270Z\" style=\"vector-effect: non-scaling-stroke; opacity: 1; stroke-width: 0.5px; fill: rgb(255, 99, 97); fill-opacity: 1; stroke: rgb(0, 47, 69); stroke-opacity: 1;\"/></g><g class=\"point\"><path d=\"M497.45,270V194.8H499.09V270Z\" style=\"vector-effect: non-scaling-stroke; opacity: 1; stroke-width: 0.5px; fill: rgb(255, 99, 97); fill-opacity: 1; stroke: rgb(0, 47, 69); stroke-opacity: 1;\"/></g><g class=\"point\"><path d=\"M499.09,270V233.82H500.73V270Z\" style=\"vector-effect: non-scaling-stroke; opacity: 1; stroke-width: 0.5px; fill: rgb(255, 99, 97); fill-opacity: 1; stroke: rgb(0, 47, 69); stroke-opacity: 1;\"/></g><g class=\"point\"><path d=\"M500.73,270V252.62H502.36V270Z\" style=\"vector-effect: non-scaling-stroke; opacity: 1; stroke-width: 0.5px; fill: rgb(255, 99, 97); fill-opacity: 1; stroke: rgb(0, 47, 69); stroke-opacity: 1;\"/></g><g class=\"point\"><path d=\"M502.36,270V260.04H504V270Z\" style=\"vector-effect: non-scaling-stroke; opacity: 1; stroke-width: 0.5px; fill: rgb(255, 99, 97); fill-opacity: 1; stroke: rgb(0, 47, 69); stroke-opacity: 1;\"/></g><g class=\"point\"><path d=\"M504,270V259.13H505.64V270Z\" style=\"vector-effect: non-scaling-stroke; opacity: 1; stroke-width: 0.5px; fill: rgb(255, 99, 97); fill-opacity: 1; stroke: rgb(0, 47, 69); stroke-opacity: 1;\"/></g><g class=\"point\"><path d=\"M505.64,270V246.63H507.27V270Z\" style=\"vector-effect: non-scaling-stroke; opacity: 1; stroke-width: 0.5px; fill: rgb(255, 99, 97); fill-opacity: 1; stroke: rgb(0, 47, 69); stroke-opacity: 1;\"/></g><g class=\"point\"><path d=\"M507.27,270V243.37H508.91V270Z\" style=\"vector-effect: non-scaling-stroke; opacity: 1; stroke-width: 0.5px; fill: rgb(255, 99, 97); fill-opacity: 1; stroke: rgb(0, 47, 69); stroke-opacity: 1;\"/></g><g class=\"point\"><path d=\"M508.91,270V219.59H510.55V270Z\" style=\"vector-effect: non-scaling-stroke; opacity: 1; stroke-width: 0.5px; fill: rgb(255, 99, 97); fill-opacity: 1; stroke: rgb(0, 47, 69); stroke-opacity: 1;\"/></g><g class=\"point\"><path d=\"M510.55,270V175.08H512.18V270Z\" style=\"vector-effect: non-scaling-stroke; opacity: 1; stroke-width: 0.5px; fill: rgb(255, 99, 97); fill-opacity: 1; stroke: rgb(0, 47, 69); stroke-opacity: 1;\"/></g><g class=\"point\"><path d=\"M512.18,270V162.58H513.82V270Z\" style=\"vector-effect: non-scaling-stroke; opacity: 1; stroke-width: 0.5px; fill: rgb(255, 99, 97); fill-opacity: 1; stroke: rgb(0, 47, 69); stroke-opacity: 1;\"/></g><g class=\"point\"><path d=\"M513.82,270V137.58H515.45V270Z\" style=\"vector-effect: non-scaling-stroke; opacity: 1; stroke-width: 0.5px; fill: rgb(255, 99, 97); fill-opacity: 1; stroke: rgb(0, 47, 69); stroke-opacity: 1;\"/></g><g class=\"point\"><path d=\"M515.45,270V134.23H517.09V270Z\" style=\"vector-effect: non-scaling-stroke; opacity: 1; stroke-width: 0.5px; fill: rgb(255, 99, 97); fill-opacity: 1; stroke: rgb(0, 47, 69); stroke-opacity: 1;\"/></g><g class=\"point\"><path d=\"M517.09,270V118.27H518.73V270Z\" style=\"vector-effect: non-scaling-stroke; opacity: 1; stroke-width: 0.5px; fill: rgb(255, 99, 97); fill-opacity: 1; stroke: rgb(0, 47, 69); stroke-opacity: 1;\"/></g><g class=\"point\"><path d=\"M518.73,270V80.67H520.36V270Z\" style=\"vector-effect: non-scaling-stroke; opacity: 1; stroke-width: 0.5px; fill: rgb(255, 99, 97); fill-opacity: 1; stroke: rgb(0, 47, 69); stroke-opacity: 1;\"/></g><g class=\"point\"><path d=\"M520.36,270V111.97H522V270Z\" style=\"vector-effect: non-scaling-stroke; opacity: 1; stroke-width: 0.5px; fill: rgb(255, 99, 97); fill-opacity: 1; stroke: rgb(0, 47, 69); stroke-opacity: 1;\"/></g><g class=\"point\"><path d=\"M522,270V110.14H523.64V270Z\" style=\"vector-effect: non-scaling-stroke; opacity: 1; stroke-width: 0.5px; fill: rgb(255, 99, 97); fill-opacity: 1; stroke: rgb(0, 47, 69); stroke-opacity: 1;\"/></g><g class=\"point\"><path d=\"M523.64,270V89.01H525.27V270Z\" style=\"vector-effect: non-scaling-stroke; opacity: 1; stroke-width: 0.5px; fill: rgb(255, 99, 97); fill-opacity: 1; stroke: rgb(0, 47, 69); stroke-opacity: 1;\"/></g><g class=\"point\"><path d=\"M525.27,270V83.82H526.91V270Z\" style=\"vector-effect: non-scaling-stroke; opacity: 1; stroke-width: 0.5px; fill: rgb(255, 99, 97); fill-opacity: 1; stroke: rgb(0, 47, 69); stroke-opacity: 1;\"/></g><g class=\"point\"><path d=\"M526.91,270V59.94H528.55V270Z\" style=\"vector-effect: non-scaling-stroke; opacity: 1; stroke-width: 0.5px; fill: rgb(255, 99, 97); fill-opacity: 1; stroke: rgb(0, 47, 69); stroke-opacity: 1;\"/></g><g class=\"point\"><path d=\"M528.55,270V30.78H530.18V270Z\" style=\"vector-effect: non-scaling-stroke; opacity: 1; stroke-width: 0.5px; fill: rgb(255, 99, 97); fill-opacity: 1; stroke: rgb(0, 47, 69); stroke-opacity: 1;\"/></g><g class=\"point\"><path d=\"M530.18,270V54.25H531.82V270Z\" style=\"vector-effect: non-scaling-stroke; opacity: 1; stroke-width: 0.5px; fill: rgb(255, 99, 97); fill-opacity: 1; stroke: rgb(0, 47, 69); stroke-opacity: 1;\"/></g><g class=\"point\"><path d=\"M531.82,270V98.25H533.45V270Z\" style=\"vector-effect: non-scaling-stroke; opacity: 1; stroke-width: 0.5px; fill: rgb(255, 99, 97); fill-opacity: 1; stroke: rgb(0, 47, 69); stroke-opacity: 1;\"/></g><g class=\"point\"><path d=\"M533.45,270V119.6H535.09V270Z\" style=\"vector-effect: non-scaling-stroke; opacity: 1; stroke-width: 0.5px; fill: rgb(255, 99, 97); fill-opacity: 1; stroke: rgb(0, 47, 69); stroke-opacity: 1;\"/></g><g class=\"point\"><path d=\"M535.09,270V144.9H536.73V270Z\" style=\"vector-effect: non-scaling-stroke; opacity: 1; stroke-width: 0.5px; fill: rgb(255, 99, 97); fill-opacity: 1; stroke: rgb(0, 47, 69); stroke-opacity: 1;\"/></g><g class=\"point\"><path d=\"M536.73,270V199.98H538.36V270Z\" style=\"vector-effect: non-scaling-stroke; opacity: 1; stroke-width: 0.5px; fill: rgb(255, 99, 97); fill-opacity: 1; stroke: rgb(0, 47, 69); stroke-opacity: 1;\"/></g><g class=\"point\"><path d=\"M538.36,270V263.19H540V270Z\" style=\"vector-effect: non-scaling-stroke; opacity: 1; stroke-width: 0.5px; fill: rgb(255, 99, 97); fill-opacity: 1; stroke: rgb(0, 47, 69); stroke-opacity: 1;\"/></g></g></g></g></g><g class=\"overplot\"/><path class=\"xlines-above crisp\" d=\"M0,0\" style=\"fill: none;\"/><path class=\"ylines-above crisp\" d=\"M0,0\" style=\"fill: none;\"/><g class=\"overlines-above\"/><g class=\"xaxislayer-above\"><g class=\"xtick\"><text text-anchor=\"middle\" x=\"0\" y=\"383\" transform=\"translate(152,0)\" style=\"font-family: 'Open Sans', verdana, arial, sans-serif; font-size: 12px; fill: rgb(42, 63, 95); fill-opacity: 1; white-space: pre;\"><tspan class=\"line\" dy=\"0em\" x=\"0\" y=\"383\">Jul 27</tspan><tspan class=\"line\" dy=\"1.3em\" x=\"0\" y=\"383\">2019</tspan></text></g><g class=\"xtick\"><text text-anchor=\"middle\" x=\"0\" y=\"383\" transform=\"translate(230.55,0)\" style=\"font-family: 'Open Sans', verdana, arial, sans-serif; font-size: 12px; fill: rgb(42, 63, 95); fill-opacity: 1; white-space: pre;\">Jul 29</text></g><g class=\"xtick\"><text text-anchor=\"middle\" x=\"0\" y=\"383\" transform=\"translate(309.09000000000003,0)\" style=\"font-family: 'Open Sans', verdana, arial, sans-serif; font-size: 12px; fill: rgb(42, 63, 95); fill-opacity: 1; white-space: pre;\">Jul 31</text></g><g class=\"xtick\"><text text-anchor=\"middle\" x=\"0\" y=\"383\" transform=\"translate(387.64,0)\" style=\"font-family: 'Open Sans', verdana, arial, sans-serif; font-size: 12px; fill: rgb(42, 63, 95); fill-opacity: 1; white-space: pre;\">Aug 2</text></g><g class=\"xtick\"><text text-anchor=\"middle\" x=\"0\" y=\"383\" transform=\"translate(466.18,0)\" style=\"font-family: 'Open Sans', verdana, arial, sans-serif; font-size: 12px; fill: rgb(42, 63, 95); fill-opacity: 1; white-space: pre;\">Aug 4</text></g><g class=\"xtick\"><text text-anchor=\"middle\" x=\"0\" y=\"383\" transform=\"translate(544.73,0)\" style=\"font-family: 'Open Sans', verdana, arial, sans-serif; font-size: 12px; fill: rgb(42, 63, 95); fill-opacity: 1; white-space: pre;\">Aug 6</text></g></g><g class=\"yaxislayer-above\"><g class=\"ytick\"><text text-anchor=\"end\" x=\"79\" y=\"4.199999999999999\" transform=\"translate(0,370)\" style=\"font-family: 'Open Sans', verdana, arial, sans-serif; font-size: 12px; fill: rgb(42, 63, 95); fill-opacity: 1; white-space: pre;\">0</text></g><g class=\"ytick\"><text text-anchor=\"end\" x=\"79\" y=\"4.199999999999999\" transform=\"translate(0,319.19)\" style=\"font-family: 'Open Sans', verdana, arial, sans-serif; font-size: 12px; fill: rgb(42, 63, 95); fill-opacity: 1; white-space: pre;\">500</text></g><g class=\"ytick\"><text text-anchor=\"end\" x=\"79\" y=\"4.199999999999999\" transform=\"translate(0,268.38)\" style=\"font-family: 'Open Sans', verdana, arial, sans-serif; font-size: 12px; fill: rgb(42, 63, 95); fill-opacity: 1; white-space: pre;\">1000</text></g><g class=\"ytick\"><text text-anchor=\"end\" x=\"79\" y=\"4.199999999999999\" transform=\"translate(0,217.56)\" style=\"font-family: 'Open Sans', verdana, arial, sans-serif; font-size: 12px; fill: rgb(42, 63, 95); fill-opacity: 1; white-space: pre;\">1500</text></g><g class=\"ytick\"><text text-anchor=\"end\" x=\"79\" y=\"4.199999999999999\" transform=\"translate(0,166.75)\" style=\"font-family: 'Open Sans', verdana, arial, sans-serif; font-size: 12px; fill: rgb(42, 63, 95); fill-opacity: 1; white-space: pre;\">2000</text></g><g class=\"ytick\"><text text-anchor=\"end\" x=\"79\" y=\"4.199999999999999\" transform=\"translate(0,115.94)\" style=\"font-family: 'Open Sans', verdana, arial, sans-serif; font-size: 12px; fill: rgb(42, 63, 95); fill-opacity: 1; white-space: pre;\">2500</text></g></g><g class=\"overaxes-above\"/></g></g><g class=\"polarlayer\"/><g class=\"ternarylayer\"/><g class=\"geolayer\"/><g class=\"funnelarealayer\"/><g class=\"pielayer\"/><g class=\"treemaplayer\"/><g class=\"sunburstlayer\"/><g class=\"glimages\"/><defs id=\"topdefs-7cf832\"><g class=\"clips\"/></defs><g class=\"layer-above\"><g class=\"imagelayer\"/><g class=\"shapelayer\"/></g><g class=\"infolayer\"><g class=\"g-gtitle\"><text class=\"gtitle\" x=\"35\" y=\"50\" text-anchor=\"start\" dy=\"0em\" style=\"font-family: 'Open Sans', verdana, arial, sans-serif; font-size: 17px; fill: rgb(42, 63, 95); opacity: 1; font-weight: normal; white-space: pre;\">Histogram: Date and Time of Orders</text></g><g class=\"g-xtitle\"><text class=\"xtitle\" x=\"350\" y=\"425.909375\" text-anchor=\"middle\" style=\"font-family: 'Open Sans', verdana, arial, sans-serif; font-size: 14px; fill: rgb(42, 63, 95); opacity: 1; font-weight: normal; white-space: pre;\">Date and time</text></g><g class=\"g-ytitle\"><text class=\"ytitle\" transform=\"rotate(-90,23.684375000000003,235)\" x=\"23.684375000000003\" y=\"235\" text-anchor=\"middle\" style=\"font-family: 'Open Sans', verdana, arial, sans-serif; font-size: 14px; fill: rgb(42, 63, 95); opacity: 1; font-weight: normal; white-space: pre;\">Count</text></g></g></svg>"
      ]
     },
     "metadata": {},
     "output_type": "display_data"
    }
   ],
   "source": [
    "date_time = go.Figure(go.Histogram(x=data.event_ts, marker_color='#ff6361',\n",
    "                                  marker_line_color='#002f45', marker_line_width=0.5,\n",
    "                                  opacity=0.7))\n",
    "date_time.update_layout(title='Histogram: Date and Time of Orders',\n",
    "                       xaxis_title='Date and time',\n",
    "                       yaxis_title='Count')\n",
    "date_time.show('svg')"
   ]
  },
  {
   "cell_type": "markdown",
   "metadata": {},
   "source": [
    "But this histogram leaves a very clear picture: we have full data only for 1-8 August. All previous dates must have gotten in our logs by technical mistake.\n",
    "\n",
    "So we are going to subset the data and work only with the logs for 1-8 August."
   ]
  },
  {
   "cell_type": "code",
   "execution_count": 34,
   "metadata": {},
   "outputs": [
    {
     "data": {
      "text/html": [
       "<div>\n",
       "<style scoped>\n",
       "    .dataframe tbody tr th:only-of-type {\n",
       "        vertical-align: middle;\n",
       "    }\n",
       "\n",
       "    .dataframe tbody tr th {\n",
       "        vertical-align: top;\n",
       "    }\n",
       "\n",
       "    .dataframe thead th {\n",
       "        text-align: right;\n",
       "    }\n",
       "</style>\n",
       "<table border=\"1\" class=\"dataframe\">\n",
       "  <thead>\n",
       "    <tr style=\"text-align: right;\">\n",
       "      <th></th>\n",
       "      <th>event_name</th>\n",
       "      <th>user_id</th>\n",
       "      <th>event_ts</th>\n",
       "      <th>group</th>\n",
       "      <th>date</th>\n",
       "    </tr>\n",
       "  </thead>\n",
       "  <tbody>\n",
       "    <tr>\n",
       "      <th>2828</th>\n",
       "      <td>Tutorial</td>\n",
       "      <td>3737462046622621720</td>\n",
       "      <td>2019-08-01 00:07:28</td>\n",
       "      <td>246</td>\n",
       "      <td>2019-08-01</td>\n",
       "    </tr>\n",
       "    <tr>\n",
       "      <th>2829</th>\n",
       "      <td>MainScreenAppear</td>\n",
       "      <td>3737462046622621720</td>\n",
       "      <td>2019-08-01 00:08:00</td>\n",
       "      <td>246</td>\n",
       "      <td>2019-08-01</td>\n",
       "    </tr>\n",
       "    <tr>\n",
       "      <th>2830</th>\n",
       "      <td>MainScreenAppear</td>\n",
       "      <td>3737462046622621720</td>\n",
       "      <td>2019-08-01 00:08:55</td>\n",
       "      <td>246</td>\n",
       "      <td>2019-08-01</td>\n",
       "    </tr>\n",
       "    <tr>\n",
       "      <th>2831</th>\n",
       "      <td>OffersScreenAppear</td>\n",
       "      <td>3737462046622621720</td>\n",
       "      <td>2019-08-01 00:08:58</td>\n",
       "      <td>246</td>\n",
       "      <td>2019-08-01</td>\n",
       "    </tr>\n",
       "    <tr>\n",
       "      <th>2832</th>\n",
       "      <td>MainScreenAppear</td>\n",
       "      <td>1433840883824088890</td>\n",
       "      <td>2019-08-01 00:08:59</td>\n",
       "      <td>247</td>\n",
       "      <td>2019-08-01</td>\n",
       "    </tr>\n",
       "  </tbody>\n",
       "</table>\n",
       "</div>"
      ],
      "text/plain": [
       "              event_name              user_id            event_ts  group  \\\n",
       "2828            Tutorial  3737462046622621720 2019-08-01 00:07:28    246   \n",
       "2829    MainScreenAppear  3737462046622621720 2019-08-01 00:08:00    246   \n",
       "2830    MainScreenAppear  3737462046622621720 2019-08-01 00:08:55    246   \n",
       "2831  OffersScreenAppear  3737462046622621720 2019-08-01 00:08:58    246   \n",
       "2832    MainScreenAppear  1433840883824088890 2019-08-01 00:08:59    247   \n",
       "\n",
       "           date  \n",
       "2828 2019-08-01  \n",
       "2829 2019-08-01  \n",
       "2830 2019-08-01  \n",
       "2831 2019-08-01  \n",
       "2832 2019-08-01  "
      ]
     },
     "execution_count": 34,
     "metadata": {},
     "output_type": "execute_result"
    }
   ],
   "source": [
    "data_final = data[data.date >= '2019-08-01']\n",
    "data_final.head()"
   ]
  },
  {
   "cell_type": "code",
   "execution_count": 35,
   "metadata": {},
   "outputs": [
    {
     "data": {
      "text/plain": [
       "count                  207052\n",
       "unique                      7\n",
       "top       2019-08-06 00:00:00\n",
       "freq                    31364\n",
       "first     2019-08-01 00:00:00\n",
       "last      2019-08-07 00:00:00\n",
       "Name: date, dtype: object"
      ]
     },
     "execution_count": 35,
     "metadata": {},
     "output_type": "execute_result"
    }
   ],
   "source": [
    "# Date check\n",
    "\n",
    "data_final.date.describe()"
   ]
  },
  {
   "cell_type": "markdown",
   "metadata": {},
   "source": [
    "After we've gotten rid of the early logs, we're left with data that represents the first week of August: from 1 to 8.\n",
    "\n",
    "[Back to Contents](#cont)"
   ]
  },
  {
   "cell_type": "markdown",
   "metadata": {},
   "source": [
    "### <a id='step3lost'>How Many Events and Users Were Lost After Excluding the Older Data?</a>"
   ]
  },
  {
   "cell_type": "code",
   "execution_count": 36,
   "metadata": {},
   "outputs": [
    {
     "name": "stdout",
     "output_type": "stream",
     "text": [
      "We've lost 2684 events, which is 1.28% of the dataset.\n",
      "Current number of events: 207052.\n"
     ]
    }
   ],
   "source": [
    "# Events lost\n",
    "\n",
    "lost_events = len(data) - len(data_final)\n",
    "print(\"We've lost {:} events, which is {:.2%} of the dataset.\".format(lost_events, lost_events/len(data)))\n",
    "print('Current number of events: {:}.'.format(len(data_final)))"
   ]
  },
  {
   "cell_type": "markdown",
   "metadata": {},
   "source": [
    "The number of events we lost is rather small, less than 2%, which seems pretty logical: we've filtered out the dates with minimal user activity."
   ]
  },
  {
   "cell_type": "code",
   "execution_count": 37,
   "metadata": {},
   "outputs": [
    {
     "name": "stdout",
     "output_type": "stream",
     "text": [
      "We've lost 17 users, which is 0.01% of the dataset.\n",
      "Current number of users: 7458.\n"
     ]
    }
   ],
   "source": [
    "# Users lost\n",
    "\n",
    "lost_users = data.user_id.nunique() - data_final.user_id.nunique()\n",
    "print(\"We've lost {:} users, which is {:.2%} of the dataset.\".format(lost_users, lost_users/len(data)))\n",
    "print('Current number of users: {:}.'.format(data_final.user_id.nunique()))"
   ]
  },
  {
   "cell_type": "markdown",
   "metadata": {},
   "source": [
    "In terms of unique users, our loss is even smaller.\n",
    "\n",
    "[Back to Contents](#cont)"
   ]
  },
  {
   "cell_type": "markdown",
   "metadata": {},
   "source": [
    "### <a id='step3groups'>Do We Have Users from All Three Experimental Groups?</a>"
   ]
  },
  {
   "cell_type": "code",
   "execution_count": 38,
   "metadata": {},
   "outputs": [
    {
     "data": {
      "text/html": [
       "<div>\n",
       "<style scoped>\n",
       "    .dataframe tbody tr th:only-of-type {\n",
       "        vertical-align: middle;\n",
       "    }\n",
       "\n",
       "    .dataframe tbody tr th {\n",
       "        vertical-align: top;\n",
       "    }\n",
       "\n",
       "    .dataframe thead th {\n",
       "        text-align: right;\n",
       "    }\n",
       "</style>\n",
       "<table border=\"1\" class=\"dataframe\">\n",
       "  <thead>\n",
       "    <tr style=\"text-align: right;\">\n",
       "      <th></th>\n",
       "      <th>group</th>\n",
       "      <th>n_users</th>\n",
       "    </tr>\n",
       "  </thead>\n",
       "  <tbody>\n",
       "    <tr>\n",
       "      <th>0</th>\n",
       "      <td>246</td>\n",
       "      <td>2459</td>\n",
       "    </tr>\n",
       "    <tr>\n",
       "      <th>1</th>\n",
       "      <td>247</td>\n",
       "      <td>2490</td>\n",
       "    </tr>\n",
       "    <tr>\n",
       "      <th>2</th>\n",
       "      <td>248</td>\n",
       "      <td>2509</td>\n",
       "    </tr>\n",
       "  </tbody>\n",
       "</table>\n",
       "</div>"
      ],
      "text/plain": [
       "   group  n_users\n",
       "0    246     2459\n",
       "1    247     2490\n",
       "2    248     2509"
      ]
     },
     "execution_count": 38,
     "metadata": {},
     "output_type": "execute_result"
    }
   ],
   "source": [
    "three_groups = data_final.groupby('group').agg({'user_id':'nunique'}).reset_index()\n",
    "three_groups.columns = ['group', 'n_users']\n",
    "three_groups"
   ]
  },
  {
   "cell_type": "code",
   "execution_count": 39,
   "metadata": {},
   "outputs": [
    {
     "data": {
      "image/svg+xml": [
       "<svg class=\"main-svg\" xmlns=\"http://www.w3.org/2000/svg\" xmlns:xlink=\"http://www.w3.org/1999/xlink\" width=\"700\" height=\"450\" style=\"\" viewBox=\"0 0 700 450\"><rect x=\"0\" y=\"0\" width=\"700\" height=\"450\" style=\"fill: rgb(255, 255, 255); fill-opacity: 1;\"/><defs id=\"defs-315102\"><g class=\"clips\"><clipPath id=\"clip315102xyplot\" class=\"plotclip\"><rect width=\"540\" height=\"270\"/></clipPath><clipPath class=\"axesclip\" id=\"clip315102x\"><rect x=\"80\" y=\"0\" width=\"540\" height=\"450\"/></clipPath><clipPath class=\"axesclip\" id=\"clip315102y\"><rect x=\"0\" y=\"100\" width=\"700\" height=\"270\"/></clipPath><clipPath class=\"axesclip\" id=\"clip315102xy\"><rect x=\"80\" y=\"100\" width=\"540\" height=\"270\"/></clipPath></g><g class=\"gradients\"/></defs><g class=\"bglayer\"><rect class=\"bg\" x=\"80\" y=\"100\" width=\"540\" height=\"270\" style=\"fill: rgb(229, 236, 246); fill-opacity: 1; stroke-width: 0;\"/></g><g class=\"layer-below\"><g class=\"imagelayer\"/><g class=\"shapelayer\"/></g><g class=\"cartesianlayer\"><g class=\"subplot xy\"><g class=\"layer-subplot\"><g class=\"shapelayer\"/><g class=\"imagelayer\"/></g><g class=\"gridlayer\"><g class=\"x\"/><g class=\"y\"><path class=\"ygrid crisp\" transform=\"translate(0,318.88)\" d=\"M80,0h540\" style=\"stroke: rgb(255, 255, 255); stroke-opacity: 1; stroke-width: 1px;\"/><path class=\"ygrid crisp\" transform=\"translate(0,267.77)\" d=\"M80,0h540\" style=\"stroke: rgb(255, 255, 255); stroke-opacity: 1; stroke-width: 1px;\"/><path class=\"ygrid crisp\" transform=\"translate(0,216.65)\" d=\"M80,0h540\" style=\"stroke: rgb(255, 255, 255); stroke-opacity: 1; stroke-width: 1px;\"/><path class=\"ygrid crisp\" transform=\"translate(0,165.54000000000002)\" d=\"M80,0h540\" style=\"stroke: rgb(255, 255, 255); stroke-opacity: 1; stroke-width: 1px;\"/><path class=\"ygrid crisp\" transform=\"translate(0,114.42)\" d=\"M80,0h540\" style=\"stroke: rgb(255, 255, 255); stroke-opacity: 1; stroke-width: 1px;\"/></g></g><g class=\"zerolinelayer\"><path class=\"yzl zl crisp\" transform=\"translate(0,370)\" d=\"M80,0h540\" style=\"stroke: rgb(255, 255, 255); stroke-opacity: 1; stroke-width: 2px;\"/></g><path class=\"xlines-below\"/><path class=\"ylines-below\"/><g class=\"overlines-below\"/><g class=\"xaxislayer-below\"/><g class=\"yaxislayer-below\"/><g class=\"overaxes-below\"/><g class=\"plot\" transform=\"translate(80,100)\" clip-path=\"url('#clip315102xyplot')\"><g class=\"barlayer mlayer\"><g class=\"trace bars\" style=\"opacity: 0.7;\"><g class=\"points\"><g class=\"point\"><path d=\"M18,270V18.61H162V270Z\" style=\"vector-effect: non-scaling-stroke; opacity: 1; stroke-width: 1.5px; fill: rgb(88, 80, 141); fill-opacity: 1; stroke: rgb(0, 47, 69); stroke-opacity: 1;\"/></g><g class=\"point\"><path d=\"M198,270V15.44H342V270Z\" style=\"vector-effect: non-scaling-stroke; opacity: 1; stroke-width: 1.5px; fill: rgb(188, 80, 144); fill-opacity: 1; stroke: rgb(0, 47, 69); stroke-opacity: 1;\"/></g><g class=\"point\"><path d=\"M378,270V13.5H522V270Z\" style=\"vector-effect: non-scaling-stroke; opacity: 1; stroke-width: 1.5px; fill: rgb(255, 99, 97); fill-opacity: 1; stroke: rgb(0, 47, 69); stroke-opacity: 1;\"/></g></g></g></g></g><g class=\"overplot\"/><path class=\"xlines-above crisp\" d=\"M0,0\" style=\"fill: none;\"/><path class=\"ylines-above crisp\" d=\"M0,0\" style=\"fill: none;\"/><g class=\"overlines-above\"/><g class=\"xaxislayer-above\"><g class=\"xtick\"><text text-anchor=\"middle\" x=\"0\" y=\"383\" transform=\"translate(170,0)\" style=\"font-family: 'Open Sans', verdana, arial, sans-serif; font-size: 12px; fill: rgb(42, 63, 95); fill-opacity: 1; white-space: pre;\">246</text></g><g class=\"xtick\"><text text-anchor=\"middle\" x=\"0\" y=\"383\" transform=\"translate(350,0)\" style=\"font-family: 'Open Sans', verdana, arial, sans-serif; font-size: 12px; fill: rgb(42, 63, 95); fill-opacity: 1; white-space: pre;\">247</text></g><g class=\"xtick\"><text text-anchor=\"middle\" x=\"0\" y=\"383\" transform=\"translate(530,0)\" style=\"font-family: 'Open Sans', verdana, arial, sans-serif; font-size: 12px; fill: rgb(42, 63, 95); fill-opacity: 1; white-space: pre;\">248</text></g></g><g class=\"yaxislayer-above\"><g class=\"ytick\"><text text-anchor=\"end\" x=\"79\" y=\"4.199999999999999\" transform=\"translate(0,370)\" style=\"font-family: 'Open Sans', verdana, arial, sans-serif; font-size: 12px; fill: rgb(42, 63, 95); fill-opacity: 1; white-space: pre;\">0</text></g><g class=\"ytick\"><text text-anchor=\"end\" x=\"79\" y=\"4.199999999999999\" transform=\"translate(0,318.88)\" style=\"font-family: 'Open Sans', verdana, arial, sans-serif; font-size: 12px; fill: rgb(42, 63, 95); fill-opacity: 1; white-space: pre;\">500</text></g><g class=\"ytick\"><text text-anchor=\"end\" x=\"79\" y=\"4.199999999999999\" transform=\"translate(0,267.77)\" style=\"font-family: 'Open Sans', verdana, arial, sans-serif; font-size: 12px; fill: rgb(42, 63, 95); fill-opacity: 1; white-space: pre;\">1000</text></g><g class=\"ytick\"><text text-anchor=\"end\" x=\"79\" y=\"4.199999999999999\" transform=\"translate(0,216.65)\" style=\"font-family: 'Open Sans', verdana, arial, sans-serif; font-size: 12px; fill: rgb(42, 63, 95); fill-opacity: 1; white-space: pre;\">1500</text></g><g class=\"ytick\"><text text-anchor=\"end\" x=\"79\" y=\"4.199999999999999\" transform=\"translate(0,165.54000000000002)\" style=\"font-family: 'Open Sans', verdana, arial, sans-serif; font-size: 12px; fill: rgb(42, 63, 95); fill-opacity: 1; white-space: pre;\">2000</text></g><g class=\"ytick\"><text text-anchor=\"end\" x=\"79\" y=\"4.199999999999999\" transform=\"translate(0,114.42)\" style=\"font-family: 'Open Sans', verdana, arial, sans-serif; font-size: 12px; fill: rgb(42, 63, 95); fill-opacity: 1; white-space: pre;\">2500</text></g></g><g class=\"overaxes-above\"/></g></g><g class=\"polarlayer\"/><g class=\"ternarylayer\"/><g class=\"geolayer\"/><g class=\"funnelarealayer\"/><g class=\"pielayer\"/><g class=\"treemaplayer\"/><g class=\"sunburstlayer\"/><g class=\"glimages\"/><defs id=\"topdefs-315102\"><g class=\"clips\"/></defs><g class=\"layer-above\"><g class=\"imagelayer\"/><g class=\"shapelayer\"/></g><g class=\"infolayer\"><g class=\"g-gtitle\"><text class=\"gtitle\" x=\"35\" y=\"50\" text-anchor=\"start\" dy=\"0em\" style=\"font-family: 'Open Sans', verdana, arial, sans-serif; font-size: 17px; fill: rgb(42, 63, 95); opacity: 1; font-weight: normal; white-space: pre;\">Number of Users in Three Experimental Groups</text></g><g class=\"g-xtitle\"><text class=\"xtitle\" x=\"350\" y=\"410.3\" text-anchor=\"middle\" style=\"font-family: 'Open Sans', verdana, arial, sans-serif; font-size: 14px; fill: rgb(42, 63, 95); opacity: 1; font-weight: normal; white-space: pre;\">Group</text></g><g class=\"g-ytitle\"><text class=\"ytitle\" transform=\"rotate(-90,23.684375000000003,235)\" x=\"23.684375000000003\" y=\"235\" text-anchor=\"middle\" style=\"font-family: 'Open Sans', verdana, arial, sans-serif; font-size: 14px; fill: rgb(42, 63, 95); opacity: 1; font-weight: normal; white-space: pre;\">Number of Users</text></g></g></svg>"
      ]
     },
     "metadata": {},
     "output_type": "display_data"
    }
   ],
   "source": [
    "three_groups_graph = go.Figure(go.Bar(x=three_groups.group, y=three_groups.n_users, opacity=0.7,\n",
    "                                     marker_line_color='#002f45', marker_line_width=1.5,\n",
    "                                     marker_color=['#58508d', '#bc5090', '#ff6361']))\n",
    "three_groups_graph.update_layout(title='Number of Users in Three Experimental Groups',\n",
    "                                xaxis_title='Group',\n",
    "                                yaxis_title='Number of Users')\n",
    "three_groups_graph.update_xaxes(nticks=4)\n",
    "three_groups_graph.show('svg')"
   ]
  },
  {
   "cell_type": "markdown",
   "metadata": {},
   "source": [
    "We've learned that we still have users from all three experimental groups, and the sizes of these groups are almost equal.\n",
    "\n",
    "[Back to Contents](#cont)"
   ]
  },
  {
   "cell_type": "markdown",
   "metadata": {},
   "source": [
    "### <a id='step3concl'>Conclusions to Step 3</a>\n",
    "\n",
    "We've studied our data thoroughly and learned that in fact it covers a shorter period of time: only a week of 1-8 August 2019. After subsetting the dataframe and getting rid of the old data we've evaluated our losses.\n",
    "\n",
    "Turns out, we've lost only 2,684 events (1.28% of the dataset) and 13 users (0.01% of the dataset).\n",
    "\n",
    "[Back to Contents](#cont)"
   ]
  },
  {
   "cell_type": "markdown",
   "metadata": {},
   "source": [
    "## <a id='step4'>Step 4. Studying the Event Funnel</a>\n",
    "\n",
    "Here is what we are going to do during this step:\n",
    "\n",
    "- See what events are in the logs and their frequency of occurrence.\n",
    "- Find the number of users who performed each of these actions. Calculate the proportion of users who performed the action at least once.\n",
    "- Figure out in what order the actions took place.\n",
    "- Use the event funnel to find the share of users that proceed from each stage to the next.\n",
    "- Find out at what stage we lose most users.\n",
    "- Calculate the share of users that make the entire journey from their first event to payment."
   ]
  },
  {
   "cell_type": "markdown",
   "metadata": {},
   "source": [
    "### <a id='step4events'>What Events Are in the Logs? What Is their Frequency of Occurrence?</a>"
   ]
  },
  {
   "cell_type": "code",
   "execution_count": 46,
   "metadata": {},
   "outputs": [
    {
     "data": {
      "text/html": [
       "<style  type=\"text/css\" >\n",
       "</style><table id=\"T_bc4cda66_af19_11eb_a1a0_8c8590ba5550\" ><thead>    <tr>        <th class=\"blank level0\" ></th>        <th class=\"col_heading level0 col0\" >event_name</th>        <th class=\"col_heading level0 col1\" >share_of_all_events</th>    </tr></thead><tbody>\n",
       "                <tr>\n",
       "                        <th id=\"T_bc4cda66_af19_11eb_a1a0_8c8590ba5550level0_row0\" class=\"row_heading level0 row0\" >0</th>\n",
       "                        <td id=\"T_bc4cda66_af19_11eb_a1a0_8c8590ba5550row0_col0\" class=\"data row0 col0\" >MainScreenAppear</td>\n",
       "                        <td id=\"T_bc4cda66_af19_11eb_a1a0_8c8590ba5550row0_col1\" class=\"data row0 col1\" >54.54%</td>\n",
       "            </tr>\n",
       "            <tr>\n",
       "                        <th id=\"T_bc4cda66_af19_11eb_a1a0_8c8590ba5550level0_row1\" class=\"row_heading level0 row1\" >1</th>\n",
       "                        <td id=\"T_bc4cda66_af19_11eb_a1a0_8c8590ba5550row1_col0\" class=\"data row1 col0\" >OffersScreenAppear</td>\n",
       "                        <td id=\"T_bc4cda66_af19_11eb_a1a0_8c8590ba5550row1_col1\" class=\"data row1 col1\" >19.70%</td>\n",
       "            </tr>\n",
       "            <tr>\n",
       "                        <th id=\"T_bc4cda66_af19_11eb_a1a0_8c8590ba5550level0_row2\" class=\"row_heading level0 row2\" >2</th>\n",
       "                        <td id=\"T_bc4cda66_af19_11eb_a1a0_8c8590ba5550row2_col0\" class=\"data row2 col0\" >CartScreenAppear</td>\n",
       "                        <td id=\"T_bc4cda66_af19_11eb_a1a0_8c8590ba5550row2_col1\" class=\"data row2 col1\" >14.34%</td>\n",
       "            </tr>\n",
       "            <tr>\n",
       "                        <th id=\"T_bc4cda66_af19_11eb_a1a0_8c8590ba5550level0_row3\" class=\"row_heading level0 row3\" >3</th>\n",
       "                        <td id=\"T_bc4cda66_af19_11eb_a1a0_8c8590ba5550row3_col0\" class=\"data row3 col0\" >PaymentScreenSuccessful</td>\n",
       "                        <td id=\"T_bc4cda66_af19_11eb_a1a0_8c8590ba5550row3_col1\" class=\"data row3 col1\" >10.94%</td>\n",
       "            </tr>\n",
       "            <tr>\n",
       "                        <th id=\"T_bc4cda66_af19_11eb_a1a0_8c8590ba5550level0_row4\" class=\"row_heading level0 row4\" >4</th>\n",
       "                        <td id=\"T_bc4cda66_af19_11eb_a1a0_8c8590ba5550row4_col0\" class=\"data row4 col0\" >Tutorial</td>\n",
       "                        <td id=\"T_bc4cda66_af19_11eb_a1a0_8c8590ba5550row4_col1\" class=\"data row4 col1\" >0.47%</td>\n",
       "            </tr>\n",
       "    </tbody></table>"
      ],
      "text/plain": [
       "<pandas.io.formats.style.Styler at 0x7fd8b12229a0>"
      ]
     },
     "execution_count": 46,
     "metadata": {},
     "output_type": "execute_result"
    }
   ],
   "source": [
    "frequency = (data_final.groupby('event_name')\n",
    "    .agg({'user_id':'count'})\n",
    "    .sort_values(by='user_id', ascending=False)) / len(data_final)\n",
    "frequency.columns=['share_of_all_events']\n",
    "frequency.reset_index(inplace=True)\n",
    "frequency.style.format({'share_of_all_events':'{:.2%}'})"
   ]
  },
  {
   "cell_type": "code",
   "execution_count": 49,
   "metadata": {},
   "outputs": [
    {
     "data": {
      "image/svg+xml": [
       "<svg class=\"main-svg\" xmlns=\"http://www.w3.org/2000/svg\" xmlns:xlink=\"http://www.w3.org/1999/xlink\" width=\"700\" height=\"450\" style=\"\" viewBox=\"0 0 700 450\"><rect x=\"0\" y=\"0\" width=\"700\" height=\"450\" style=\"fill: rgb(255, 255, 255); fill-opacity: 1;\"/><defs id=\"defs-a100a1\"><g class=\"clips\"><clipPath id=\"clipa100a1xyplot\" class=\"plotclip\"><rect width=\"540\" height=\"220\"/></clipPath><clipPath class=\"axesclip\" id=\"clipa100a1x\"><rect x=\"80\" y=\"0\" width=\"540\" height=\"450\"/></clipPath><clipPath class=\"axesclip\" id=\"clipa100a1y\"><rect x=\"0\" y=\"100\" width=\"700\" height=\"220\"/></clipPath><clipPath class=\"axesclip\" id=\"clipa100a1xy\"><rect x=\"80\" y=\"100\" width=\"540\" height=\"220\"/></clipPath></g><g class=\"gradients\"/></defs><g class=\"bglayer\"><rect class=\"bg\" x=\"80\" y=\"100\" width=\"540\" height=\"220\" style=\"fill: rgb(229, 236, 246); fill-opacity: 1; stroke-width: 0;\"/></g><g class=\"layer-below\"><g class=\"imagelayer\"/><g class=\"shapelayer\"/></g><g class=\"cartesianlayer\"><g class=\"subplot xy\"><g class=\"layer-subplot\"><g class=\"shapelayer\"/><g class=\"imagelayer\"/></g><g class=\"gridlayer\"><g class=\"x\"/><g class=\"y\"><path class=\"ygrid crisp\" transform=\"translate(0,281.68)\" d=\"M80,0h540\" style=\"stroke: rgb(255, 255, 255); stroke-opacity: 1; stroke-width: 1px;\"/><path class=\"ygrid crisp\" transform=\"translate(0,243.36)\" d=\"M80,0h540\" style=\"stroke: rgb(255, 255, 255); stroke-opacity: 1; stroke-width: 1px;\"/><path class=\"ygrid crisp\" transform=\"translate(0,205.04000000000002)\" d=\"M80,0h540\" style=\"stroke: rgb(255, 255, 255); stroke-opacity: 1; stroke-width: 1px;\"/><path class=\"ygrid crisp\" transform=\"translate(0,166.73000000000002)\" d=\"M80,0h540\" style=\"stroke: rgb(255, 255, 255); stroke-opacity: 1; stroke-width: 1px;\"/><path class=\"ygrid crisp\" transform=\"translate(0,128.41)\" d=\"M80,0h540\" style=\"stroke: rgb(255, 255, 255); stroke-opacity: 1; stroke-width: 1px;\"/></g></g><g class=\"zerolinelayer\"><path class=\"yzl zl crisp\" transform=\"translate(0,320)\" d=\"M80,0h540\" style=\"stroke: rgb(255, 255, 255); stroke-opacity: 1; stroke-width: 2px;\"/></g><path class=\"xlines-below\"/><path class=\"ylines-below\"/><g class=\"overlines-below\"/><g class=\"xaxislayer-below\"/><g class=\"yaxislayer-below\"/><g class=\"overaxes-below\"/><g class=\"plot\" transform=\"translate(80,100)\" clip-path=\"url('#clipa100a1xyplot')\"><g class=\"barlayer mlayer\"><g class=\"trace bars\" style=\"opacity: 0.7;\"><g class=\"points\"><g class=\"point\"><path d=\"M10.8,220V11H97.2V220Z\" style=\"vector-effect: non-scaling-stroke; opacity: 1; stroke-width: 1.5px; fill: rgb(0, 63, 92); fill-opacity: 1; stroke: rgb(0, 47, 69); stroke-opacity: 1;\"/></g><g class=\"point\"><path d=\"M118.8,220V144.51H205.2V220Z\" style=\"vector-effect: non-scaling-stroke; opacity: 1; stroke-width: 1.5px; fill: rgb(88, 80, 141); fill-opacity: 1; stroke: rgb(0, 47, 69); stroke-opacity: 1;\"/></g><g class=\"point\"><path d=\"M226.8,220V165.04H313.2V220Z\" style=\"vector-effect: non-scaling-stroke; opacity: 1; stroke-width: 1.5px; fill: rgb(188, 80, 144); fill-opacity: 1; stroke: rgb(0, 47, 69); stroke-opacity: 1;\"/></g><g class=\"point\"><path d=\"M334.8,220V178.08H421.2V220Z\" style=\"vector-effect: non-scaling-stroke; opacity: 1; stroke-width: 1.5px; fill: rgb(255, 99, 97); fill-opacity: 1; stroke: rgb(0, 47, 69); stroke-opacity: 1;\"/></g><g class=\"point\"><path d=\"M442.8,220V218.18H529.2V220Z\" style=\"vector-effect: non-scaling-stroke; opacity: 1; stroke-width: 1.5px; fill: rgb(255, 166, 0); fill-opacity: 1; stroke: rgb(0, 47, 69); stroke-opacity: 1;\"/></g></g></g></g></g><g class=\"overplot\"/><path class=\"xlines-above crisp\" d=\"M0,0\" style=\"fill: none;\"/><path class=\"ylines-above crisp\" d=\"M0,0\" style=\"fill: none;\"/><g class=\"overlines-above\"/><g class=\"xaxislayer-above\"><g class=\"xtick\"><text text-anchor=\"start\" x=\"0\" y=\"333\" transform=\"translate(134,0) rotate(30,0,327)\" style=\"font-family: 'Open Sans', verdana, arial, sans-serif; font-size: 12px; fill: rgb(42, 63, 95); fill-opacity: 1; white-space: pre;\">MainScreenAppear</text></g><g class=\"xtick\"><text text-anchor=\"start\" x=\"0\" y=\"333\" transform=\"translate(242,0) rotate(30,0,327)\" style=\"font-family: 'Open Sans', verdana, arial, sans-serif; font-size: 12px; fill: rgb(42, 63, 95); fill-opacity: 1; white-space: pre;\">OffersScreenAppear</text></g><g class=\"xtick\"><text text-anchor=\"start\" x=\"0\" y=\"333\" transform=\"translate(350,0) rotate(30,0,327)\" style=\"font-family: 'Open Sans', verdana, arial, sans-serif; font-size: 12px; fill: rgb(42, 63, 95); fill-opacity: 1; white-space: pre;\">CartScreenAppear</text></g><g class=\"xtick\"><text text-anchor=\"start\" x=\"0\" y=\"333\" transform=\"translate(458,0) rotate(30,0,327)\" style=\"font-family: 'Open Sans', verdana, arial, sans-serif; font-size: 12px; fill: rgb(42, 63, 95); fill-opacity: 1; white-space: pre;\">PaymentScreenSuccessful</text></g><g class=\"xtick\"><text text-anchor=\"start\" x=\"0\" y=\"333\" transform=\"translate(566,0) rotate(30,0,327)\" style=\"font-family: 'Open Sans', verdana, arial, sans-serif; font-size: 12px; fill: rgb(42, 63, 95); fill-opacity: 1; white-space: pre;\">Tutorial</text></g></g><g class=\"yaxislayer-above\"><g class=\"ytick\"><text text-anchor=\"end\" x=\"79\" y=\"4.199999999999999\" transform=\"translate(0,320)\" style=\"font-family: 'Open Sans', verdana, arial, sans-serif; font-size: 12px; fill: rgb(42, 63, 95); fill-opacity: 1; white-space: pre;\">0%</text></g><g class=\"ytick\"><text text-anchor=\"end\" x=\"79\" y=\"4.199999999999999\" transform=\"translate(0,281.68)\" style=\"font-family: 'Open Sans', verdana, arial, sans-serif; font-size: 12px; fill: rgb(42, 63, 95); fill-opacity: 1; white-space: pre;\">10%</text></g><g class=\"ytick\"><text text-anchor=\"end\" x=\"79\" y=\"4.199999999999999\" transform=\"translate(0,243.36)\" style=\"font-family: 'Open Sans', verdana, arial, sans-serif; font-size: 12px; fill: rgb(42, 63, 95); fill-opacity: 1; white-space: pre;\">20%</text></g><g class=\"ytick\"><text text-anchor=\"end\" x=\"79\" y=\"4.199999999999999\" transform=\"translate(0,205.04000000000002)\" style=\"font-family: 'Open Sans', verdana, arial, sans-serif; font-size: 12px; fill: rgb(42, 63, 95); fill-opacity: 1; white-space: pre;\">30%</text></g><g class=\"ytick\"><text text-anchor=\"end\" x=\"79\" y=\"4.199999999999999\" transform=\"translate(0,166.73000000000002)\" style=\"font-family: 'Open Sans', verdana, arial, sans-serif; font-size: 12px; fill: rgb(42, 63, 95); fill-opacity: 1; white-space: pre;\">40%</text></g><g class=\"ytick\"><text text-anchor=\"end\" x=\"79\" y=\"4.199999999999999\" transform=\"translate(0,128.41)\" style=\"font-family: 'Open Sans', verdana, arial, sans-serif; font-size: 12px; fill: rgb(42, 63, 95); fill-opacity: 1; white-space: pre;\">50%</text></g></g><g class=\"overaxes-above\"/></g></g><g class=\"polarlayer\"/><g class=\"ternarylayer\"/><g class=\"geolayer\"/><g class=\"funnelarealayer\"/><g class=\"pielayer\"/><g class=\"treemaplayer\"/><g class=\"sunburstlayer\"/><g class=\"glimages\"/><defs id=\"topdefs-a100a1\"><g class=\"clips\"/></defs><g class=\"layer-above\"><g class=\"imagelayer\"/><g class=\"shapelayer\"/></g><g class=\"infolayer\"><g class=\"g-gtitle\"><text class=\"gtitle\" x=\"35\" y=\"50\" text-anchor=\"start\" dy=\"0em\" style=\"font-family: 'Open Sans', verdana, arial, sans-serif; font-size: 17px; fill: rgb(42, 63, 95); opacity: 1; font-weight: normal; white-space: pre;\">Type and Frequency of Events</text></g><g class=\"g-xtitle\"><text class=\"xtitle\" x=\"350\" y=\"437.770703125\" text-anchor=\"middle\" style=\"font-family: 'Open Sans', verdana, arial, sans-serif; font-size: 14px; fill: rgb(42, 63, 95); opacity: 1; font-weight: normal; white-space: pre;\">Name of Event</text></g><g class=\"g-ytitle\"><text class=\"ytitle\" transform=\"rotate(-90,26.028125000000003,210)\" x=\"26.028125000000003\" y=\"210\" text-anchor=\"middle\" style=\"font-family: 'Open Sans', verdana, arial, sans-serif; font-size: 14px; fill: rgb(42, 63, 95); opacity: 1; font-weight: normal; white-space: pre;\">Frequency of Its Occurance</text></g></g></svg>"
      ]
     },
     "metadata": {},
     "output_type": "display_data"
    }
   ],
   "source": [
    "colors = ['#003f5c', '#58508d', '#bc5090', '#ff6361', '#ffa600']\n",
    "frequency_graph = go.Figure()\n",
    "frequency_graph.add_trace(go.Bar(x=frequency.event_name, y=frequency.share_of_all_events, marker_color=colors,\n",
    "                             opacity=0.7, marker_line_color='#002f45',\n",
    "                              marker_line_width=1.5))\n",
    "frequency_graph.update_layout(title='Type and Frequency of Events',\n",
    "                          xaxis_title='Name of Event',\n",
    "                          yaxis_title='Frequency of Its Occurance',\n",
    "                             yaxis_tickformat='.0%')\n",
    "frequency_graph.show('svg')"
   ]
  },
  {
   "cell_type": "markdown",
   "metadata": {},
   "source": [
    "On this graph, we've sorted the events by their frequency of occurrence.\n",
    "\n",
    "The most common event is MainScreenAppear: it appeared in 54.6% of our dataset. The least common is Tutorial: it adds up only to 0.5% of the dataset.\n",
    "\n",
    "[Back to Contents](#cont)"
   ]
  },
  {
   "cell_type": "markdown",
   "metadata": {},
   "source": [
    "### <a id='step4users'>How Many Users Performed Each of These Actions?</a>"
   ]
  },
  {
   "cell_type": "code",
   "execution_count": 60,
   "metadata": {},
   "outputs": [
    {
     "data": {
      "text/html": [
       "<style  type=\"text/css\" >\n",
       "</style><table id=\"T_eeaca0e4_af1a_11eb_a1a0_8c8590ba5550\" ><thead>    <tr>        <th class=\"blank level0\" ></th>        <th class=\"col_heading level0 col0\" >event_name</th>        <th class=\"col_heading level0 col1\" >n_users</th>        <th class=\"col_heading level0 col2\" >proportion</th>    </tr></thead><tbody>\n",
       "                <tr>\n",
       "                        <th id=\"T_eeaca0e4_af1a_11eb_a1a0_8c8590ba5550level0_row0\" class=\"row_heading level0 row0\" >1</th>\n",
       "                        <td id=\"T_eeaca0e4_af1a_11eb_a1a0_8c8590ba5550row0_col0\" class=\"data row0 col0\" >MainScreenAppear</td>\n",
       "                        <td id=\"T_eeaca0e4_af1a_11eb_a1a0_8c8590ba5550row0_col1\" class=\"data row0 col1\" >7344</td>\n",
       "                        <td id=\"T_eeaca0e4_af1a_11eb_a1a0_8c8590ba5550row0_col2\" class=\"data row0 col2\" >98.47%</td>\n",
       "            </tr>\n",
       "            <tr>\n",
       "                        <th id=\"T_eeaca0e4_af1a_11eb_a1a0_8c8590ba5550level0_row1\" class=\"row_heading level0 row1\" >2</th>\n",
       "                        <td id=\"T_eeaca0e4_af1a_11eb_a1a0_8c8590ba5550row1_col0\" class=\"data row1 col0\" >OffersScreenAppear</td>\n",
       "                        <td id=\"T_eeaca0e4_af1a_11eb_a1a0_8c8590ba5550row1_col1\" class=\"data row1 col1\" >4517</td>\n",
       "                        <td id=\"T_eeaca0e4_af1a_11eb_a1a0_8c8590ba5550row1_col2\" class=\"data row1 col2\" >60.57%</td>\n",
       "            </tr>\n",
       "            <tr>\n",
       "                        <th id=\"T_eeaca0e4_af1a_11eb_a1a0_8c8590ba5550level0_row2\" class=\"row_heading level0 row2\" >0</th>\n",
       "                        <td id=\"T_eeaca0e4_af1a_11eb_a1a0_8c8590ba5550row2_col0\" class=\"data row2 col0\" >CartScreenAppear</td>\n",
       "                        <td id=\"T_eeaca0e4_af1a_11eb_a1a0_8c8590ba5550row2_col1\" class=\"data row2 col1\" >3658</td>\n",
       "                        <td id=\"T_eeaca0e4_af1a_11eb_a1a0_8c8590ba5550row2_col2\" class=\"data row2 col2\" >49.05%</td>\n",
       "            </tr>\n",
       "            <tr>\n",
       "                        <th id=\"T_eeaca0e4_af1a_11eb_a1a0_8c8590ba5550level0_row3\" class=\"row_heading level0 row3\" >3</th>\n",
       "                        <td id=\"T_eeaca0e4_af1a_11eb_a1a0_8c8590ba5550row3_col0\" class=\"data row3 col0\" >PaymentScreenSuccessful</td>\n",
       "                        <td id=\"T_eeaca0e4_af1a_11eb_a1a0_8c8590ba5550row3_col1\" class=\"data row3 col1\" >3464</td>\n",
       "                        <td id=\"T_eeaca0e4_af1a_11eb_a1a0_8c8590ba5550row3_col2\" class=\"data row3 col2\" >46.45%</td>\n",
       "            </tr>\n",
       "            <tr>\n",
       "                        <th id=\"T_eeaca0e4_af1a_11eb_a1a0_8c8590ba5550level0_row4\" class=\"row_heading level0 row4\" >4</th>\n",
       "                        <td id=\"T_eeaca0e4_af1a_11eb_a1a0_8c8590ba5550row4_col0\" class=\"data row4 col0\" >Tutorial</td>\n",
       "                        <td id=\"T_eeaca0e4_af1a_11eb_a1a0_8c8590ba5550row4_col1\" class=\"data row4 col1\" >824</td>\n",
       "                        <td id=\"T_eeaca0e4_af1a_11eb_a1a0_8c8590ba5550row4_col2\" class=\"data row4 col2\" >11.05%</td>\n",
       "            </tr>\n",
       "    </tbody></table>"
      ],
      "text/plain": [
       "<pandas.io.formats.style.Styler at 0x7fd8b28de640>"
      ]
     },
     "execution_count": 60,
     "metadata": {},
     "output_type": "execute_result"
    }
   ],
   "source": [
    "# Calculating share of users who performed each action\n",
    "\n",
    "proportion_of_users = (data_final.groupby('event_name')\n",
    "    .agg({'user_id':'nunique'})\n",
    "    .reset_index()\n",
    "    .sort_values(by='user_id', ascending=False))\n",
    "proportion_of_users.columns = ['event_name', 'n_users']\n",
    "proportion_of_users['proportion'] = proportion_of_users.n_users / data_final.user_id.nunique()\n",
    "proportion_of_users.style.format({'proportion':'{:.2%}'})"
   ]
  },
  {
   "cell_type": "code",
   "execution_count": 54,
   "metadata": {},
   "outputs": [
    {
     "data": {
      "image/svg+xml": [
       "<svg class=\"main-svg\" xmlns=\"http://www.w3.org/2000/svg\" xmlns:xlink=\"http://www.w3.org/1999/xlink\" width=\"700\" height=\"450\" style=\"\" viewBox=\"0 0 700 450\"><rect x=\"0\" y=\"0\" width=\"700\" height=\"450\" style=\"fill: rgb(255, 255, 255); fill-opacity: 1;\"/><defs id=\"defs-dc9dfe\"><g class=\"clips\"><clipPath id=\"clipdc9dfexyplot\" class=\"plotclip\"><rect width=\"540\" height=\"220\"/></clipPath><clipPath class=\"axesclip\" id=\"clipdc9dfex\"><rect x=\"80\" y=\"0\" width=\"540\" height=\"450\"/></clipPath><clipPath class=\"axesclip\" id=\"clipdc9dfey\"><rect x=\"0\" y=\"100\" width=\"700\" height=\"220\"/></clipPath><clipPath class=\"axesclip\" id=\"clipdc9dfexy\"><rect x=\"80\" y=\"100\" width=\"540\" height=\"220\"/></clipPath></g><g class=\"gradients\"/></defs><g class=\"bglayer\"><rect class=\"bg\" x=\"80\" y=\"100\" width=\"540\" height=\"220\" style=\"fill: rgb(229, 236, 246); fill-opacity: 1; stroke-width: 0;\"/></g><g class=\"layer-below\"><g class=\"imagelayer\"/><g class=\"shapelayer\"/></g><g class=\"cartesianlayer\"><g class=\"subplot xy\"><g class=\"layer-subplot\"><g class=\"shapelayer\"/><g class=\"imagelayer\"/></g><g class=\"gridlayer\"><g class=\"x\"/><g class=\"y\"><path class=\"ygrid crisp\" transform=\"translate(0,277.55)\" d=\"M80,0h540\" style=\"stroke: rgb(255, 255, 255); stroke-opacity: 1; stroke-width: 1px;\"/><path class=\"ygrid crisp\" transform=\"translate(0,235.1)\" d=\"M80,0h540\" style=\"stroke: rgb(255, 255, 255); stroke-opacity: 1; stroke-width: 1px;\"/><path class=\"ygrid crisp\" transform=\"translate(0,192.65)\" d=\"M80,0h540\" style=\"stroke: rgb(255, 255, 255); stroke-opacity: 1; stroke-width: 1px;\"/><path class=\"ygrid crisp\" transform=\"translate(0,150.2)\" d=\"M80,0h540\" style=\"stroke: rgb(255, 255, 255); stroke-opacity: 1; stroke-width: 1px;\"/><path class=\"ygrid crisp\" transform=\"translate(0,107.76)\" d=\"M80,0h540\" style=\"stroke: rgb(255, 255, 255); stroke-opacity: 1; stroke-width: 1px;\"/></g></g><g class=\"zerolinelayer\"><path class=\"yzl zl crisp\" transform=\"translate(0,320)\" d=\"M80,0h540\" style=\"stroke: rgb(255, 255, 255); stroke-opacity: 1; stroke-width: 2px;\"/></g><path class=\"xlines-below\"/><path class=\"ylines-below\"/><g class=\"overlines-below\"/><g class=\"xaxislayer-below\"/><g class=\"yaxislayer-below\"/><g class=\"overaxes-below\"/><g class=\"plot\" transform=\"translate(80,100)\" clip-path=\"url('#clipdc9dfexyplot')\"><g class=\"barlayer mlayer\"><g class=\"trace bars\" style=\"opacity: 0.7;\"><g class=\"points\"><g class=\"point\"><path d=\"M10.8,220V11H97.2V220Z\" style=\"vector-effect: non-scaling-stroke; opacity: 1; stroke-width: 1.5px; fill: rgb(0, 63, 92); fill-opacity: 1; stroke: rgb(0, 47, 69); stroke-opacity: 1;\"/></g><g class=\"point\"><path d=\"M118.8,220V91.45H205.2V220Z\" style=\"vector-effect: non-scaling-stroke; opacity: 1; stroke-width: 1.5px; fill: rgb(88, 80, 141); fill-opacity: 1; stroke: rgb(0, 47, 69); stroke-opacity: 1;\"/></g><g class=\"point\"><path d=\"M226.8,220V115.9H313.2V220Z\" style=\"vector-effect: non-scaling-stroke; opacity: 1; stroke-width: 1.5px; fill: rgb(188, 80, 144); fill-opacity: 1; stroke: rgb(0, 47, 69); stroke-opacity: 1;\"/></g><g class=\"point\"><path d=\"M334.8,220V121.42H421.2V220Z\" style=\"vector-effect: non-scaling-stroke; opacity: 1; stroke-width: 1.5px; fill: rgb(255, 99, 97); fill-opacity: 1; stroke: rgb(0, 47, 69); stroke-opacity: 1;\"/></g><g class=\"point\"><path d=\"M442.8,220V196.55H529.2V220Z\" style=\"vector-effect: non-scaling-stroke; opacity: 1; stroke-width: 1.5px; fill: rgb(255, 166, 0); fill-opacity: 1; stroke: rgb(0, 47, 69); stroke-opacity: 1;\"/></g></g></g></g></g><g class=\"overplot\"/><path class=\"xlines-above crisp\" d=\"M0,0\" style=\"fill: none;\"/><path class=\"ylines-above crisp\" d=\"M0,0\" style=\"fill: none;\"/><g class=\"overlines-above\"/><g class=\"xaxislayer-above\"><g class=\"xtick\"><text text-anchor=\"start\" x=\"0\" y=\"333\" transform=\"translate(134,0) rotate(30,0,327)\" style=\"font-family: 'Open Sans', verdana, arial, sans-serif; font-size: 12px; fill: rgb(42, 63, 95); fill-opacity: 1; white-space: pre;\">MainScreenAppear</text></g><g class=\"xtick\"><text text-anchor=\"start\" x=\"0\" y=\"333\" transform=\"translate(242,0) rotate(30,0,327)\" style=\"font-family: 'Open Sans', verdana, arial, sans-serif; font-size: 12px; fill: rgb(42, 63, 95); fill-opacity: 1; white-space: pre;\">OffersScreenAppear</text></g><g class=\"xtick\"><text text-anchor=\"start\" x=\"0\" y=\"333\" transform=\"translate(350,0) rotate(30,0,327)\" style=\"font-family: 'Open Sans', verdana, arial, sans-serif; font-size: 12px; fill: rgb(42, 63, 95); fill-opacity: 1; white-space: pre;\">CartScreenAppear</text></g><g class=\"xtick\"><text text-anchor=\"start\" x=\"0\" y=\"333\" transform=\"translate(458,0) rotate(30,0,327)\" style=\"font-family: 'Open Sans', verdana, arial, sans-serif; font-size: 12px; fill: rgb(42, 63, 95); fill-opacity: 1; white-space: pre;\">PaymentScreenSuccessful</text></g><g class=\"xtick\"><text text-anchor=\"start\" x=\"0\" y=\"333\" transform=\"translate(566,0) rotate(30,0,327)\" style=\"font-family: 'Open Sans', verdana, arial, sans-serif; font-size: 12px; fill: rgb(42, 63, 95); fill-opacity: 1; white-space: pre;\">Tutorial</text></g></g><g class=\"yaxislayer-above\"><g class=\"ytick\"><text text-anchor=\"end\" x=\"79\" y=\"4.199999999999999\" transform=\"translate(0,320)\" style=\"font-family: 'Open Sans', verdana, arial, sans-serif; font-size: 12px; fill: rgb(42, 63, 95); fill-opacity: 1; white-space: pre;\">0%</text></g><g class=\"ytick\"><text text-anchor=\"end\" x=\"79\" y=\"4.199999999999999\" transform=\"translate(0,277.55)\" style=\"font-family: 'Open Sans', verdana, arial, sans-serif; font-size: 12px; fill: rgb(42, 63, 95); fill-opacity: 1; white-space: pre;\">20%</text></g><g class=\"ytick\"><text text-anchor=\"end\" x=\"79\" y=\"4.199999999999999\" transform=\"translate(0,235.1)\" style=\"font-family: 'Open Sans', verdana, arial, sans-serif; font-size: 12px; fill: rgb(42, 63, 95); fill-opacity: 1; white-space: pre;\">40%</text></g><g class=\"ytick\"><text text-anchor=\"end\" x=\"79\" y=\"4.199999999999999\" transform=\"translate(0,192.65)\" style=\"font-family: 'Open Sans', verdana, arial, sans-serif; font-size: 12px; fill: rgb(42, 63, 95); fill-opacity: 1; white-space: pre;\">60%</text></g><g class=\"ytick\"><text text-anchor=\"end\" x=\"79\" y=\"4.199999999999999\" transform=\"translate(0,150.2)\" style=\"font-family: 'Open Sans', verdana, arial, sans-serif; font-size: 12px; fill: rgb(42, 63, 95); fill-opacity: 1; white-space: pre;\">80%</text></g><g class=\"ytick\"><text text-anchor=\"end\" x=\"79\" y=\"4.199999999999999\" transform=\"translate(0,107.76)\" style=\"font-family: 'Open Sans', verdana, arial, sans-serif; font-size: 12px; fill: rgb(42, 63, 95); fill-opacity: 1; white-space: pre;\">100%</text></g></g><g class=\"overaxes-above\"/></g></g><g class=\"polarlayer\"/><g class=\"ternarylayer\"/><g class=\"geolayer\"/><g class=\"funnelarealayer\"/><g class=\"pielayer\"/><g class=\"treemaplayer\"/><g class=\"sunburstlayer\"/><g class=\"glimages\"/><defs id=\"topdefs-dc9dfe\"><g class=\"clips\"/></defs><g class=\"layer-above\"><g class=\"imagelayer\"/><g class=\"shapelayer\"/></g><g class=\"infolayer\"><g class=\"g-gtitle\"><text class=\"gtitle\" x=\"35\" y=\"50\" text-anchor=\"start\" dy=\"0em\" style=\"font-family: 'Open Sans', verdana, arial, sans-serif; font-size: 17px; fill: rgb(42, 63, 95); opacity: 1; font-weight: normal; white-space: pre;\">Proportion of Users Who Performed an Action</text></g><g class=\"g-xtitle\"><text class=\"xtitle\" x=\"350\" y=\"437.770703125\" text-anchor=\"middle\" style=\"font-family: 'Open Sans', verdana, arial, sans-serif; font-size: 14px; fill: rgb(42, 63, 95); opacity: 1; font-weight: normal; white-space: pre;\">Name of action</text></g><g class=\"g-ytitle\"><text class=\"ytitle\" transform=\"rotate(-90,18.387500000000003,210)\" x=\"18.387500000000003\" y=\"210\" text-anchor=\"middle\" style=\"font-family: 'Open Sans', verdana, arial, sans-serif; font-size: 14px; fill: rgb(42, 63, 95); opacity: 1; font-weight: normal; white-space: pre;\">Users who performed the action at least once</text></g></g></svg>"
      ]
     },
     "metadata": {},
     "output_type": "display_data"
    }
   ],
   "source": [
    "proportion_of_users_graph = go.Figure()\n",
    "proportion_of_users_graph.add_trace(go.Bar(x=proportion_of_users.event_name, y=proportion_of_users.proportion,\n",
    "                                           hovertext=proportion_of_users.n_users,\n",
    "                                           marker_color=colors,\n",
    "                             opacity=0.7, marker_line_color='#002f45',\n",
    "                              marker_line_width=1.5))\n",
    "proportion_of_users_graph.update_layout(title='Proportion of Users Who Performed an Action',\n",
    "                          xaxis_title='Name of action',\n",
    "                          yaxis_title='Users who performed the action at least once',\n",
    "                                       yaxis_tickformat='.0%')\n",
    "proportion_of_users_graph.show('svg')"
   ]
  },
  {
   "cell_type": "markdown",
   "metadata": {},
   "source": [
    "As we've learned, 98.47% of our unique users had MainScreenAppear, 60.59% got to see the offers, 49% proceeded to the cart, 46.44% made the payment.\n",
    "\n",
    "Only 11% watched the tutorial.\n",
    "\n",
    "[Back to Contents](#cont)"
   ]
  },
  {
   "cell_type": "code",
   "execution_count": 61,
   "metadata": {},
   "outputs": [
    {
     "data": {
      "text/html": [
       "<div>\n",
       "<style scoped>\n",
       "    .dataframe tbody tr th:only-of-type {\n",
       "        vertical-align: middle;\n",
       "    }\n",
       "\n",
       "    .dataframe tbody tr th {\n",
       "        vertical-align: top;\n",
       "    }\n",
       "\n",
       "    .dataframe thead th {\n",
       "        text-align: right;\n",
       "    }\n",
       "</style>\n",
       "<table border=\"1\" class=\"dataframe\">\n",
       "  <thead>\n",
       "    <tr style=\"text-align: right;\">\n",
       "      <th></th>\n",
       "      <th>user_id</th>\n",
       "      <th>event_name</th>\n",
       "      <th>event_ts</th>\n",
       "    </tr>\n",
       "  </thead>\n",
       "  <tbody>\n",
       "    <tr>\n",
       "      <th>0</th>\n",
       "      <td>6888746892508752</td>\n",
       "      <td>MainScreenAppear</td>\n",
       "      <td>1</td>\n",
       "    </tr>\n",
       "    <tr>\n",
       "      <th>1</th>\n",
       "      <td>6909561520679493</td>\n",
       "      <td>CartScreenAppear</td>\n",
       "      <td>1</td>\n",
       "    </tr>\n",
       "    <tr>\n",
       "      <th>2</th>\n",
       "      <td>6909561520679493</td>\n",
       "      <td>MainScreenAppear</td>\n",
       "      <td>2</td>\n",
       "    </tr>\n",
       "    <tr>\n",
       "      <th>3</th>\n",
       "      <td>6909561520679493</td>\n",
       "      <td>OffersScreenAppear</td>\n",
       "      <td>1</td>\n",
       "    </tr>\n",
       "    <tr>\n",
       "      <th>4</th>\n",
       "      <td>6909561520679493</td>\n",
       "      <td>PaymentScreenSuccessful</td>\n",
       "      <td>1</td>\n",
       "    </tr>\n",
       "  </tbody>\n",
       "</table>\n",
       "</div>"
      ],
      "text/plain": [
       "            user_id               event_name  event_ts\n",
       "0  6888746892508752         MainScreenAppear         1\n",
       "1  6909561520679493         CartScreenAppear         1\n",
       "2  6909561520679493         MainScreenAppear         2\n",
       "3  6909561520679493       OffersScreenAppear         1\n",
       "4  6909561520679493  PaymentScreenSuccessful         1"
      ]
     },
     "execution_count": 61,
     "metadata": {},
     "output_type": "execute_result"
    }
   ],
   "source": [
    "# Calculating number of users per action\n",
    "\n",
    "at_least_once = (data_final\n",
    "                 .groupby(['user_id', 'event_name'])['event_ts']\n",
    "                 .count()\n",
    "                 .reset_index())\n",
    "at_least_once.head()"
   ]
  },
  {
   "cell_type": "code",
   "execution_count": 62,
   "metadata": {},
   "outputs": [
    {
     "data": {
      "text/html": [
       "<div>\n",
       "<style scoped>\n",
       "    .dataframe tbody tr th:only-of-type {\n",
       "        vertical-align: middle;\n",
       "    }\n",
       "\n",
       "    .dataframe tbody tr th {\n",
       "        vertical-align: top;\n",
       "    }\n",
       "\n",
       "    .dataframe thead th {\n",
       "        text-align: right;\n",
       "    }\n",
       "</style>\n",
       "<table border=\"1\" class=\"dataframe\">\n",
       "  <thead>\n",
       "    <tr style=\"text-align: right;\">\n",
       "      <th></th>\n",
       "      <th>event_name</th>\n",
       "      <th>n_repeated_users</th>\n",
       "    </tr>\n",
       "  </thead>\n",
       "  <tbody>\n",
       "    <tr>\n",
       "      <th>0</th>\n",
       "      <td>MainScreenAppear</td>\n",
       "      <td>7099</td>\n",
       "    </tr>\n",
       "    <tr>\n",
       "      <th>1</th>\n",
       "      <td>OffersScreenAppear</td>\n",
       "      <td>3837</td>\n",
       "    </tr>\n",
       "    <tr>\n",
       "      <th>2</th>\n",
       "      <td>CartScreenAppear</td>\n",
       "      <td>3186</td>\n",
       "    </tr>\n",
       "    <tr>\n",
       "      <th>3</th>\n",
       "      <td>PaymentScreenSuccessful</td>\n",
       "      <td>2890</td>\n",
       "    </tr>\n",
       "    <tr>\n",
       "      <th>4</th>\n",
       "      <td>Tutorial</td>\n",
       "      <td>81</td>\n",
       "    </tr>\n",
       "  </tbody>\n",
       "</table>\n",
       "</div>"
      ],
      "text/plain": [
       "                event_name  n_repeated_users\n",
       "0         MainScreenAppear              7099\n",
       "1       OffersScreenAppear              3837\n",
       "2         CartScreenAppear              3186\n",
       "3  PaymentScreenSuccessful              2890\n",
       "4                 Tutorial                81"
      ]
     },
     "execution_count": 62,
     "metadata": {},
     "output_type": "execute_result"
    }
   ],
   "source": [
    "# Calculating number of users with repeated actions\n",
    "\n",
    "repeated = (at_least_once[at_least_once.event_ts != 1]\n",
    "            .groupby('event_name')['user_id']\n",
    "            .nunique()\n",
    "            .sort_values(ascending=False)\n",
    "            .reset_index())\n",
    "repeated.columns = ['event_name', 'n_repeated_users']\n",
    "repeated.head()"
   ]
  },
  {
   "cell_type": "code",
   "execution_count": 63,
   "metadata": {},
   "outputs": [
    {
     "data": {
      "text/html": [
       "<style  type=\"text/css\" >\n",
       "</style><table id=\"T_0c5ee3fe_af1b_11eb_a1a0_8c8590ba5550\" ><thead>    <tr>        <th class=\"blank level0\" ></th>        <th class=\"col_heading level0 col0\" >event_name</th>        <th class=\"col_heading level0 col1\" >n_repeated_users</th>        <th class=\"col_heading level0 col2\" >n_users</th>        <th class=\"col_heading level0 col3\" >share</th>    </tr></thead><tbody>\n",
       "                <tr>\n",
       "                        <th id=\"T_0c5ee3fe_af1b_11eb_a1a0_8c8590ba5550level0_row0\" class=\"row_heading level0 row0\" >0</th>\n",
       "                        <td id=\"T_0c5ee3fe_af1b_11eb_a1a0_8c8590ba5550row0_col0\" class=\"data row0 col0\" >MainScreenAppear</td>\n",
       "                        <td id=\"T_0c5ee3fe_af1b_11eb_a1a0_8c8590ba5550row0_col1\" class=\"data row0 col1\" >7099</td>\n",
       "                        <td id=\"T_0c5ee3fe_af1b_11eb_a1a0_8c8590ba5550row0_col2\" class=\"data row0 col2\" >7344</td>\n",
       "                        <td id=\"T_0c5ee3fe_af1b_11eb_a1a0_8c8590ba5550row0_col3\" class=\"data row0 col3\" >96.66%</td>\n",
       "            </tr>\n",
       "            <tr>\n",
       "                        <th id=\"T_0c5ee3fe_af1b_11eb_a1a0_8c8590ba5550level0_row1\" class=\"row_heading level0 row1\" >1</th>\n",
       "                        <td id=\"T_0c5ee3fe_af1b_11eb_a1a0_8c8590ba5550row1_col0\" class=\"data row1 col0\" >OffersScreenAppear</td>\n",
       "                        <td id=\"T_0c5ee3fe_af1b_11eb_a1a0_8c8590ba5550row1_col1\" class=\"data row1 col1\" >3837</td>\n",
       "                        <td id=\"T_0c5ee3fe_af1b_11eb_a1a0_8c8590ba5550row1_col2\" class=\"data row1 col2\" >4517</td>\n",
       "                        <td id=\"T_0c5ee3fe_af1b_11eb_a1a0_8c8590ba5550row1_col3\" class=\"data row1 col3\" >84.95%</td>\n",
       "            </tr>\n",
       "            <tr>\n",
       "                        <th id=\"T_0c5ee3fe_af1b_11eb_a1a0_8c8590ba5550level0_row2\" class=\"row_heading level0 row2\" >2</th>\n",
       "                        <td id=\"T_0c5ee3fe_af1b_11eb_a1a0_8c8590ba5550row2_col0\" class=\"data row2 col0\" >CartScreenAppear</td>\n",
       "                        <td id=\"T_0c5ee3fe_af1b_11eb_a1a0_8c8590ba5550row2_col1\" class=\"data row2 col1\" >3186</td>\n",
       "                        <td id=\"T_0c5ee3fe_af1b_11eb_a1a0_8c8590ba5550row2_col2\" class=\"data row2 col2\" >3658</td>\n",
       "                        <td id=\"T_0c5ee3fe_af1b_11eb_a1a0_8c8590ba5550row2_col3\" class=\"data row2 col3\" >87.10%</td>\n",
       "            </tr>\n",
       "            <tr>\n",
       "                        <th id=\"T_0c5ee3fe_af1b_11eb_a1a0_8c8590ba5550level0_row3\" class=\"row_heading level0 row3\" >3</th>\n",
       "                        <td id=\"T_0c5ee3fe_af1b_11eb_a1a0_8c8590ba5550row3_col0\" class=\"data row3 col0\" >PaymentScreenSuccessful</td>\n",
       "                        <td id=\"T_0c5ee3fe_af1b_11eb_a1a0_8c8590ba5550row3_col1\" class=\"data row3 col1\" >2890</td>\n",
       "                        <td id=\"T_0c5ee3fe_af1b_11eb_a1a0_8c8590ba5550row3_col2\" class=\"data row3 col2\" >3464</td>\n",
       "                        <td id=\"T_0c5ee3fe_af1b_11eb_a1a0_8c8590ba5550row3_col3\" class=\"data row3 col3\" >83.43%</td>\n",
       "            </tr>\n",
       "            <tr>\n",
       "                        <th id=\"T_0c5ee3fe_af1b_11eb_a1a0_8c8590ba5550level0_row4\" class=\"row_heading level0 row4\" >4</th>\n",
       "                        <td id=\"T_0c5ee3fe_af1b_11eb_a1a0_8c8590ba5550row4_col0\" class=\"data row4 col0\" >Tutorial</td>\n",
       "                        <td id=\"T_0c5ee3fe_af1b_11eb_a1a0_8c8590ba5550row4_col1\" class=\"data row4 col1\" >81</td>\n",
       "                        <td id=\"T_0c5ee3fe_af1b_11eb_a1a0_8c8590ba5550row4_col2\" class=\"data row4 col2\" >824</td>\n",
       "                        <td id=\"T_0c5ee3fe_af1b_11eb_a1a0_8c8590ba5550row4_col3\" class=\"data row4 col3\" >9.83%</td>\n",
       "            </tr>\n",
       "    </tbody></table>"
      ],
      "text/plain": [
       "<pandas.io.formats.style.Styler at 0x7fd8b28de580>"
      ]
     },
     "execution_count": 63,
     "metadata": {},
     "output_type": "execute_result"
    }
   ],
   "source": [
    "# Calculating share of these users\n",
    "\n",
    "repeated = repeated.merge(proportion_of_users[['event_name', 'n_users']], on='event_name', how='left')\n",
    "repeated['share'] = repeated.n_repeated_users / repeated.n_users\n",
    "repeated.style.format({'share':'{:.2%}'})"
   ]
  },
  {
   "cell_type": "code",
   "execution_count": 64,
   "metadata": {},
   "outputs": [
    {
     "data": {
      "image/svg+xml": [
       "<svg class=\"main-svg\" xmlns=\"http://www.w3.org/2000/svg\" xmlns:xlink=\"http://www.w3.org/1999/xlink\" width=\"700\" height=\"450\" style=\"\" viewBox=\"0 0 700 450\"><rect x=\"0\" y=\"0\" width=\"700\" height=\"450\" style=\"fill: rgb(255, 255, 255); fill-opacity: 1;\"/><defs id=\"defs-2d9c7c\"><g class=\"clips\"><clipPath id=\"clip2d9c7cxyplot\" class=\"plotclip\"><rect width=\"449\" height=\"220\"/></clipPath><clipPath class=\"axesclip\" id=\"clip2d9c7cx\"><rect x=\"80\" y=\"0\" width=\"449\" height=\"450\"/></clipPath><clipPath class=\"axesclip\" id=\"clip2d9c7cy\"><rect x=\"0\" y=\"100\" width=\"700\" height=\"220\"/></clipPath><clipPath class=\"axesclip\" id=\"clip2d9c7cxy\"><rect x=\"80\" y=\"100\" width=\"449\" height=\"220\"/></clipPath></g><g class=\"gradients\"/></defs><g class=\"bglayer\"><rect class=\"bg\" x=\"80\" y=\"100\" width=\"449\" height=\"220\" style=\"fill: rgb(229, 236, 246); fill-opacity: 1; stroke-width: 0;\"/></g><g class=\"layer-below\"><g class=\"imagelayer\"/><g class=\"shapelayer\"/></g><g class=\"cartesianlayer\"><g class=\"subplot xy\"><g class=\"layer-subplot\"><g class=\"shapelayer\"/><g class=\"imagelayer\"/></g><g class=\"gridlayer\"><g class=\"x\"/><g class=\"y\"><path class=\"ygrid crisp\" transform=\"translate(0,263.08000000000004)\" d=\"M80,0h449\" style=\"stroke: rgb(255, 255, 255); stroke-opacity: 1; stroke-width: 1px;\"/><path class=\"ygrid crisp\" transform=\"translate(0,206.17000000000002)\" d=\"M80,0h449\" style=\"stroke: rgb(255, 255, 255); stroke-opacity: 1; stroke-width: 1px;\"/><path class=\"ygrid crisp\" transform=\"translate(0,149.25)\" d=\"M80,0h449\" style=\"stroke: rgb(255, 255, 255); stroke-opacity: 1; stroke-width: 1px;\"/></g></g><g class=\"zerolinelayer\"><path class=\"yzl zl crisp\" transform=\"translate(0,320)\" d=\"M80,0h449\" style=\"stroke: rgb(255, 255, 255); stroke-opacity: 1; stroke-width: 2px;\"/></g><path class=\"xlines-below\"/><path class=\"ylines-below\"/><g class=\"overlines-below\"/><g class=\"xaxislayer-below\"/><g class=\"yaxislayer-below\"/><g class=\"overaxes-below\"/><g class=\"plot\" transform=\"translate(80,100)\" clip-path=\"url('#clip2d9c7cxyplot')\"><g class=\"barlayer mlayer\"><g class=\"trace bars\" style=\"opacity: 0.7;\"><g class=\"points\"><g class=\"point\"><path d=\"M8.98,220V17.97H44.9V220Z\" style=\"vector-effect: non-scaling-stroke; opacity: 1; stroke-width: 1.5px; fill: rgb(188, 80, 144); fill-opacity: 1; stroke: rgb(0, 47, 69); stroke-opacity: 1;\"/></g><g class=\"point\"><path d=\"M98.78,220V110.8H134.7V220Z\" style=\"vector-effect: non-scaling-stroke; opacity: 1; stroke-width: 1.5px; fill: rgb(188, 80, 144); fill-opacity: 1; stroke: rgb(0, 47, 69); stroke-opacity: 1;\"/></g><g class=\"point\"><path d=\"M188.58,220V129.33H224.5V220Z\" style=\"vector-effect: non-scaling-stroke; opacity: 1; stroke-width: 1.5px; fill: rgb(188, 80, 144); fill-opacity: 1; stroke: rgb(0, 47, 69); stroke-opacity: 1;\"/></g><g class=\"point\"><path d=\"M278.38,220V137.75H314.3V220Z\" style=\"vector-effect: non-scaling-stroke; opacity: 1; stroke-width: 1.5px; fill: rgb(188, 80, 144); fill-opacity: 1; stroke: rgb(0, 47, 69); stroke-opacity: 1;\"/></g><g class=\"point\"><path d=\"M368.18,220V217.69H404.1V220Z\" style=\"vector-effect: non-scaling-stroke; opacity: 1; stroke-width: 1.5px; fill: rgb(188, 80, 144); fill-opacity: 1; stroke: rgb(0, 47, 69); stroke-opacity: 1;\"/></g></g></g><g class=\"trace bars\" style=\"opacity: 0.7;\"><g class=\"points\"><g class=\"point\"><path d=\"M44.9,220V11H80.82V220Z\" style=\"vector-effect: non-scaling-stroke; opacity: 1; stroke-width: 1.5px; fill: rgb(255, 166, 0); fill-opacity: 1; stroke: rgb(0, 47, 69); stroke-opacity: 1;\"/></g><g class=\"point\"><path d=\"M134.7,220V91.45H170.62V220Z\" style=\"vector-effect: non-scaling-stroke; opacity: 1; stroke-width: 1.5px; fill: rgb(255, 166, 0); fill-opacity: 1; stroke: rgb(0, 47, 69); stroke-opacity: 1;\"/></g><g class=\"point\"><path d=\"M224.5,220V115.9H260.42V220Z\" style=\"vector-effect: non-scaling-stroke; opacity: 1; stroke-width: 1.5px; fill: rgb(255, 166, 0); fill-opacity: 1; stroke: rgb(0, 47, 69); stroke-opacity: 1;\"/></g><g class=\"point\"><path d=\"M314.3,220V121.42H350.22V220Z\" style=\"vector-effect: non-scaling-stroke; opacity: 1; stroke-width: 1.5px; fill: rgb(255, 166, 0); fill-opacity: 1; stroke: rgb(0, 47, 69); stroke-opacity: 1;\"/></g><g class=\"point\"><path d=\"M404.1,220V196.55H440.02V220Z\" style=\"vector-effect: non-scaling-stroke; opacity: 1; stroke-width: 1.5px; fill: rgb(255, 166, 0); fill-opacity: 1; stroke: rgb(0, 47, 69); stroke-opacity: 1;\"/></g></g></g></g></g><g class=\"overplot\"/><path class=\"xlines-above crisp\" style=\"fill: none;\" d=\"M0,0\"/><path class=\"ylines-above crisp\" style=\"fill: none;\" d=\"M0,0\"/><g class=\"overlines-above\"/><g class=\"xaxislayer-above\"><g class=\"xtick\"><text text-anchor=\"start\" x=\"0\" y=\"333\" transform=\"translate(124.9,0) rotate(30,0,327)\" style=\"font-family: 'Open Sans', verdana, arial, sans-serif; font-size: 12px; fill: rgb(42, 63, 95); fill-opacity: 1; white-space: pre;\">MainScreenAppear</text></g><g class=\"xtick\"><text text-anchor=\"start\" x=\"0\" y=\"333\" transform=\"translate(214.7,0) rotate(30,0,327)\" style=\"font-family: 'Open Sans', verdana, arial, sans-serif; font-size: 12px; fill: rgb(42, 63, 95); fill-opacity: 1; white-space: pre;\">OffersScreenAppear</text></g><g class=\"xtick\"><text text-anchor=\"start\" x=\"0\" y=\"333\" transform=\"translate(304.5,0) rotate(30,0,327)\" style=\"font-family: 'Open Sans', verdana, arial, sans-serif; font-size: 12px; fill: rgb(42, 63, 95); fill-opacity: 1; white-space: pre;\">CartScreenAppear</text></g><g class=\"xtick\"><text text-anchor=\"start\" x=\"0\" y=\"333\" transform=\"translate(394.3,0) rotate(30,0,327)\" style=\"font-family: 'Open Sans', verdana, arial, sans-serif; font-size: 12px; fill: rgb(42, 63, 95); fill-opacity: 1; white-space: pre;\">PaymentScreenSuccessful</text></g><g class=\"xtick\"><text text-anchor=\"start\" x=\"0\" y=\"333\" transform=\"translate(484.1,0) rotate(30,0,327)\" style=\"font-family: 'Open Sans', verdana, arial, sans-serif; font-size: 12px; fill: rgb(42, 63, 95); fill-opacity: 1; white-space: pre;\">Tutorial</text></g></g><g class=\"yaxislayer-above\"><g class=\"ytick\"><text text-anchor=\"end\" x=\"79\" y=\"4.199999999999999\" transform=\"translate(0,320)\" style=\"font-family: 'Open Sans', verdana, arial, sans-serif; font-size: 12px; fill: rgb(42, 63, 95); fill-opacity: 1; white-space: pre;\">0</text></g><g class=\"ytick\"><text text-anchor=\"end\" x=\"79\" y=\"4.199999999999999\" transform=\"translate(0,263.08000000000004)\" style=\"font-family: 'Open Sans', verdana, arial, sans-serif; font-size: 12px; fill: rgb(42, 63, 95); fill-opacity: 1; white-space: pre;\">2000</text></g><g class=\"ytick\"><text text-anchor=\"end\" x=\"79\" y=\"4.199999999999999\" transform=\"translate(0,206.17000000000002)\" style=\"font-family: 'Open Sans', verdana, arial, sans-serif; font-size: 12px; fill: rgb(42, 63, 95); fill-opacity: 1; white-space: pre;\">4000</text></g><g class=\"ytick\"><text text-anchor=\"end\" x=\"79\" y=\"4.199999999999999\" transform=\"translate(0,149.25)\" style=\"font-family: 'Open Sans', verdana, arial, sans-serif; font-size: 12px; fill: rgb(42, 63, 95); fill-opacity: 1; white-space: pre;\">6000</text></g></g><g class=\"overaxes-above\"/></g></g><g class=\"polarlayer\"/><g class=\"ternarylayer\"/><g class=\"geolayer\"/><g class=\"funnelarealayer\"/><g class=\"pielayer\"/><g class=\"treemaplayer\"/><g class=\"sunburstlayer\"/><g class=\"glimages\"/><defs id=\"topdefs-2d9c7c\"><g class=\"clips\"/><clipPath id=\"legend2d9c7c\"><rect width=\"150\" height=\"48\" x=\"0\" y=\"0\"/></clipPath></defs><g class=\"layer-above\"><g class=\"imagelayer\"/><g class=\"shapelayer\"/></g><g class=\"infolayer\"><g class=\"legend\" pointer-events=\"all\" transform=\"translate(537.98,100)\"><rect class=\"bg\" shape-rendering=\"crispEdges\" style=\"stroke: rgb(68, 68, 68); stroke-opacity: 1; fill: rgb(255, 255, 255); fill-opacity: 1; stroke-width: 0px;\" width=\"150\" height=\"48\" x=\"0\" y=\"0\"/><g class=\"scrollbox\" transform=\"\" clip-path=\"url('#legend2d9c7c')\"><g class=\"groups\"><g class=\"traces\" style=\"opacity: 1;\" transform=\"translate(0,14.5)\"><text class=\"legendtext\" text-anchor=\"start\" x=\"40\" y=\"4.680000000000001\" style=\"font-family: 'Open Sans', verdana, arial, sans-serif; font-size: 12px; fill: rgb(42, 63, 95); fill-opacity: 1; white-space: pre;\">Repeated Actions</text><g class=\"layers\" style=\"opacity: 0.7;\"><g class=\"legendfill\"/><g class=\"legendlines\"/><g class=\"legendsymbols\"><g class=\"legendpoints\"><path class=\"legendundefined\" d=\"M6,6H-6V-6H6Z\" transform=\"translate(20,0)\" style=\"stroke-width: 1.5px; fill: rgb(188, 80, 144); fill-opacity: 1; stroke: rgb(0, 47, 69); stroke-opacity: 1;\"/></g></g></g><rect class=\"legendtoggle\" x=\"0\" y=\"-9.5\" width=\"144.515625\" height=\"19\" style=\"fill: rgb(0, 0, 0); fill-opacity: 0;\"/></g><g class=\"traces\" style=\"opacity: 1;\" transform=\"translate(0,33.5)\"><text class=\"legendtext\" text-anchor=\"start\" x=\"40\" y=\"4.680000000000001\" style=\"font-family: 'Open Sans', verdana, arial, sans-serif; font-size: 12px; fill: rgb(42, 63, 95); fill-opacity: 1; white-space: pre;\">All actions</text><g class=\"layers\" style=\"opacity: 0.7;\"><g class=\"legendfill\"/><g class=\"legendlines\"/><g class=\"legendsymbols\"><g class=\"legendpoints\"><path class=\"legendundefined\" d=\"M6,6H-6V-6H6Z\" transform=\"translate(20,0)\" style=\"stroke-width: 1.5px; fill: rgb(255, 166, 0); fill-opacity: 1; stroke: rgb(0, 47, 69); stroke-opacity: 1;\"/></g></g></g><rect class=\"legendtoggle\" x=\"0\" y=\"-9.5\" width=\"144.515625\" height=\"19\" style=\"fill: rgb(0, 0, 0); fill-opacity: 0;\"/></g></g></g><rect class=\"scrollbar\" rx=\"20\" ry=\"3\" width=\"0\" height=\"0\" style=\"fill: rgb(128, 139, 164); fill-opacity: 1;\" x=\"0\" y=\"0\"/></g><g class=\"g-gtitle\"><text class=\"gtitle\" x=\"35\" y=\"50\" text-anchor=\"start\" dy=\"0em\" style=\"font-family: 'Open Sans', verdana, arial, sans-serif; font-size: 17px; fill: rgb(42, 63, 95); opacity: 1; font-weight: normal; white-space: pre;\">Proportion of Repeated Actions</text></g><g class=\"g-xtitle\"><text class=\"xtitle\" x=\"304.5\" y=\"437.770703125\" text-anchor=\"middle\" style=\"font-family: 'Open Sans', verdana, arial, sans-serif; font-size: 14px; fill: rgb(42, 63, 95); opacity: 1; font-weight: normal; white-space: pre;\">Name of Action</text></g><g class=\"g-ytitle\"><text class=\"ytitle\" transform=\"rotate(-90,23.684375000000003,210)\" x=\"23.684375000000003\" y=\"210\" text-anchor=\"middle\" style=\"font-family: 'Open Sans', verdana, arial, sans-serif; font-size: 14px; fill: rgb(42, 63, 95); opacity: 1; font-weight: normal; white-space: pre;\">Users Who Performed the Action</text></g></g></svg>"
      ]
     },
     "metadata": {},
     "output_type": "display_data"
    }
   ],
   "source": [
    "repeated_customers_graph = go.Figure()\n",
    "repeated_customers_graph.add_trace(go.Bar(x=repeated.event_name, y=repeated.n_repeated_users,\n",
    "                                           name='Repeated Actions',\n",
    "                                          hovertext=repeated.share,\n",
    "                                           marker_color='#bc5090',\n",
    "                             opacity=0.7, marker_line_color='#002f45',\n",
    "                              marker_line_width=1.5))\n",
    "repeated_customers_graph.add_trace(go.Bar(x=repeated.event_name, y=repeated.n_users,\n",
    "                                           name='All actions',\n",
    "                                           marker_color='#ffa600',\n",
    "                             opacity=0.7, marker_line_color='#002f45',\n",
    "                              marker_line_width=1.5))\n",
    "repeated_customers_graph.update_layout(barmode='group',\n",
    "                                       title='Proportion of Repeated Actions',\n",
    "                          xaxis_title='Name of Action',\n",
    "                          yaxis_title='Users Who Performed the Action')\n",
    "repeated_customers_graph.show('svg')"
   ]
  },
  {
   "cell_type": "markdown",
   "metadata": {},
   "source": [
    "We've learned that the share of users who repeat each action is generally rather big. Out of all users who've seen the offers, 85% returned to that page again. Out of all the users who've seen the cart screen, 87% users did it more than once. Again, among the users who made a purchase, 84% have seen the payment sucessful screen more than once.\n",
    "\n",
    "\n",
    "The one exception is a tutorial: only 10% users returned to read it again.\n",
    "\n",
    "[Back to Contents](#cont)"
   ]
  },
  {
   "cell_type": "markdown",
   "metadata": {},
   "source": [
    "### <a id='step4order'>In What Order Did the Actions Take Place?</a>"
   ]
  },
  {
   "cell_type": "markdown",
   "metadata": {},
   "source": [
    "The most consistent order to imagine is the following:\n",
    "- first, MainScreenAppear;\n",
    "- then, OffersScreenAppear;\n",
    "- after that, CartScreenAppear;\n",
    "- and finally, PaymentScreenSuccessful.\n",
    "\n",
    "Tutorial is an optional step and definitely not the part of the event funnel. Knowing that, we will omit data on tutorial when building the event funnel."
   ]
  },
  {
   "cell_type": "code",
   "execution_count": 65,
   "metadata": {},
   "outputs": [
    {
     "name": "stdout",
     "output_type": "stream",
     "text": [
      "<class 'pandas.core.frame.DataFrame'>\n",
      "Int64Index: 206069 entries, 2829 to 244125\n",
      "Data columns (total 5 columns):\n",
      " #   Column      Non-Null Count   Dtype         \n",
      "---  ------      --------------   -----         \n",
      " 0   event_name  206069 non-null  object        \n",
      " 1   user_id     206069 non-null  int64         \n",
      " 2   event_ts    206069 non-null  datetime64[ns]\n",
      " 3   group       206069 non-null  int64         \n",
      " 4   date        206069 non-null  datetime64[ns]\n",
      "dtypes: datetime64[ns](2), int64(2), object(1)\n",
      "memory usage: 9.4+ MB\n"
     ]
    }
   ],
   "source": [
    "data_final = data_final[data_final.event_name != 'Tutorial']\n",
    "data_final.info()"
   ]
  },
  {
   "cell_type": "markdown",
   "metadata": {},
   "source": [
    "However, we know that this is not always the case. Some stores have an option 'Buy in one click', which leads their users from the main screen directly to the payment, skipping the offer screen and the cart.\n",
    "\n",
    "Another known fact is that information on payments and website wisits is often stored in different datasets and gets different timestamps. After this datasets are merged, sometimes even for legit users it might seem that they've seen payment screen before visiting the cart. Here is one example of such a user in our dataset:"
   ]
  },
  {
   "cell_type": "code",
   "execution_count": 66,
   "metadata": {
    "scrolled": true
   },
   "outputs": [
    {
     "data": {
      "text/html": [
       "<div>\n",
       "<style scoped>\n",
       "    .dataframe tbody tr th:only-of-type {\n",
       "        vertical-align: middle;\n",
       "    }\n",
       "\n",
       "    .dataframe tbody tr th {\n",
       "        vertical-align: top;\n",
       "    }\n",
       "\n",
       "    .dataframe thead th {\n",
       "        text-align: right;\n",
       "    }\n",
       "</style>\n",
       "<table border=\"1\" class=\"dataframe\">\n",
       "  <thead>\n",
       "    <tr style=\"text-align: right;\">\n",
       "      <th></th>\n",
       "      <th>event_name</th>\n",
       "      <th>user_id</th>\n",
       "      <th>event_ts</th>\n",
       "      <th>group</th>\n",
       "      <th>date</th>\n",
       "    </tr>\n",
       "  </thead>\n",
       "  <tbody>\n",
       "    <tr>\n",
       "      <th>127670</th>\n",
       "      <td>MainScreenAppear</td>\n",
       "      <td>6922444491712477</td>\n",
       "      <td>2019-08-04 14:19:33</td>\n",
       "      <td>246</td>\n",
       "      <td>2019-08-04</td>\n",
       "    </tr>\n",
       "    <tr>\n",
       "      <th>127672</th>\n",
       "      <td>PaymentScreenSuccessful</td>\n",
       "      <td>6922444491712477</td>\n",
       "      <td>2019-08-04 14:19:40</td>\n",
       "      <td>246</td>\n",
       "      <td>2019-08-04</td>\n",
       "    </tr>\n",
       "    <tr>\n",
       "      <th>127673</th>\n",
       "      <td>CartScreenAppear</td>\n",
       "      <td>6922444491712477</td>\n",
       "      <td>2019-08-04 14:19:40</td>\n",
       "      <td>246</td>\n",
       "      <td>2019-08-04</td>\n",
       "    </tr>\n",
       "    <tr>\n",
       "      <th>127674</th>\n",
       "      <td>MainScreenAppear</td>\n",
       "      <td>6922444491712477</td>\n",
       "      <td>2019-08-04 14:19:40</td>\n",
       "      <td>246</td>\n",
       "      <td>2019-08-04</td>\n",
       "    </tr>\n",
       "    <tr>\n",
       "      <th>127675</th>\n",
       "      <td>OffersScreenAppear</td>\n",
       "      <td>6922444491712477</td>\n",
       "      <td>2019-08-04 14:19:46</td>\n",
       "      <td>246</td>\n",
       "      <td>2019-08-04</td>\n",
       "    </tr>\n",
       "    <tr>\n",
       "      <th>134267</th>\n",
       "      <td>MainScreenAppear</td>\n",
       "      <td>6922444491712477</td>\n",
       "      <td>2019-08-04 17:16:28</td>\n",
       "      <td>246</td>\n",
       "      <td>2019-08-04</td>\n",
       "    </tr>\n",
       "    <tr>\n",
       "      <th>134273</th>\n",
       "      <td>PaymentScreenSuccessful</td>\n",
       "      <td>6922444491712477</td>\n",
       "      <td>2019-08-04 17:16:32</td>\n",
       "      <td>246</td>\n",
       "      <td>2019-08-04</td>\n",
       "    </tr>\n",
       "    <tr>\n",
       "      <th>134274</th>\n",
       "      <td>MainScreenAppear</td>\n",
       "      <td>6922444491712477</td>\n",
       "      <td>2019-08-04 17:16:33</td>\n",
       "      <td>246</td>\n",
       "      <td>2019-08-04</td>\n",
       "    </tr>\n",
       "    <tr>\n",
       "      <th>134275</th>\n",
       "      <td>CartScreenAppear</td>\n",
       "      <td>6922444491712477</td>\n",
       "      <td>2019-08-04 17:16:33</td>\n",
       "      <td>246</td>\n",
       "      <td>2019-08-04</td>\n",
       "    </tr>\n",
       "    <tr>\n",
       "      <th>134281</th>\n",
       "      <td>OffersScreenAppear</td>\n",
       "      <td>6922444491712477</td>\n",
       "      <td>2019-08-04 17:16:44</td>\n",
       "      <td>246</td>\n",
       "      <td>2019-08-04</td>\n",
       "    </tr>\n",
       "    <tr>\n",
       "      <th>158372</th>\n",
       "      <td>MainScreenAppear</td>\n",
       "      <td>6922444491712477</td>\n",
       "      <td>2019-08-05 13:07:14</td>\n",
       "      <td>246</td>\n",
       "      <td>2019-08-05</td>\n",
       "    </tr>\n",
       "    <tr>\n",
       "      <th>158415</th>\n",
       "      <td>OffersScreenAppear</td>\n",
       "      <td>6922444491712477</td>\n",
       "      <td>2019-08-05 13:07:49</td>\n",
       "      <td>246</td>\n",
       "      <td>2019-08-05</td>\n",
       "    </tr>\n",
       "    <tr>\n",
       "      <th>158446</th>\n",
       "      <td>OffersScreenAppear</td>\n",
       "      <td>6922444491712477</td>\n",
       "      <td>2019-08-05 13:08:37</td>\n",
       "      <td>246</td>\n",
       "      <td>2019-08-05</td>\n",
       "    </tr>\n",
       "    <tr>\n",
       "      <th>158579</th>\n",
       "      <td>MainScreenAppear</td>\n",
       "      <td>6922444491712477</td>\n",
       "      <td>2019-08-05 13:10:58</td>\n",
       "      <td>246</td>\n",
       "      <td>2019-08-05</td>\n",
       "    </tr>\n",
       "    <tr>\n",
       "      <th>158649</th>\n",
       "      <td>MainScreenAppear</td>\n",
       "      <td>6922444491712477</td>\n",
       "      <td>2019-08-05 13:12:36</td>\n",
       "      <td>246</td>\n",
       "      <td>2019-08-05</td>\n",
       "    </tr>\n",
       "    <tr>\n",
       "      <th>158665</th>\n",
       "      <td>MainScreenAppear</td>\n",
       "      <td>6922444491712477</td>\n",
       "      <td>2019-08-05 13:12:49</td>\n",
       "      <td>246</td>\n",
       "      <td>2019-08-05</td>\n",
       "    </tr>\n",
       "    <tr>\n",
       "      <th>168758</th>\n",
       "      <td>MainScreenAppear</td>\n",
       "      <td>6922444491712477</td>\n",
       "      <td>2019-08-05 16:54:17</td>\n",
       "      <td>246</td>\n",
       "      <td>2019-08-05</td>\n",
       "    </tr>\n",
       "    <tr>\n",
       "      <th>168765</th>\n",
       "      <td>MainScreenAppear</td>\n",
       "      <td>6922444491712477</td>\n",
       "      <td>2019-08-05 16:54:22</td>\n",
       "      <td>246</td>\n",
       "      <td>2019-08-05</td>\n",
       "    </tr>\n",
       "    <tr>\n",
       "      <th>168785</th>\n",
       "      <td>OffersScreenAppear</td>\n",
       "      <td>6922444491712477</td>\n",
       "      <td>2019-08-05 16:55:05</td>\n",
       "      <td>246</td>\n",
       "      <td>2019-08-05</td>\n",
       "    </tr>\n",
       "    <tr>\n",
       "      <th>168805</th>\n",
       "      <td>MainScreenAppear</td>\n",
       "      <td>6922444491712477</td>\n",
       "      <td>2019-08-05 16:55:47</td>\n",
       "      <td>246</td>\n",
       "      <td>2019-08-05</td>\n",
       "    </tr>\n",
       "    <tr>\n",
       "      <th>169430</th>\n",
       "      <td>MainScreenAppear</td>\n",
       "      <td>6922444491712477</td>\n",
       "      <td>2019-08-05 17:07:44</td>\n",
       "      <td>246</td>\n",
       "      <td>2019-08-05</td>\n",
       "    </tr>\n",
       "    <tr>\n",
       "      <th>169454</th>\n",
       "      <td>PaymentScreenSuccessful</td>\n",
       "      <td>6922444491712477</td>\n",
       "      <td>2019-08-05 17:08:17</td>\n",
       "      <td>246</td>\n",
       "      <td>2019-08-05</td>\n",
       "    </tr>\n",
       "    <tr>\n",
       "      <th>169455</th>\n",
       "      <td>MainScreenAppear</td>\n",
       "      <td>6922444491712477</td>\n",
       "      <td>2019-08-05 17:08:17</td>\n",
       "      <td>246</td>\n",
       "      <td>2019-08-05</td>\n",
       "    </tr>\n",
       "    <tr>\n",
       "      <th>169456</th>\n",
       "      <td>CartScreenAppear</td>\n",
       "      <td>6922444491712477</td>\n",
       "      <td>2019-08-05 17:08:17</td>\n",
       "      <td>246</td>\n",
       "      <td>2019-08-05</td>\n",
       "    </tr>\n",
       "    <tr>\n",
       "      <th>169465</th>\n",
       "      <td>OffersScreenAppear</td>\n",
       "      <td>6922444491712477</td>\n",
       "      <td>2019-08-05 17:08:25</td>\n",
       "      <td>246</td>\n",
       "      <td>2019-08-05</td>\n",
       "    </tr>\n",
       "    <tr>\n",
       "      <th>169492</th>\n",
       "      <td>PaymentScreenSuccessful</td>\n",
       "      <td>6922444491712477</td>\n",
       "      <td>2019-08-05 17:08:59</td>\n",
       "      <td>246</td>\n",
       "      <td>2019-08-05</td>\n",
       "    </tr>\n",
       "    <tr>\n",
       "      <th>169493</th>\n",
       "      <td>CartScreenAppear</td>\n",
       "      <td>6922444491712477</td>\n",
       "      <td>2019-08-05 17:08:59</td>\n",
       "      <td>246</td>\n",
       "      <td>2019-08-05</td>\n",
       "    </tr>\n",
       "    <tr>\n",
       "      <th>169512</th>\n",
       "      <td>PaymentScreenSuccessful</td>\n",
       "      <td>6922444491712477</td>\n",
       "      <td>2019-08-05 17:09:18</td>\n",
       "      <td>246</td>\n",
       "      <td>2019-08-05</td>\n",
       "    </tr>\n",
       "    <tr>\n",
       "      <th>169513</th>\n",
       "      <td>CartScreenAppear</td>\n",
       "      <td>6922444491712477</td>\n",
       "      <td>2019-08-05 17:09:18</td>\n",
       "      <td>246</td>\n",
       "      <td>2019-08-05</td>\n",
       "    </tr>\n",
       "    <tr>\n",
       "      <th>169527</th>\n",
       "      <td>CartScreenAppear</td>\n",
       "      <td>6922444491712477</td>\n",
       "      <td>2019-08-05 17:09:29</td>\n",
       "      <td>246</td>\n",
       "      <td>2019-08-05</td>\n",
       "    </tr>\n",
       "    <tr>\n",
       "      <th>169529</th>\n",
       "      <td>PaymentScreenSuccessful</td>\n",
       "      <td>6922444491712477</td>\n",
       "      <td>2019-08-05 17:09:29</td>\n",
       "      <td>246</td>\n",
       "      <td>2019-08-05</td>\n",
       "    </tr>\n",
       "    <tr>\n",
       "      <th>169539</th>\n",
       "      <td>CartScreenAppear</td>\n",
       "      <td>6922444491712477</td>\n",
       "      <td>2019-08-05 17:09:42</td>\n",
       "      <td>246</td>\n",
       "      <td>2019-08-05</td>\n",
       "    </tr>\n",
       "    <tr>\n",
       "      <th>169540</th>\n",
       "      <td>PaymentScreenSuccessful</td>\n",
       "      <td>6922444491712477</td>\n",
       "      <td>2019-08-05 17:09:42</td>\n",
       "      <td>246</td>\n",
       "      <td>2019-08-05</td>\n",
       "    </tr>\n",
       "    <tr>\n",
       "      <th>182483</th>\n",
       "      <td>MainScreenAppear</td>\n",
       "      <td>6922444491712477</td>\n",
       "      <td>2019-08-06 06:33:11</td>\n",
       "      <td>246</td>\n",
       "      <td>2019-08-06</td>\n",
       "    </tr>\n",
       "    <tr>\n",
       "      <th>182485</th>\n",
       "      <td>PaymentScreenSuccessful</td>\n",
       "      <td>6922444491712477</td>\n",
       "      <td>2019-08-06 06:33:15</td>\n",
       "      <td>246</td>\n",
       "      <td>2019-08-06</td>\n",
       "    </tr>\n",
       "    <tr>\n",
       "      <th>182486</th>\n",
       "      <td>CartScreenAppear</td>\n",
       "      <td>6922444491712477</td>\n",
       "      <td>2019-08-06 06:33:15</td>\n",
       "      <td>246</td>\n",
       "      <td>2019-08-06</td>\n",
       "    </tr>\n",
       "    <tr>\n",
       "      <th>182487</th>\n",
       "      <td>MainScreenAppear</td>\n",
       "      <td>6922444491712477</td>\n",
       "      <td>2019-08-06 06:33:15</td>\n",
       "      <td>246</td>\n",
       "      <td>2019-08-06</td>\n",
       "    </tr>\n",
       "    <tr>\n",
       "      <th>182492</th>\n",
       "      <td>OffersScreenAppear</td>\n",
       "      <td>6922444491712477</td>\n",
       "      <td>2019-08-06 06:33:21</td>\n",
       "      <td>246</td>\n",
       "      <td>2019-08-06</td>\n",
       "    </tr>\n",
       "    <tr>\n",
       "      <th>182502</th>\n",
       "      <td>MainScreenAppear</td>\n",
       "      <td>6922444491712477</td>\n",
       "      <td>2019-08-06 06:33:51</td>\n",
       "      <td>246</td>\n",
       "      <td>2019-08-06</td>\n",
       "    </tr>\n",
       "    <tr>\n",
       "      <th>182524</th>\n",
       "      <td>OffersScreenAppear</td>\n",
       "      <td>6922444491712477</td>\n",
       "      <td>2019-08-06 06:34:28</td>\n",
       "      <td>246</td>\n",
       "      <td>2019-08-06</td>\n",
       "    </tr>\n",
       "    <tr>\n",
       "      <th>182529</th>\n",
       "      <td>OffersScreenAppear</td>\n",
       "      <td>6922444491712477</td>\n",
       "      <td>2019-08-06 06:34:40</td>\n",
       "      <td>246</td>\n",
       "      <td>2019-08-06</td>\n",
       "    </tr>\n",
       "    <tr>\n",
       "      <th>182541</th>\n",
       "      <td>MainScreenAppear</td>\n",
       "      <td>6922444491712477</td>\n",
       "      <td>2019-08-06 06:35:02</td>\n",
       "      <td>246</td>\n",
       "      <td>2019-08-06</td>\n",
       "    </tr>\n",
       "    <tr>\n",
       "      <th>182555</th>\n",
       "      <td>OffersScreenAppear</td>\n",
       "      <td>6922444491712477</td>\n",
       "      <td>2019-08-06 06:35:38</td>\n",
       "      <td>246</td>\n",
       "      <td>2019-08-06</td>\n",
       "    </tr>\n",
       "    <tr>\n",
       "      <th>182566</th>\n",
       "      <td>MainScreenAppear</td>\n",
       "      <td>6922444491712477</td>\n",
       "      <td>2019-08-06 06:36:20</td>\n",
       "      <td>246</td>\n",
       "      <td>2019-08-06</td>\n",
       "    </tr>\n",
       "    <tr>\n",
       "      <th>202017</th>\n",
       "      <td>MainScreenAppear</td>\n",
       "      <td>6922444491712477</td>\n",
       "      <td>2019-08-06 15:54:26</td>\n",
       "      <td>246</td>\n",
       "      <td>2019-08-06</td>\n",
       "    </tr>\n",
       "    <tr>\n",
       "      <th>202024</th>\n",
       "      <td>OffersScreenAppear</td>\n",
       "      <td>6922444491712477</td>\n",
       "      <td>2019-08-06 15:54:32</td>\n",
       "      <td>246</td>\n",
       "      <td>2019-08-06</td>\n",
       "    </tr>\n",
       "    <tr>\n",
       "      <th>202034</th>\n",
       "      <td>OffersScreenAppear</td>\n",
       "      <td>6922444491712477</td>\n",
       "      <td>2019-08-06 15:54:47</td>\n",
       "      <td>246</td>\n",
       "      <td>2019-08-06</td>\n",
       "    </tr>\n",
       "  </tbody>\n",
       "</table>\n",
       "</div>"
      ],
      "text/plain": [
       "                     event_name           user_id            event_ts  group  \\\n",
       "127670         MainScreenAppear  6922444491712477 2019-08-04 14:19:33    246   \n",
       "127672  PaymentScreenSuccessful  6922444491712477 2019-08-04 14:19:40    246   \n",
       "127673         CartScreenAppear  6922444491712477 2019-08-04 14:19:40    246   \n",
       "127674         MainScreenAppear  6922444491712477 2019-08-04 14:19:40    246   \n",
       "127675       OffersScreenAppear  6922444491712477 2019-08-04 14:19:46    246   \n",
       "134267         MainScreenAppear  6922444491712477 2019-08-04 17:16:28    246   \n",
       "134273  PaymentScreenSuccessful  6922444491712477 2019-08-04 17:16:32    246   \n",
       "134274         MainScreenAppear  6922444491712477 2019-08-04 17:16:33    246   \n",
       "134275         CartScreenAppear  6922444491712477 2019-08-04 17:16:33    246   \n",
       "134281       OffersScreenAppear  6922444491712477 2019-08-04 17:16:44    246   \n",
       "158372         MainScreenAppear  6922444491712477 2019-08-05 13:07:14    246   \n",
       "158415       OffersScreenAppear  6922444491712477 2019-08-05 13:07:49    246   \n",
       "158446       OffersScreenAppear  6922444491712477 2019-08-05 13:08:37    246   \n",
       "158579         MainScreenAppear  6922444491712477 2019-08-05 13:10:58    246   \n",
       "158649         MainScreenAppear  6922444491712477 2019-08-05 13:12:36    246   \n",
       "158665         MainScreenAppear  6922444491712477 2019-08-05 13:12:49    246   \n",
       "168758         MainScreenAppear  6922444491712477 2019-08-05 16:54:17    246   \n",
       "168765         MainScreenAppear  6922444491712477 2019-08-05 16:54:22    246   \n",
       "168785       OffersScreenAppear  6922444491712477 2019-08-05 16:55:05    246   \n",
       "168805         MainScreenAppear  6922444491712477 2019-08-05 16:55:47    246   \n",
       "169430         MainScreenAppear  6922444491712477 2019-08-05 17:07:44    246   \n",
       "169454  PaymentScreenSuccessful  6922444491712477 2019-08-05 17:08:17    246   \n",
       "169455         MainScreenAppear  6922444491712477 2019-08-05 17:08:17    246   \n",
       "169456         CartScreenAppear  6922444491712477 2019-08-05 17:08:17    246   \n",
       "169465       OffersScreenAppear  6922444491712477 2019-08-05 17:08:25    246   \n",
       "169492  PaymentScreenSuccessful  6922444491712477 2019-08-05 17:08:59    246   \n",
       "169493         CartScreenAppear  6922444491712477 2019-08-05 17:08:59    246   \n",
       "169512  PaymentScreenSuccessful  6922444491712477 2019-08-05 17:09:18    246   \n",
       "169513         CartScreenAppear  6922444491712477 2019-08-05 17:09:18    246   \n",
       "169527         CartScreenAppear  6922444491712477 2019-08-05 17:09:29    246   \n",
       "169529  PaymentScreenSuccessful  6922444491712477 2019-08-05 17:09:29    246   \n",
       "169539         CartScreenAppear  6922444491712477 2019-08-05 17:09:42    246   \n",
       "169540  PaymentScreenSuccessful  6922444491712477 2019-08-05 17:09:42    246   \n",
       "182483         MainScreenAppear  6922444491712477 2019-08-06 06:33:11    246   \n",
       "182485  PaymentScreenSuccessful  6922444491712477 2019-08-06 06:33:15    246   \n",
       "182486         CartScreenAppear  6922444491712477 2019-08-06 06:33:15    246   \n",
       "182487         MainScreenAppear  6922444491712477 2019-08-06 06:33:15    246   \n",
       "182492       OffersScreenAppear  6922444491712477 2019-08-06 06:33:21    246   \n",
       "182502         MainScreenAppear  6922444491712477 2019-08-06 06:33:51    246   \n",
       "182524       OffersScreenAppear  6922444491712477 2019-08-06 06:34:28    246   \n",
       "182529       OffersScreenAppear  6922444491712477 2019-08-06 06:34:40    246   \n",
       "182541         MainScreenAppear  6922444491712477 2019-08-06 06:35:02    246   \n",
       "182555       OffersScreenAppear  6922444491712477 2019-08-06 06:35:38    246   \n",
       "182566         MainScreenAppear  6922444491712477 2019-08-06 06:36:20    246   \n",
       "202017         MainScreenAppear  6922444491712477 2019-08-06 15:54:26    246   \n",
       "202024       OffersScreenAppear  6922444491712477 2019-08-06 15:54:32    246   \n",
       "202034       OffersScreenAppear  6922444491712477 2019-08-06 15:54:47    246   \n",
       "\n",
       "             date  \n",
       "127670 2019-08-04  \n",
       "127672 2019-08-04  \n",
       "127673 2019-08-04  \n",
       "127674 2019-08-04  \n",
       "127675 2019-08-04  \n",
       "134267 2019-08-04  \n",
       "134273 2019-08-04  \n",
       "134274 2019-08-04  \n",
       "134275 2019-08-04  \n",
       "134281 2019-08-04  \n",
       "158372 2019-08-05  \n",
       "158415 2019-08-05  \n",
       "158446 2019-08-05  \n",
       "158579 2019-08-05  \n",
       "158649 2019-08-05  \n",
       "158665 2019-08-05  \n",
       "168758 2019-08-05  \n",
       "168765 2019-08-05  \n",
       "168785 2019-08-05  \n",
       "168805 2019-08-05  \n",
       "169430 2019-08-05  \n",
       "169454 2019-08-05  \n",
       "169455 2019-08-05  \n",
       "169456 2019-08-05  \n",
       "169465 2019-08-05  \n",
       "169492 2019-08-05  \n",
       "169493 2019-08-05  \n",
       "169512 2019-08-05  \n",
       "169513 2019-08-05  \n",
       "169527 2019-08-05  \n",
       "169529 2019-08-05  \n",
       "169539 2019-08-05  \n",
       "169540 2019-08-05  \n",
       "182483 2019-08-06  \n",
       "182485 2019-08-06  \n",
       "182486 2019-08-06  \n",
       "182487 2019-08-06  \n",
       "182492 2019-08-06  \n",
       "182502 2019-08-06  \n",
       "182524 2019-08-06  \n",
       "182529 2019-08-06  \n",
       "182541 2019-08-06  \n",
       "182555 2019-08-06  \n",
       "182566 2019-08-06  \n",
       "202017 2019-08-06  \n",
       "202024 2019-08-06  \n",
       "202034 2019-08-06  "
      ]
     },
     "execution_count": 66,
     "metadata": {},
     "output_type": "execute_result"
    }
   ],
   "source": [
    "data_final[data_final.user_id == 6922444491712477]"
   ]
  },
  {
   "cell_type": "markdown",
   "metadata": {},
   "source": [
    "[Back to Contents](#cont)"
   ]
  },
  {
   "cell_type": "markdown",
   "metadata": {},
   "source": [
    "### <a id='step4share'>What Is the Share of Users That Proceed from Each Stage to the Next?</a>"
   ]
  },
  {
   "cell_type": "code",
   "execution_count": 71,
   "metadata": {},
   "outputs": [
    {
     "data": {
      "text/html": [
       "<style  type=\"text/css\" >\n",
       "</style><table id=\"T_bf6f249a_af1b_11eb_a1a0_8c8590ba5550\" ><thead>    <tr>        <th class=\"blank level0\" ></th>        <th class=\"col_heading level0 col0\" >event_name</th>        <th class=\"col_heading level0 col1\" >n_users</th>        <th class=\"col_heading level0 col2\" >share_of_previous_users</th>    </tr></thead><tbody>\n",
       "                <tr>\n",
       "                        <th id=\"T_bf6f249a_af1b_11eb_a1a0_8c8590ba5550level0_row0\" class=\"row_heading level0 row0\" >0</th>\n",
       "                        <td id=\"T_bf6f249a_af1b_11eb_a1a0_8c8590ba5550row0_col0\" class=\"data row0 col0\" >MainScreenAppear</td>\n",
       "                        <td id=\"T_bf6f249a_af1b_11eb_a1a0_8c8590ba5550row0_col1\" class=\"data row0 col1\" >7344</td>\n",
       "                        <td id=\"T_bf6f249a_af1b_11eb_a1a0_8c8590ba5550row0_col2\" class=\"data row0 col2\" >0%</td>\n",
       "            </tr>\n",
       "            <tr>\n",
       "                        <th id=\"T_bf6f249a_af1b_11eb_a1a0_8c8590ba5550level0_row1\" class=\"row_heading level0 row1\" >1</th>\n",
       "                        <td id=\"T_bf6f249a_af1b_11eb_a1a0_8c8590ba5550row1_col0\" class=\"data row1 col0\" >OffersScreenAppear</td>\n",
       "                        <td id=\"T_bf6f249a_af1b_11eb_a1a0_8c8590ba5550row1_col1\" class=\"data row1 col1\" >4517</td>\n",
       "                        <td id=\"T_bf6f249a_af1b_11eb_a1a0_8c8590ba5550row1_col2\" class=\"data row1 col2\" >-38%</td>\n",
       "            </tr>\n",
       "            <tr>\n",
       "                        <th id=\"T_bf6f249a_af1b_11eb_a1a0_8c8590ba5550level0_row2\" class=\"row_heading level0 row2\" >2</th>\n",
       "                        <td id=\"T_bf6f249a_af1b_11eb_a1a0_8c8590ba5550row2_col0\" class=\"data row2 col0\" >CartScreenAppear</td>\n",
       "                        <td id=\"T_bf6f249a_af1b_11eb_a1a0_8c8590ba5550row2_col1\" class=\"data row2 col1\" >3658</td>\n",
       "                        <td id=\"T_bf6f249a_af1b_11eb_a1a0_8c8590ba5550row2_col2\" class=\"data row2 col2\" >-19%</td>\n",
       "            </tr>\n",
       "            <tr>\n",
       "                        <th id=\"T_bf6f249a_af1b_11eb_a1a0_8c8590ba5550level0_row3\" class=\"row_heading level0 row3\" >3</th>\n",
       "                        <td id=\"T_bf6f249a_af1b_11eb_a1a0_8c8590ba5550row3_col0\" class=\"data row3 col0\" >PaymentScreenSuccessful</td>\n",
       "                        <td id=\"T_bf6f249a_af1b_11eb_a1a0_8c8590ba5550row3_col1\" class=\"data row3 col1\" >3464</td>\n",
       "                        <td id=\"T_bf6f249a_af1b_11eb_a1a0_8c8590ba5550row3_col2\" class=\"data row3 col2\" >-5%</td>\n",
       "            </tr>\n",
       "    </tbody></table>"
      ],
      "text/plain": [
       "<pandas.io.formats.style.Styler at 0x7fd8ac5d6bb0>"
      ]
     },
     "execution_count": 71,
     "metadata": {},
     "output_type": "execute_result"
    }
   ],
   "source": [
    "funnel = (data_final\n",
    "          .groupby('event_name')['user_id']\n",
    "          .nunique()\n",
    "          .sort_values(ascending=False)\n",
    "          .reset_index())\n",
    "funnel.columns = ['event_name', 'n_users']\n",
    "funnel['share_of_previous_users'] = round(funnel.n_users.pct_change(), 2)\n",
    "funnel.fillna(0, inplace=True)\n",
    "funnel.style.format({'share_of_previous_users':'{:.0%}'})"
   ]
  },
  {
   "cell_type": "markdown",
   "metadata": {},
   "source": [
    "As we see, the biggest number of users (38%) was lost when proceeding from main screen (the first stage of the funnel) to offers screen (the second stage). Apparently, this is a pivotal moment, when most users decide if they will buy the product or not.\n",
    "\n",
    "If they decided to buy, they'll most likely proceed to the further stages. In general, the more stages they've completed, the more likely they are to finish the purchase: only 5% of the users left the cart before seeing the payment screen."
   ]
  },
  {
   "cell_type": "code",
   "execution_count": 72,
   "metadata": {
    "scrolled": false
   },
   "outputs": [
    {
     "data": {
      "image/svg+xml": [
       "<svg class=\"main-svg\" xmlns=\"http://www.w3.org/2000/svg\" xmlns:xlink=\"http://www.w3.org/1999/xlink\" width=\"700\" height=\"450\" style=\"\" viewBox=\"0 0 700 450\"><rect x=\"0\" y=\"0\" width=\"700\" height=\"450\" style=\"fill: rgb(255, 255, 255); fill-opacity: 1;\"/><defs id=\"defs-71413e\"><g class=\"clips\"><clipPath id=\"clip71413exyplot\" class=\"plotclip\"><rect width=\"425\" height=\"270\"/></clipPath><clipPath class=\"axesclip\" id=\"clip71413ex\"><rect x=\"195\" y=\"0\" width=\"425\" height=\"450\"/></clipPath><clipPath class=\"axesclip\" id=\"clip71413ey\"><rect x=\"0\" y=\"100\" width=\"700\" height=\"270\"/></clipPath><clipPath class=\"axesclip\" id=\"clip71413exy\"><rect x=\"195\" y=\"100\" width=\"425\" height=\"270\"/></clipPath></g><g class=\"gradients\"/></defs><g class=\"bglayer\"><rect class=\"bg\" x=\"195\" y=\"100\" width=\"425\" height=\"270\" style=\"fill: rgb(229, 236, 246); fill-opacity: 1; stroke-width: 0;\"/></g><g class=\"layer-below\"><g class=\"imagelayer\"/><g class=\"shapelayer\"/></g><g class=\"cartesianlayer\"><g class=\"subplot xy\"><g class=\"layer-subplot\"><g class=\"shapelayer\"/><g class=\"imagelayer\"/></g><g class=\"gridlayer\"><g class=\"x\"><path class=\"xgrid crisp\" transform=\"translate(304.95,0)\" d=\"M0,100v270\" style=\"stroke: rgb(255, 255, 255); stroke-opacity: 1; stroke-width: 1px;\"/><path class=\"xgrid crisp\" transform=\"translate(414.90999999999997,0)\" d=\"M0,100v270\" style=\"stroke: rgb(255, 255, 255); stroke-opacity: 1; stroke-width: 1px;\"/><path class=\"xgrid crisp\" transform=\"translate(524.86,0)\" d=\"M0,100v270\" style=\"stroke: rgb(255, 255, 255); stroke-opacity: 1; stroke-width: 1px;\"/></g><g class=\"y\"/></g><g class=\"zerolinelayer\"><path class=\"xzl zl crisp\" transform=\"translate(195,0)\" d=\"M0,100v270\" style=\"stroke: rgb(255, 255, 255); stroke-opacity: 1; stroke-width: 2px;\"/></g><path class=\"xlines-below\"/><path class=\"ylines-below\"/><g class=\"overlines-below\"/><g class=\"xaxislayer-below\"/><g class=\"yaxislayer-below\"/><g class=\"overaxes-below\"/><g class=\"plot\" transform=\"translate(195,100)\" clip-path=\"url('#clip71413exyplot')\"><g class=\"barlayer mlayer\"><g class=\"trace bars\" style=\"opacity: 0.7;\"><g class=\"points\"><g class=\"point\"><path d=\"M0,60.75V6.75H403.75V60.75Z\" style=\"vector-effect: non-scaling-stroke; opacity: 1; stroke-width: 1.5px; fill: rgb(0, 63, 92); fill-opacity: 1; stroke: rgb(0, 47, 69); stroke-opacity: 1;\"/></g><g class=\"point\"><path d=\"M0,128.25V74.25H248.33V128.25Z\" style=\"vector-effect: non-scaling-stroke; opacity: 1; stroke-width: 1.5px; fill: rgb(88, 80, 141); fill-opacity: 1; stroke: rgb(0, 47, 69); stroke-opacity: 1;\"/></g><g class=\"point\"><path d=\"M0,195.75V141.75H201.11V195.75Z\" style=\"vector-effect: non-scaling-stroke; opacity: 1; stroke-width: 1.5px; fill: rgb(188, 80, 144); fill-opacity: 1; stroke: rgb(0, 47, 69); stroke-opacity: 1;\"/></g><g class=\"point\"><path d=\"M0,263.25V209.25H190.44V263.25Z\" style=\"vector-effect: non-scaling-stroke; opacity: 1; stroke-width: 1.5px; fill: rgb(255, 99, 97); fill-opacity: 1; stroke: rgb(0, 47, 69); stroke-opacity: 1;\"/></g></g></g></g></g><g class=\"overplot\"/><path class=\"xlines-above crisp\" d=\"M0,0\" style=\"fill: none;\"/><path class=\"ylines-above crisp\" d=\"M0,0\" style=\"fill: none;\"/><g class=\"overlines-above\"/><g class=\"xaxislayer-above\"><g class=\"xtick\"><text text-anchor=\"middle\" x=\"0\" y=\"383\" transform=\"translate(195,0)\" style=\"font-family: 'Open Sans', verdana, arial, sans-serif; font-size: 12px; fill: rgb(42, 63, 95); fill-opacity: 1; white-space: pre;\">0</text></g><g class=\"xtick\"><text text-anchor=\"middle\" x=\"0\" y=\"383\" transform=\"translate(304.95,0)\" style=\"font-family: 'Open Sans', verdana, arial, sans-serif; font-size: 12px; fill: rgb(42, 63, 95); fill-opacity: 1; white-space: pre;\">2000</text></g><g class=\"xtick\"><text text-anchor=\"middle\" x=\"0\" y=\"383\" transform=\"translate(414.90999999999997,0)\" style=\"font-family: 'Open Sans', verdana, arial, sans-serif; font-size: 12px; fill: rgb(42, 63, 95); fill-opacity: 1; white-space: pre;\">4000</text></g><g class=\"xtick\"><text text-anchor=\"middle\" x=\"0\" y=\"383\" transform=\"translate(524.86,0)\" style=\"font-family: 'Open Sans', verdana, arial, sans-serif; font-size: 12px; fill: rgb(42, 63, 95); fill-opacity: 1; white-space: pre;\">6000</text></g></g><g class=\"yaxislayer-above\"><g class=\"ytick\"><text text-anchor=\"end\" x=\"194\" y=\"4.199999999999999\" transform=\"translate(0,336.25)\" style=\"font-family: 'Open Sans', verdana, arial, sans-serif; font-size: 12px; fill: rgb(42, 63, 95); fill-opacity: 1; white-space: pre;\">PaymentScreenSuccessful</text></g><g class=\"ytick\"><text text-anchor=\"end\" x=\"194\" y=\"4.199999999999999\" transform=\"translate(0,268.75)\" style=\"font-family: 'Open Sans', verdana, arial, sans-serif; font-size: 12px; fill: rgb(42, 63, 95); fill-opacity: 1; white-space: pre;\">CartScreenAppear</text></g><g class=\"ytick\"><text text-anchor=\"end\" x=\"194\" y=\"4.199999999999999\" transform=\"translate(0,201.25)\" style=\"font-family: 'Open Sans', verdana, arial, sans-serif; font-size: 12px; fill: rgb(42, 63, 95); fill-opacity: 1; white-space: pre;\">OffersScreenAppear</text></g><g class=\"ytick\"><text text-anchor=\"end\" x=\"194\" y=\"4.199999999999999\" transform=\"translate(0,133.75)\" style=\"font-family: 'Open Sans', verdana, arial, sans-serif; font-size: 12px; fill: rgb(42, 63, 95); fill-opacity: 1; white-space: pre;\">MainScreenAppear</text></g></g><g class=\"overaxes-above\"/></g></g><g class=\"polarlayer\"/><g class=\"ternarylayer\"/><g class=\"geolayer\"/><g class=\"funnelarealayer\"/><g class=\"pielayer\"/><g class=\"treemaplayer\"/><g class=\"sunburstlayer\"/><g class=\"glimages\"/><defs id=\"topdefs-71413e\"><g class=\"clips\"/></defs><g class=\"layer-above\"><g class=\"imagelayer\"/><g class=\"shapelayer\"/></g><g class=\"infolayer\"><g class=\"g-gtitle\"><text class=\"gtitle\" x=\"35\" y=\"50\" text-anchor=\"start\" dy=\"0em\" style=\"font-family: 'Open Sans', verdana, arial, sans-serif; font-size: 17px; fill: rgb(42, 63, 95); opacity: 1; font-weight: normal; white-space: pre;\">Users Proceeding from One Stage to Another</text></g><g class=\"g-xtitle\"><text class=\"xtitle\" x=\"407.5\" y=\"410.3\" text-anchor=\"middle\" style=\"font-family: 'Open Sans', verdana, arial, sans-serif; font-size: 14px; fill: rgb(42, 63, 95); opacity: 1; font-weight: normal; white-space: pre;\">Number of users</text></g><g class=\"g-ytitle\" transform=\"translate(2.0185546875,0)\"><text class=\"ytitle\" transform=\"rotate(-90,11.981249999999989,235)\" x=\"11.981249999999989\" y=\"235\" text-anchor=\"middle\" style=\"font-family: 'Open Sans', verdana, arial, sans-serif; font-size: 14px; fill: rgb(42, 63, 95); opacity: 1; font-weight: normal; white-space: pre;\">Event</text></g></g></svg>"
      ]
     },
     "metadata": {},
     "output_type": "display_data"
    }
   ],
   "source": [
    "stages_graph = go.Figure(go.Bar(y=funnel.event_name, x=funnel.n_users,\n",
    "                                hovertext=funnel.share_of_previous_users,\n",
    "                                orientation='h',\n",
    "                               marker_color=colors, opacity=0.7,\n",
    "                                marker_line_color='#002f45', marker_line_width=1.5))\n",
    "stages_graph.update_layout(title='Users Proceeding from One Stage to Another',\n",
    "                           yaxis={'categoryorder':'total ascending'},\n",
    "                           xaxis_title='Number of users',\n",
    "                           yaxis_title='Event')\n",
    "\n",
    "stages_graph.show('svg')"
   ]
  },
  {
   "cell_type": "markdown",
   "metadata": {},
   "source": [
    "[Back to Contents](#cont)"
   ]
  },
  {
   "cell_type": "markdown",
   "metadata": {},
   "source": [
    "### <a id='step4entirejourney'>What Share of Users Made the Entire Journey from Their First Event to Payment?</a>"
   ]
  },
  {
   "cell_type": "code",
   "execution_count": 74,
   "metadata": {},
   "outputs": [
    {
     "data": {
      "text/html": [
       "<style  type=\"text/css\" >\n",
       "</style><table id=\"T_fe5abd54_af1b_11eb_a1a0_8c8590ba5550\" ><thead>    <tr>        <th class=\"blank level0\" ></th>        <th class=\"col_heading level0 col0\" >n_stages</th>        <th class=\"col_heading level0 col1\" >n_users</th>        <th class=\"col_heading level0 col2\" >share_of_users</th>    </tr></thead><tbody>\n",
       "                <tr>\n",
       "                        <th id=\"T_fe5abd54_af1b_11eb_a1a0_8c8590ba5550level0_row0\" class=\"row_heading level0 row0\" >0</th>\n",
       "                        <td id=\"T_fe5abd54_af1b_11eb_a1a0_8c8590ba5550row0_col0\" class=\"data row0 col0\" >1</td>\n",
       "                        <td id=\"T_fe5abd54_af1b_11eb_a1a0_8c8590ba5550row0_col1\" class=\"data row0 col1\" >2894</td>\n",
       "                        <td id=\"T_fe5abd54_af1b_11eb_a1a0_8c8590ba5550row0_col2\" class=\"data row0 col2\" >39%</td>\n",
       "            </tr>\n",
       "            <tr>\n",
       "                        <th id=\"T_fe5abd54_af1b_11eb_a1a0_8c8590ba5550level0_row1\" class=\"row_heading level0 row1\" >1</th>\n",
       "                        <td id=\"T_fe5abd54_af1b_11eb_a1a0_8c8590ba5550row1_col0\" class=\"data row1 col0\" >2</td>\n",
       "                        <td id=\"T_fe5abd54_af1b_11eb_a1a0_8c8590ba5550row1_col1\" class=\"data row1 col1\" >946</td>\n",
       "                        <td id=\"T_fe5abd54_af1b_11eb_a1a0_8c8590ba5550row1_col2\" class=\"data row1 col2\" >13%</td>\n",
       "            </tr>\n",
       "            <tr>\n",
       "                        <th id=\"T_fe5abd54_af1b_11eb_a1a0_8c8590ba5550level0_row2\" class=\"row_heading level0 row2\" >2</th>\n",
       "                        <td id=\"T_fe5abd54_af1b_11eb_a1a0_8c8590ba5550row2_col0\" class=\"data row2 col0\" >3</td>\n",
       "                        <td id=\"T_fe5abd54_af1b_11eb_a1a0_8c8590ba5550row2_col1\" class=\"data row2 col1\" >259</td>\n",
       "                        <td id=\"T_fe5abd54_af1b_11eb_a1a0_8c8590ba5550row2_col2\" class=\"data row2 col2\" >3%</td>\n",
       "            </tr>\n",
       "            <tr>\n",
       "                        <th id=\"T_fe5abd54_af1b_11eb_a1a0_8c8590ba5550level0_row3\" class=\"row_heading level0 row3\" >3</th>\n",
       "                        <td id=\"T_fe5abd54_af1b_11eb_a1a0_8c8590ba5550row3_col0\" class=\"data row3 col0\" >4</td>\n",
       "                        <td id=\"T_fe5abd54_af1b_11eb_a1a0_8c8590ba5550row3_col1\" class=\"data row3 col1\" >3355</td>\n",
       "                        <td id=\"T_fe5abd54_af1b_11eb_a1a0_8c8590ba5550row3_col2\" class=\"data row3 col2\" >45%</td>\n",
       "            </tr>\n",
       "    </tbody></table>"
      ],
      "text/plain": [
       "<pandas.io.formats.style.Styler at 0x7fd8b3c126d0>"
      ]
     },
     "execution_count": 74,
     "metadata": {},
     "output_type": "execute_result"
    }
   ],
   "source": [
    "all_the_way = (data_final\n",
    "               .groupby('user_id')['event_name'].nunique()\n",
    "               .reset_index()\n",
    "               .groupby('event_name')['user_id'].nunique()\n",
    "              .reset_index())\n",
    "all_the_way.columns = ['n_stages', 'n_users']\n",
    "all_the_way['share_of_users'] = all_the_way.n_users / data_final.user_id.nunique()\n",
    "all_the_way.style.format({'share_of_users':'{:.0%}'})"
   ]
  },
  {
   "cell_type": "markdown",
   "metadata": {},
   "source": [
    "We can add that only 45% of users went through four different stages of our event funnel.\n",
    "\n",
    "The others either didn't convert or used a shortcut ('Buy in one click', links to the product in marketing emails etc.). Here is how a \"proper\" event funnel looks like."
   ]
  },
  {
   "cell_type": "code",
   "execution_count": 76,
   "metadata": {
    "scrolled": true
   },
   "outputs": [
    {
     "data": {
      "text/html": [
       "<div>\n",
       "<style scoped>\n",
       "    .dataframe tbody tr th:only-of-type {\n",
       "        vertical-align: middle;\n",
       "    }\n",
       "\n",
       "    .dataframe tbody tr th {\n",
       "        vertical-align: top;\n",
       "    }\n",
       "\n",
       "    .dataframe thead th {\n",
       "        text-align: right;\n",
       "    }\n",
       "</style>\n",
       "<table border=\"1\" class=\"dataframe\">\n",
       "  <thead>\n",
       "    <tr style=\"text-align: right;\">\n",
       "      <th></th>\n",
       "      <th>event_name</th>\n",
       "      <th>group</th>\n",
       "      <th>n_users</th>\n",
       "    </tr>\n",
       "  </thead>\n",
       "  <tbody>\n",
       "    <tr>\n",
       "      <th>9</th>\n",
       "      <td>MainScreenAppear</td>\n",
       "      <td>248</td>\n",
       "      <td>2465</td>\n",
       "    </tr>\n",
       "    <tr>\n",
       "      <th>10</th>\n",
       "      <td>OffersScreenAppear</td>\n",
       "      <td>248</td>\n",
       "      <td>1503</td>\n",
       "    </tr>\n",
       "    <tr>\n",
       "      <th>8</th>\n",
       "      <td>CartScreenAppear</td>\n",
       "      <td>248</td>\n",
       "      <td>1202</td>\n",
       "    </tr>\n",
       "    <tr>\n",
       "      <th>11</th>\n",
       "      <td>PaymentScreenSuccessful</td>\n",
       "      <td>248</td>\n",
       "      <td>1154</td>\n",
       "    </tr>\n",
       "    <tr>\n",
       "      <th>5</th>\n",
       "      <td>MainScreenAppear</td>\n",
       "      <td>247</td>\n",
       "      <td>2453</td>\n",
       "    </tr>\n",
       "    <tr>\n",
       "      <th>6</th>\n",
       "      <td>OffersScreenAppear</td>\n",
       "      <td>247</td>\n",
       "      <td>1497</td>\n",
       "    </tr>\n",
       "    <tr>\n",
       "      <th>4</th>\n",
       "      <td>CartScreenAppear</td>\n",
       "      <td>247</td>\n",
       "      <td>1215</td>\n",
       "    </tr>\n",
       "    <tr>\n",
       "      <th>7</th>\n",
       "      <td>PaymentScreenSuccessful</td>\n",
       "      <td>247</td>\n",
       "      <td>1135</td>\n",
       "    </tr>\n",
       "    <tr>\n",
       "      <th>1</th>\n",
       "      <td>MainScreenAppear</td>\n",
       "      <td>246</td>\n",
       "      <td>2426</td>\n",
       "    </tr>\n",
       "    <tr>\n",
       "      <th>2</th>\n",
       "      <td>OffersScreenAppear</td>\n",
       "      <td>246</td>\n",
       "      <td>1517</td>\n",
       "    </tr>\n",
       "    <tr>\n",
       "      <th>0</th>\n",
       "      <td>CartScreenAppear</td>\n",
       "      <td>246</td>\n",
       "      <td>1241</td>\n",
       "    </tr>\n",
       "    <tr>\n",
       "      <th>3</th>\n",
       "      <td>PaymentScreenSuccessful</td>\n",
       "      <td>246</td>\n",
       "      <td>1175</td>\n",
       "    </tr>\n",
       "  </tbody>\n",
       "</table>\n",
       "</div>"
      ],
      "text/plain": [
       "                 event_name group  n_users\n",
       "9          MainScreenAppear   248     2465\n",
       "10       OffersScreenAppear   248     1503\n",
       "8          CartScreenAppear   248     1202\n",
       "11  PaymentScreenSuccessful   248     1154\n",
       "5          MainScreenAppear   247     2453\n",
       "6        OffersScreenAppear   247     1497\n",
       "4          CartScreenAppear   247     1215\n",
       "7   PaymentScreenSuccessful   247     1135\n",
       "1          MainScreenAppear   246     2426\n",
       "2        OffersScreenAppear   246     1517\n",
       "0          CartScreenAppear   246     1241\n",
       "3   PaymentScreenSuccessful   246     1175"
      ]
     },
     "execution_count": 76,
     "metadata": {},
     "output_type": "execute_result"
    }
   ],
   "source": [
    "funnel_by_group = (data_final\n",
    "                   .pivot_table(index='event_name', columns='group', values='user_id', aggfunc='nunique')\n",
    "                   .reset_index())\n",
    "funnel_by_group = funnel_by_group.melt(id_vars=['event_name'], value_vars=[246, 247, 248])\n",
    "funnel_by_group.columns = ['event_name', 'group', 'n_users']\n",
    "funnel_by_group = funnel_by_group.sort_values(by=['group', 'n_users'], ascending=False)\n",
    "funnel_by_group"
   ]
  },
  {
   "cell_type": "code",
   "execution_count": 78,
   "metadata": {},
   "outputs": [
    {
     "data": {
      "image/svg+xml": [
       "<svg class=\"main-svg\" xmlns=\"http://www.w3.org/2000/svg\" xmlns:xlink=\"http://www.w3.org/1999/xlink\" width=\"700\" height=\"450\" style=\"\" viewBox=\"0 0 700 450\"><rect x=\"0\" y=\"0\" width=\"700\" height=\"450\" style=\"fill: rgb(255, 255, 255); fill-opacity: 1;\"/><defs id=\"defs-58d249\"><g class=\"clips\"><clipPath id=\"clip58d249xyplot\" class=\"plotclip\"><rect width=\"417\" height=\"270\"/></clipPath><clipPath class=\"axesclip\" id=\"clip58d249x\"><rect x=\"195\" y=\"0\" width=\"417\" height=\"450\"/></clipPath><clipPath class=\"axesclip\" id=\"clip58d249y\"><rect x=\"0\" y=\"100\" width=\"700\" height=\"270\"/></clipPath><clipPath class=\"axesclip\" id=\"clip58d249xy\"><rect x=\"195\" y=\"100\" width=\"417\" height=\"270\"/></clipPath></g><g class=\"gradients\"/></defs><g class=\"bglayer\"><rect class=\"bg\" x=\"195\" y=\"100\" width=\"417\" height=\"270\" style=\"fill: rgb(229, 236, 246); fill-opacity: 1; stroke-width: 0;\"/></g><g class=\"layer-below\"><g class=\"imagelayer\"/><g class=\"shapelayer\"/></g><g class=\"cartesianlayer\"><g class=\"subplot xy\"><g class=\"layer-subplot\"><g class=\"shapelayer\"/><g class=\"imagelayer\"/></g><g class=\"gridlayer\"><g class=\"x\"/><g class=\"y\"/></g><g class=\"zerolinelayer\"/><path class=\"xlines-below\"/><path class=\"ylines-below\"/><g class=\"overlines-below\"/><g class=\"xaxislayer-below\"/><g class=\"yaxislayer-below\"/><g class=\"overaxes-below\"/><g class=\"plot\" transform=\"translate(195,100)\" clip-path=\"url('#clip58d249xyplot')\"><g class=\"funnellayer mlayer\"><g class=\"trace bars\" style=\"opacity: 0.7;\"><g class=\"regions\"><g class=\"region\"><path d=\"M20.85,60.75L93.08,74.25H170.61L144.83,60.75Z\" style=\"stroke-width: 0; fill: rgb(88, 80, 141); fill-opacity: 0.5;\"/></g><g class=\"region\"><path d=\"M93.08,128.25L115.03,141.75H178.45L170.61,128.25Z\" style=\"stroke-width: 0; fill: rgb(88, 80, 141); fill-opacity: 0.5;\"/></g><g class=\"region\"><path d=\"M115.03,195.75L119.99,209.25H180.04L178.45,195.75Z\" style=\"stroke-width: 0; fill: rgb(88, 80, 141); fill-opacity: 0.5;\"/></g><g class=\"region\"><path d=\"M0,0Z\" style=\"stroke-width: 0; fill: rgb(88, 80, 141); fill-opacity: 0.5;\"/></g></g><g class=\"points\"><g class=\"point\"><path d=\"M20.85,6.75V60.75H144.83V6.75Z\" style=\"vector-effect: non-scaling-stroke; fill: rgb(88, 80, 141); fill-opacity: 1; stroke: rgb(0, 47, 69); stroke-opacity: 1; stroke-width: 1.5px; opacity: 1;\"/><text class=\"bartext bartext-inside\" text-anchor=\"middle\" data-notex=\"1\" x=\"0\" y=\"0\" style=\"font-family: 'Open Sans', verdana, arial, sans-serif; font-size: 12px; fill: rgb(255, 255, 255); fill-opacity: 1; white-space: pre;\" transform=\"translate(82.84,30.6953125)\"><tspan class=\"line\" dy=\"0em\" x=\"0\" y=\"0\">2426</tspan><tspan class=\"line\" dy=\"1.3em\" x=\"0\" y=\"0\">100%</tspan></text></g><g class=\"point\"><path d=\"M93.08,74.25V128.25H170.61V74.25Z\" style=\"vector-effect: non-scaling-stroke; fill: rgb(88, 80, 141); fill-opacity: 1; stroke: rgb(0, 47, 69); stroke-opacity: 1; stroke-width: 1.5px; opacity: 1;\"/><text class=\"bartext bartext-inside\" text-anchor=\"middle\" data-notex=\"1\" x=\"0\" y=\"0\" style=\"font-family: 'Open Sans', verdana, arial, sans-serif; font-size: 12px; fill: rgb(255, 255, 255); fill-opacity: 1; white-space: pre;\" transform=\"translate(131.845,98.1953125)\"><tspan class=\"line\" dy=\"0em\" x=\"0\" y=\"0\">1517</tspan><tspan class=\"line\" dy=\"1.3em\" x=\"0\" y=\"0\">63%</tspan></text></g><g class=\"point\"><path d=\"M115.03,141.75V195.75H178.45V141.75Z\" style=\"vector-effect: non-scaling-stroke; fill: rgb(88, 80, 141); fill-opacity: 1; stroke: rgb(0, 47, 69); stroke-opacity: 1; stroke-width: 1.5px; opacity: 1;\"/><text class=\"bartext bartext-inside\" text-anchor=\"middle\" data-notex=\"1\" x=\"0\" y=\"0\" style=\"font-family: 'Open Sans', verdana, arial, sans-serif; font-size: 12px; fill: rgb(255, 255, 255); fill-opacity: 1; white-space: pre;\" transform=\"translate(146.74,165.6953125)\"><tspan class=\"line\" dy=\"0em\" x=\"0\" y=\"0\">1241</tspan><tspan class=\"line\" dy=\"1.3em\" x=\"0\" y=\"0\">82%</tspan></text></g><g class=\"point\"><path d=\"M119.99,209.25V263.25H180.04V209.25Z\" style=\"vector-effect: non-scaling-stroke; fill: rgb(88, 80, 141); fill-opacity: 1; stroke: rgb(0, 47, 69); stroke-opacity: 1; stroke-width: 1.5px; opacity: 1;\"/><text class=\"bartext bartext-inside\" text-anchor=\"middle\" data-notex=\"1\" x=\"0\" y=\"0\" style=\"font-family: 'Open Sans', verdana, arial, sans-serif; font-size: 12px; fill: rgb(255, 255, 255); fill-opacity: 1; white-space: pre;\" transform=\"translate(150.015,233.1953125)\"><tspan class=\"line\" dy=\"0em\" x=\"0\" y=\"0\">1175</tspan><tspan class=\"line\" dy=\"1.3em\" x=\"0\" y=\"0\">95%</tspan></text></g></g></g><g class=\"trace bars\" style=\"opacity: 0.7;\"><g class=\"regions\"><g class=\"region\"><path d=\"M144.83,60.75L170.61,74.25H247.11L270.18,60.75Z\" style=\"stroke-width: 0; fill: rgb(255, 166, 0); fill-opacity: 0.5;\"/></g><g class=\"region\"><path d=\"M170.61,128.25L178.45,141.75H240.54L247.11,128.25Z\" style=\"stroke-width: 0; fill: rgb(255, 166, 0); fill-opacity: 0.5;\"/></g><g class=\"region\"><path d=\"M178.45,195.75L180.04,209.25H238.04L240.54,195.75Z\" style=\"stroke-width: 0; fill: rgb(255, 166, 0); fill-opacity: 0.5;\"/></g><g class=\"region\"><path d=\"M0,0Z\" style=\"stroke-width: 0; fill: rgb(255, 166, 0); fill-opacity: 0.5;\"/></g></g><g class=\"points\"><g class=\"point\"><path d=\"M144.83,6.75V60.75H270.18V6.75Z\" style=\"vector-effect: non-scaling-stroke; fill: rgb(255, 166, 0); fill-opacity: 1; stroke: rgb(0, 47, 69); stroke-opacity: 1; stroke-width: 1.5px; opacity: 1;\"/><text class=\"bartext bartext-inside\" text-anchor=\"middle\" data-notex=\"1\" x=\"0\" y=\"0\" style=\"font-family: 'Open Sans', verdana, arial, sans-serif; font-size: 12px; fill: rgb(68, 68, 68); fill-opacity: 1; white-space: pre;\" transform=\"translate(207.505,30.6953125)\"><tspan class=\"line\" dy=\"0em\" x=\"0\" y=\"0\">2453</tspan><tspan class=\"line\" dy=\"1.3em\" x=\"0\" y=\"0\">100%</tspan></text></g><g class=\"point\"><path d=\"M170.61,74.25V128.25H247.11V74.25Z\" style=\"vector-effect: non-scaling-stroke; fill: rgb(255, 166, 0); fill-opacity: 1; stroke: rgb(0, 47, 69); stroke-opacity: 1; stroke-width: 1.5px; opacity: 1;\"/><text class=\"bartext bartext-inside\" text-anchor=\"middle\" data-notex=\"1\" x=\"0\" y=\"0\" style=\"font-family: 'Open Sans', verdana, arial, sans-serif; font-size: 12px; fill: rgb(68, 68, 68); fill-opacity: 1; white-space: pre;\" transform=\"translate(208.86,98.1953125)\"><tspan class=\"line\" dy=\"0em\" x=\"0\" y=\"0\">1497</tspan><tspan class=\"line\" dy=\"1.3em\" x=\"0\" y=\"0\">61%</tspan></text></g><g class=\"point\"><path d=\"M178.45,141.75V195.75H240.54V141.75Z\" style=\"vector-effect: non-scaling-stroke; fill: rgb(255, 166, 0); fill-opacity: 1; stroke: rgb(0, 47, 69); stroke-opacity: 1; stroke-width: 1.5px; opacity: 1;\"/><text class=\"bartext bartext-inside\" text-anchor=\"middle\" data-notex=\"1\" x=\"0\" y=\"0\" style=\"font-family: 'Open Sans', verdana, arial, sans-serif; font-size: 12px; fill: rgb(68, 68, 68); fill-opacity: 1; white-space: pre;\" transform=\"translate(209.495,165.6953125)\"><tspan class=\"line\" dy=\"0em\" x=\"0\" y=\"0\">1215</tspan><tspan class=\"line\" dy=\"1.3em\" x=\"0\" y=\"0\">81%</tspan></text></g><g class=\"point\"><path d=\"M180.04,209.25V263.25H238.04V209.25Z\" style=\"vector-effect: non-scaling-stroke; fill: rgb(255, 166, 0); fill-opacity: 1; stroke: rgb(0, 47, 69); stroke-opacity: 1; stroke-width: 1.5px; opacity: 1;\"/><text class=\"bartext bartext-inside\" text-anchor=\"middle\" data-notex=\"1\" x=\"0\" y=\"0\" style=\"font-family: 'Open Sans', verdana, arial, sans-serif; font-size: 12px; fill: rgb(68, 68, 68); fill-opacity: 1; white-space: pre;\" transform=\"translate(209.04,233.1953125)\"><tspan class=\"line\" dy=\"0em\" x=\"0\" y=\"0\">1135</tspan><tspan class=\"line\" dy=\"1.3em\" x=\"0\" y=\"0\">93%</tspan></text></g></g></g><g class=\"trace bars\" style=\"opacity: 0.7;\"><g class=\"regions\"><g class=\"region\"><path d=\"M270.18,60.75L247.11,74.25H323.92L396.15,60.75Z\" style=\"stroke-width: 0; fill: rgb(255, 99, 97); fill-opacity: 0.5;\"/></g><g class=\"region\"><path d=\"M247.11,128.25L240.54,141.75H301.97L323.92,128.25Z\" style=\"stroke-width: 0; fill: rgb(255, 99, 97); fill-opacity: 0.5;\"/></g><g class=\"region\"><path d=\"M240.54,195.75L238.04,209.25H297.01L301.97,195.75Z\" style=\"stroke-width: 0; fill: rgb(255, 99, 97); fill-opacity: 0.5;\"/></g><g class=\"region\"><path d=\"M0,0Z\" style=\"stroke-width: 0; fill: rgb(255, 99, 97); fill-opacity: 0.5;\"/></g></g><g class=\"points\"><g class=\"point\"><path d=\"M270.18,6.75V60.75H396.15V6.75Z\" style=\"vector-effect: non-scaling-stroke; fill: rgb(255, 99, 97); fill-opacity: 1; stroke: rgb(0, 47, 69); stroke-opacity: 1; stroke-width: 1.5px; opacity: 1;\"/><text class=\"bartext bartext-inside\" text-anchor=\"middle\" data-notex=\"1\" x=\"0\" y=\"0\" style=\"font-family: 'Open Sans', verdana, arial, sans-serif; font-size: 12px; fill: rgb(68, 68, 68); fill-opacity: 1; white-space: pre;\" transform=\"translate(333.16499999999996,30.6953125)\"><tspan class=\"line\" dy=\"0em\" x=\"0\" y=\"0\">2465</tspan><tspan class=\"line\" dy=\"1.3em\" x=\"0\" y=\"0\">100%</tspan></text></g><g class=\"point\"><path d=\"M247.11,74.25V128.25H323.92V74.25Z\" style=\"vector-effect: non-scaling-stroke; fill: rgb(255, 99, 97); fill-opacity: 1; stroke: rgb(0, 47, 69); stroke-opacity: 1; stroke-width: 1.5px; opacity: 1;\"/><text class=\"bartext bartext-inside\" text-anchor=\"middle\" data-notex=\"1\" x=\"0\" y=\"0\" style=\"font-family: 'Open Sans', verdana, arial, sans-serif; font-size: 12px; fill: rgb(68, 68, 68); fill-opacity: 1; white-space: pre;\" transform=\"translate(285.515,98.1953125)\"><tspan class=\"line\" dy=\"0em\" x=\"0\" y=\"0\">1503</tspan><tspan class=\"line\" dy=\"1.3em\" x=\"0\" y=\"0\">61%</tspan></text></g><g class=\"point\"><path d=\"M240.54,141.75V195.75H301.97V141.75Z\" style=\"vector-effect: non-scaling-stroke; fill: rgb(255, 99, 97); fill-opacity: 1; stroke: rgb(0, 47, 69); stroke-opacity: 1; stroke-width: 1.5px; opacity: 1;\"/><text class=\"bartext bartext-inside\" text-anchor=\"middle\" data-notex=\"1\" x=\"0\" y=\"0\" style=\"font-family: 'Open Sans', verdana, arial, sans-serif; font-size: 12px; fill: rgb(68, 68, 68); fill-opacity: 1; white-space: pre;\" transform=\"translate(271.255,165.6953125)\"><tspan class=\"line\" dy=\"0em\" x=\"0\" y=\"0\">1202</tspan><tspan class=\"line\" dy=\"1.3em\" x=\"0\" y=\"0\">80%</tspan></text></g><g class=\"point\"><path d=\"M238.04,209.25V263.25H297.01V209.25Z\" style=\"vector-effect: non-scaling-stroke; fill: rgb(255, 99, 97); fill-opacity: 1; stroke: rgb(0, 47, 69); stroke-opacity: 1; stroke-width: 1.5px; opacity: 1;\"/><text class=\"bartext bartext-inside\" text-anchor=\"middle\" data-notex=\"1\" x=\"0\" y=\"0\" style=\"font-family: 'Open Sans', verdana, arial, sans-serif; font-size: 12px; fill: rgb(68, 68, 68); fill-opacity: 1; white-space: pre;\" transform=\"translate(267.525,233.1953125)\"><tspan class=\"line\" dy=\"0em\" x=\"0\" y=\"0\">1154</tspan><tspan class=\"line\" dy=\"1.3em\" x=\"0\" y=\"0\">96%</tspan></text></g></g></g></g></g><g class=\"overplot\"/><path class=\"xlines-above crisp\" style=\"fill: none;\" d=\"M0,0\"/><path class=\"ylines-above crisp\" style=\"fill: none;\" d=\"M0,0\"/><g class=\"overlines-above\"/><g class=\"xaxislayer-above\"/><g class=\"yaxislayer-above\"><g class=\"ytick\"><text text-anchor=\"end\" x=\"194\" y=\"4.199999999999999\" transform=\"translate(0,336.25)\" style=\"font-family: 'Open Sans', verdana, arial, sans-serif; font-size: 12px; fill: rgb(42, 63, 95); fill-opacity: 1; white-space: pre;\">PaymentScreenSuccessful</text></g><g class=\"ytick\"><text text-anchor=\"end\" x=\"194\" y=\"4.199999999999999\" transform=\"translate(0,268.75)\" style=\"font-family: 'Open Sans', verdana, arial, sans-serif; font-size: 12px; fill: rgb(42, 63, 95); fill-opacity: 1; white-space: pre;\">CartScreenAppear</text></g><g class=\"ytick\"><text text-anchor=\"end\" x=\"194\" y=\"4.199999999999999\" transform=\"translate(0,201.25)\" style=\"font-family: 'Open Sans', verdana, arial, sans-serif; font-size: 12px; fill: rgb(42, 63, 95); fill-opacity: 1; white-space: pre;\">OffersScreenAppear</text></g><g class=\"ytick\"><text text-anchor=\"end\" x=\"194\" y=\"4.199999999999999\" transform=\"translate(0,133.75)\" style=\"font-family: 'Open Sans', verdana, arial, sans-serif; font-size: 12px; fill: rgb(42, 63, 95); fill-opacity: 1; white-space: pre;\">MainScreenAppear</text></g></g><g class=\"overaxes-above\"/></g></g><g class=\"polarlayer\"/><g class=\"ternarylayer\"/><g class=\"geolayer\"/><g class=\"funnelarealayer\"/><g class=\"pielayer\"/><g class=\"treemaplayer\"/><g class=\"sunburstlayer\"/><g class=\"glimages\"/><defs id=\"topdefs-58d249\"><g class=\"clips\"/><clipPath id=\"legend58d249\"><rect width=\"68\" height=\"67\" x=\"0\" y=\"0\"/></clipPath></defs><g class=\"layer-above\"><g class=\"imagelayer\"/><g class=\"shapelayer\"/></g><g class=\"infolayer\"><g class=\"legend\" pointer-events=\"all\" transform=\"translate(620.34,100)\"><rect class=\"bg\" shape-rendering=\"crispEdges\" style=\"stroke: rgb(68, 68, 68); stroke-opacity: 1; fill: rgb(255, 255, 255); fill-opacity: 1; stroke-width: 0px;\" width=\"68\" height=\"67\" x=\"0\" y=\"0\"/><g class=\"scrollbox\" transform=\"\" clip-path=\"url('#legend58d249')\"><g class=\"groups\"><g class=\"traces\" style=\"opacity: 1;\" transform=\"translate(0,14.5)\"><text class=\"legendtext\" text-anchor=\"start\" x=\"40\" y=\"4.680000000000001\" style=\"font-family: 'Open Sans', verdana, arial, sans-serif; font-size: 12px; fill: rgb(42, 63, 95); fill-opacity: 1; white-space: pre;\">246</text><g class=\"layers\" style=\"opacity: 0.7;\"><g class=\"legendfill\"/><g class=\"legendlines\"/><g class=\"legendsymbols\"><g class=\"legendpoints\"><path class=\"legendfunnel\" d=\"M6,6H-6V-6H6Z\" transform=\"translate(20,0)\" style=\"stroke-width: 1.5px; fill: rgb(88, 80, 141); fill-opacity: 1; stroke: rgb(0, 47, 69); stroke-opacity: 1;\"/></g></g></g><rect class=\"legendtoggle\" x=\"0\" y=\"-9.5\" width=\"62.890625\" height=\"19\" style=\"fill: rgb(0, 0, 0); fill-opacity: 0;\"/></g><g class=\"traces\" style=\"opacity: 1;\" transform=\"translate(0,33.5)\"><text class=\"legendtext\" text-anchor=\"start\" x=\"40\" y=\"4.680000000000001\" style=\"font-family: 'Open Sans', verdana, arial, sans-serif; font-size: 12px; fill: rgb(42, 63, 95); fill-opacity: 1; white-space: pre;\">247</text><g class=\"layers\" style=\"opacity: 0.7;\"><g class=\"legendfill\"/><g class=\"legendlines\"/><g class=\"legendsymbols\"><g class=\"legendpoints\"><path class=\"legendfunnel\" d=\"M6,6H-6V-6H6Z\" transform=\"translate(20,0)\" style=\"stroke-width: 1.5px; fill: rgb(255, 166, 0); fill-opacity: 1; stroke: rgb(0, 47, 69); stroke-opacity: 1;\"/></g></g></g><rect class=\"legendtoggle\" x=\"0\" y=\"-9.5\" width=\"62.890625\" height=\"19\" style=\"fill: rgb(0, 0, 0); fill-opacity: 0;\"/></g><g class=\"traces\" style=\"opacity: 1;\" transform=\"translate(0,52.5)\"><text class=\"legendtext\" text-anchor=\"start\" x=\"40\" y=\"4.680000000000001\" style=\"font-family: 'Open Sans', verdana, arial, sans-serif; font-size: 12px; fill: rgb(42, 63, 95); fill-opacity: 1; white-space: pre;\">248</text><g class=\"layers\" style=\"opacity: 0.7;\"><g class=\"legendfill\"/><g class=\"legendlines\"/><g class=\"legendsymbols\"><g class=\"legendpoints\"><path class=\"legendfunnel\" d=\"M6,6H-6V-6H6Z\" transform=\"translate(20,0)\" style=\"stroke-width: 1.5px; fill: rgb(255, 99, 97); fill-opacity: 1; stroke: rgb(0, 47, 69); stroke-opacity: 1;\"/></g></g></g><rect class=\"legendtoggle\" x=\"0\" y=\"-9.5\" width=\"62.890625\" height=\"19\" style=\"fill: rgb(0, 0, 0); fill-opacity: 0;\"/></g></g></g><rect class=\"scrollbar\" rx=\"20\" ry=\"3\" width=\"0\" height=\"0\" style=\"fill: rgb(128, 139, 164); fill-opacity: 1;\" x=\"0\" y=\"0\"/></g><g class=\"g-gtitle\"><text class=\"gtitle\" x=\"35\" y=\"50\" text-anchor=\"start\" dy=\"0em\" style=\"font-family: 'Open Sans', verdana, arial, sans-serif; font-size: 17px; fill: rgb(42, 63, 95); opacity: 1; font-weight: normal; white-space: pre;\">Event Funnel</text></g><g class=\"g-ytitle\" transform=\"translate(2.0185546875,0)\"><text class=\"ytitle\" transform=\"rotate(-90,11.981249999999989,235)\" x=\"11.981249999999989\" y=\"235\" text-anchor=\"middle\" style=\"font-family: 'Open Sans', verdana, arial, sans-serif; font-size: 14px; fill: rgb(42, 63, 95); opacity: 1; font-weight: normal; white-space: pre;\">Event name</text></g></g></svg>"
      ]
     },
     "metadata": {},
     "output_type": "display_data"
    }
   ],
   "source": [
    "funnel_graph = go.Figure()\n",
    "funnel_graph.add_trace(go.Funnel(name='246', \n",
    "                                 y=funnel_by_group.event_name,\n",
    "                                 x=funnel_by_group[funnel_by_group.group==246].n_users,\n",
    "                                 textinfo = 'value+percent previous',\n",
    "                                 marker_color='#58508d',\n",
    "                                 opacity=0.7, marker_line_color='#002f45',\n",
    "                                 marker_line_width=1.5))\n",
    "funnel_graph.add_trace(go.Funnel(name='247', \n",
    "                                 y=funnel_by_group.event_name,\n",
    "                                 x=funnel_by_group[funnel_by_group.group==247].n_users,\n",
    "                                 textinfo = 'value+percent previous',\n",
    "                                 marker_color='#ffa600',\n",
    "                                 opacity=0.7, marker_line_color='#002f45',\n",
    "                                 marker_line_width=1.5))\n",
    "funnel_graph.add_trace(go.Funnel(name='248', \n",
    "                                 y=funnel_by_group.event_name,\n",
    "                                 x=funnel_by_group[funnel_by_group.group==248].n_users,\n",
    "                                 textinfo = 'value+percent previous',\n",
    "                                 marker_color='#ff6361',\n",
    "                                 opacity=0.7, marker_line_color='#002f45',\n",
    "                                 marker_line_width=1.5))\n",
    "funnel_graph.update_layout(title='Event Funnel',\n",
    "                           xaxis_title='Number of users',\n",
    "                           yaxis_title='Event name')\n",
    "funnel_graph.show('svg')"
   ]
  },
  {
   "cell_type": "markdown",
   "metadata": {},
   "source": [
    "This graph depicts an ideal event funnel for our online store. The biggest loss is experienced on the second stage (moving from the main screen to the offers). After this, the loss of users is minimal: most users that decided to go on and see the offer ended up making a purchase.\n",
    "\n",
    "However, we remember that in reality not all the visitors perform actions in this desired order. Perhaps, it would be useful to have a look at the variety of different ways which lead to purchasing the product."
   ]
  },
  {
   "cell_type": "code",
   "execution_count": 79,
   "metadata": {},
   "outputs": [
    {
     "data": {
      "text/plain": [
       "['MainScreenAppear',\n",
       " 'PaymentScreenSuccessful',\n",
       " 'CartScreenAppear',\n",
       " 'OffersScreenAppear']"
      ]
     },
     "execution_count": 79,
     "metadata": {},
     "output_type": "execute_result"
    }
   ],
   "source": [
    "# This function checks the sequence or user's first events\n",
    "def event_sequence(user):\n",
    "    sorted_user = data_final[data_final.user_id == user].sort_values(by=['user_id', 'event_ts'])\n",
    "    return sorted_user['event_name'].drop_duplicates(keep='first').to_list()\n",
    "\n",
    "event_sequence(6922444491712477)"
   ]
  },
  {
   "cell_type": "code",
   "execution_count": 80,
   "metadata": {},
   "outputs": [
    {
     "name": "stdout",
     "output_type": "stream",
     "text": [
      "878\n"
     ]
    }
   ],
   "source": [
    "right_sequence = []\n",
    "\n",
    "for user in data_final.user_id.unique():\n",
    "    sequence = event_sequence(user)\n",
    "    if sequence == ['MainScreenAppear', 'OffersScreenAppear', 'CartScreenAppear', 'PaymentScreenSuccessful']:\n",
    "        right_sequence.append(user)\n",
    "        \n",
    "print(len(right_sequence))"
   ]
  },
  {
   "cell_type": "code",
   "execution_count": 81,
   "metadata": {},
   "outputs": [
    {
     "name": "stdout",
     "output_type": "stream",
     "text": [
      "Only 878 users (11.75% of all) performed all the actions in the \"right\" order.\n"
     ]
    }
   ],
   "source": [
    "print('Only {:} users ({:.2%} of all) performed all the actions in the \"right\" order.'.format(len(right_sequence), len(right_sequence)/data.user_id.nunique()))"
   ]
  },
  {
   "cell_type": "markdown",
   "metadata": {},
   "source": [
    "As we see, there is definitely not a single route, but a road with a lot of variations, which could be caused by many reasons, including:\n",
    "\n",
    "- existing shortcuts ('Buy in one click' buttons);\n",
    "- marketing emails with links to some specific offers;\n",
    "- flaws in documenting user journeys on the website etc.\n",
    "\n",
    "[Back to Contents](#cont)"
   ]
  },
  {
   "cell_type": "markdown",
   "metadata": {},
   "source": [
    "### <a id='step4concl'>Conclusions to Step 4</a>\n",
    "\n",
    "We've studied the event funnel and come up with several conclusions:\n",
    "\n",
    "- the biggest part of visitors is lost during one step: moving from the main screen to the offers screen;\n",
    "- the more actions have the visitors already made, the higher is the probability that they'll execute the purchase;\n",
    "- though there is one consistential route for visitors on the website, in reality our logs store information about many other routes. It is partially due to shortcuts, partially to flaws in documenting user journeys. \n",
    "\n",
    "[Back to Contents](#cont)"
   ]
  },
  {
   "cell_type": "markdown",
   "metadata": {},
   "source": [
    "## <a id='step5'>Step 5. Studying the Results of the Experiment</a>"
   ]
  },
  {
   "cell_type": "markdown",
   "metadata": {},
   "source": [
    "Finally, we are ready to assess the results of A/A/B testing and review the following questions:\n",
    "\n",
    "- How many users are there in each group?\n",
    "- Is there a statistically significant difference between samples 246 and 247 (based on one most popular event)? Can we confirm that the groups were split properly?\n",
    "- Is there statistically significant difference between control groups and the group with altered fonts? What conclusions can we draw from the experiment?\n",
    "- What significance level have we set to test the statistical hypotheses mentioned above? (...) What should the significance level be?"
   ]
  },
  {
   "cell_type": "markdown",
   "metadata": {},
   "source": [
    "### <a id='step5users'>How Many Users are There in Each Group?</a>"
   ]
  },
  {
   "cell_type": "code",
   "execution_count": 111,
   "metadata": {},
   "outputs": [
    {
     "data": {
      "text/plain": [
       "group\n",
       "246    2458\n",
       "247    2489\n",
       "248    2507\n",
       "Name: user_id, dtype: int64"
      ]
     },
     "execution_count": 111,
     "metadata": {},
     "output_type": "execute_result"
    }
   ],
   "source": [
    "data_final.groupby('group')['user_id'].nunique()"
   ]
  },
  {
   "cell_type": "markdown",
   "metadata": {},
   "source": [
    "The difference in the number of users between three groups is minimal. As we've [already checked](#step2users), each of them appears in one group only.\n",
    "\n",
    "[Back to Contents](#cont)"
   ]
  },
  {
   "cell_type": "markdown",
   "metadata": {},
   "source": [
    "### <a id='step5aa'>Is There a Statistically Significant Difference Between Samples 246 and 247 (groups A and A)?</a>"
   ]
  },
  {
   "cell_type": "markdown",
   "metadata": {},
   "source": [
    "In order to check if there is statistically significant difference between groups A and A (246 and 247), we are going to compare their conversion (ratio of payment screen appearance to the number of users in this group).\n",
    "\n",
    "**Null hypothesis:** conversion of sample 246 is similar to sample 247\n",
    "\n",
    "**Alternative hypothesis:** conversion of sample 246 differs from sample 247\n",
    "\n",
    "**Alpha:** 5% (we'll start with the most common level)."
   ]
  },
  {
   "cell_type": "code",
   "execution_count": 112,
   "metadata": {},
   "outputs": [
    {
     "data": {
      "text/html": [
       "<div>\n",
       "<style scoped>\n",
       "    .dataframe tbody tr th:only-of-type {\n",
       "        vertical-align: middle;\n",
       "    }\n",
       "\n",
       "    .dataframe tbody tr th {\n",
       "        vertical-align: top;\n",
       "    }\n",
       "\n",
       "    .dataframe thead th {\n",
       "        text-align: right;\n",
       "    }\n",
       "</style>\n",
       "<table border=\"1\" class=\"dataframe\">\n",
       "  <thead>\n",
       "    <tr style=\"text-align: right;\">\n",
       "      <th>group</th>\n",
       "      <th>event_name</th>\n",
       "      <th>246</th>\n",
       "      <th>247</th>\n",
       "      <th>248</th>\n",
       "    </tr>\n",
       "  </thead>\n",
       "  <tbody>\n",
       "    <tr>\n",
       "      <th>0</th>\n",
       "      <td>CartScreenAppear</td>\n",
       "      <td>1241</td>\n",
       "      <td>1215</td>\n",
       "      <td>1202</td>\n",
       "    </tr>\n",
       "    <tr>\n",
       "      <th>1</th>\n",
       "      <td>MainScreenAppear</td>\n",
       "      <td>2426</td>\n",
       "      <td>2453</td>\n",
       "      <td>2465</td>\n",
       "    </tr>\n",
       "    <tr>\n",
       "      <th>2</th>\n",
       "      <td>OffersScreenAppear</td>\n",
       "      <td>1517</td>\n",
       "      <td>1497</td>\n",
       "      <td>1503</td>\n",
       "    </tr>\n",
       "    <tr>\n",
       "      <th>3</th>\n",
       "      <td>PaymentScreenSuccessful</td>\n",
       "      <td>1175</td>\n",
       "      <td>1135</td>\n",
       "      <td>1154</td>\n",
       "    </tr>\n",
       "  </tbody>\n",
       "</table>\n",
       "</div>"
      ],
      "text/plain": [
       "group               event_name   246   247   248\n",
       "0             CartScreenAppear  1241  1215  1202\n",
       "1             MainScreenAppear  2426  2453  2465\n",
       "2           OffersScreenAppear  1517  1497  1503\n",
       "3      PaymentScreenSuccessful  1175  1135  1154"
      ]
     },
     "execution_count": 112,
     "metadata": {},
     "output_type": "execute_result"
    }
   ],
   "source": [
    "pivot = (data_final\n",
    "    .pivot_table(index='event_name', columns='group', values='user_id', aggfunc='nunique')\n",
    "    .reset_index())\n",
    "pivot"
   ]
  },
  {
   "cell_type": "code",
   "execution_count": 113,
   "metadata": {},
   "outputs": [],
   "source": [
    "# Function for checking our hypotheses with the test of proportions\n",
    "\n",
    "def check_hypothesis(group1, group2, event, alpha=0.05):\n",
    "    # calculating the number of successes for each group\n",
    "    successes1 = pivot[pivot.event_name == event][group1].iloc[0]\n",
    "    successes2 = pivot[pivot.event_name == event][group2].iloc[0]\n",
    "    \n",
    "    # the number of trials for each group\n",
    "    trials1 = data_final[data_final.group == group1]['user_id'].nunique()\n",
    "    trials2 = data_final[data_final.group == group2]['user_id'].nunique()\n",
    "    \n",
    "    # proportion of successes in both groups\n",
    "    p1 = successes1 / trials1\n",
    "    p2 = successes2 / trials2\n",
    "\n",
    "    # proportion in a combined dataset\n",
    "    p_combined = (successes1 + successes2) / (trials1 + trials2)\n",
    "\n",
    "    difference = p1 - p2\n",
    "    \n",
    "    z_value = difference / mth.sqrt(p_combined * (1 - p_combined) * (1/trials1 + 1/trials2))\n",
    "\n",
    "    distr = st.norm(0, 1) \n",
    "\n",
    "    p_value = (1 - distr.cdf(abs(z_value))) * 2\n",
    "    \n",
    "    print(\"Event: '{}'\".format(event))\n",
    "    print('p-value: ', p_value) \n",
    "\n",
    "    if (p_value < alpha):\n",
    "        print(\"Null hupothesis rejected for the event '{}' in groups {} and {}.\".format(event, group1, group2))\n",
    "    else:\n",
    "        print(\"Failed to reject the null hypothesis for the event '{}' in groups {} and {}.\".format(event, group1, group2))\n",
    "    print('')"
   ]
  },
  {
   "cell_type": "code",
   "execution_count": 114,
   "metadata": {},
   "outputs": [
    {
     "name": "stdout",
     "output_type": "stream",
     "text": [
      "Event: 'PaymentScreenSuccessful'\n",
      "p-value:  0.12055326296293334\n",
      "Failed to reject the null hypothesis for the event 'PaymentScreenSuccessful' in groups 246 and 247.\n",
      "\n"
     ]
    }
   ],
   "source": [
    "check_hypothesis(246, 247, 'PaymentScreenSuccessful', alpha=0.05)"
   ]
  },
  {
   "cell_type": "markdown",
   "metadata": {},
   "source": [
    "In this test of proportions, we've failed to reject the null hypothesis, meaning that there is no statistically significant difference in conversion rate in samples 246 and 247.\n",
    "\n",
    "This is good news for us: our control groups in A/A/B testing are similar to each other, the test is performing fine. We're going to use the same function in order to check all events for groups 246 and 247."
   ]
  },
  {
   "cell_type": "code",
   "execution_count": 117,
   "metadata": {},
   "outputs": [
    {
     "name": "stdout",
     "output_type": "stream",
     "text": [
      "Event: 'CartScreenAppear'\n",
      "p-value:  0.239194486237011\n",
      "Failed to reject the null hypothesis for the event 'CartScreenAppear' in groups 246 and 247.\n",
      "\n",
      "Event: 'MainScreenAppear'\n",
      "p-value:  0.6625354406346942\n",
      "Failed to reject the null hypothesis for the event 'MainScreenAppear' in groups 246 and 247.\n",
      "\n",
      "Event: 'OffersScreenAppear'\n",
      "p-value:  0.2571414151005711\n",
      "Failed to reject the null hypothesis for the event 'OffersScreenAppear' in groups 246 and 247.\n",
      "\n",
      "Event: 'PaymentScreenSuccessful'\n",
      "p-value:  0.12055326296293334\n",
      "Failed to reject the null hypothesis for the event 'PaymentScreenSuccessful' in groups 246 and 247.\n",
      "\n"
     ]
    }
   ],
   "source": [
    "for i in pivot.event_name.unique():\n",
    "    check_hypothesis(246, 247, i, alpha=0.05)"
   ]
  },
  {
   "cell_type": "markdown",
   "metadata": {},
   "source": [
    "Apparently, groups 246 and 247 don't have statistically significant difference in any of the events. We can conclude that they were split properly.\n",
    "\n",
    "[Back to Contents](#cont)"
   ]
  },
  {
   "cell_type": "markdown",
   "metadata": {},
   "source": [
    "### <a id='step5ab'>Is There Statistically Significant Difference Between Control Groups and the Group with Altered Fonts?</a>"
   ]
  },
  {
   "cell_type": "code",
   "execution_count": 118,
   "metadata": {},
   "outputs": [
    {
     "name": "stdout",
     "output_type": "stream",
     "text": [
      "Event: 'CartScreenAppear'\n",
      "p-value:  0.07319388421087125\n",
      "Failed to reject the null hypothesis for the event 'CartScreenAppear' in groups 246 and 248.\n",
      "\n",
      "Event: 'MainScreenAppear'\n",
      "p-value:  0.2775881124885262\n",
      "Failed to reject the null hypothesis for the event 'MainScreenAppear' in groups 246 and 248.\n",
      "\n",
      "Event: 'OffersScreenAppear'\n",
      "p-value:  0.20280054023210692\n",
      "Failed to reject the null hypothesis for the event 'OffersScreenAppear' in groups 246 and 248.\n",
      "\n",
      "Event: 'PaymentScreenSuccessful'\n",
      "p-value:  0.2109643652975286\n",
      "Failed to reject the null hypothesis for the event 'PaymentScreenSuccessful' in groups 246 and 248.\n",
      "\n"
     ]
    }
   ],
   "source": [
    "# Comparing groups 246 and 248 (A and B)\n",
    "\n",
    "for i in pivot.event_name.unique():\n",
    "    check_hypothesis(246, 248, i, alpha=0.05)"
   ]
  },
  {
   "cell_type": "code",
   "execution_count": 119,
   "metadata": {},
   "outputs": [
    {
     "name": "stdout",
     "output_type": "stream",
     "text": [
      "Event: 'CartScreenAppear'\n",
      "p-value:  0.5388370252288306\n",
      "Failed to reject the null hypothesis for the event 'CartScreenAppear' in groups 247 and 248.\n",
      "\n",
      "Event: 'MainScreenAppear'\n",
      "p-value:  0.5139719240861464\n",
      "Failed to reject the null hypothesis for the event 'MainScreenAppear' in groups 247 and 248.\n",
      "\n",
      "Event: 'OffersScreenAppear'\n",
      "p-value:  0.8895307425954271\n",
      "Failed to reject the null hypothesis for the event 'OffersScreenAppear' in groups 247 and 248.\n",
      "\n",
      "Event: 'PaymentScreenSuccessful'\n",
      "p-value:  0.7601109346336783\n",
      "Failed to reject the null hypothesis for the event 'PaymentScreenSuccessful' in groups 247 and 248.\n",
      "\n"
     ]
    }
   ],
   "source": [
    "# Comparing groups 247 and 248 (A and B)\n",
    "\n",
    "for i in pivot.event_name.unique():\n",
    "    check_hypothesis(247, 248, i, alpha=0.05)"
   ]
  },
  {
   "cell_type": "code",
   "execution_count": 120,
   "metadata": {},
   "outputs": [
    {
     "data": {
      "text/html": [
       "<div>\n",
       "<style scoped>\n",
       "    .dataframe tbody tr th:only-of-type {\n",
       "        vertical-align: middle;\n",
       "    }\n",
       "\n",
       "    .dataframe tbody tr th {\n",
       "        vertical-align: top;\n",
       "    }\n",
       "\n",
       "    .dataframe thead th {\n",
       "        text-align: right;\n",
       "    }\n",
       "</style>\n",
       "<table border=\"1\" class=\"dataframe\">\n",
       "  <thead>\n",
       "    <tr style=\"text-align: right;\">\n",
       "      <th>group</th>\n",
       "      <th>event_name</th>\n",
       "      <th>246</th>\n",
       "      <th>247</th>\n",
       "      <th>248</th>\n",
       "      <th>combined</th>\n",
       "    </tr>\n",
       "  </thead>\n",
       "  <tbody>\n",
       "    <tr>\n",
       "      <th>0</th>\n",
       "      <td>CartScreenAppear</td>\n",
       "      <td>1241</td>\n",
       "      <td>1215</td>\n",
       "      <td>1202</td>\n",
       "      <td>2456</td>\n",
       "    </tr>\n",
       "    <tr>\n",
       "      <th>1</th>\n",
       "      <td>MainScreenAppear</td>\n",
       "      <td>2426</td>\n",
       "      <td>2453</td>\n",
       "      <td>2465</td>\n",
       "      <td>4879</td>\n",
       "    </tr>\n",
       "    <tr>\n",
       "      <th>2</th>\n",
       "      <td>OffersScreenAppear</td>\n",
       "      <td>1517</td>\n",
       "      <td>1497</td>\n",
       "      <td>1503</td>\n",
       "      <td>3014</td>\n",
       "    </tr>\n",
       "    <tr>\n",
       "      <th>3</th>\n",
       "      <td>PaymentScreenSuccessful</td>\n",
       "      <td>1175</td>\n",
       "      <td>1135</td>\n",
       "      <td>1154</td>\n",
       "      <td>2310</td>\n",
       "    </tr>\n",
       "  </tbody>\n",
       "</table>\n",
       "</div>"
      ],
      "text/plain": [
       "group               event_name   246   247   248  combined\n",
       "0             CartScreenAppear  1241  1215  1202      2456\n",
       "1             MainScreenAppear  2426  2453  2465      4879\n",
       "2           OffersScreenAppear  1517  1497  1503      3014\n",
       "3      PaymentScreenSuccessful  1175  1135  1154      2310"
      ]
     },
     "execution_count": 120,
     "metadata": {},
     "output_type": "execute_result"
    }
   ],
   "source": [
    "# Calculating combined results for the control groups\n",
    "\n",
    "pivot['combined'] = pivot[246]+pivot[247]\n",
    "pivot.head()"
   ]
  },
  {
   "cell_type": "code",
   "execution_count": 121,
   "metadata": {},
   "outputs": [
    {
     "data": {
      "text/plain": [
       "4947"
      ]
     },
     "execution_count": 121,
     "metadata": {},
     "output_type": "execute_result"
    }
   ],
   "source": [
    "trials_combined = data_final[data_final.group == 246]['user_id'].nunique() + data_final[data_final.group == 247]['user_id'].nunique()\n",
    "trials_combined"
   ]
  },
  {
   "cell_type": "code",
   "execution_count": 122,
   "metadata": {},
   "outputs": [
    {
     "name": "stdout",
     "output_type": "stream",
     "text": [
      "Event: 'CartScreenAppear'\n",
      "p-value:  0.16528829092136843\n",
      "Failed to reject the null hypothesis for the event 'CartScreenAppear' in combined A+A groups and group B.\n",
      "\n",
      "Event: 'MainScreenAppear'\n",
      "p-value:  0.3089880163640899\n",
      "Failed to reject the null hypothesis for the event 'MainScreenAppear' in combined A+A groups and group B.\n",
      "\n",
      "Event: 'OffersScreenAppear'\n",
      "p-value:  0.416334695484635\n",
      "Failed to reject the null hypothesis for the event 'OffersScreenAppear' in combined A+A groups and group B.\n",
      "\n",
      "Event: 'PaymentScreenSuccessful'\n",
      "p-value:  0.5871814354419509\n",
      "Failed to reject the null hypothesis for the event 'PaymentScreenSuccessful' in combined A+A groups and group B.\n",
      "\n"
     ]
    }
   ],
   "source": [
    "def check_combined(event, alpha=0.05):\n",
    "    # calculating the number of successes for each group\n",
    "    successes1 = pivot[pivot.event_name == event]['combined'].iloc[0]\n",
    "    successes2 = pivot[pivot.event_name == event][248].iloc[0]\n",
    "\n",
    "    # the number of trials for each group\n",
    "    trials1 = trials_combined\n",
    "    trials2 = data_final[data_final.group == 248]['user_id'].nunique()\n",
    "\n",
    "    # proportion of successes in both groups\n",
    "    p1 = successes1 / trials1\n",
    "    p2 = successes2 / trials2\n",
    "\n",
    "    # proportion in a combined dataset\n",
    "    p_combined = (successes1 + successes2) / (trials1 + trials2)\n",
    "\n",
    "    difference = p1 - p2\n",
    "\n",
    "    z_value = difference / mth.sqrt(p_combined * (1 - p_combined) * (1/trials1 + 1/trials2))\n",
    "\n",
    "    distr = st.norm(0, 1) \n",
    "\n",
    "    p_value = (1 - distr.cdf(abs(z_value))) * 2\n",
    "    \n",
    "    print(\"Event: '{}'\".format(event))\n",
    "    print('p-value: ', p_value) \n",
    "\n",
    "    if (p_value < alpha):\n",
    "        print(\"Null hupothesis rejected for the event '{}' in combined A+A groups and group B.\".format(event))\n",
    "    else:\n",
    "        print(\"Failed to reject the null hypothesis for the event '{}' in combined A+A groups and group B.\".format(event))\n",
    "    print('')\n",
    "    \n",
    "# Comparing combined results and group 248 (A+A and B)\n",
    "for i in pivot.event_name.unique():\n",
    "    check_combined(i, alpha=0.05)"
   ]
  },
  {
   "cell_type": "markdown",
   "metadata": {},
   "source": [
    "We've compared the results of combined A + A group (246 + 247) to the B group (248) and found out that, despite being twice smaller in size, group B also hasn't reached statistically significant difference from the combined group A+A.\n",
    "\n",
    "[Back to Contents](#cont)"
   ]
  },
  {
   "cell_type": "markdown",
   "metadata": {},
   "source": [
    "### <a id='step5alpha'>What Should the Significance Level Be?</a>"
   ]
  },
  {
   "cell_type": "markdown",
   "metadata": {},
   "source": [
    "Throughout all the tests we've set the **statistical significance level (alpha) to 5%**, as it is a commonly used value and we didn't have any specific reason to change it.\n",
    "\n",
    "However, this level remains valid only for a single experiment. In order to decrease the probability of concluding that the effect was real by mistake (type I error), when we run multiple experiments, in theory we should adjust alpha with the **Bonferroni correction** and divide alpha by the number of experiments (m)."
   ]
  },
  {
   "cell_type": "code",
   "execution_count": 123,
   "metadata": {},
   "outputs": [
    {
     "name": "stdout",
     "output_type": "stream",
     "text": [
      "Alpha (after the Bonferroni correction): 0.003125\n"
     ]
    }
   ],
   "source": [
    "alpha_corrected = 0.05 / 16\n",
    "print('Alpha (after the Bonferroni correction): {}'.format(alpha_corrected))"
   ]
  },
  {
   "cell_type": "markdown",
   "metadata": {},
   "source": [
    "Now let's rerun our tests with the adjusted statistical significance level and see if enything has changed."
   ]
  },
  {
   "cell_type": "code",
   "execution_count": 124,
   "metadata": {},
   "outputs": [
    {
     "name": "stdout",
     "output_type": "stream",
     "text": [
      "Event: 'CartScreenAppear'\n",
      "p-value:  0.239194486237011\n",
      "Failed to reject the null hypothesis for the event 'CartScreenAppear' in groups 246 and 247.\n",
      "\n",
      "Event: 'MainScreenAppear'\n",
      "p-value:  0.6625354406346942\n",
      "Failed to reject the null hypothesis for the event 'MainScreenAppear' in groups 246 and 247.\n",
      "\n",
      "Event: 'OffersScreenAppear'\n",
      "p-value:  0.2571414151005711\n",
      "Failed to reject the null hypothesis for the event 'OffersScreenAppear' in groups 246 and 247.\n",
      "\n",
      "Event: 'PaymentScreenSuccessful'\n",
      "p-value:  0.12055326296293334\n",
      "Failed to reject the null hypothesis for the event 'PaymentScreenSuccessful' in groups 246 and 247.\n",
      "\n"
     ]
    }
   ],
   "source": [
    "# Comparing A and A groups (246 and 247)\n",
    "\n",
    "for i in pivot.event_name.unique():\n",
    "    check_hypothesis(246, 247, i, alpha=alpha_corrected)"
   ]
  },
  {
   "cell_type": "code",
   "execution_count": 125,
   "metadata": {},
   "outputs": [
    {
     "name": "stdout",
     "output_type": "stream",
     "text": [
      "Event: 'CartScreenAppear'\n",
      "p-value:  0.07319388421087125\n",
      "Failed to reject the null hypothesis for the event 'CartScreenAppear' in groups 246 and 248.\n",
      "\n",
      "Event: 'MainScreenAppear'\n",
      "p-value:  0.2775881124885262\n",
      "Failed to reject the null hypothesis for the event 'MainScreenAppear' in groups 246 and 248.\n",
      "\n",
      "Event: 'OffersScreenAppear'\n",
      "p-value:  0.20280054023210692\n",
      "Failed to reject the null hypothesis for the event 'OffersScreenAppear' in groups 246 and 248.\n",
      "\n",
      "Event: 'PaymentScreenSuccessful'\n",
      "p-value:  0.2109643652975286\n",
      "Failed to reject the null hypothesis for the event 'PaymentScreenSuccessful' in groups 246 and 248.\n",
      "\n"
     ]
    }
   ],
   "source": [
    "# Comparing groups 246 and 248 (A and B)\n",
    "\n",
    "for i in pivot.event_name.unique():\n",
    "    check_hypothesis(246, 248, i, alpha=alpha_corrected)"
   ]
  },
  {
   "cell_type": "code",
   "execution_count": 126,
   "metadata": {},
   "outputs": [
    {
     "name": "stdout",
     "output_type": "stream",
     "text": [
      "Event: 'CartScreenAppear'\n",
      "p-value:  0.5388370252288306\n",
      "Failed to reject the null hypothesis for the event 'CartScreenAppear' in groups 247 and 248.\n",
      "\n",
      "Event: 'MainScreenAppear'\n",
      "p-value:  0.5139719240861464\n",
      "Failed to reject the null hypothesis for the event 'MainScreenAppear' in groups 247 and 248.\n",
      "\n",
      "Event: 'OffersScreenAppear'\n",
      "p-value:  0.8895307425954271\n",
      "Failed to reject the null hypothesis for the event 'OffersScreenAppear' in groups 247 and 248.\n",
      "\n",
      "Event: 'PaymentScreenSuccessful'\n",
      "p-value:  0.7601109346336783\n",
      "Failed to reject the null hypothesis for the event 'PaymentScreenSuccessful' in groups 247 and 248.\n",
      "\n"
     ]
    }
   ],
   "source": [
    "# Comparing groups 247 and 248 (A and B)\n",
    "\n",
    "for i in pivot.event_name.unique():\n",
    "    check_hypothesis(247, 248, i, alpha=alpha_corrected)"
   ]
  },
  {
   "cell_type": "code",
   "execution_count": 127,
   "metadata": {},
   "outputs": [
    {
     "name": "stdout",
     "output_type": "stream",
     "text": [
      "Event: 'CartScreenAppear'\n",
      "p-value:  0.16528829092136843\n",
      "Failed to reject the null hypothesis for the event 'CartScreenAppear' in combined A+A groups and group B.\n",
      "\n",
      "Event: 'MainScreenAppear'\n",
      "p-value:  0.3089880163640899\n",
      "Failed to reject the null hypothesis for the event 'MainScreenAppear' in combined A+A groups and group B.\n",
      "\n",
      "Event: 'OffersScreenAppear'\n",
      "p-value:  0.416334695484635\n",
      "Failed to reject the null hypothesis for the event 'OffersScreenAppear' in combined A+A groups and group B.\n",
      "\n",
      "Event: 'PaymentScreenSuccessful'\n",
      "p-value:  0.5871814354419509\n",
      "Failed to reject the null hypothesis for the event 'PaymentScreenSuccessful' in combined A+A groups and group B.\n",
      "\n"
     ]
    }
   ],
   "source": [
    "# Comparing combined results and group 248 (A+A and B)\n",
    "\n",
    "for i in pivot.event_name.unique():\n",
    "    check_combined(i, alpha=alpha_corrected)"
   ]
  },
  {
   "cell_type": "markdown",
   "metadata": {},
   "source": [
    "So, despite running all the tests again with a different statistical significance level, we've gotten the same result.\n",
    "\n",
    "Honestly, this doesn't seem surprising: we haven't reached statistically significant difference in any of our groups, meaning that there was literally no room for type I error.\n",
    "\n",
    "[Back to Contents](#cont)"
   ]
  },
  {
   "cell_type": "markdown",
   "metadata": {},
   "source": [
    "### <a id='step5concl'>Conclusions to Step 5</a>\n",
    "\n",
    "We've studied the results of our A/A/B testing and confirmed that the splitting went well. However, we learned that we haven't reached statistically significant difference between samples A and B.\n",
    "\n",
    "[Back to Contents](#cont)"
   ]
  },
  {
   "cell_type": "markdown",
   "metadata": {},
   "source": [
    "## <a id='genconcl'>General Conclusions</a>\n",
    "\n",
    "Overall, we've learned that our dataset contains information on 7,462 users of the online food store. They are split into three almost equal test groups:"
   ]
  },
  {
   "cell_type": "code",
   "execution_count": 128,
   "metadata": {},
   "outputs": [
    {
     "data": {
      "image/svg+xml": [
       "<svg class=\"main-svg\" xmlns=\"http://www.w3.org/2000/svg\" xmlns:xlink=\"http://www.w3.org/1999/xlink\" width=\"700\" height=\"450\" style=\"\" viewBox=\"0 0 700 450\"><rect x=\"0\" y=\"0\" width=\"700\" height=\"450\" style=\"fill: rgb(255, 255, 255); fill-opacity: 1;\"/><defs id=\"defs-64b2ed\"><g class=\"clips\"><clipPath id=\"clip64b2edxyplot\" class=\"plotclip\"><rect width=\"540\" height=\"270\"/></clipPath><clipPath class=\"axesclip\" id=\"clip64b2edx\"><rect x=\"80\" y=\"0\" width=\"540\" height=\"450\"/></clipPath><clipPath class=\"axesclip\" id=\"clip64b2edy\"><rect x=\"0\" y=\"100\" width=\"700\" height=\"270\"/></clipPath><clipPath class=\"axesclip\" id=\"clip64b2edxy\"><rect x=\"80\" y=\"100\" width=\"540\" height=\"270\"/></clipPath></g><g class=\"gradients\"/></defs><g class=\"bglayer\"><rect class=\"bg\" x=\"80\" y=\"100\" width=\"540\" height=\"270\" style=\"fill: rgb(229, 236, 246); fill-opacity: 1; stroke-width: 0;\"/></g><g class=\"layer-below\"><g class=\"imagelayer\"/><g class=\"shapelayer\"/></g><g class=\"cartesianlayer\"><g class=\"subplot xy\"><g class=\"layer-subplot\"><g class=\"shapelayer\"/><g class=\"imagelayer\"/></g><g class=\"gridlayer\"><g class=\"x\"/><g class=\"y\"><path class=\"ygrid crisp\" transform=\"translate(0,318.88)\" d=\"M80,0h540\" style=\"stroke: rgb(255, 255, 255); stroke-opacity: 1; stroke-width: 1px;\"/><path class=\"ygrid crisp\" transform=\"translate(0,267.77)\" d=\"M80,0h540\" style=\"stroke: rgb(255, 255, 255); stroke-opacity: 1; stroke-width: 1px;\"/><path class=\"ygrid crisp\" transform=\"translate(0,216.65)\" d=\"M80,0h540\" style=\"stroke: rgb(255, 255, 255); stroke-opacity: 1; stroke-width: 1px;\"/><path class=\"ygrid crisp\" transform=\"translate(0,165.54000000000002)\" d=\"M80,0h540\" style=\"stroke: rgb(255, 255, 255); stroke-opacity: 1; stroke-width: 1px;\"/><path class=\"ygrid crisp\" transform=\"translate(0,114.42)\" d=\"M80,0h540\" style=\"stroke: rgb(255, 255, 255); stroke-opacity: 1; stroke-width: 1px;\"/></g></g><g class=\"zerolinelayer\"><path class=\"yzl zl crisp\" transform=\"translate(0,370)\" d=\"M80,0h540\" style=\"stroke: rgb(255, 255, 255); stroke-opacity: 1; stroke-width: 2px;\"/></g><path class=\"xlines-below\"/><path class=\"ylines-below\"/><g class=\"overlines-below\"/><g class=\"xaxislayer-below\"/><g class=\"yaxislayer-below\"/><g class=\"overaxes-below\"/><g class=\"plot\" transform=\"translate(80,100)\" clip-path=\"url('#clip64b2edxyplot')\"><g class=\"barlayer mlayer\"><g class=\"trace bars\" style=\"opacity: 0.7;\"><g class=\"points\"><g class=\"point\"><path d=\"M18,270V18.61H162V270Z\" style=\"vector-effect: non-scaling-stroke; opacity: 1; stroke-width: 1.5px; fill: rgb(88, 80, 141); fill-opacity: 1; stroke: rgb(0, 47, 69); stroke-opacity: 1;\"/></g><g class=\"point\"><path d=\"M198,270V15.44H342V270Z\" style=\"vector-effect: non-scaling-stroke; opacity: 1; stroke-width: 1.5px; fill: rgb(188, 80, 144); fill-opacity: 1; stroke: rgb(0, 47, 69); stroke-opacity: 1;\"/></g><g class=\"point\"><path d=\"M378,270V13.5H522V270Z\" style=\"vector-effect: non-scaling-stroke; opacity: 1; stroke-width: 1.5px; fill: rgb(255, 99, 97); fill-opacity: 1; stroke: rgb(0, 47, 69); stroke-opacity: 1;\"/></g></g></g></g></g><g class=\"overplot\"/><path class=\"xlines-above crisp\" d=\"M0,0\" style=\"fill: none;\"/><path class=\"ylines-above crisp\" d=\"M0,0\" style=\"fill: none;\"/><g class=\"overlines-above\"/><g class=\"xaxislayer-above\"><g class=\"xtick\"><text text-anchor=\"middle\" x=\"0\" y=\"383\" transform=\"translate(170,0)\" style=\"font-family: 'Open Sans', verdana, arial, sans-serif; font-size: 12px; fill: rgb(42, 63, 95); fill-opacity: 1; white-space: pre;\">246</text></g><g class=\"xtick\"><text text-anchor=\"middle\" x=\"0\" y=\"383\" transform=\"translate(350,0)\" style=\"font-family: 'Open Sans', verdana, arial, sans-serif; font-size: 12px; fill: rgb(42, 63, 95); fill-opacity: 1; white-space: pre;\">247</text></g><g class=\"xtick\"><text text-anchor=\"middle\" x=\"0\" y=\"383\" transform=\"translate(530,0)\" style=\"font-family: 'Open Sans', verdana, arial, sans-serif; font-size: 12px; fill: rgb(42, 63, 95); fill-opacity: 1; white-space: pre;\">248</text></g></g><g class=\"yaxislayer-above\"><g class=\"ytick\"><text text-anchor=\"end\" x=\"79\" y=\"4.199999999999999\" transform=\"translate(0,370)\" style=\"font-family: 'Open Sans', verdana, arial, sans-serif; font-size: 12px; fill: rgb(42, 63, 95); fill-opacity: 1; white-space: pre;\">0</text></g><g class=\"ytick\"><text text-anchor=\"end\" x=\"79\" y=\"4.199999999999999\" transform=\"translate(0,318.88)\" style=\"font-family: 'Open Sans', verdana, arial, sans-serif; font-size: 12px; fill: rgb(42, 63, 95); fill-opacity: 1; white-space: pre;\">500</text></g><g class=\"ytick\"><text text-anchor=\"end\" x=\"79\" y=\"4.199999999999999\" transform=\"translate(0,267.77)\" style=\"font-family: 'Open Sans', verdana, arial, sans-serif; font-size: 12px; fill: rgb(42, 63, 95); fill-opacity: 1; white-space: pre;\">1000</text></g><g class=\"ytick\"><text text-anchor=\"end\" x=\"79\" y=\"4.199999999999999\" transform=\"translate(0,216.65)\" style=\"font-family: 'Open Sans', verdana, arial, sans-serif; font-size: 12px; fill: rgb(42, 63, 95); fill-opacity: 1; white-space: pre;\">1500</text></g><g class=\"ytick\"><text text-anchor=\"end\" x=\"79\" y=\"4.199999999999999\" transform=\"translate(0,165.54000000000002)\" style=\"font-family: 'Open Sans', verdana, arial, sans-serif; font-size: 12px; fill: rgb(42, 63, 95); fill-opacity: 1; white-space: pre;\">2000</text></g><g class=\"ytick\"><text text-anchor=\"end\" x=\"79\" y=\"4.199999999999999\" transform=\"translate(0,114.42)\" style=\"font-family: 'Open Sans', verdana, arial, sans-serif; font-size: 12px; fill: rgb(42, 63, 95); fill-opacity: 1; white-space: pre;\">2500</text></g></g><g class=\"overaxes-above\"/></g></g><g class=\"polarlayer\"/><g class=\"ternarylayer\"/><g class=\"geolayer\"/><g class=\"funnelarealayer\"/><g class=\"pielayer\"/><g class=\"treemaplayer\"/><g class=\"sunburstlayer\"/><g class=\"glimages\"/><defs id=\"topdefs-64b2ed\"><g class=\"clips\"/></defs><g class=\"layer-above\"><g class=\"imagelayer\"/><g class=\"shapelayer\"/></g><g class=\"infolayer\"><g class=\"g-gtitle\"><text class=\"gtitle\" x=\"35\" y=\"50\" text-anchor=\"start\" dy=\"0em\" style=\"font-family: 'Open Sans', verdana, arial, sans-serif; font-size: 17px; fill: rgb(42, 63, 95); opacity: 1; font-weight: normal; white-space: pre;\">Number of Users in Three Experimental Groups</text></g><g class=\"g-xtitle\"><text class=\"xtitle\" x=\"350\" y=\"410.3\" text-anchor=\"middle\" style=\"font-family: 'Open Sans', verdana, arial, sans-serif; font-size: 14px; fill: rgb(42, 63, 95); opacity: 1; font-weight: normal; white-space: pre;\">Group</text></g><g class=\"g-ytitle\"><text class=\"ytitle\" transform=\"rotate(-90,23.684375000000003,235)\" x=\"23.684375000000003\" y=\"235\" text-anchor=\"middle\" style=\"font-family: 'Open Sans', verdana, arial, sans-serif; font-size: 14px; fill: rgb(42, 63, 95); opacity: 1; font-weight: normal; white-space: pre;\">Number of Users</text></g></g></svg>"
      ]
     },
     "metadata": {},
     "output_type": "display_data"
    }
   ],
   "source": [
    "three_groups_graph.show('svg')"
   ]
  },
  {
   "cell_type": "markdown",
   "metadata": {},
   "source": [
    "Samples 246 and 247 are both control groups, whereas sample 248 is a test group, which was shown the website with altered fonts.\n",
    "\n",
    "Our logs contain information on five possible types of events, our of which main screen appearance is the most frequent (viewed by 98.5% of all users) and tutorial is the least popular (viewed by 11% users)."
   ]
  },
  {
   "cell_type": "code",
   "execution_count": 129,
   "metadata": {},
   "outputs": [
    {
     "data": {
      "image/svg+xml": [
       "<svg class=\"main-svg\" xmlns=\"http://www.w3.org/2000/svg\" xmlns:xlink=\"http://www.w3.org/1999/xlink\" width=\"700\" height=\"450\" style=\"\" viewBox=\"0 0 700 450\"><rect x=\"0\" y=\"0\" width=\"700\" height=\"450\" style=\"fill: rgb(255, 255, 255); fill-opacity: 1;\"/><defs id=\"defs-f4d2ce\"><g class=\"clips\"><clipPath id=\"clipf4d2cexyplot\" class=\"plotclip\"><rect width=\"540\" height=\"220\"/></clipPath><clipPath class=\"axesclip\" id=\"clipf4d2cex\"><rect x=\"80\" y=\"0\" width=\"540\" height=\"450\"/></clipPath><clipPath class=\"axesclip\" id=\"clipf4d2cey\"><rect x=\"0\" y=\"100\" width=\"700\" height=\"220\"/></clipPath><clipPath class=\"axesclip\" id=\"clipf4d2cexy\"><rect x=\"80\" y=\"100\" width=\"540\" height=\"220\"/></clipPath></g><g class=\"gradients\"/></defs><g class=\"bglayer\"><rect class=\"bg\" x=\"80\" y=\"100\" width=\"540\" height=\"220\" style=\"fill: rgb(229, 236, 246); fill-opacity: 1; stroke-width: 0;\"/></g><g class=\"layer-below\"><g class=\"imagelayer\"/><g class=\"shapelayer\"/></g><g class=\"cartesianlayer\"><g class=\"subplot xy\"><g class=\"layer-subplot\"><g class=\"shapelayer\"/><g class=\"imagelayer\"/></g><g class=\"gridlayer\"><g class=\"x\"/><g class=\"y\"><path class=\"ygrid crisp\" transform=\"translate(0,277.55)\" d=\"M80,0h540\" style=\"stroke: rgb(255, 255, 255); stroke-opacity: 1; stroke-width: 1px;\"/><path class=\"ygrid crisp\" transform=\"translate(0,235.1)\" d=\"M80,0h540\" style=\"stroke: rgb(255, 255, 255); stroke-opacity: 1; stroke-width: 1px;\"/><path class=\"ygrid crisp\" transform=\"translate(0,192.65)\" d=\"M80,0h540\" style=\"stroke: rgb(255, 255, 255); stroke-opacity: 1; stroke-width: 1px;\"/><path class=\"ygrid crisp\" transform=\"translate(0,150.2)\" d=\"M80,0h540\" style=\"stroke: rgb(255, 255, 255); stroke-opacity: 1; stroke-width: 1px;\"/><path class=\"ygrid crisp\" transform=\"translate(0,107.76)\" d=\"M80,0h540\" style=\"stroke: rgb(255, 255, 255); stroke-opacity: 1; stroke-width: 1px;\"/></g></g><g class=\"zerolinelayer\"><path class=\"yzl zl crisp\" transform=\"translate(0,320)\" d=\"M80,0h540\" style=\"stroke: rgb(255, 255, 255); stroke-opacity: 1; stroke-width: 2px;\"/></g><path class=\"xlines-below\"/><path class=\"ylines-below\"/><g class=\"overlines-below\"/><g class=\"xaxislayer-below\"/><g class=\"yaxislayer-below\"/><g class=\"overaxes-below\"/><g class=\"plot\" transform=\"translate(80,100)\" clip-path=\"url('#clipf4d2cexyplot')\"><g class=\"barlayer mlayer\"><g class=\"trace bars\" style=\"opacity: 0.7;\"><g class=\"points\"><g class=\"point\"><path d=\"M10.8,220V11H97.2V220Z\" style=\"vector-effect: non-scaling-stroke; opacity: 1; stroke-width: 1.5px; fill: rgb(0, 63, 92); fill-opacity: 1; stroke: rgb(0, 47, 69); stroke-opacity: 1;\"/></g><g class=\"point\"><path d=\"M118.8,220V91.45H205.2V220Z\" style=\"vector-effect: non-scaling-stroke; opacity: 1; stroke-width: 1.5px; fill: rgb(88, 80, 141); fill-opacity: 1; stroke: rgb(0, 47, 69); stroke-opacity: 1;\"/></g><g class=\"point\"><path d=\"M226.8,220V115.9H313.2V220Z\" style=\"vector-effect: non-scaling-stroke; opacity: 1; stroke-width: 1.5px; fill: rgb(188, 80, 144); fill-opacity: 1; stroke: rgb(0, 47, 69); stroke-opacity: 1;\"/></g><g class=\"point\"><path d=\"M334.8,220V121.42H421.2V220Z\" style=\"vector-effect: non-scaling-stroke; opacity: 1; stroke-width: 1.5px; fill: rgb(255, 99, 97); fill-opacity: 1; stroke: rgb(0, 47, 69); stroke-opacity: 1;\"/></g><g class=\"point\"><path d=\"M442.8,220V196.55H529.2V220Z\" style=\"vector-effect: non-scaling-stroke; opacity: 1; stroke-width: 1.5px; fill: rgb(255, 166, 0); fill-opacity: 1; stroke: rgb(0, 47, 69); stroke-opacity: 1;\"/></g></g></g></g></g><g class=\"overplot\"/><path class=\"xlines-above crisp\" d=\"M0,0\" style=\"fill: none;\"/><path class=\"ylines-above crisp\" d=\"M0,0\" style=\"fill: none;\"/><g class=\"overlines-above\"/><g class=\"xaxislayer-above\"><g class=\"xtick\"><text text-anchor=\"start\" x=\"0\" y=\"333\" transform=\"translate(134,0) rotate(30,0,327)\" style=\"font-family: 'Open Sans', verdana, arial, sans-serif; font-size: 12px; fill: rgb(42, 63, 95); fill-opacity: 1; white-space: pre;\">MainScreenAppear</text></g><g class=\"xtick\"><text text-anchor=\"start\" x=\"0\" y=\"333\" transform=\"translate(242,0) rotate(30,0,327)\" style=\"font-family: 'Open Sans', verdana, arial, sans-serif; font-size: 12px; fill: rgb(42, 63, 95); fill-opacity: 1; white-space: pre;\">OffersScreenAppear</text></g><g class=\"xtick\"><text text-anchor=\"start\" x=\"0\" y=\"333\" transform=\"translate(350,0) rotate(30,0,327)\" style=\"font-family: 'Open Sans', verdana, arial, sans-serif; font-size: 12px; fill: rgb(42, 63, 95); fill-opacity: 1; white-space: pre;\">CartScreenAppear</text></g><g class=\"xtick\"><text text-anchor=\"start\" x=\"0\" y=\"333\" transform=\"translate(458,0) rotate(30,0,327)\" style=\"font-family: 'Open Sans', verdana, arial, sans-serif; font-size: 12px; fill: rgb(42, 63, 95); fill-opacity: 1; white-space: pre;\">PaymentScreenSuccessful</text></g><g class=\"xtick\"><text text-anchor=\"start\" x=\"0\" y=\"333\" transform=\"translate(566,0) rotate(30,0,327)\" style=\"font-family: 'Open Sans', verdana, arial, sans-serif; font-size: 12px; fill: rgb(42, 63, 95); fill-opacity: 1; white-space: pre;\">Tutorial</text></g></g><g class=\"yaxislayer-above\"><g class=\"ytick\"><text text-anchor=\"end\" x=\"79\" y=\"4.199999999999999\" transform=\"translate(0,320)\" style=\"font-family: 'Open Sans', verdana, arial, sans-serif; font-size: 12px; fill: rgb(42, 63, 95); fill-opacity: 1; white-space: pre;\">0%</text></g><g class=\"ytick\"><text text-anchor=\"end\" x=\"79\" y=\"4.199999999999999\" transform=\"translate(0,277.55)\" style=\"font-family: 'Open Sans', verdana, arial, sans-serif; font-size: 12px; fill: rgb(42, 63, 95); fill-opacity: 1; white-space: pre;\">20%</text></g><g class=\"ytick\"><text text-anchor=\"end\" x=\"79\" y=\"4.199999999999999\" transform=\"translate(0,235.1)\" style=\"font-family: 'Open Sans', verdana, arial, sans-serif; font-size: 12px; fill: rgb(42, 63, 95); fill-opacity: 1; white-space: pre;\">40%</text></g><g class=\"ytick\"><text text-anchor=\"end\" x=\"79\" y=\"4.199999999999999\" transform=\"translate(0,192.65)\" style=\"font-family: 'Open Sans', verdana, arial, sans-serif; font-size: 12px; fill: rgb(42, 63, 95); fill-opacity: 1; white-space: pre;\">60%</text></g><g class=\"ytick\"><text text-anchor=\"end\" x=\"79\" y=\"4.199999999999999\" transform=\"translate(0,150.2)\" style=\"font-family: 'Open Sans', verdana, arial, sans-serif; font-size: 12px; fill: rgb(42, 63, 95); fill-opacity: 1; white-space: pre;\">80%</text></g><g class=\"ytick\"><text text-anchor=\"end\" x=\"79\" y=\"4.199999999999999\" transform=\"translate(0,107.76)\" style=\"font-family: 'Open Sans', verdana, arial, sans-serif; font-size: 12px; fill: rgb(42, 63, 95); fill-opacity: 1; white-space: pre;\">100%</text></g></g><g class=\"overaxes-above\"/></g></g><g class=\"polarlayer\"/><g class=\"ternarylayer\"/><g class=\"geolayer\"/><g class=\"funnelarealayer\"/><g class=\"pielayer\"/><g class=\"treemaplayer\"/><g class=\"sunburstlayer\"/><g class=\"glimages\"/><defs id=\"topdefs-f4d2ce\"><g class=\"clips\"/></defs><g class=\"layer-above\"><g class=\"imagelayer\"/><g class=\"shapelayer\"/></g><g class=\"infolayer\"><g class=\"g-gtitle\"><text class=\"gtitle\" x=\"35\" y=\"50\" text-anchor=\"start\" dy=\"0em\" style=\"font-family: 'Open Sans', verdana, arial, sans-serif; font-size: 17px; fill: rgb(42, 63, 95); opacity: 1; font-weight: normal; white-space: pre;\">Proportion of Users Who Performed an Action</text></g><g class=\"g-xtitle\"><text class=\"xtitle\" x=\"350\" y=\"437.770703125\" text-anchor=\"middle\" style=\"font-family: 'Open Sans', verdana, arial, sans-serif; font-size: 14px; fill: rgb(42, 63, 95); opacity: 1; font-weight: normal; white-space: pre;\">Name of action</text></g><g class=\"g-ytitle\"><text class=\"ytitle\" transform=\"rotate(-90,18.387500000000003,210)\" x=\"18.387500000000003\" y=\"210\" text-anchor=\"middle\" style=\"font-family: 'Open Sans', verdana, arial, sans-serif; font-size: 14px; fill: rgb(42, 63, 95); opacity: 1; font-weight: normal; white-space: pre;\">Users who performed the action at least once</text></g></g></svg>"
      ]
     },
     "metadata": {},
     "output_type": "display_data"
    }
   ],
   "source": [
    "proportion_of_users_graph.show('svg')"
   ]
  },
  {
   "cell_type": "markdown",
   "metadata": {},
   "source": [
    "### After studying the logs and results of A/A/B testing, we've reached several conclusions.\n",
    "\n",
    "1. Unfortunately, the testing **hasn't reached statistical significance yet**. Probably, it's just a matter of time: we've learned that the test has been running only for a week (1-8 August).\n",
    "\n",
    "2. We've created and studied the event funnel. Turns out, the biggest part of visitors is lost during one step: moving from the main screen to the offers screen: only 61-63% of those who've seen the main screen proceeded to the offers screen.\n",
    "\n",
    "However, **the deeper our users get involved in the process, the more likely they are to finish the purchase**. For example, out of all the users who've seen the offets screen, 80-82% proceeded to the cart, and out of them, 93-96% completed the payment.\n",
    "\n",
    "We can also add, that in terms of conversion the situation looks good: in all three groups the ratio of purchases per main screen visits has reached 46.2-48.4%, which is a pretty favorable result.\n",
    "\n",
    "So our main recommendation is to **continue the test and assess its results later**, after the statistical significance is reached."
   ]
  },
  {
   "cell_type": "code",
   "execution_count": 130,
   "metadata": {},
   "outputs": [
    {
     "data": {
      "image/svg+xml": [
       "<svg class=\"main-svg\" xmlns=\"http://www.w3.org/2000/svg\" xmlns:xlink=\"http://www.w3.org/1999/xlink\" width=\"700\" height=\"450\" style=\"\" viewBox=\"0 0 700 450\"><rect x=\"0\" y=\"0\" width=\"700\" height=\"450\" style=\"fill: rgb(255, 255, 255); fill-opacity: 1;\"/><defs id=\"defs-998478\"><g class=\"clips\"><clipPath id=\"clip998478xyplot\" class=\"plotclip\"><rect width=\"417\" height=\"270\"/></clipPath><clipPath class=\"axesclip\" id=\"clip998478x\"><rect x=\"195\" y=\"0\" width=\"417\" height=\"450\"/></clipPath><clipPath class=\"axesclip\" id=\"clip998478y\"><rect x=\"0\" y=\"100\" width=\"700\" height=\"270\"/></clipPath><clipPath class=\"axesclip\" id=\"clip998478xy\"><rect x=\"195\" y=\"100\" width=\"417\" height=\"270\"/></clipPath></g><g class=\"gradients\"/></defs><g class=\"bglayer\"><rect class=\"bg\" x=\"195\" y=\"100\" width=\"417\" height=\"270\" style=\"fill: rgb(229, 236, 246); fill-opacity: 1; stroke-width: 0;\"/></g><g class=\"layer-below\"><g class=\"imagelayer\"/><g class=\"shapelayer\"/></g><g class=\"cartesianlayer\"><g class=\"subplot xy\"><g class=\"layer-subplot\"><g class=\"shapelayer\"/><g class=\"imagelayer\"/></g><g class=\"gridlayer\"><g class=\"x\"/><g class=\"y\"/></g><g class=\"zerolinelayer\"/><path class=\"xlines-below\"/><path class=\"ylines-below\"/><g class=\"overlines-below\"/><g class=\"xaxislayer-below\"/><g class=\"yaxislayer-below\"/><g class=\"overaxes-below\"/><g class=\"plot\" transform=\"translate(195,100)\" clip-path=\"url('#clip998478xyplot')\"><g class=\"funnellayer mlayer\"><g class=\"trace bars\" style=\"opacity: 0.7;\"><g class=\"regions\"><g class=\"region\"><path d=\"M20.85,60.75L93.08,74.25H170.61L144.83,60.75Z\" style=\"stroke-width: 0; fill: rgb(88, 80, 141); fill-opacity: 0.5;\"/></g><g class=\"region\"><path d=\"M93.08,128.25L115.03,141.75H178.45L170.61,128.25Z\" style=\"stroke-width: 0; fill: rgb(88, 80, 141); fill-opacity: 0.5;\"/></g><g class=\"region\"><path d=\"M115.03,195.75L119.99,209.25H180.04L178.45,195.75Z\" style=\"stroke-width: 0; fill: rgb(88, 80, 141); fill-opacity: 0.5;\"/></g><g class=\"region\"><path d=\"M0,0Z\" style=\"stroke-width: 0; fill: rgb(88, 80, 141); fill-opacity: 0.5;\"/></g></g><g class=\"points\"><g class=\"point\"><path d=\"M20.85,6.75V60.75H144.83V6.75Z\" style=\"vector-effect: non-scaling-stroke; fill: rgb(88, 80, 141); fill-opacity: 1; stroke: rgb(0, 47, 69); stroke-opacity: 1; stroke-width: 1.5px; opacity: 1;\"/><text class=\"bartext bartext-inside\" text-anchor=\"middle\" data-notex=\"1\" x=\"0\" y=\"0\" style=\"font-family: 'Open Sans', verdana, arial, sans-serif; font-size: 12px; fill: rgb(255, 255, 255); fill-opacity: 1; white-space: pre;\" transform=\"translate(82.84,30.6953125)\"><tspan class=\"line\" dy=\"0em\" x=\"0\" y=\"0\">2426</tspan><tspan class=\"line\" dy=\"1.3em\" x=\"0\" y=\"0\">100%</tspan></text></g><g class=\"point\"><path d=\"M93.08,74.25V128.25H170.61V74.25Z\" style=\"vector-effect: non-scaling-stroke; fill: rgb(88, 80, 141); fill-opacity: 1; stroke: rgb(0, 47, 69); stroke-opacity: 1; stroke-width: 1.5px; opacity: 1;\"/><text class=\"bartext bartext-inside\" text-anchor=\"middle\" data-notex=\"1\" x=\"0\" y=\"0\" style=\"font-family: 'Open Sans', verdana, arial, sans-serif; font-size: 12px; fill: rgb(255, 255, 255); fill-opacity: 1; white-space: pre;\" transform=\"translate(131.845,98.1953125)\"><tspan class=\"line\" dy=\"0em\" x=\"0\" y=\"0\">1517</tspan><tspan class=\"line\" dy=\"1.3em\" x=\"0\" y=\"0\">63%</tspan></text></g><g class=\"point\"><path d=\"M115.03,141.75V195.75H178.45V141.75Z\" style=\"vector-effect: non-scaling-stroke; fill: rgb(88, 80, 141); fill-opacity: 1; stroke: rgb(0, 47, 69); stroke-opacity: 1; stroke-width: 1.5px; opacity: 1;\"/><text class=\"bartext bartext-inside\" text-anchor=\"middle\" data-notex=\"1\" x=\"0\" y=\"0\" style=\"font-family: 'Open Sans', verdana, arial, sans-serif; font-size: 12px; fill: rgb(255, 255, 255); fill-opacity: 1; white-space: pre;\" transform=\"translate(146.74,165.6953125)\"><tspan class=\"line\" dy=\"0em\" x=\"0\" y=\"0\">1241</tspan><tspan class=\"line\" dy=\"1.3em\" x=\"0\" y=\"0\">82%</tspan></text></g><g class=\"point\"><path d=\"M119.99,209.25V263.25H180.04V209.25Z\" style=\"vector-effect: non-scaling-stroke; fill: rgb(88, 80, 141); fill-opacity: 1; stroke: rgb(0, 47, 69); stroke-opacity: 1; stroke-width: 1.5px; opacity: 1;\"/><text class=\"bartext bartext-inside\" text-anchor=\"middle\" data-notex=\"1\" x=\"0\" y=\"0\" style=\"font-family: 'Open Sans', verdana, arial, sans-serif; font-size: 12px; fill: rgb(255, 255, 255); fill-opacity: 1; white-space: pre;\" transform=\"translate(150.015,233.1953125)\"><tspan class=\"line\" dy=\"0em\" x=\"0\" y=\"0\">1175</tspan><tspan class=\"line\" dy=\"1.3em\" x=\"0\" y=\"0\">95%</tspan></text></g></g></g><g class=\"trace bars\" style=\"opacity: 0.7;\"><g class=\"regions\"><g class=\"region\"><path d=\"M144.83,60.75L170.61,74.25H247.11L270.18,60.75Z\" style=\"stroke-width: 0; fill: rgb(255, 166, 0); fill-opacity: 0.5;\"/></g><g class=\"region\"><path d=\"M170.61,128.25L178.45,141.75H240.54L247.11,128.25Z\" style=\"stroke-width: 0; fill: rgb(255, 166, 0); fill-opacity: 0.5;\"/></g><g class=\"region\"><path d=\"M178.45,195.75L180.04,209.25H238.04L240.54,195.75Z\" style=\"stroke-width: 0; fill: rgb(255, 166, 0); fill-opacity: 0.5;\"/></g><g class=\"region\"><path d=\"M0,0Z\" style=\"stroke-width: 0; fill: rgb(255, 166, 0); fill-opacity: 0.5;\"/></g></g><g class=\"points\"><g class=\"point\"><path d=\"M144.83,6.75V60.75H270.18V6.75Z\" style=\"vector-effect: non-scaling-stroke; fill: rgb(255, 166, 0); fill-opacity: 1; stroke: rgb(0, 47, 69); stroke-opacity: 1; stroke-width: 1.5px; opacity: 1;\"/><text class=\"bartext bartext-inside\" text-anchor=\"middle\" data-notex=\"1\" x=\"0\" y=\"0\" style=\"font-family: 'Open Sans', verdana, arial, sans-serif; font-size: 12px; fill: rgb(68, 68, 68); fill-opacity: 1; white-space: pre;\" transform=\"translate(207.505,30.6953125)\"><tspan class=\"line\" dy=\"0em\" x=\"0\" y=\"0\">2453</tspan><tspan class=\"line\" dy=\"1.3em\" x=\"0\" y=\"0\">100%</tspan></text></g><g class=\"point\"><path d=\"M170.61,74.25V128.25H247.11V74.25Z\" style=\"vector-effect: non-scaling-stroke; fill: rgb(255, 166, 0); fill-opacity: 1; stroke: rgb(0, 47, 69); stroke-opacity: 1; stroke-width: 1.5px; opacity: 1;\"/><text class=\"bartext bartext-inside\" text-anchor=\"middle\" data-notex=\"1\" x=\"0\" y=\"0\" style=\"font-family: 'Open Sans', verdana, arial, sans-serif; font-size: 12px; fill: rgb(68, 68, 68); fill-opacity: 1; white-space: pre;\" transform=\"translate(208.86,98.1953125)\"><tspan class=\"line\" dy=\"0em\" x=\"0\" y=\"0\">1497</tspan><tspan class=\"line\" dy=\"1.3em\" x=\"0\" y=\"0\">61%</tspan></text></g><g class=\"point\"><path d=\"M178.45,141.75V195.75H240.54V141.75Z\" style=\"vector-effect: non-scaling-stroke; fill: rgb(255, 166, 0); fill-opacity: 1; stroke: rgb(0, 47, 69); stroke-opacity: 1; stroke-width: 1.5px; opacity: 1;\"/><text class=\"bartext bartext-inside\" text-anchor=\"middle\" data-notex=\"1\" x=\"0\" y=\"0\" style=\"font-family: 'Open Sans', verdana, arial, sans-serif; font-size: 12px; fill: rgb(68, 68, 68); fill-opacity: 1; white-space: pre;\" transform=\"translate(209.495,165.6953125)\"><tspan class=\"line\" dy=\"0em\" x=\"0\" y=\"0\">1215</tspan><tspan class=\"line\" dy=\"1.3em\" x=\"0\" y=\"0\">81%</tspan></text></g><g class=\"point\"><path d=\"M180.04,209.25V263.25H238.04V209.25Z\" style=\"vector-effect: non-scaling-stroke; fill: rgb(255, 166, 0); fill-opacity: 1; stroke: rgb(0, 47, 69); stroke-opacity: 1; stroke-width: 1.5px; opacity: 1;\"/><text class=\"bartext bartext-inside\" text-anchor=\"middle\" data-notex=\"1\" x=\"0\" y=\"0\" style=\"font-family: 'Open Sans', verdana, arial, sans-serif; font-size: 12px; fill: rgb(68, 68, 68); fill-opacity: 1; white-space: pre;\" transform=\"translate(209.04,233.1953125)\"><tspan class=\"line\" dy=\"0em\" x=\"0\" y=\"0\">1135</tspan><tspan class=\"line\" dy=\"1.3em\" x=\"0\" y=\"0\">93%</tspan></text></g></g></g><g class=\"trace bars\" style=\"opacity: 0.7;\"><g class=\"regions\"><g class=\"region\"><path d=\"M270.18,60.75L247.11,74.25H323.92L396.15,60.75Z\" style=\"stroke-width: 0; fill: rgb(255, 99, 97); fill-opacity: 0.5;\"/></g><g class=\"region\"><path d=\"M247.11,128.25L240.54,141.75H301.97L323.92,128.25Z\" style=\"stroke-width: 0; fill: rgb(255, 99, 97); fill-opacity: 0.5;\"/></g><g class=\"region\"><path d=\"M240.54,195.75L238.04,209.25H297.01L301.97,195.75Z\" style=\"stroke-width: 0; fill: rgb(255, 99, 97); fill-opacity: 0.5;\"/></g><g class=\"region\"><path d=\"M0,0Z\" style=\"stroke-width: 0; fill: rgb(255, 99, 97); fill-opacity: 0.5;\"/></g></g><g class=\"points\"><g class=\"point\"><path d=\"M270.18,6.75V60.75H396.15V6.75Z\" style=\"vector-effect: non-scaling-stroke; fill: rgb(255, 99, 97); fill-opacity: 1; stroke: rgb(0, 47, 69); stroke-opacity: 1; stroke-width: 1.5px; opacity: 1;\"/><text class=\"bartext bartext-inside\" text-anchor=\"middle\" data-notex=\"1\" x=\"0\" y=\"0\" style=\"font-family: 'Open Sans', verdana, arial, sans-serif; font-size: 12px; fill: rgb(68, 68, 68); fill-opacity: 1; white-space: pre;\" transform=\"translate(333.16499999999996,30.6953125)\"><tspan class=\"line\" dy=\"0em\" x=\"0\" y=\"0\">2465</tspan><tspan class=\"line\" dy=\"1.3em\" x=\"0\" y=\"0\">100%</tspan></text></g><g class=\"point\"><path d=\"M247.11,74.25V128.25H323.92V74.25Z\" style=\"vector-effect: non-scaling-stroke; fill: rgb(255, 99, 97); fill-opacity: 1; stroke: rgb(0, 47, 69); stroke-opacity: 1; stroke-width: 1.5px; opacity: 1;\"/><text class=\"bartext bartext-inside\" text-anchor=\"middle\" data-notex=\"1\" x=\"0\" y=\"0\" style=\"font-family: 'Open Sans', verdana, arial, sans-serif; font-size: 12px; fill: rgb(68, 68, 68); fill-opacity: 1; white-space: pre;\" transform=\"translate(285.515,98.1953125)\"><tspan class=\"line\" dy=\"0em\" x=\"0\" y=\"0\">1503</tspan><tspan class=\"line\" dy=\"1.3em\" x=\"0\" y=\"0\">61%</tspan></text></g><g class=\"point\"><path d=\"M240.54,141.75V195.75H301.97V141.75Z\" style=\"vector-effect: non-scaling-stroke; fill: rgb(255, 99, 97); fill-opacity: 1; stroke: rgb(0, 47, 69); stroke-opacity: 1; stroke-width: 1.5px; opacity: 1;\"/><text class=\"bartext bartext-inside\" text-anchor=\"middle\" data-notex=\"1\" x=\"0\" y=\"0\" style=\"font-family: 'Open Sans', verdana, arial, sans-serif; font-size: 12px; fill: rgb(68, 68, 68); fill-opacity: 1; white-space: pre;\" transform=\"translate(271.255,165.6953125)\"><tspan class=\"line\" dy=\"0em\" x=\"0\" y=\"0\">1202</tspan><tspan class=\"line\" dy=\"1.3em\" x=\"0\" y=\"0\">80%</tspan></text></g><g class=\"point\"><path d=\"M238.04,209.25V263.25H297.01V209.25Z\" style=\"vector-effect: non-scaling-stroke; fill: rgb(255, 99, 97); fill-opacity: 1; stroke: rgb(0, 47, 69); stroke-opacity: 1; stroke-width: 1.5px; opacity: 1;\"/><text class=\"bartext bartext-inside\" text-anchor=\"middle\" data-notex=\"1\" x=\"0\" y=\"0\" style=\"font-family: 'Open Sans', verdana, arial, sans-serif; font-size: 12px; fill: rgb(68, 68, 68); fill-opacity: 1; white-space: pre;\" transform=\"translate(267.525,233.1953125)\"><tspan class=\"line\" dy=\"0em\" x=\"0\" y=\"0\">1154</tspan><tspan class=\"line\" dy=\"1.3em\" x=\"0\" y=\"0\">96%</tspan></text></g></g></g></g></g><g class=\"overplot\"/><path class=\"xlines-above crisp\" d=\"M0,0\" style=\"fill: none;\"/><path class=\"ylines-above crisp\" d=\"M0,0\" style=\"fill: none;\"/><g class=\"overlines-above\"/><g class=\"xaxislayer-above\"/><g class=\"yaxislayer-above\"><g class=\"ytick\"><text text-anchor=\"end\" x=\"194\" y=\"4.199999999999999\" transform=\"translate(0,336.25)\" style=\"font-family: 'Open Sans', verdana, arial, sans-serif; font-size: 12px; fill: rgb(42, 63, 95); fill-opacity: 1; white-space: pre;\">PaymentScreenSuccessful</text></g><g class=\"ytick\"><text text-anchor=\"end\" x=\"194\" y=\"4.199999999999999\" transform=\"translate(0,268.75)\" style=\"font-family: 'Open Sans', verdana, arial, sans-serif; font-size: 12px; fill: rgb(42, 63, 95); fill-opacity: 1; white-space: pre;\">CartScreenAppear</text></g><g class=\"ytick\"><text text-anchor=\"end\" x=\"194\" y=\"4.199999999999999\" transform=\"translate(0,201.25)\" style=\"font-family: 'Open Sans', verdana, arial, sans-serif; font-size: 12px; fill: rgb(42, 63, 95); fill-opacity: 1; white-space: pre;\">OffersScreenAppear</text></g><g class=\"ytick\"><text text-anchor=\"end\" x=\"194\" y=\"4.199999999999999\" transform=\"translate(0,133.75)\" style=\"font-family: 'Open Sans', verdana, arial, sans-serif; font-size: 12px; fill: rgb(42, 63, 95); fill-opacity: 1; white-space: pre;\">MainScreenAppear</text></g></g><g class=\"overaxes-above\"/></g></g><g class=\"polarlayer\"/><g class=\"ternarylayer\"/><g class=\"geolayer\"/><g class=\"funnelarealayer\"/><g class=\"pielayer\"/><g class=\"treemaplayer\"/><g class=\"sunburstlayer\"/><g class=\"glimages\"/><defs id=\"topdefs-998478\"><g class=\"clips\"/><clipPath id=\"legend998478\"><rect width=\"68\" height=\"67\" x=\"0\" y=\"0\"/></clipPath></defs><g class=\"layer-above\"><g class=\"imagelayer\"/><g class=\"shapelayer\"/></g><g class=\"infolayer\"><g class=\"legend\" pointer-events=\"all\" transform=\"translate(620.34,100)\"><rect class=\"bg\" shape-rendering=\"crispEdges\" width=\"68\" height=\"67\" x=\"0\" y=\"0\" style=\"stroke: rgb(68, 68, 68); stroke-opacity: 1; fill: rgb(255, 255, 255); fill-opacity: 1; stroke-width: 0px;\"/><g class=\"scrollbox\" transform=\"\" clip-path=\"url('#legend998478')\"><g class=\"groups\"><g class=\"traces\" transform=\"translate(0,14.5)\" style=\"opacity: 1;\"><text class=\"legendtext\" text-anchor=\"start\" x=\"40\" y=\"4.680000000000001\" style=\"font-family: 'Open Sans', verdana, arial, sans-serif; font-size: 12px; fill: rgb(42, 63, 95); fill-opacity: 1; white-space: pre;\">246</text><g class=\"layers\" style=\"opacity: 0.7;\"><g class=\"legendfill\"/><g class=\"legendlines\"/><g class=\"legendsymbols\"><g class=\"legendpoints\"><path class=\"legendfunnel\" d=\"M6,6H-6V-6H6Z\" transform=\"translate(20,0)\" style=\"stroke-width: 1.5px; fill: rgb(88, 80, 141); fill-opacity: 1; stroke: rgb(0, 47, 69); stroke-opacity: 1;\"/></g></g></g><rect class=\"legendtoggle\" x=\"0\" y=\"-9.5\" width=\"62.890625\" height=\"19\" style=\"fill: rgb(0, 0, 0); fill-opacity: 0;\"/></g><g class=\"traces\" transform=\"translate(0,33.5)\" style=\"opacity: 1;\"><text class=\"legendtext\" text-anchor=\"start\" x=\"40\" y=\"4.680000000000001\" style=\"font-family: 'Open Sans', verdana, arial, sans-serif; font-size: 12px; fill: rgb(42, 63, 95); fill-opacity: 1; white-space: pre;\">247</text><g class=\"layers\" style=\"opacity: 0.7;\"><g class=\"legendfill\"/><g class=\"legendlines\"/><g class=\"legendsymbols\"><g class=\"legendpoints\"><path class=\"legendfunnel\" d=\"M6,6H-6V-6H6Z\" transform=\"translate(20,0)\" style=\"stroke-width: 1.5px; fill: rgb(255, 166, 0); fill-opacity: 1; stroke: rgb(0, 47, 69); stroke-opacity: 1;\"/></g></g></g><rect class=\"legendtoggle\" x=\"0\" y=\"-9.5\" width=\"62.890625\" height=\"19\" style=\"fill: rgb(0, 0, 0); fill-opacity: 0;\"/></g><g class=\"traces\" transform=\"translate(0,52.5)\" style=\"opacity: 1;\"><text class=\"legendtext\" text-anchor=\"start\" x=\"40\" y=\"4.680000000000001\" style=\"font-family: 'Open Sans', verdana, arial, sans-serif; font-size: 12px; fill: rgb(42, 63, 95); fill-opacity: 1; white-space: pre;\">248</text><g class=\"layers\" style=\"opacity: 0.7;\"><g class=\"legendfill\"/><g class=\"legendlines\"/><g class=\"legendsymbols\"><g class=\"legendpoints\"><path class=\"legendfunnel\" d=\"M6,6H-6V-6H6Z\" transform=\"translate(20,0)\" style=\"stroke-width: 1.5px; fill: rgb(255, 99, 97); fill-opacity: 1; stroke: rgb(0, 47, 69); stroke-opacity: 1;\"/></g></g></g><rect class=\"legendtoggle\" x=\"0\" y=\"-9.5\" width=\"62.890625\" height=\"19\" style=\"fill: rgb(0, 0, 0); fill-opacity: 0;\"/></g></g></g><rect class=\"scrollbar\" rx=\"20\" ry=\"3\" width=\"0\" height=\"0\" x=\"0\" y=\"0\" style=\"fill: rgb(128, 139, 164); fill-opacity: 1;\"/></g><g class=\"g-gtitle\"><text class=\"gtitle\" x=\"35\" y=\"50\" text-anchor=\"start\" dy=\"0em\" style=\"font-family: 'Open Sans', verdana, arial, sans-serif; font-size: 17px; fill: rgb(42, 63, 95); opacity: 1; font-weight: normal; white-space: pre;\">Event Funnel</text></g><g class=\"g-ytitle\" transform=\"translate(2.0185546875,0)\"><text class=\"ytitle\" transform=\"rotate(-90,11.981249999999989,235)\" x=\"11.981249999999989\" y=\"235\" text-anchor=\"middle\" style=\"font-family: 'Open Sans', verdana, arial, sans-serif; font-size: 14px; fill: rgb(42, 63, 95); opacity: 1; font-weight: normal; white-space: pre;\">Event name</text></g></g></svg>"
      ]
     },
     "metadata": {},
     "output_type": "display_data"
    }
   ],
   "source": [
    "funnel_graph.show('svg')"
   ]
  },
  {
   "cell_type": "markdown",
   "metadata": {},
   "source": [
    "[Back to Contents](#cont)"
   ]
  }
 ],
 "metadata": {
  "kernelspec": {
   "display_name": "Python 3",
   "language": "python",
   "name": "python3"
  },
  "language_info": {
   "codemirror_mode": {
    "name": "ipython",
    "version": 3
   },
   "file_extension": ".py",
   "mimetype": "text/x-python",
   "name": "python",
   "nbconvert_exporter": "python",
   "pygments_lexer": "ipython3",
   "version": "3.8.3"
  },
  "toc": {
   "base_numbering": 1,
   "nav_menu": {},
   "number_sections": true,
   "sideBar": true,
   "skip_h1_title": false,
   "title_cell": "Table of Contents",
   "title_sidebar": "Contents",
   "toc_cell": false,
   "toc_position": {},
   "toc_section_display": true,
   "toc_window_display": false
  }
 },
 "nbformat": 4,
 "nbformat_minor": 4
}
